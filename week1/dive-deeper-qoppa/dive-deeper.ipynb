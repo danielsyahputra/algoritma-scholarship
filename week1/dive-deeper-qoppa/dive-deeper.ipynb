{
 "cells": [
  {
   "cell_type": "markdown",
   "metadata": {},
   "source": [
    "# Dive Deeper"
   ]
  },
  {
   "cell_type": "markdown",
   "metadata": {},
   "source": [
    "## Spotify Data Analysis\n",
    " \n",
    "In this section of this part, you are asked to analyze spotify data from top music in 2020-2021. The data have information about artist, song name, number of streams, and audio features like popularity, danceability, etc. \n",
    "\n",
    "*Di bagian ini, Anda diminta untuk menganalisis data spotify dari musik top tahun 2020-2021. Data tersebut memiliki informasi tentang artis, nama lagu, jumlah streaming, dan fitur audio seperti popularitas, danceability, dll.*"
   ]
  },
  {
   "cell_type": "markdown",
   "metadata": {},
   "source": [
    "**Data Sources**\n",
    "- [Spotify Top 200 Charts](https://www.kaggle.com/sashankpillai/spotify-top-200-charts-20202021)."
   ]
  },
  {
   "cell_type": "markdown",
   "metadata": {},
   "source": [
    "### Import Library\n",
    "\n",
    "We need to import the libraries for the data analysis process.\n",
    "\n",
    "*Kita perlu mengimpor library yang kita butuhkan untuk proses analisis data*"
   ]
  },
  {
   "cell_type": "code",
   "execution_count": null,
   "metadata": {},
   "outputs": [],
   "source": [
    "# Import library\n",
    "\n",
    "\n",
    "# Set option\n",
    "pd.set_option('display.float_format', lambda x: '%.2f' % x)"
   ]
  },
  {
   "cell_type": "markdown",
   "metadata": {},
   "source": [
    "### Data Preparation\n",
    "\n",
    "Read the data and save into variable names `spotify`.\n",
    "\n",
    "*Baca data dan simpanlah kedalam variabel dengan nama `spotify`*"
   ]
  },
  {
   "cell_type": "code",
   "execution_count": null,
   "metadata": {},
   "outputs": [],
   "source": [
    "##code here\n"
   ]
  },
  {
   "cell_type": "markdown",
   "metadata": {},
   "source": [
    "### Change Data Types\n",
    "\n",
    "Perform information about data types in each columns. Does data types store in the correct form? If no, then change into appropriate data types.\n",
    "\n",
    "*Coba check tipe data untuk setiap kolom dari data `spotify`. Apakah ada tipe data yang tidak sesuai?, jika ada, maka ubahlah menjadi tipe data yang sesuai.*"
   ]
  },
  {
   "cell_type": "code",
   "execution_count": null,
   "metadata": {},
   "outputs": [],
   "source": [
    "##code here\n"
   ]
  },
  {
   "cell_type": "code",
   "execution_count": null,
   "metadata": {},
   "outputs": [],
   "source": [
    "##code here\n"
   ]
  },
  {
   "cell_type": "markdown",
   "metadata": {},
   "source": [
    "## Most Popular Song and Artist\n",
    "\n",
    "When you inspect the data, you will find that there is information about number of streams in each song and also number of artist followers. \n",
    "\n",
    "Please find:\n",
    "\n",
    "1. What is the most popular song based on the number of streams?\n",
    "2. Who is the most popular artist based on number of followers?\n",
    "\n",
    "*Ketika melakukan inspek pada data, kamu akan menemkan informasi tentan* ***jumlah streams di setiap lagu*** *dan juga* ***jumlah followers artis tersebut***\n",
    "\n",
    "*Coba tentukan:*\n",
    "\n",
    "1. *Lagu apa yang paling populer berdasarkan jumlah streaming?*\n",
    "2. *Siapa artist terpopuler berdasarkan jumlah pengikut?*"
   ]
  },
  {
   "cell_type": "code",
   "execution_count": null,
   "metadata": {},
   "outputs": [],
   "source": [
    "##code here\n"
   ]
  },
  {
   "cell_type": "markdown",
   "metadata": {},
   "source": [
    "> From the output above you will find that the most popular song is .... which have number of streams around ...."
   ]
  },
  {
   "cell_type": "code",
   "execution_count": null,
   "metadata": {},
   "outputs": [],
   "source": [
    "##code here\n"
   ]
  },
  {
   "cell_type": "markdown",
   "metadata": {},
   "source": [
    "> From the output above you will find that the most popular artist is .... which have number of followers around ...."
   ]
  },
  {
   "cell_type": "markdown",
   "metadata": {},
   "source": [
    "## Hi [artist which highest number of followers], I want to know more about your song! :)"
   ]
  },
  {
   "cell_type": "markdown",
   "metadata": {},
   "source": [
    "Perform conditional subsetting only from most popular artist a.k.a Mr.xxx to analyze and knows more about his song and answer the following question :\n",
    "\n",
    "1. How many popular song that hit the chart on 2020-2021 from artist xxxx? \n",
    "2. What is the most streamed song?\n",
    "\n",
    "*Menggunakan conditional subsetting hanya dari artis paling popular yaitu Mr.xxx, lakukan analisis dan cari tau lebih banyak tentang lagu-lagunya, dan coba jawab pertanyaan berikut:*\n",
    "\n",
    "1. *Berapa banyak lagu popular yang tembus ke daftar pada tahun 2020-2021 dari artis xxx?*\n",
    "2. *Apa judul lagu yang paling banyak diputar?*"
   ]
  },
  {
   "cell_type": "code",
   "execution_count": null,
   "metadata": {},
   "outputs": [],
   "source": [
    "##code here\n"
   ]
  },
  {
   "cell_type": "markdown",
   "metadata": {},
   "source": [
    "> Insight: ..."
   ]
  },
  {
   "cell_type": "code",
   "execution_count": null,
   "metadata": {},
   "outputs": [],
   "source": [
    "##code here\n"
   ]
  },
  {
   "cell_type": "code",
   "execution_count": null,
   "metadata": {},
   "outputs": [],
   "source": [
    "##code here\n"
   ]
  },
  {
   "cell_type": "markdown",
   "metadata": {},
   "source": [
    "> Insight: ..."
   ]
  },
  {
   "cell_type": "markdown",
   "metadata": {},
   "source": [
    "3. Danceability describes how suitable a track is for dancing based on a combination of musical elements including tempo, rhythm stability, beat strength, and overall regularity. Value close to 1 indicate that the song most danceable. \n",
    "    + What is average value of danceability from Mr.xxx songs?\n",
    "\n",
    "3. *Danceability menggambarkan seberapa cocok trek untuk menari berdasarkan kombinasi elemen musik termasuk tempo, stabilitas ritme, kekuatan ketukan, dan keteraturan keseluruhan. Nilai yang mendekati 1 menunjukkan bahwa lagu tersebut paling danceable.* \n",
    "    + *Berapa nilai rata-rata danceability dari lagu Mr.xxx?*"
   ]
  },
  {
   "cell_type": "code",
   "execution_count": null,
   "metadata": {},
   "outputs": [],
   "source": [
    "##code here\n"
   ]
  },
  {
   "cell_type": "markdown",
   "metadata": {},
   "source": [
    "> Insight: ..."
   ]
  },
  {
   "cell_type": "code",
   "execution_count": null,
   "metadata": {},
   "outputs": [],
   "source": [
    "##code here\n"
   ]
  },
  {
   "cell_type": "markdown",
   "metadata": {},
   "source": [
    "> Insight: ..."
   ]
  },
  {
   "cell_type": "markdown",
   "metadata": {},
   "source": [
    "## Try your Own\n",
    "\n",
    "Try to make 2 questions that you can get from the spotify data above.\n",
    "\n",
    "*Coba buatlah 2 pertanyaan yang bisa kamu dapatkan dari data spotify diatas*"
   ]
  },
  {
   "cell_type": "code",
   "execution_count": null,
   "metadata": {},
   "outputs": [],
   "source": []
  },
  {
   "cell_type": "markdown",
   "metadata": {},
   "source": [
    "## Conclusion\n",
    "\n",
    "> Tulislah kesimpulan yang kamu dapatkan dari analisis data spotify"
   ]
  }
 ],
 "metadata": {
  "kernelspec": {
   "display_name": "Python 3",
   "language": "python",
   "name": "python3"
  },
  "language_info": {
   "codemirror_mode": {
    "name": "ipython",
    "version": 3
   },
   "file_extension": ".py",
   "mimetype": "text/x-python",
   "name": "python",
   "nbconvert_exporter": "python",
   "pygments_lexer": "ipython3",
   "version": "3.7.5"
  },
  "toc": {
   "base_numbering": 1,
   "nav_menu": {},
   "number_sections": true,
   "sideBar": true,
   "skip_h1_title": false,
   "title_cell": "Table of Contents",
   "title_sidebar": "Contents",
   "toc_cell": false,
   "toc_position": {},
   "toc_section_display": true,
   "toc_window_display": false
  },
  "varInspector": {
   "cols": {
    "lenName": 16,
    "lenType": 16,
    "lenVar": 40
   },
   "kernels_config": {
    "python": {
     "delete_cmd_postfix": "",
     "delete_cmd_prefix": "del ",
     "library": "var_list.py",
     "varRefreshCmd": "print(var_dic_list())"
    },
    "r": {
     "delete_cmd_postfix": ") ",
     "delete_cmd_prefix": "rm(",
     "library": "var_list.r",
     "varRefreshCmd": "cat(var_dic_list()) "
    }
   },
   "types_to_exclude": [
    "module",
    "function",
    "builtin_function_or_method",
    "instance",
    "_Feature"
   ],
   "window_display": false
  }
 },
 "nbformat": 4,
 "nbformat_minor": 2
}
