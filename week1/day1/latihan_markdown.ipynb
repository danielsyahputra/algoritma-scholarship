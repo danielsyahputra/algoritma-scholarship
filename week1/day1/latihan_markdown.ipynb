{
 "cells": [
  {
   "cell_type": "markdown",
   "metadata": {},
   "source": [
    "*This file created by: Daniel Syahputra*"
   ]
  },
  {
   "cell_type": "markdown",
   "metadata": {},
   "source": [
    "# Jupyter Notebook Practice\n",
    "\n",
    "## Background\n",
    "\n",
    "This file was created to practice understanding in using jupyter notebook.\n",
    "\n",
    "## Objective\n",
    "\n",
    "1. **Markdown** cell\n",
    "2. **Code** cell\n",
    "3. Insert Notes\n",
    "4. Insert link\n",
    "\n",
    "### Markdown Cell\n",
    "\n",
    "- You can document the computational process in a literate way, alternating descriptive text with code, using *rict text*.\n",
    "\n",
    "- The Markdown language provides a simple way to perform this text markup, that is, to specify which parts of the text should be:\n",
    "\n",
    "    - emphasized (*italics*),\n",
    "    - **bold**\n",
    "    - form lists, etc.\n",
    "\n",
    "### Code Cell\n",
    "\n",
    "- A code cell allows you to edit and write new code, with full syntax highlighting and tab completion,\n",
    "- We can use the `print()` function to print the text on the screen"
   ]
  },
  {
   "cell_type": "code",
   "execution_count": 2,
   "metadata": {},
   "outputs": [
    {
     "name": "stdout",
     "output_type": "stream",
     "text": [
      "Hello World\n"
     ]
    }
   ],
   "source": [
    "# code here\n",
    "print(\"Hello World\")"
   ]
  },
  {
   "cell_type": "markdown",
   "metadata": {},
   "source": [
    "> The more you practice the more proficient you will use it"
   ]
  },
  {
   "cell_type": "markdown",
   "metadata": {},
   "source": [
    "## Reference\n",
    "\n",
    "- [Markdown Cheatsheet](https://www.markdownguide.org/cheat-sheet/)"
   ]
  }
 ],
 "metadata": {
  "interpreter": {
   "hash": "a8343b732dd7e92a09169d6c428688afa52d864319dbacc840304350021ce15e"
  },
  "kernelspec": {
   "display_name": "Python 3.8.10 64-bit ('env': venv)",
   "language": "python",
   "name": "python3"
  },
  "language_info": {
   "codemirror_mode": {
    "name": "ipython",
    "version": 3
   },
   "file_extension": ".py",
   "mimetype": "text/x-python",
   "name": "python",
   "nbconvert_exporter": "python",
   "pygments_lexer": "ipython3",
   "version": "3.8.10"
  },
  "orig_nbformat": 4
 },
 "nbformat": 4,
 "nbformat_minor": 2
}
