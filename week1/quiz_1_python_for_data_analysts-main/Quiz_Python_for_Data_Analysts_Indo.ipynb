{
 "cells": [
  {
   "cell_type": "markdown",
   "metadata": {},
   "source": [
    "# Quiz: Python for Data Analysts\n",
    "\n",
    "Selamat Anda sudah menyelesaikan materi **Python for Data Analysts**! Kami akan melakukan penilaian berupa kuis untuk menguji materi yang sudah dipelajari. Pengerjaan Kuis diharapkan dapat dilakukan di dalam kelas, silakan hubungi tim pengajar kami apabila Anda melewatkan kesempatan untuk mengambilnya di kelas."
   ]
  },
  {
   "cell_type": "code",
   "execution_count": null,
   "metadata": {},
   "outputs": [],
   "source": [
    "import pandas as pd"
   ]
  },
  {
   "cell_type": "markdown",
   "metadata": {},
   "source": [
    "## Data Pre-Processing"
   ]
  },
  {
   "cell_type": "markdown",
   "metadata": {},
   "source": [
    "Pada kuis ini kita akan menggunakan **Companies dataset**. Anda dapat menggunakan data dalam ekstensi csv file yang tersimpan dalam `companies.csv` file. Companies dataset merupakan sebagian contoh dari data CRM (customer relationship management) yang mengandung beberapa variable sebagai berikut :\n",
    "\n",
    "- `ID` : identifier unique dari nama cutomer\n",
    "- `Customer Name` : nama customer (nama company)\n",
    "- `Consulting Sales` : harga untuk service konsultasi\n",
    "- `Software Sales` : harga untuk service software\n",
    "- `Forecasted Growth` : presentase pertumbuhan company dalam kurun waktu tertentu\n",
    "- `Returns` : dana yang kembali (Returns) dalam kurun waktu tertentu\n",
    "- `Month` : bulan berdirinya company\n",
    "- `Day` : tanggal berdirinya company\n",
    "- `Year` : tahun berdirinya company\n",
    "- `Location` : lokasi company\n",
    "- `Account` : jenis customer company"
   ]
  },
  {
   "cell_type": "code",
   "execution_count": null,
   "metadata": {
    "scrolled": true
   },
   "outputs": [],
   "source": [
    "clients = pd.read_csv(\"data/companies.csv\", index_col=0)\n",
    "clients.head()"
   ]
  },
  {
   "cell_type": "markdown",
   "metadata": {},
   "source": [
    "Apabila Anda perhatikan, dataset `clients` memiliki format yang sedikit berbeda dengan dataset yang sudah kita gunakan pada materi. Kolom `Returns` memiliki karakter koma (`,`) sebagai pemisah satuan ribuan dan simbol mata uang (`IDR`) pada valuenya.\n",
    "\n",
    "Mari kita tinjau lebih jauh tipe data pada variabel `clients`:"
   ]
  },
  {
   "cell_type": "code",
   "execution_count": null,
   "metadata": {},
   "outputs": [],
   "source": [
    "clients.dtypes"
   ]
  },
  {
   "cell_type": "markdown",
   "metadata": {},
   "source": [
    "Pada hasil tersebut di atas, dapat diketahui bahwa beberapa variable tidak tersimpan pada format tipe data yang tepat. Dapatkah Anda mengubah tipe data beberapa variable tersebut menjadi bentuk tipe data yang tepat?"
   ]
  },
  {
   "cell_type": "code",
   "execution_count": null,
   "metadata": {},
   "outputs": [],
   "source": [
    "## Your Code Below:\n"
   ]
  },
  {
   "cell_type": "markdown",
   "metadata": {},
   "source": [
    "Apabila Anda sudah mencoba mengubah tipe data menggunakan method `.astype()`, maka Anda akan mendapatkan pesan error ketika mengubah tipe data pada kolom `Consulting Sales` dan `Software Sales`. Hal ini dikarenakan komputasi dan pengubahan tipe data numerik pada python tidak dapat dilakukan ketika terdapat karakter tertentu dalam data. Oleh karena itu, perlu dilakukan penghapusan karakter `IDR` yang terdapat pada kedua kolom tersebut. Penghapusan karakter dapat menggunakan built-in method pada `pandas` yaitu `str.replace()`. Berikut adalah contoh penggunaannya:"
   ]
  },
  {
   "cell_type": "code",
   "execution_count": null,
   "metadata": {
    "scrolled": true
   },
   "outputs": [],
   "source": [
    "clients['Consulting Sales'].str.replace('IDR','')"
   ]
  },
  {
   "cell_type": "markdown",
   "metadata": {},
   "source": [
    "Untuk mengaplikasikannya pada beberapa kolom dapat menggunakan method `apply` dengan `lambda` sebagai berikut :"
   ]
  },
  {
   "cell_type": "code",
   "execution_count": null,
   "metadata": {},
   "outputs": [],
   "source": [
    "clients[['Consulting Sales','Software Sales','Returns']] =\\\n",
    "clients[['Consulting Sales','Software Sales','Returns']].apply(lambda x: x.str.replace('IDR',''))"
   ]
  },
  {
   "cell_type": "code",
   "execution_count": null,
   "metadata": {},
   "outputs": [],
   "source": [
    "clients.head()"
   ]
  },
  {
   "cell_type": "markdown",
   "metadata": {},
   "source": [
    "Lengkapi kode program di bawah ini untuk menghilangkan tanda koma (`,`) pada kolom `Returns`!"
   ]
  },
  {
   "cell_type": "code",
   "execution_count": null,
   "metadata": {},
   "outputs": [],
   "source": [
    "## Fill in the blank (___):\n",
    "\n",
    "_____ = clients['Returns'].str.replace(_____,_____)"
   ]
  },
  {
   "cell_type": "markdown",
   "metadata": {},
   "source": [
    "---"
   ]
  },
  {
   "cell_type": "markdown",
   "metadata": {},
   "source": [
    "## Data Analisis\n",
    "\n",
    "Sebagai seorang Data Analyst, Anda diminta untuk mendapatkan total penjualan secara keseluruhan dengan mengakumulasikan nilai Consulting Sales dan Software Sales dari setiap perusahaan. Buatlah kolom baru bernama `Total Sales` yang menyimpan total dari kedua nilai tersebut. \n",
    "\n",
    "---\n",
    "1. Berapa total (`sum`) keseluruhan dari `Total Sales`? Tips: Gunakan method `.sum()` pada kolom untuk mengakumulasi nilai totalnya!\n",
    "    - [ ] 11,470,000\n",
    "    - [ ] 19,238,903\n",
    "    - [ ]  7,768,903\n",
    "---    "
   ]
  },
  {
   "cell_type": "code",
   "execution_count": null,
   "metadata": {},
   "outputs": [],
   "source": [
    "## Your Code Below:\n"
   ]
  },
  {
   "cell_type": "markdown",
   "metadata": {},
   "source": [
    "Berdasarkan total penjualan yang diperoleh setiap tahunnya, Anda sedang berokus untuk menganalisa penjualan dari masing-masing client pada tahun 2017 silam. Oleh karena itu, saat ini Anda akan fokus pada perusahaan yang menjadi client pada tahun 2017. Lakukanlah subseting untuk mendapatkan informasi data penjualan yang terjadi pada tahun 2017. Gunakanlah metode subseting yang sudah Anda pelajari.\n",
    "\n",
    "---\n",
    "2. Perusahaan manakah yang mendapatkan `Total Sales` terbesar di tahun 2017? \n",
    "    \n",
    "    - [ ] New Media Group\n",
    "    - [ ] PT. Algoritma Data Indonesia\n",
    "    - [ ] Palembang Konsultansi\n",
    "---"
   ]
  },
  {
   "cell_type": "code",
   "execution_count": null,
   "metadata": {},
   "outputs": [],
   "source": [
    "## Your Code Below:\n"
   ]
  },
  {
   "cell_type": "markdown",
   "metadata": {},
   "source": [
    "Setelah itu, kita akan kembali fokus menggunakan seluruh data yang ada. Menggunakan seluruh data yang ada, ternyata perusahaan ingin melakukan *campaign* terhadap perusahaan yang memiliki nilai penjualan lebih dari 1,500,000 IDR. Silahkan gunakan subsetting kembali untuk mengetahui perusahaan yang memiliki penjualan lebih dari 1,500,000 IDR. Ternyata ada dua perusahaan yang nilai penjualannya melebihi 1,500,000 IDR pada data tersebut.\n",
    "\n",
    "---\n",
    "3.  Perusahaan mana saja yang memiliki penjualan lebih dari 1,500,000 IDR?\n",
    "\n",
    "    - [ ] Palembang Konsultansi & PT. Surya Citra Manajemen\n",
    "    - [ ] PT. Surya Citra Manajemen & New Media Group\n",
    "    - [ ] Palembang Konsultansi & New Media Group\n",
    "---    "
   ]
  },
  {
   "cell_type": "code",
   "execution_count": null,
   "metadata": {},
   "outputs": [],
   "source": [
    "## Your Code Below:\n"
   ]
  },
  {
   "cell_type": "markdown",
   "metadata": {},
   "source": [
    "Sebagai seorang Data Anlayst, Anda diminta untuk menganalisa rata-rata dari `Total Sales` untuk seluruh perusahaan yang ada pada data. Dalam menganalisa data untuk mendapatkan suatu pusat data, ada beberapa pengukuran yang dapat digunakan. Diantarana yaitu mean, median, dan modus. Karena yang akan dianalisa berupa nilai numerik maka terkadang nilai numerik dapat terpengaruh oleh suatu nilai-nilai ekstrim atau outlier. Oleh karena itu, penggunaan **median** seringkali lebih relevan dibandingkan menggunakan nilai mean, karena mean lebih mudah terpengaruh terhadap nilai outlier. \n",
    "\n",
    "---\n",
    "4. Berdasarkan analisa diatas, berapakah nilai pusat data dari `Total Sales`?\n",
    "    \n",
    "    - [ ] 1,354,250\n",
    "    - [ ] 1,515,875\n",
    "    - [ ] 3,737,700\n",
    "---"
   ]
  },
  {
   "cell_type": "code",
   "execution_count": null,
   "metadata": {},
   "outputs": [],
   "source": [
    "## Your Code Below:\n"
   ]
  },
  {
   "cell_type": "markdown",
   "metadata": {},
   "source": [
    "Anda saat ini akan fokus untuk menganalisis perusahaan PT. Algoritma Data Indonesia. Menggunakan metode subsetting yang sudah Anda pelajari, jawablah pertanyaan dibawah ini.\n",
    "\n",
    "---\n",
    "5. Manakah metode subsetting yang paling sesuai untuk melakukan subsetting secara eksplisit pada ID perusahaan 57531 pada data `clients`?\n",
    "\n",
    "    - [ ] `clients.loc[57531, :]`\n",
    "    - [ ] `clients.iloc[57531, : ]`\n",
    "    - [ ] `clients[57531, : ]` \n",
    "    \n",
    "---"
   ]
  },
  {
   "cell_type": "code",
   "execution_count": null,
   "metadata": {},
   "outputs": [],
   "source": [
    "## Your Code Below:\n"
   ]
  },
  {
   "cell_type": "markdown",
   "metadata": {},
   "source": [
    "Terakhir, Anda diminta untuk melakukan analisa pada client yang berlokasi di Jakarta dan termasuk kedalam akun Enterprise. Untuk melakukan subsetting, silahkan lengkapi syntax berikut dan jawablah pertanyaan dibawah ini.\n",
    "\n",
    "```\n",
    "clients[________ _ ________]\n",
    "```\n",
    "\n",
    "---\n",
    "6. Berdasarkan syntax yang Anda lengkapi diatas, manakah pilihan syntax dibawah ini yang tepat untuk melengkapi?\n",
    "\n",
    "    - [ ] (clients.Location == \"Jakarta\") | (clients.Account == \"Enterprise\")\n",
    "    - [ ] clients.Location == \"Jakarta\" & clients.Account == \"Enterprise\"\n",
    "    - [ ] (clients.Location == \"Jakarta\") & (clients.Account == \"Enterprise\")\n",
    "    - [ ] clients.Location == \"Jakarta\" | clients.Account == \"Enterprise\"\n",
    "---"
   ]
  },
  {
   "cell_type": "code",
   "execution_count": null,
   "metadata": {},
   "outputs": [],
   "source": [
    "## Your Code Below:\n"
   ]
  }
 ],
 "metadata": {
  "kernelspec": {
   "display_name": "phoenix_da",
   "language": "python",
   "name": "phoenix_da"
  },
  "language_info": {
   "codemirror_mode": {
    "name": "ipython",
    "version": 3
   },
   "file_extension": ".py",
   "mimetype": "text/x-python",
   "name": "python",
   "nbconvert_exporter": "python",
   "pygments_lexer": "ipython3",
   "version": "3.8.11"
  },
  "latex_envs": {
   "LaTeX_envs_menu_present": true,
   "autoclose": false,
   "autocomplete": true,
   "bibliofile": "biblio.bib",
   "cite_by": "apalike",
   "current_citInitial": 1,
   "eqLabelWithNumbers": true,
   "eqNumInitial": 1,
   "hotkeys": {
    "equation": "Ctrl-E",
    "itemize": "Ctrl-I"
   },
   "labels_anchors": false,
   "latex_user_defs": false,
   "report_style_numbering": false,
   "user_envs_cfg": false
  },
  "toc": {
   "base_numbering": 1,
   "nav_menu": {},
   "number_sections": true,
   "sideBar": true,
   "skip_h1_title": false,
   "title_cell": "Table of Contents",
   "title_sidebar": "Contents",
   "toc_cell": false,
   "toc_position": {},
   "toc_section_display": true,
   "toc_window_display": false
  }
 },
 "nbformat": 4,
 "nbformat_minor": 2
}
