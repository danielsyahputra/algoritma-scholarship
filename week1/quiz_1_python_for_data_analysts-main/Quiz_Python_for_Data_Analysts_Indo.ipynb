{
 "cells": [
  {
   "cell_type": "markdown",
   "metadata": {},
   "source": [
    "# Quiz: Python for Data Analysts\n",
    "\n",
    "Selamat Anda sudah menyelesaikan materi **Python for Data Analysts**! Kami akan melakukan penilaian berupa kuis untuk menguji materi yang sudah dipelajari. Pengerjaan Kuis diharapkan dapat dilakukan di dalam kelas, silakan hubungi tim pengajar kami apabila Anda melewatkan kesempatan untuk mengambilnya di kelas."
   ]
  },
  {
   "cell_type": "code",
   "execution_count": 1,
   "metadata": {},
   "outputs": [],
   "source": [
    "import pandas as pd"
   ]
  },
  {
   "cell_type": "markdown",
   "metadata": {},
   "source": [
    "## Data Pre-Processing"
   ]
  },
  {
   "cell_type": "markdown",
   "metadata": {},
   "source": [
    "Pada kuis ini kita akan menggunakan **Companies dataset**. Anda dapat menggunakan data dalam ekstensi csv file yang tersimpan dalam `companies.csv` file. Companies dataset merupakan sebagian contoh dari data CRM (customer relationship management) yang mengandung beberapa variable sebagai berikut :\n",
    "\n",
    "- `ID` : identifier unique dari nama cutomer\n",
    "- `Customer Name` : nama customer (nama company)\n",
    "- `Consulting Sales` : harga untuk service konsultasi\n",
    "- `Software Sales` : harga untuk service software\n",
    "- `Forecasted Growth` : presentase pertumbuhan company dalam kurun waktu tertentu\n",
    "- `Returns` : dana yang kembali (Returns) dalam kurun waktu tertentu\n",
    "- `Month` : bulan berdirinya company\n",
    "- `Day` : tanggal berdirinya company\n",
    "- `Year` : tahun berdirinya company\n",
    "- `Location` : lokasi company\n",
    "- `Account` : jenis customer company"
   ]
  },
  {
   "cell_type": "code",
   "execution_count": 2,
   "metadata": {
    "scrolled": true
   },
   "outputs": [
    {
     "data": {
      "text/html": [
       "<div>\n",
       "<style scoped>\n",
       "    .dataframe tbody tr th:only-of-type {\n",
       "        vertical-align: middle;\n",
       "    }\n",
       "\n",
       "    .dataframe tbody tr th {\n",
       "        vertical-align: top;\n",
       "    }\n",
       "\n",
       "    .dataframe thead th {\n",
       "        text-align: right;\n",
       "    }\n",
       "</style>\n",
       "<table border=\"1\" class=\"dataframe\">\n",
       "  <thead>\n",
       "    <tr style=\"text-align: right;\">\n",
       "      <th></th>\n",
       "      <th>Customer Name</th>\n",
       "      <th>Consulting Sales</th>\n",
       "      <th>Software Sales</th>\n",
       "      <th>Forecasted Growth</th>\n",
       "      <th>Returns</th>\n",
       "      <th>Month</th>\n",
       "      <th>Day</th>\n",
       "      <th>Year</th>\n",
       "      <th>Location</th>\n",
       "      <th>Account</th>\n",
       "    </tr>\n",
       "    <tr>\n",
       "      <th>ID</th>\n",
       "      <th></th>\n",
       "      <th></th>\n",
       "      <th></th>\n",
       "      <th></th>\n",
       "      <th></th>\n",
       "      <th></th>\n",
       "      <th></th>\n",
       "      <th></th>\n",
       "      <th></th>\n",
       "      <th></th>\n",
       "    </tr>\n",
       "  </thead>\n",
       "  <tbody>\n",
       "    <tr>\n",
       "      <th>30940</th>\n",
       "      <td>New Media Group</td>\n",
       "      <td>IDR7125000</td>\n",
       "      <td>IDR5500000</td>\n",
       "      <td>30.00%</td>\n",
       "      <td>IDR1,500,000</td>\n",
       "      <td>1</td>\n",
       "      <td>10</td>\n",
       "      <td>2017</td>\n",
       "      <td>Jakarta</td>\n",
       "      <td>Enterprise</td>\n",
       "    </tr>\n",
       "    <tr>\n",
       "      <th>82391</th>\n",
       "      <td>Li and Partners</td>\n",
       "      <td>IDR420000</td>\n",
       "      <td>IDR820000</td>\n",
       "      <td>10.00%</td>\n",
       "      <td>IDR400,000</td>\n",
       "      <td>6</td>\n",
       "      <td>15</td>\n",
       "      <td>2016</td>\n",
       "      <td>Jakarta</td>\n",
       "      <td>Startup</td>\n",
       "    </tr>\n",
       "    <tr>\n",
       "      <th>18374</th>\n",
       "      <td>PT. Kreasi Metrik Solusi</td>\n",
       "      <td>0</td>\n",
       "      <td>IDR550403</td>\n",
       "      <td>25.00%</td>\n",
       "      <td>0</td>\n",
       "      <td>3</td>\n",
       "      <td>29</td>\n",
       "      <td>2012</td>\n",
       "      <td>Surabaya</td>\n",
       "      <td>Enterprise</td>\n",
       "    </tr>\n",
       "    <tr>\n",
       "      <th>57531</th>\n",
       "      <td>PT. Algoritma Data Indonesia</td>\n",
       "      <td>IDR850000</td>\n",
       "      <td>IDR395500</td>\n",
       "      <td>4.00%</td>\n",
       "      <td>0</td>\n",
       "      <td>7</td>\n",
       "      <td>17</td>\n",
       "      <td>2017</td>\n",
       "      <td>Jakarta</td>\n",
       "      <td>Startup</td>\n",
       "    </tr>\n",
       "    <tr>\n",
       "      <th>19002</th>\n",
       "      <td>Palembang Konsultansi</td>\n",
       "      <td>IDR2115000</td>\n",
       "      <td>0</td>\n",
       "      <td>-15.00%</td>\n",
       "      <td>0</td>\n",
       "      <td>2</td>\n",
       "      <td>24</td>\n",
       "      <td>2018</td>\n",
       "      <td>Bandung</td>\n",
       "      <td>Startup</td>\n",
       "    </tr>\n",
       "  </tbody>\n",
       "</table>\n",
       "</div>"
      ],
      "text/plain": [
       "                      Customer Name Consulting Sales Software Sales  \\\n",
       "ID                                                                    \n",
       "30940               New Media Group       IDR7125000     IDR5500000   \n",
       "82391               Li and Partners        IDR420000      IDR820000   \n",
       "18374      PT. Kreasi Metrik Solusi                0      IDR550403   \n",
       "57531  PT. Algoritma Data Indonesia        IDR850000      IDR395500   \n",
       "19002         Palembang Konsultansi       IDR2115000              0   \n",
       "\n",
       "      Forecasted Growth       Returns  Month  Day  Year  Location     Account  \n",
       "ID                                                                             \n",
       "30940            30.00%  IDR1,500,000      1   10  2017   Jakarta  Enterprise  \n",
       "82391            10.00%    IDR400,000      6   15  2016   Jakarta     Startup  \n",
       "18374            25.00%             0      3   29  2012  Surabaya  Enterprise  \n",
       "57531             4.00%             0      7   17  2017   Jakarta     Startup  \n",
       "19002           -15.00%             0      2   24  2018   Bandung     Startup  "
      ]
     },
     "execution_count": 2,
     "metadata": {},
     "output_type": "execute_result"
    }
   ],
   "source": [
    "clients = pd.read_csv(\"./data/companies.csv\", index_col=0)\n",
    "clients.head()"
   ]
  },
  {
   "cell_type": "markdown",
   "metadata": {},
   "source": [
    "Apabila Anda perhatikan, dataset `clients` memiliki format yang sedikit berbeda dengan dataset yang sudah kita gunakan pada materi. Kolom `Returns` memiliki karakter koma (`,`) sebagai pemisah satuan ribuan dan simbol mata uang (`IDR`) pada valuenya.\n",
    "\n",
    "Mari kita tinjau lebih jauh tipe data pada variabel `clients`:"
   ]
  },
  {
   "cell_type": "code",
   "execution_count": 3,
   "metadata": {},
   "outputs": [
    {
     "data": {
      "text/plain": [
       "Customer Name        object\n",
       "Consulting Sales     object\n",
       "Software Sales       object\n",
       "Forecasted Growth    object\n",
       "Returns              object\n",
       "Month                 int64\n",
       "Day                   int64\n",
       "Year                  int64\n",
       "Location             object\n",
       "Account              object\n",
       "dtype: object"
      ]
     },
     "execution_count": 3,
     "metadata": {},
     "output_type": "execute_result"
    }
   ],
   "source": [
    "clients.dtypes"
   ]
  },
  {
   "cell_type": "markdown",
   "metadata": {},
   "source": [
    "Pada hasil tersebut di atas, dapat diketahui bahwa beberapa variable tidak tersimpan pada format tipe data yang tepat. Dapatkah Anda mengubah tipe data beberapa variable tersebut menjadi bentuk tipe data yang tepat?"
   ]
  },
  {
   "cell_type": "code",
   "execution_count": 4,
   "metadata": {},
   "outputs": [
    {
     "name": "stdout",
     "output_type": "stream",
     "text": [
      "<class 'pandas.core.frame.DataFrame'>\n",
      "Int64Index: 6 entries, 30940 to 31142\n",
      "Data columns (total 10 columns):\n",
      " #   Column             Non-Null Count  Dtype   \n",
      "---  ------             --------------  -----   \n",
      " 0   Customer Name      6 non-null      object  \n",
      " 1   Consulting Sales   6 non-null      object  \n",
      " 2   Software Sales     6 non-null      object  \n",
      " 3   Forecasted Growth  6 non-null      object  \n",
      " 4   Returns            6 non-null      object  \n",
      " 5   Month              6 non-null      int64   \n",
      " 6   Day                6 non-null      int64   \n",
      " 7   Year               6 non-null      int64   \n",
      " 8   Location           6 non-null      category\n",
      " 9   Account            6 non-null      category\n",
      "dtypes: category(2), int64(3), object(5)\n",
      "memory usage: 700.0+ bytes\n"
     ]
    }
   ],
   "source": [
    "## Your Code Below:\n",
    "\"\"\"\n",
    "Data sales harusnya int\n",
    "Forecast Growth harusnya float\n",
    "Location jadi category\n",
    "Account jadi category\n",
    "\"\"\"\n",
    "clients['Location'] = clients['Location'].astype('category')\n",
    "clients['Account'] = clients['Account'].astype('category')\n",
    "clients.info()"
   ]
  },
  {
   "cell_type": "markdown",
   "metadata": {},
   "source": [
    "Apabila Anda sudah mencoba mengubah tipe data menggunakan method `.astype()`, maka Anda akan mendapatkan pesan error ketika mengubah tipe data pada kolom `Consulting Sales` dan `Software Sales`. Hal ini dikarenakan komputasi dan pengubahan tipe data numerik pada python tidak dapat dilakukan ketika terdapat karakter tertentu dalam data. Oleh karena itu, perlu dilakukan penghapusan karakter `IDR` yang terdapat pada kedua kolom tersebut. Penghapusan karakter dapat menggunakan built-in method pada `pandas` yaitu `str.replace()`. Berikut adalah contoh penggunaannya:"
   ]
  },
  {
   "cell_type": "code",
   "execution_count": 5,
   "metadata": {
    "scrolled": true
   },
   "outputs": [
    {
     "data": {
      "text/plain": [
       "ID\n",
       "30940    7125000\n",
       "82391     420000\n",
       "18374          0\n",
       "57531     850000\n",
       "19002    2115000\n",
       "31142     960000\n",
       "Name: Consulting Sales, dtype: object"
      ]
     },
     "execution_count": 5,
     "metadata": {},
     "output_type": "execute_result"
    }
   ],
   "source": [
    "clients['Consulting Sales'].str.replace('IDR','')"
   ]
  },
  {
   "cell_type": "markdown",
   "metadata": {},
   "source": [
    "Untuk mengaplikasikannya pada beberapa kolom dapat menggunakan method `apply` dengan `lambda` sebagai berikut :"
   ]
  },
  {
   "cell_type": "code",
   "execution_count": 7,
   "metadata": {},
   "outputs": [],
   "source": [
    "clients[['Consulting Sales','Software Sales','Returns']] =\\\n",
    "clients[['Consulting Sales','Software Sales','Returns']].apply(lambda x: x.str.replace('IDR',''))"
   ]
  },
  {
   "cell_type": "code",
   "execution_count": 8,
   "metadata": {},
   "outputs": [
    {
     "data": {
      "text/html": [
       "<div>\n",
       "<style scoped>\n",
       "    .dataframe tbody tr th:only-of-type {\n",
       "        vertical-align: middle;\n",
       "    }\n",
       "\n",
       "    .dataframe tbody tr th {\n",
       "        vertical-align: top;\n",
       "    }\n",
       "\n",
       "    .dataframe thead th {\n",
       "        text-align: right;\n",
       "    }\n",
       "</style>\n",
       "<table border=\"1\" class=\"dataframe\">\n",
       "  <thead>\n",
       "    <tr style=\"text-align: right;\">\n",
       "      <th></th>\n",
       "      <th>Customer Name</th>\n",
       "      <th>Consulting Sales</th>\n",
       "      <th>Software Sales</th>\n",
       "      <th>Forecasted Growth</th>\n",
       "      <th>Returns</th>\n",
       "      <th>Month</th>\n",
       "      <th>Day</th>\n",
       "      <th>Year</th>\n",
       "      <th>Location</th>\n",
       "      <th>Account</th>\n",
       "    </tr>\n",
       "    <tr>\n",
       "      <th>ID</th>\n",
       "      <th></th>\n",
       "      <th></th>\n",
       "      <th></th>\n",
       "      <th></th>\n",
       "      <th></th>\n",
       "      <th></th>\n",
       "      <th></th>\n",
       "      <th></th>\n",
       "      <th></th>\n",
       "      <th></th>\n",
       "    </tr>\n",
       "  </thead>\n",
       "  <tbody>\n",
       "    <tr>\n",
       "      <th>30940</th>\n",
       "      <td>New Media Group</td>\n",
       "      <td>7125000</td>\n",
       "      <td>5500000</td>\n",
       "      <td>30.00%</td>\n",
       "      <td>1,500,000</td>\n",
       "      <td>1</td>\n",
       "      <td>10</td>\n",
       "      <td>2017</td>\n",
       "      <td>Jakarta</td>\n",
       "      <td>Enterprise</td>\n",
       "    </tr>\n",
       "    <tr>\n",
       "      <th>82391</th>\n",
       "      <td>Li and Partners</td>\n",
       "      <td>420000</td>\n",
       "      <td>820000</td>\n",
       "      <td>10.00%</td>\n",
       "      <td>400,000</td>\n",
       "      <td>6</td>\n",
       "      <td>15</td>\n",
       "      <td>2016</td>\n",
       "      <td>Jakarta</td>\n",
       "      <td>Startup</td>\n",
       "    </tr>\n",
       "    <tr>\n",
       "      <th>18374</th>\n",
       "      <td>PT. Kreasi Metrik Solusi</td>\n",
       "      <td>0</td>\n",
       "      <td>550403</td>\n",
       "      <td>25.00%</td>\n",
       "      <td>0</td>\n",
       "      <td>3</td>\n",
       "      <td>29</td>\n",
       "      <td>2012</td>\n",
       "      <td>Surabaya</td>\n",
       "      <td>Enterprise</td>\n",
       "    </tr>\n",
       "    <tr>\n",
       "      <th>57531</th>\n",
       "      <td>PT. Algoritma Data Indonesia</td>\n",
       "      <td>850000</td>\n",
       "      <td>395500</td>\n",
       "      <td>4.00%</td>\n",
       "      <td>0</td>\n",
       "      <td>7</td>\n",
       "      <td>17</td>\n",
       "      <td>2017</td>\n",
       "      <td>Jakarta</td>\n",
       "      <td>Startup</td>\n",
       "    </tr>\n",
       "    <tr>\n",
       "      <th>19002</th>\n",
       "      <td>Palembang Konsultansi</td>\n",
       "      <td>2115000</td>\n",
       "      <td>0</td>\n",
       "      <td>-15.00%</td>\n",
       "      <td>0</td>\n",
       "      <td>2</td>\n",
       "      <td>24</td>\n",
       "      <td>2018</td>\n",
       "      <td>Bandung</td>\n",
       "      <td>Startup</td>\n",
       "    </tr>\n",
       "  </tbody>\n",
       "</table>\n",
       "</div>"
      ],
      "text/plain": [
       "                      Customer Name Consulting Sales Software Sales  \\\n",
       "ID                                                                    \n",
       "30940               New Media Group          7125000        5500000   \n",
       "82391               Li and Partners           420000         820000   \n",
       "18374      PT. Kreasi Metrik Solusi                0         550403   \n",
       "57531  PT. Algoritma Data Indonesia           850000         395500   \n",
       "19002         Palembang Konsultansi          2115000              0   \n",
       "\n",
       "      Forecasted Growth    Returns  Month  Day  Year  Location     Account  \n",
       "ID                                                                          \n",
       "30940            30.00%  1,500,000      1   10  2017   Jakarta  Enterprise  \n",
       "82391            10.00%    400,000      6   15  2016   Jakarta     Startup  \n",
       "18374            25.00%          0      3   29  2012  Surabaya  Enterprise  \n",
       "57531             4.00%          0      7   17  2017   Jakarta     Startup  \n",
       "19002           -15.00%          0      2   24  2018   Bandung     Startup  "
      ]
     },
     "execution_count": 8,
     "metadata": {},
     "output_type": "execute_result"
    }
   ],
   "source": [
    "clients.head()"
   ]
  },
  {
   "cell_type": "markdown",
   "metadata": {},
   "source": [
    "Lengkapi kode program di bawah ini untuk menghilangkan tanda koma (`,`) pada kolom `Returns`!"
   ]
  },
  {
   "cell_type": "code",
   "execution_count": 9,
   "metadata": {},
   "outputs": [],
   "source": [
    "## Fill in the blank (___):\n",
    "\n",
    "clients['Returns'] = clients['Returns'].str.replace(',','')"
   ]
  },
  {
   "cell_type": "code",
   "execution_count": 11,
   "metadata": {},
   "outputs": [
    {
     "name": "stdout",
     "output_type": "stream",
     "text": [
      "<class 'pandas.core.frame.DataFrame'>\n",
      "Int64Index: 6 entries, 30940 to 31142\n",
      "Data columns (total 10 columns):\n",
      " #   Column             Non-Null Count  Dtype   \n",
      "---  ------             --------------  -----   \n",
      " 0   Customer Name      6 non-null      object  \n",
      " 1   Consulting Sales   6 non-null      float64 \n",
      " 2   Software Sales     6 non-null      float64 \n",
      " 3   Forecasted Growth  6 non-null      object  \n",
      " 4   Returns            6 non-null      float64 \n",
      " 5   Month              6 non-null      int64   \n",
      " 6   Day                6 non-null      int64   \n",
      " 7   Year               6 non-null      int64   \n",
      " 8   Location           6 non-null      category\n",
      " 9   Account            6 non-null      category\n",
      "dtypes: category(2), float64(3), int64(3), object(2)\n",
      "memory usage: 700.0+ bytes\n"
     ]
    }
   ],
   "source": [
    "clients[['Consulting Sales', 'Software Sales', 'Returns']] = clients[['Consulting Sales', 'Software Sales', 'Returns']].astype('float64')\n",
    "clients.info()"
   ]
  },
  {
   "cell_type": "markdown",
   "metadata": {},
   "source": [
    "---"
   ]
  },
  {
   "cell_type": "markdown",
   "metadata": {},
   "source": [
    "## Data Analisis\n",
    "\n",
    "Sebagai seorang Data Analyst, Anda diminta untuk mendapatkan total penjualan secara keseluruhan dengan mengakumulasikan nilai Consulting Sales dan Software Sales dari setiap perusahaan. Buatlah kolom baru bernama `Total Sales` yang menyimpan total dari kedua nilai tersebut. \n",
    "\n",
    "---\n",
    "1. Berapa total (`sum`) keseluruhan dari `Total Sales`? Tips: Gunakan method `.sum()` pada kolom untuk mengakumulasi nilai totalnya!\n",
    "    - [ ] 11,470,000\n",
    "    - [X] 19,238,903\n",
    "    - [ ]  7,768,903\n",
    "---    "
   ]
  },
  {
   "cell_type": "code",
   "execution_count": 13,
   "metadata": {},
   "outputs": [
    {
     "data": {
      "text/plain": [
       "19238903.0"
      ]
     },
     "execution_count": 13,
     "metadata": {},
     "output_type": "execute_result"
    }
   ],
   "source": [
    "## Your Code Below:\n",
    "clients['Total Sales'] = clients['Consulting Sales'] + clients['Software Sales']\n",
    "clients['Total Sales'].sum()"
   ]
  },
  {
   "cell_type": "markdown",
   "metadata": {},
   "source": [
    "Berdasarkan total penjualan yang diperoleh setiap tahunnya, Anda sedang berokus untuk menganalisa penjualan dari masing-masing client pada tahun 2017 silam. Oleh karena itu, saat ini Anda akan fokus pada perusahaan yang menjadi client pada tahun 2017. Lakukanlah subseting untuk mendapatkan informasi data penjualan yang terjadi pada tahun 2017. Gunakanlah metode subseting yang sudah Anda pelajari.\n",
    "\n",
    "---\n",
    "2. Perusahaan manakah yang mendapatkan `Total Sales` terbesar di tahun 2017? \n",
    "    \n",
    "    - [X] New Media Group\n",
    "    - [ ] PT. Algoritma Data Indonesia\n",
    "    - [ ] Palembang Konsultansi\n",
    "---"
   ]
  },
  {
   "cell_type": "code",
   "execution_count": 16,
   "metadata": {},
   "outputs": [
    {
     "data": {
      "text/html": [
       "<div>\n",
       "<style scoped>\n",
       "    .dataframe tbody tr th:only-of-type {\n",
       "        vertical-align: middle;\n",
       "    }\n",
       "\n",
       "    .dataframe tbody tr th {\n",
       "        vertical-align: top;\n",
       "    }\n",
       "\n",
       "    .dataframe thead th {\n",
       "        text-align: right;\n",
       "    }\n",
       "</style>\n",
       "<table border=\"1\" class=\"dataframe\">\n",
       "  <thead>\n",
       "    <tr style=\"text-align: right;\">\n",
       "      <th></th>\n",
       "      <th>Customer Name</th>\n",
       "      <th>Consulting Sales</th>\n",
       "      <th>Software Sales</th>\n",
       "      <th>Forecasted Growth</th>\n",
       "      <th>Returns</th>\n",
       "      <th>Month</th>\n",
       "      <th>Day</th>\n",
       "      <th>Year</th>\n",
       "      <th>Location</th>\n",
       "      <th>Account</th>\n",
       "      <th>Total Sales</th>\n",
       "    </tr>\n",
       "    <tr>\n",
       "      <th>ID</th>\n",
       "      <th></th>\n",
       "      <th></th>\n",
       "      <th></th>\n",
       "      <th></th>\n",
       "      <th></th>\n",
       "      <th></th>\n",
       "      <th></th>\n",
       "      <th></th>\n",
       "      <th></th>\n",
       "      <th></th>\n",
       "      <th></th>\n",
       "    </tr>\n",
       "  </thead>\n",
       "  <tbody>\n",
       "    <tr>\n",
       "      <th>30940</th>\n",
       "      <td>New Media Group</td>\n",
       "      <td>7125000.0</td>\n",
       "      <td>5500000.0</td>\n",
       "      <td>30.00%</td>\n",
       "      <td>1500000.0</td>\n",
       "      <td>1</td>\n",
       "      <td>10</td>\n",
       "      <td>2017</td>\n",
       "      <td>Jakarta</td>\n",
       "      <td>Enterprise</td>\n",
       "      <td>12625000.0</td>\n",
       "    </tr>\n",
       "    <tr>\n",
       "      <th>82391</th>\n",
       "      <td>Li and Partners</td>\n",
       "      <td>420000.0</td>\n",
       "      <td>820000.0</td>\n",
       "      <td>10.00%</td>\n",
       "      <td>400000.0</td>\n",
       "      <td>6</td>\n",
       "      <td>15</td>\n",
       "      <td>2016</td>\n",
       "      <td>Jakarta</td>\n",
       "      <td>Startup</td>\n",
       "      <td>1240000.0</td>\n",
       "    </tr>\n",
       "    <tr>\n",
       "      <th>18374</th>\n",
       "      <td>PT. Kreasi Metrik Solusi</td>\n",
       "      <td>0.0</td>\n",
       "      <td>550403.0</td>\n",
       "      <td>25.00%</td>\n",
       "      <td>0.0</td>\n",
       "      <td>3</td>\n",
       "      <td>29</td>\n",
       "      <td>2012</td>\n",
       "      <td>Surabaya</td>\n",
       "      <td>Enterprise</td>\n",
       "      <td>550403.0</td>\n",
       "    </tr>\n",
       "    <tr>\n",
       "      <th>57531</th>\n",
       "      <td>PT. Algoritma Data Indonesia</td>\n",
       "      <td>850000.0</td>\n",
       "      <td>395500.0</td>\n",
       "      <td>4.00%</td>\n",
       "      <td>0.0</td>\n",
       "      <td>7</td>\n",
       "      <td>17</td>\n",
       "      <td>2017</td>\n",
       "      <td>Jakarta</td>\n",
       "      <td>Startup</td>\n",
       "      <td>1245500.0</td>\n",
       "    </tr>\n",
       "    <tr>\n",
       "      <th>19002</th>\n",
       "      <td>Palembang Konsultansi</td>\n",
       "      <td>2115000.0</td>\n",
       "      <td>0.0</td>\n",
       "      <td>-15.00%</td>\n",
       "      <td>0.0</td>\n",
       "      <td>2</td>\n",
       "      <td>24</td>\n",
       "      <td>2018</td>\n",
       "      <td>Bandung</td>\n",
       "      <td>Startup</td>\n",
       "      <td>2115000.0</td>\n",
       "    </tr>\n",
       "    <tr>\n",
       "      <th>31142</th>\n",
       "      <td>PT. Surya Citra Manajemen</td>\n",
       "      <td>960000.0</td>\n",
       "      <td>503000.0</td>\n",
       "      <td>19.00%</td>\n",
       "      <td>0.0</td>\n",
       "      <td>1</td>\n",
       "      <td>19</td>\n",
       "      <td>2019</td>\n",
       "      <td>Jakarta</td>\n",
       "      <td>Enterprise</td>\n",
       "      <td>1463000.0</td>\n",
       "    </tr>\n",
       "  </tbody>\n",
       "</table>\n",
       "</div>"
      ],
      "text/plain": [
       "                      Customer Name  Consulting Sales  Software Sales  \\\n",
       "ID                                                                      \n",
       "30940               New Media Group         7125000.0       5500000.0   \n",
       "82391               Li and Partners          420000.0        820000.0   \n",
       "18374      PT. Kreasi Metrik Solusi               0.0        550403.0   \n",
       "57531  PT. Algoritma Data Indonesia          850000.0        395500.0   \n",
       "19002         Palembang Konsultansi         2115000.0             0.0   \n",
       "31142     PT. Surya Citra Manajemen          960000.0        503000.0   \n",
       "\n",
       "      Forecasted Growth    Returns  Month  Day  Year  Location     Account  \\\n",
       "ID                                                                           \n",
       "30940            30.00%  1500000.0      1   10  2017   Jakarta  Enterprise   \n",
       "82391            10.00%   400000.0      6   15  2016   Jakarta     Startup   \n",
       "18374            25.00%        0.0      3   29  2012  Surabaya  Enterprise   \n",
       "57531             4.00%        0.0      7   17  2017   Jakarta     Startup   \n",
       "19002           -15.00%        0.0      2   24  2018   Bandung     Startup   \n",
       "31142            19.00%        0.0      1   19  2019   Jakarta  Enterprise   \n",
       "\n",
       "       Total Sales  \n",
       "ID                  \n",
       "30940   12625000.0  \n",
       "82391    1240000.0  \n",
       "18374     550403.0  \n",
       "57531    1245500.0  \n",
       "19002    2115000.0  \n",
       "31142    1463000.0  "
      ]
     },
     "execution_count": 16,
     "metadata": {},
     "output_type": "execute_result"
    }
   ],
   "source": [
    "clients"
   ]
  },
  {
   "cell_type": "code",
   "execution_count": 15,
   "metadata": {},
   "outputs": [
    {
     "data": {
      "text/html": [
       "<div>\n",
       "<style scoped>\n",
       "    .dataframe tbody tr th:only-of-type {\n",
       "        vertical-align: middle;\n",
       "    }\n",
       "\n",
       "    .dataframe tbody tr th {\n",
       "        vertical-align: top;\n",
       "    }\n",
       "\n",
       "    .dataframe thead th {\n",
       "        text-align: right;\n",
       "    }\n",
       "</style>\n",
       "<table border=\"1\" class=\"dataframe\">\n",
       "  <thead>\n",
       "    <tr style=\"text-align: right;\">\n",
       "      <th></th>\n",
       "      <th>Customer Name</th>\n",
       "      <th>Consulting Sales</th>\n",
       "      <th>Software Sales</th>\n",
       "      <th>Forecasted Growth</th>\n",
       "      <th>Returns</th>\n",
       "      <th>Month</th>\n",
       "      <th>Day</th>\n",
       "      <th>Year</th>\n",
       "      <th>Location</th>\n",
       "      <th>Account</th>\n",
       "      <th>Total Sales</th>\n",
       "    </tr>\n",
       "    <tr>\n",
       "      <th>ID</th>\n",
       "      <th></th>\n",
       "      <th></th>\n",
       "      <th></th>\n",
       "      <th></th>\n",
       "      <th></th>\n",
       "      <th></th>\n",
       "      <th></th>\n",
       "      <th></th>\n",
       "      <th></th>\n",
       "      <th></th>\n",
       "      <th></th>\n",
       "    </tr>\n",
       "  </thead>\n",
       "  <tbody>\n",
       "    <tr>\n",
       "      <th>30940</th>\n",
       "      <td>New Media Group</td>\n",
       "      <td>7125000.0</td>\n",
       "      <td>5500000.0</td>\n",
       "      <td>30.00%</td>\n",
       "      <td>1500000.0</td>\n",
       "      <td>1</td>\n",
       "      <td>10</td>\n",
       "      <td>2017</td>\n",
       "      <td>Jakarta</td>\n",
       "      <td>Enterprise</td>\n",
       "      <td>12625000.0</td>\n",
       "    </tr>\n",
       "  </tbody>\n",
       "</table>\n",
       "</div>"
      ],
      "text/plain": [
       "         Customer Name  Consulting Sales  Software Sales Forecasted Growth  \\\n",
       "ID                                                                           \n",
       "30940  New Media Group         7125000.0       5500000.0            30.00%   \n",
       "\n",
       "         Returns  Month  Day  Year Location     Account  Total Sales  \n",
       "ID                                                                    \n",
       "30940  1500000.0      1   10  2017  Jakarta  Enterprise   12625000.0  "
      ]
     },
     "execution_count": 15,
     "metadata": {},
     "output_type": "execute_result"
    }
   ],
   "source": [
    "## Your Code Below:\n",
    "clients[(clients['Year'] == 2017) & (clients['Total Sales'] == clients['Total Sales'].max())]"
   ]
  },
  {
   "cell_type": "markdown",
   "metadata": {},
   "source": [
    "Setelah itu, kita akan kembali fokus menggunakan seluruh data yang ada. Menggunakan seluruh data yang ada, ternyata perusahaan ingin melakukan *campaign* terhadap perusahaan yang memiliki nilai penjualan lebih dari 1,500,000 IDR. Silahkan gunakan subsetting kembali untuk mengetahui perusahaan yang memiliki penjualan lebih dari 1,500,000 IDR. Ternyata ada dua perusahaan yang nilai penjualannya melebihi 1,500,000 IDR pada data tersebut.\n",
    "\n",
    "---\n",
    "3.  Perusahaan mana saja yang memiliki penjualan lebih dari 1,500,000 IDR?\n",
    "\n",
    "    - [ ] Palembang Konsultansi & PT. Surya Citra Manajemen\n",
    "    - [ ] PT. Surya Citra Manajemen & New Media Group\n",
    "    - [X] Palembang Konsultansi & New Media Group\n",
    "---    "
   ]
  },
  {
   "cell_type": "code",
   "execution_count": 17,
   "metadata": {},
   "outputs": [
    {
     "data": {
      "text/html": [
       "<div>\n",
       "<style scoped>\n",
       "    .dataframe tbody tr th:only-of-type {\n",
       "        vertical-align: middle;\n",
       "    }\n",
       "\n",
       "    .dataframe tbody tr th {\n",
       "        vertical-align: top;\n",
       "    }\n",
       "\n",
       "    .dataframe thead th {\n",
       "        text-align: right;\n",
       "    }\n",
       "</style>\n",
       "<table border=\"1\" class=\"dataframe\">\n",
       "  <thead>\n",
       "    <tr style=\"text-align: right;\">\n",
       "      <th></th>\n",
       "      <th>Customer Name</th>\n",
       "      <th>Consulting Sales</th>\n",
       "      <th>Software Sales</th>\n",
       "      <th>Forecasted Growth</th>\n",
       "      <th>Returns</th>\n",
       "      <th>Month</th>\n",
       "      <th>Day</th>\n",
       "      <th>Year</th>\n",
       "      <th>Location</th>\n",
       "      <th>Account</th>\n",
       "      <th>Total Sales</th>\n",
       "    </tr>\n",
       "    <tr>\n",
       "      <th>ID</th>\n",
       "      <th></th>\n",
       "      <th></th>\n",
       "      <th></th>\n",
       "      <th></th>\n",
       "      <th></th>\n",
       "      <th></th>\n",
       "      <th></th>\n",
       "      <th></th>\n",
       "      <th></th>\n",
       "      <th></th>\n",
       "      <th></th>\n",
       "    </tr>\n",
       "  </thead>\n",
       "  <tbody>\n",
       "    <tr>\n",
       "      <th>30940</th>\n",
       "      <td>New Media Group</td>\n",
       "      <td>7125000.0</td>\n",
       "      <td>5500000.0</td>\n",
       "      <td>30.00%</td>\n",
       "      <td>1500000.0</td>\n",
       "      <td>1</td>\n",
       "      <td>10</td>\n",
       "      <td>2017</td>\n",
       "      <td>Jakarta</td>\n",
       "      <td>Enterprise</td>\n",
       "      <td>12625000.0</td>\n",
       "    </tr>\n",
       "    <tr>\n",
       "      <th>19002</th>\n",
       "      <td>Palembang Konsultansi</td>\n",
       "      <td>2115000.0</td>\n",
       "      <td>0.0</td>\n",
       "      <td>-15.00%</td>\n",
       "      <td>0.0</td>\n",
       "      <td>2</td>\n",
       "      <td>24</td>\n",
       "      <td>2018</td>\n",
       "      <td>Bandung</td>\n",
       "      <td>Startup</td>\n",
       "      <td>2115000.0</td>\n",
       "    </tr>\n",
       "  </tbody>\n",
       "</table>\n",
       "</div>"
      ],
      "text/plain": [
       "               Customer Name  Consulting Sales  Software Sales  \\\n",
       "ID                                                               \n",
       "30940        New Media Group         7125000.0       5500000.0   \n",
       "19002  Palembang Konsultansi         2115000.0             0.0   \n",
       "\n",
       "      Forecasted Growth    Returns  Month  Day  Year Location     Account  \\\n",
       "ID                                                                          \n",
       "30940            30.00%  1500000.0      1   10  2017  Jakarta  Enterprise   \n",
       "19002           -15.00%        0.0      2   24  2018  Bandung     Startup   \n",
       "\n",
       "       Total Sales  \n",
       "ID                  \n",
       "30940   12625000.0  \n",
       "19002    2115000.0  "
      ]
     },
     "execution_count": 17,
     "metadata": {},
     "output_type": "execute_result"
    }
   ],
   "source": [
    "## Your Code Below:\n",
    "clients[clients['Total Sales'] > 1500000]"
   ]
  },
  {
   "cell_type": "markdown",
   "metadata": {},
   "source": [
    "Sebagai seorang Data Anlayst, Anda diminta untuk menganalisa rata-rata dari `Total Sales` untuk seluruh perusahaan yang ada pada data. Dalam menganalisa data untuk mendapatkan suatu pusat data, ada beberapa pengukuran yang dapat digunakan. Diantarana yaitu mean, median, dan modus. Karena yang akan dianalisa berupa nilai numerik maka terkadang nilai numerik dapat terpengaruh oleh suatu nilai-nilai ekstrim atau outlier. Oleh karena itu, penggunaan **median** seringkali lebih relevan dibandingkan menggunakan nilai mean, karena mean lebih mudah terpengaruh terhadap nilai outlier. \n",
    "\n",
    "---\n",
    "4. Berdasarkan analisa diatas, berapakah nilai pusat data dari `Total Sales`?\n",
    "    \n",
    "    - [X] 1,354,250\n",
    "    - [ ] 1,515,875\n",
    "    - [ ] 3,737,700\n",
    "---"
   ]
  },
  {
   "cell_type": "code",
   "execution_count": 18,
   "metadata": {},
   "outputs": [
    {
     "data": {
      "text/plain": [
       "1354250.0"
      ]
     },
     "execution_count": 18,
     "metadata": {},
     "output_type": "execute_result"
    }
   ],
   "source": [
    "## Your Code Below:\n",
    "clients['Total Sales'].median()"
   ]
  },
  {
   "cell_type": "markdown",
   "metadata": {},
   "source": [
    "Anda saat ini akan fokus untuk menganalisis perusahaan PT. Algoritma Data Indonesia. Menggunakan metode subsetting yang sudah Anda pelajari, jawablah pertanyaan dibawah ini.\n",
    "\n",
    "---\n",
    "5. Manakah metode subsetting yang paling sesuai untuk melakukan subsetting secara eksplisit pada ID perusahaan 57531 pada data `clients`?\n",
    "\n",
    "    - [X] `clients.loc[57531, :]`\n",
    "    - [ ] `clients.iloc[57531, : ]`\n",
    "    - [ ] `clients[57531, : ]` \n",
    "    \n",
    "---"
   ]
  },
  {
   "cell_type": "code",
   "execution_count": 23,
   "metadata": {},
   "outputs": [
    {
     "data": {
      "text/plain": [
       "Customer Name        PT. Algoritma Data Indonesia\n",
       "Consulting Sales                         850000.0\n",
       "Software Sales                           395500.0\n",
       "Forecasted Growth                           4.00%\n",
       "Returns                                       0.0\n",
       "Month                                           7\n",
       "Day                                            17\n",
       "Year                                         2017\n",
       "Location                                  Jakarta\n",
       "Account                                   Startup\n",
       "Total Sales                             1245500.0\n",
       "Name: 57531, dtype: object"
      ]
     },
     "execution_count": 23,
     "metadata": {},
     "output_type": "execute_result"
    }
   ],
   "source": [
    "## Your Code Below:\n",
    "clients.loc[57531, :]"
   ]
  },
  {
   "cell_type": "markdown",
   "metadata": {},
   "source": [
    "Terakhir, Anda diminta untuk melakukan analisa pada client yang berlokasi di Jakarta dan termasuk kedalam akun Enterprise. Untuk melakukan subsetting, silahkan lengkapi syntax berikut dan jawablah pertanyaan dibawah ini.\n",
    "\n",
    "```\n",
    "clients[________ _ ________]\n",
    "```\n",
    "\n",
    "---\n",
    "6. Berdasarkan syntax yang Anda lengkapi diatas, manakah pilihan syntax dibawah ini yang tepat untuk melengkapi?\n",
    "\n",
    "    - [ ] (clients.Location == \"Jakarta\") | (clients.Account == \"Enterprise\")\n",
    "    - [ ] clients.Location == \"Jakarta\" & clients.Account == \"Enterprise\"\n",
    "    - [X] (clients.Location == \"Jakarta\") & (clients.Account == \"Enterprise\")\n",
    "    - [ ] clients.Location == \"Jakarta\" | clients.Account == \"Enterprise\"\n",
    "---"
   ]
  },
  {
   "cell_type": "code",
   "execution_count": 26,
   "metadata": {},
   "outputs": [
    {
     "data": {
      "text/html": [
       "<div>\n",
       "<style scoped>\n",
       "    .dataframe tbody tr th:only-of-type {\n",
       "        vertical-align: middle;\n",
       "    }\n",
       "\n",
       "    .dataframe tbody tr th {\n",
       "        vertical-align: top;\n",
       "    }\n",
       "\n",
       "    .dataframe thead th {\n",
       "        text-align: right;\n",
       "    }\n",
       "</style>\n",
       "<table border=\"1\" class=\"dataframe\">\n",
       "  <thead>\n",
       "    <tr style=\"text-align: right;\">\n",
       "      <th></th>\n",
       "      <th>Customer Name</th>\n",
       "      <th>Consulting Sales</th>\n",
       "      <th>Software Sales</th>\n",
       "      <th>Forecasted Growth</th>\n",
       "      <th>Returns</th>\n",
       "      <th>Month</th>\n",
       "      <th>Day</th>\n",
       "      <th>Year</th>\n",
       "      <th>Location</th>\n",
       "      <th>Account</th>\n",
       "      <th>Total Sales</th>\n",
       "    </tr>\n",
       "    <tr>\n",
       "      <th>ID</th>\n",
       "      <th></th>\n",
       "      <th></th>\n",
       "      <th></th>\n",
       "      <th></th>\n",
       "      <th></th>\n",
       "      <th></th>\n",
       "      <th></th>\n",
       "      <th></th>\n",
       "      <th></th>\n",
       "      <th></th>\n",
       "      <th></th>\n",
       "    </tr>\n",
       "  </thead>\n",
       "  <tbody>\n",
       "    <tr>\n",
       "      <th>30940</th>\n",
       "      <td>New Media Group</td>\n",
       "      <td>7125000.0</td>\n",
       "      <td>5500000.0</td>\n",
       "      <td>30.00%</td>\n",
       "      <td>1500000.0</td>\n",
       "      <td>1</td>\n",
       "      <td>10</td>\n",
       "      <td>2017</td>\n",
       "      <td>Jakarta</td>\n",
       "      <td>Enterprise</td>\n",
       "      <td>12625000.0</td>\n",
       "    </tr>\n",
       "    <tr>\n",
       "      <th>31142</th>\n",
       "      <td>PT. Surya Citra Manajemen</td>\n",
       "      <td>960000.0</td>\n",
       "      <td>503000.0</td>\n",
       "      <td>19.00%</td>\n",
       "      <td>0.0</td>\n",
       "      <td>1</td>\n",
       "      <td>19</td>\n",
       "      <td>2019</td>\n",
       "      <td>Jakarta</td>\n",
       "      <td>Enterprise</td>\n",
       "      <td>1463000.0</td>\n",
       "    </tr>\n",
       "  </tbody>\n",
       "</table>\n",
       "</div>"
      ],
      "text/plain": [
       "                   Customer Name  Consulting Sales  Software Sales  \\\n",
       "ID                                                                   \n",
       "30940            New Media Group         7125000.0       5500000.0   \n",
       "31142  PT. Surya Citra Manajemen          960000.0        503000.0   \n",
       "\n",
       "      Forecasted Growth    Returns  Month  Day  Year Location     Account  \\\n",
       "ID                                                                          \n",
       "30940            30.00%  1500000.0      1   10  2017  Jakarta  Enterprise   \n",
       "31142            19.00%        0.0      1   19  2019  Jakarta  Enterprise   \n",
       "\n",
       "       Total Sales  \n",
       "ID                  \n",
       "30940   12625000.0  \n",
       "31142    1463000.0  "
      ]
     },
     "execution_count": 26,
     "metadata": {},
     "output_type": "execute_result"
    }
   ],
   "source": [
    "## Your Code Below:\n",
    "clients[(clients['Location'] == 'Jakarta') & (clients['Account'] == 'Enterprise')]"
   ]
  }
 ],
 "metadata": {
  "interpreter": {
   "hash": "a8343b732dd7e92a09169d6c428688afa52d864319dbacc840304350021ce15e"
  },
  "kernelspec": {
   "display_name": "phoenix_da",
   "language": "python",
   "name": "python3"
  },
  "language_info": {
   "codemirror_mode": {
    "name": "ipython",
    "version": 3
   },
   "file_extension": ".py",
   "mimetype": "text/x-python",
   "name": "python",
   "nbconvert_exporter": "python",
   "pygments_lexer": "ipython3",
   "version": "3.8.10"
  },
  "latex_envs": {
   "LaTeX_envs_menu_present": true,
   "autoclose": false,
   "autocomplete": true,
   "bibliofile": "biblio.bib",
   "cite_by": "apalike",
   "current_citInitial": 1,
   "eqLabelWithNumbers": true,
   "eqNumInitial": 1,
   "hotkeys": {
    "equation": "Ctrl-E",
    "itemize": "Ctrl-I"
   },
   "labels_anchors": false,
   "latex_user_defs": false,
   "report_style_numbering": false,
   "user_envs_cfg": false
  },
  "toc": {
   "base_numbering": 1,
   "nav_menu": {},
   "number_sections": true,
   "sideBar": true,
   "skip_h1_title": false,
   "title_cell": "Table of Contents",
   "title_sidebar": "Contents",
   "toc_cell": false,
   "toc_position": {},
   "toc_section_display": true,
   "toc_window_display": false
  }
 },
 "nbformat": 4,
 "nbformat_minor": 2
}
