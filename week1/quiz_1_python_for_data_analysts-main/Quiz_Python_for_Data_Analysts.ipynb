{
 "cells": [
  {
   "cell_type": "markdown",
   "metadata": {},
   "source": [
    "# Quiz: Python for Data Analysts\n",
    "\n",
    "Congratulations on completing the Python for Data Analysts course! We will conduct an assessment quiz to test your practical programming techniques that you have learned on the course. The quiz is expected to be taken in the classroom, please contact our teaching team if you missed the chance to take it in class."
   ]
  },
  {
   "cell_type": "code",
   "execution_count": null,
   "metadata": {},
   "outputs": [],
   "source": [
    "import pandas as pd"
   ]
  },
  {
   "cell_type": "markdown",
   "metadata": {},
   "source": [
    "## Data Pre-Processing"
   ]
  },
  {
   "cell_type": "markdown",
   "metadata": {},
   "source": [
    "We will use **Companies dataset**. You can use the data in the csv file extension stored in the `companies.csv` file. Companies dataset is some examples of CRM (customer relationship management) data which contains the following variables:\n",
    "\n",
    "- `ID` : identifier unique from cutomers name\n",
    "- `Customer Name` : customer name (company name)\n",
    "- `Consulting Sales` : price for consulting service\n",
    "- `Software Sales` : price for software service\n",
    "- `Forecasted Growth` : percentage of company growth in a certain time \n",
    "- `Returns` : funds that return (Returns) within a certain time \n",
    "- `Month` : company founding month \n",
    "- `Day` : company fonding day\n",
    "- `Year` : company founding year\n",
    "- `Location` : location of company\n",
    "- `Account` : type of company"
   ]
  },
  {
   "cell_type": "code",
   "execution_count": null,
   "metadata": {
    "scrolled": false
   },
   "outputs": [],
   "source": [
    "clients = pd.read_csv(\"data/companies.csv\", index_col=0)\n",
    "clients.head()"
   ]
  },
  {
   "cell_type": "markdown",
   "metadata": {},
   "source": [
    "Unlike our previous datasets, `clients` has some formatting inconsistencies by design: The `Returns` column has comma delimiter (`,`) and the currency (`IDR`) whereas related columns use values that has omitted the separator.\n",
    "\n",
    "Now let's observe its data types:"
   ]
  },
  {
   "cell_type": "code",
   "execution_count": null,
   "metadata": {},
   "outputs": [],
   "source": [
    "clients.dtypes"
   ]
  },
  {
   "cell_type": "markdown",
   "metadata": {},
   "source": [
    "From the results above, we can see some variables are not stored in the right data type format. Can you apply what you have learnt about specifying data type on this new data?"
   ]
  },
  {
   "cell_type": "code",
   "execution_count": null,
   "metadata": {},
   "outputs": [],
   "source": [
    "## Your Code Below:\n"
   ]
  },
  {
   "cell_type": "markdown",
   "metadata": {},
   "source": [
    "If you tried to directly use the `.astype` function on `Consulting Sales` and `Software Sales`, you will most likely get an error.  To perform arithmetic computations on the numeric columns, we have to drop the 'IDR' currency string and treat these columns as numbers. We'll use pandas built-in `.str.replace()` method for this."
   ]
  },
  {
   "cell_type": "code",
   "execution_count": null,
   "metadata": {
    "scrolled": true
   },
   "outputs": [],
   "source": [
    "clients['Consulting Sales'].str.replace('IDR','')"
   ]
  },
  {
   "cell_type": "markdown",
   "metadata": {},
   "source": [
    "To apply the function on multiple columns, we can use `apply` method with `lambda` as below:"
   ]
  },
  {
   "cell_type": "code",
   "execution_count": null,
   "metadata": {},
   "outputs": [],
   "source": [
    "clients[['Consulting Sales','Software Sales','Returns']] =\\\n",
    "clients[['Consulting Sales','Software Sales','Returns']].apply(lambda x: x.str.replace('IDR',''))"
   ]
  },
  {
   "cell_type": "code",
   "execution_count": null,
   "metadata": {},
   "outputs": [],
   "source": [
    "clients.head()"
   ]
  },
  {
   "cell_type": "markdown",
   "metadata": {},
   "source": [
    "Go on fill in the blank below to remove the comma (`,`) sign on `Returns`!"
   ]
  },
  {
   "cell_type": "code",
   "execution_count": null,
   "metadata": {},
   "outputs": [],
   "source": [
    "## Fill in the blank (___):\n",
    "\n",
    "_____ = clients['Returns'].str.replace(_____,_____)"
   ]
  },
  {
   "cell_type": "markdown",
   "metadata": {},
   "source": [
    "---"
   ]
  },
  {
   "cell_type": "markdown",
   "metadata": {},
   "source": [
    "## Data Analysis\n",
    "\n",
    "As a Data Analyst, you want to analyze the total sales. To analyze it, create a new column in the DataFrame and name it `Total Sales`. This column is a sum of `Consulting Sales` and `Software Sales`. Use `head` or `tail` to peek at the resulting data frame to confirm that the output matches your expectation. \n",
    "\n",
    "---\n",
    "1. What is the sum of the `Total Sales` column? Tips: Use the `.sum()` method on the columns to accumulate the total value!\n",
    "\n",
    "      *Berapa total (`sum`) keseluruhan dari `Total Sales`? Tips: Gunakan method `.sum()` pada kolom untuk mengakumulasi nilai totalnya!*\n",
    "        \n",
    "    - [ ] 11,470,000\n",
    "    - [ ] 19,238,903\n",
    "    - [ ]  7,768,903\n",
    "---"
   ]
  },
  {
   "cell_type": "code",
   "execution_count": null,
   "metadata": {},
   "outputs": [],
   "source": [
    "## Your Code Below:\n"
   ]
  },
  {
   "cell_type": "markdown",
   "metadata": {},
   "source": [
    "Based on the total sales obtained each year, you are currently focusing on analyzing sales from each client in 2017. Therefore, for now you will focus on companies that became clients in 2017. Use subsetting methods to get information on sales data that occurred in 2017.\n",
    "\n",
    "---\n",
    "2. Which company has the biggest `Total Sales` in 2017?\n",
    "\n",
    "    *Perusahaan manakah yang mendapatkan Total Sales terbesar di tahun 2017?*\n",
    "    - [ ] New Media Group\n",
    "    - [ ] PT. Algoritma Data Indonesia\n",
    "    - [ ] Palembang Konsultansi\n",
    "---    "
   ]
  },
  {
   "cell_type": "code",
   "execution_count": null,
   "metadata": {},
   "outputs": [],
   "source": [
    "## Your Code Below:\n"
   ]
  },
  {
   "cell_type": "markdown",
   "metadata": {},
   "source": [
    "After that, we will return our all available data. Using all available data, it turns out that the company wants to do campaign companies that have a sales value exceeding 1,500,000 IDR. Please use the subsetting again to find out which companies have sales exceeding 1,500,000 IDR. It turns out that there are two companies whose sales value exceeds 1,500,000 IDR in the data.\n",
    "\n",
    "---\n",
    "3. Which are the companies have sales exceeding 1,500,000 IDR in the data?  \n",
    "\n",
    "    *Perusahaan mana saja yang memiliki penjualan lebih dari 1,500,000 IDR?*\n",
    "\n",
    "    - [ ] Palembang Konsultansi & PT. Surya Citra Manajemen\n",
    "    - [ ] PT. Surya Citra Manajemen & New Media Group\n",
    "    - [ ] Palembang Konsultansi & New Media Group\n",
    "---    "
   ]
  },
  {
   "cell_type": "code",
   "execution_count": null,
   "metadata": {},
   "outputs": [],
   "source": [
    "## Your Code Below:\n"
   ]
  },
  {
   "cell_type": "markdown",
   "metadata": {},
   "source": [
    "As a Data Analyst, you are asked to analyze the average of `Total Sales` for all companies in the data. In analyzing data to get a data center, there are several measurements that can be used. Among them are mean, median, and mode. Because what will be analyzed is a numeric value, sometimes the numerical value can be affected by extreme values or outliers. Therefore, the use of the **median** is often more relevant than using the mean value, because the mean is more easily affected by outlier values.\n",
    "\n",
    "---\n",
    "4. Based on those analysis, what is the central value of `Total Sales`?  \n",
    "\n",
    "    *Berdasarkan analisa diatas, berapakah nilai pusat data dari `Total Sales`?*\n",
    "    \n",
    "    - [ ] 1,354,250\n",
    "    - [ ] 1,515,875\n",
    "    - [ ] 3,737,700\n",
    "---"
   ]
  },
  {
   "cell_type": "code",
   "execution_count": null,
   "metadata": {},
   "outputs": [],
   "source": [
    "## Your Code Below:\n"
   ]
  },
  {
   "cell_type": "markdown",
   "metadata": {},
   "source": [
    "Now, you are focusing to analyze PT. Algoritma Data Indonesia. Using what you have learned before about subsetting method, please answer this question.\n",
    "\n",
    "---\n",
    "5. Which subsetting method is more appropriate, if we want to perform subsetting on `clients` by explicitly stating the `ID`?  \n",
    "\n",
    "    *Manakah metode subsetting yang paling sesuai untuk melakukan subsetting secara eksplisit pada ID pada data `clients`?*\n",
    "\n",
    "    - [ ] `clients.loc[57531, :]`\n",
    "    - [ ] `clients.iloc[57531, : ]`\n",
    "    - [ ] `clients[57531, : ]` \n",
    "    \n",
    "---"
   ]
  },
  {
   "cell_type": "code",
   "execution_count": null,
   "metadata": {},
   "outputs": [],
   "source": [
    "## Your Code Below:\n"
   ]
  },
  {
   "cell_type": "markdown",
   "metadata": {},
   "source": [
    "Lastly, subsetting is needed to analyze clients which spesifically located in Jakarta and have Enterprise account. try to fill in the blank code below to perform the right conditional subsetting and please answer this question below.\n",
    "\n",
    "```\n",
    "clients[________ _ ________]\n",
    "```\n",
    "\n",
    "---\n",
    "6. Based on the syntax you have completed, which syntax below you will use to complete the right conditional subsetting?\n",
    "\n",
    "    *Berdasarkan syntax yang Anda lengkapi diatas, manakah pilihan syntax dibawah ini yang tepat untuk melengkapi?*\n",
    "\n",
    "    - [ ] (clients.Location == \"Jakarta\") | (clients.Account == \"Enterprise\")\n",
    "    - [ ] clients.Location == \"Jakarta\" & clients.Account == \"Enterprise\"\n",
    "    - [ ] (clients.Location == \"Jakarta\") & (clients.Account == \"Enterprise\")\n",
    "    - [ ] clients.Location == \"Jakarta\" | clients.Account == \"Enterprise\"\n",
    "---"
   ]
  },
  {
   "cell_type": "code",
   "execution_count": null,
   "metadata": {},
   "outputs": [],
   "source": [
    "## Your Code Below:\n"
   ]
  }
 ],
 "metadata": {
  "kernelspec": {
   "display_name": "Python 3",
   "language": "python",
   "name": "python3"
  },
  "language_info": {
   "codemirror_mode": {
    "name": "ipython",
    "version": 3
   },
   "file_extension": ".py",
   "mimetype": "text/x-python",
   "name": "python",
   "nbconvert_exporter": "python",
   "pygments_lexer": "ipython3",
   "version": "3.7.5"
  },
  "latex_envs": {
   "LaTeX_envs_menu_present": true,
   "autoclose": false,
   "autocomplete": true,
   "bibliofile": "biblio.bib",
   "cite_by": "apalike",
   "current_citInitial": 1,
   "eqLabelWithNumbers": true,
   "eqNumInitial": 1,
   "hotkeys": {
    "equation": "Ctrl-E",
    "itemize": "Ctrl-I"
   },
   "labels_anchors": false,
   "latex_user_defs": false,
   "report_style_numbering": false,
   "user_envs_cfg": false
  },
  "toc": {
   "base_numbering": 1,
   "nav_menu": {},
   "number_sections": true,
   "sideBar": true,
   "skip_h1_title": false,
   "title_cell": "Table of Contents",
   "title_sidebar": "Contents",
   "toc_cell": false,
   "toc_position": {},
   "toc_section_display": true,
   "toc_window_display": false
  }
 },
 "nbformat": 4,
 "nbformat_minor": 2
}
