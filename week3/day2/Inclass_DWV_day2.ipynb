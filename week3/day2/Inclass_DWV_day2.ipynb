{
 "cells": [
  {
   "cell_type": "markdown",
   "metadata": {},
   "source": [
    "**Inclass material for Week 3: Data Wrangling and Visualization**\n",
    "\n",
    "This notebook was made based on main materials `3_Data_Wrangling_and_Visualization.ipynb`\n",
    "\n",
    "Version: Qoppa - December 2021"
   ]
  },
  {
   "cell_type": "markdown",
   "metadata": {},
   "source": [
    "---\n",
    "**START OF DAY 1**"
   ]
  },
  {
   "cell_type": "markdown",
   "metadata": {},
   "source": [
    "# Data Wrangling and Visualization\n",
    "\n",
    "Berikut adalah method yang telah kita pelajari di dua course sebelumnya:\n",
    "\n",
    "**Data Inspection** (Course: Python for Data Analysts)\n",
    "- `.head()` and `.tail()`\n",
    "- `.describe()`\n",
    "- `.shape` and `.size`\n",
    "- `.axes`\n",
    "- `.dtypes`\n",
    "- Subsetting using `.loc`, `.iloc` and conditionals\n",
    "\n",
    "**Diagnostic and Exploratory** (Course: Exploratory Data Analysis)\n",
    "- Tables\n",
    "- Cross-Tables and Aggregates\n",
    "- Using `aggfunc` for aggregate functions\n",
    "- Pivot Tables\n",
    "- Working with DateTime\n",
    "- Working with Categorical Data\n",
    "- Duplicates and Missing Value Treatment\n",
    "\n",
    "---\n",
    "\n",
    "**Training Objectives for Course Data Wrangling and Visualization**\n",
    "\n",
    "- Working with MultiIndex DataFrames\n",
    "- Stacking and Unstacking\n",
    "- Reshaping your DataFrame with Melt\n",
    "- Using Group By Effectively\n",
    "- Visual Data Exploratory"
   ]
  },
  {
   "cell_type": "markdown",
   "metadata": {},
   "source": [
    "# Reproducible Environment\n",
    "\n",
    "Bayangkan Anda sedang mengerjakan suatu proyek yang membutuhkan kolaborasi dengan tim. Proyek tersebut diinisiasi oleh Anda, code dan packages pada komputer Anda berjalan dengan baik. Kemudian Anda ingin membagikan proyek tersebut kepada tim Anda. Apakah tim Anda harus melakukan instalasi package satu per satu secara manual? Tentu tidak, di sini Anda membuat suatu **environment** yang dapat di-reproducible (digandakan) dengan membuat suatu file `requirements.txt`.\n",
    "\n",
    "Lihat pada folder `/assets`, Anda akan menemukan file `requirements.txt` yang isinya seperti ini:\n",
    "```\n",
    "appnope==0.1.0\n",
    "backcall==0.2.0\n",
    "certifi==2020.6.20\n",
    "chardet==3.0.4\n",
    "cycler==0.10.0\n",
    "decorator==4.4.2\n",
    "...\n",
    "```\n",
    "\n",
    "File ini berisi daftar **packages beserta versinya** yang ada di environment dalam menjalankan proyek tertentu. File ini membantu tim Anda untuk mengembangkan suatu aplikasi dalam satu versi yang sama, sehingga mencegah terjadinya perubahan fungsi-fungsi yang tidak terduga."
   ]
  },
  {
   "cell_type": "markdown",
   "metadata": {},
   "source": [
    "## Exporting Requirements\n",
    "\n",
    "Misal Anda ingin membagikan daftar packages suatu environment kepada tim Anda, maka lakukanlah langkah berikut:\n",
    "\n",
    "1. Aktifkan environment\n",
    "```\n",
    "conda activate <ENV_NAME>\n",
    "```\n",
    "\n",
    "2. Navigasikan path ke folder tempat di mana file `requirements.txt` ingin disimpan\n",
    "```\n",
    "cd <PATH_TO_REQUIREMENTS_FOLDER>\n",
    "```\n",
    "\n",
    "3. Export environment: membuat daftar packages beserta versinya.\n",
    "```\n",
    "pip list --format=freeze > requirements.txt\n",
    "```\n",
    "\n",
    "💡 Anda dapat menyimpan file dengan nama lain, namun sebagai **konvensi** biasa digunakan penamaan `requirements.txt`"
   ]
  },
  {
   "cell_type": "markdown",
   "metadata": {},
   "source": [
    "## Importing Requirements\n",
    "\n",
    "Misal Anda yang meneruskan proyek dan telah menerima file `txt` dari tim Anda, maka lakukanlah langkah berikut:\n",
    "\n",
    "1. Siapkan environment yang kosong\n",
    "```\n",
    "conda create -n <ENV_NAME> python=<PYTHON_VERSION>\n",
    "```\n",
    "\n",
    "2. Aktifkan environment tersebut\n",
    "```\n",
    "conda activate <ENV_NAME>\n",
    "```\n",
    "\n",
    "3. Navigasikan path ke folder di mana file `requirements.txt` berada\n",
    "```\n",
    "cd <PATH_TO_REQUIREMENTS>\n",
    "```\n",
    "\n",
    "4. Instalasi packages dari file tersebut\n",
    "```\n",
    "pip install -r requirements.txt\n",
    "```\n",
    "\n",
    "⚠️ Jangan lupa instalasi kernel di dalam environment tersebut apabila ingin dapat diakses menggunakan jupyter notebook:\n",
    "```\n",
    "pip install ipykernel\n",
    "python -m ipykernel install --user --name=<ENV_NAME>\n",
    "```"
   ]
  },
  {
   "cell_type": "markdown",
   "metadata": {},
   "source": [
    "# Data Wrangling and Reshaping"
   ]
  },
  {
   "cell_type": "markdown",
   "metadata": {},
   "source": [
    "## Load Data\n",
    "\n",
    "### `pandas_datareader`\n",
    "\n",
    "Kita akan menggunakan library `yfinance` untuk mengakses data saham yang tersedia pada [Yahoo! Finance](https://finance.yahoo.com/). Penarikan data menggunakan `yfinance` membutuhkan koneksi internet.\n",
    "\n",
    "Dokumentasi: https://pypi.org/project/yfinance/"
   ]
  },
  {
   "cell_type": "code",
   "execution_count": 20,
   "metadata": {
    "ExecuteTime": {
     "end_time": "2021-06-27T07:25:24.225168Z",
     "start_time": "2021-06-27T07:25:23.595116Z"
    }
   },
   "outputs": [],
   "source": [
    "import pandas as pd\n",
    "import yfinance as data\n",
    "pd.set_option('display.float_format', lambda x: '%.6f' % x)"
   ]
  },
  {
   "cell_type": "code",
   "execution_count": 21,
   "metadata": {
    "ExecuteTime": {
     "end_time": "2021-06-27T06:57:35.462552Z",
     "start_time": "2021-06-27T06:57:33.823491Z"
    },
    "scrolled": true
   },
   "outputs": [
    {
     "name": "stdout",
     "output_type": "stream",
     "text": [
      "[*********************100%***********************]  3 of 3 completed\n"
     ]
    },
    {
     "data": {
      "text/html": [
       "<div>\n",
       "<style scoped>\n",
       "    .dataframe tbody tr th:only-of-type {\n",
       "        vertical-align: middle;\n",
       "    }\n",
       "\n",
       "    .dataframe tbody tr th {\n",
       "        vertical-align: top;\n",
       "    }\n",
       "\n",
       "    .dataframe thead tr th {\n",
       "        text-align: left;\n",
       "    }\n",
       "\n",
       "    .dataframe thead tr:last-of-type th {\n",
       "        text-align: right;\n",
       "    }\n",
       "</style>\n",
       "<table border=\"1\" class=\"dataframe\">\n",
       "  <thead>\n",
       "    <tr>\n",
       "      <th>Attributes</th>\n",
       "      <th colspan=\"3\" halign=\"left\">Adj Close</th>\n",
       "      <th colspan=\"3\" halign=\"left\">Close</th>\n",
       "      <th colspan=\"3\" halign=\"left\">High</th>\n",
       "      <th colspan=\"3\" halign=\"left\">Low</th>\n",
       "      <th colspan=\"3\" halign=\"left\">Open</th>\n",
       "      <th colspan=\"3\" halign=\"left\">Volume</th>\n",
       "    </tr>\n",
       "    <tr>\n",
       "      <th>Symbols</th>\n",
       "      <th>AAPL</th>\n",
       "      <th>FB</th>\n",
       "      <th>GOOGL</th>\n",
       "      <th>AAPL</th>\n",
       "      <th>FB</th>\n",
       "      <th>GOOGL</th>\n",
       "      <th>AAPL</th>\n",
       "      <th>FB</th>\n",
       "      <th>GOOGL</th>\n",
       "      <th>AAPL</th>\n",
       "      <th>FB</th>\n",
       "      <th>GOOGL</th>\n",
       "      <th>AAPL</th>\n",
       "      <th>FB</th>\n",
       "      <th>GOOGL</th>\n",
       "      <th>AAPL</th>\n",
       "      <th>FB</th>\n",
       "      <th>GOOGL</th>\n",
       "    </tr>\n",
       "    <tr>\n",
       "      <th>Date</th>\n",
       "      <th></th>\n",
       "      <th></th>\n",
       "      <th></th>\n",
       "      <th></th>\n",
       "      <th></th>\n",
       "      <th></th>\n",
       "      <th></th>\n",
       "      <th></th>\n",
       "      <th></th>\n",
       "      <th></th>\n",
       "      <th></th>\n",
       "      <th></th>\n",
       "      <th></th>\n",
       "      <th></th>\n",
       "      <th></th>\n",
       "      <th></th>\n",
       "      <th></th>\n",
       "      <th></th>\n",
       "    </tr>\n",
       "  </thead>\n",
       "  <tbody>\n",
       "    <tr>\n",
       "      <th>2018-01-02</th>\n",
       "      <td>41.188168</td>\n",
       "      <td>181.419998</td>\n",
       "      <td>1073.209961</td>\n",
       "      <td>43.064999</td>\n",
       "      <td>181.419998</td>\n",
       "      <td>1073.209961</td>\n",
       "      <td>43.075001</td>\n",
       "      <td>181.580002</td>\n",
       "      <td>1075.979980</td>\n",
       "      <td>42.314999</td>\n",
       "      <td>177.550003</td>\n",
       "      <td>1053.020020</td>\n",
       "      <td>42.540001</td>\n",
       "      <td>177.679993</td>\n",
       "      <td>1053.020020</td>\n",
       "      <td>102223600</td>\n",
       "      <td>18151900</td>\n",
       "      <td>1588300</td>\n",
       "    </tr>\n",
       "    <tr>\n",
       "      <th>2018-01-03</th>\n",
       "      <td>41.180988</td>\n",
       "      <td>184.669998</td>\n",
       "      <td>1091.520020</td>\n",
       "      <td>43.057499</td>\n",
       "      <td>184.669998</td>\n",
       "      <td>1091.520020</td>\n",
       "      <td>43.637501</td>\n",
       "      <td>184.779999</td>\n",
       "      <td>1096.099976</td>\n",
       "      <td>42.990002</td>\n",
       "      <td>181.330002</td>\n",
       "      <td>1073.430054</td>\n",
       "      <td>43.132500</td>\n",
       "      <td>181.880005</td>\n",
       "      <td>1073.930054</td>\n",
       "      <td>118071600</td>\n",
       "      <td>16886600</td>\n",
       "      <td>1565900</td>\n",
       "    </tr>\n",
       "    <tr>\n",
       "      <th>2018-01-04</th>\n",
       "      <td>41.372269</td>\n",
       "      <td>184.330002</td>\n",
       "      <td>1095.760010</td>\n",
       "      <td>43.257500</td>\n",
       "      <td>184.330002</td>\n",
       "      <td>1095.760010</td>\n",
       "      <td>43.367500</td>\n",
       "      <td>186.210007</td>\n",
       "      <td>1104.079956</td>\n",
       "      <td>43.020000</td>\n",
       "      <td>184.100006</td>\n",
       "      <td>1094.260010</td>\n",
       "      <td>43.134998</td>\n",
       "      <td>184.899994</td>\n",
       "      <td>1097.089966</td>\n",
       "      <td>89738400</td>\n",
       "      <td>13880900</td>\n",
       "      <td>1302600</td>\n",
       "    </tr>\n",
       "    <tr>\n",
       "      <th>2018-01-05</th>\n",
       "      <td>41.843311</td>\n",
       "      <td>186.850006</td>\n",
       "      <td>1110.290039</td>\n",
       "      <td>43.750000</td>\n",
       "      <td>186.850006</td>\n",
       "      <td>1110.290039</td>\n",
       "      <td>43.842499</td>\n",
       "      <td>186.899994</td>\n",
       "      <td>1113.579956</td>\n",
       "      <td>43.262501</td>\n",
       "      <td>184.929993</td>\n",
       "      <td>1101.800049</td>\n",
       "      <td>43.360001</td>\n",
       "      <td>185.589996</td>\n",
       "      <td>1103.449951</td>\n",
       "      <td>94640000</td>\n",
       "      <td>13574500</td>\n",
       "      <td>1512500</td>\n",
       "    </tr>\n",
       "    <tr>\n",
       "      <th>2018-01-08</th>\n",
       "      <td>41.687904</td>\n",
       "      <td>188.279999</td>\n",
       "      <td>1114.209961</td>\n",
       "      <td>43.587502</td>\n",
       "      <td>188.279999</td>\n",
       "      <td>1114.209961</td>\n",
       "      <td>43.902500</td>\n",
       "      <td>188.899994</td>\n",
       "      <td>1119.160034</td>\n",
       "      <td>43.482498</td>\n",
       "      <td>186.330002</td>\n",
       "      <td>1110.000000</td>\n",
       "      <td>43.587502</td>\n",
       "      <td>187.199997</td>\n",
       "      <td>1111.000000</td>\n",
       "      <td>82271200</td>\n",
       "      <td>17994700</td>\n",
       "      <td>1232200</td>\n",
       "    </tr>\n",
       "  </tbody>\n",
       "</table>\n",
       "</div>"
      ],
      "text/plain": [
       "Attributes Adj Close                            Close                         \\\n",
       "Symbols         AAPL         FB       GOOGL      AAPL         FB       GOOGL   \n",
       "Date                                                                           \n",
       "2018-01-02 41.188168 181.419998 1073.209961 43.064999 181.419998 1073.209961   \n",
       "2018-01-03 41.180988 184.669998 1091.520020 43.057499 184.669998 1091.520020   \n",
       "2018-01-04 41.372269 184.330002 1095.760010 43.257500 184.330002 1095.760010   \n",
       "2018-01-05 41.843311 186.850006 1110.290039 43.750000 186.850006 1110.290039   \n",
       "2018-01-08 41.687904 188.279999 1114.209961 43.587502 188.279999 1114.209961   \n",
       "\n",
       "Attributes      High                              Low                         \\\n",
       "Symbols         AAPL         FB       GOOGL      AAPL         FB       GOOGL   \n",
       "Date                                                                           \n",
       "2018-01-02 43.075001 181.580002 1075.979980 42.314999 177.550003 1053.020020   \n",
       "2018-01-03 43.637501 184.779999 1096.099976 42.990002 181.330002 1073.430054   \n",
       "2018-01-04 43.367500 186.210007 1104.079956 43.020000 184.100006 1094.260010   \n",
       "2018-01-05 43.842499 186.899994 1113.579956 43.262501 184.929993 1101.800049   \n",
       "2018-01-08 43.902500 188.899994 1119.160034 43.482498 186.330002 1110.000000   \n",
       "\n",
       "Attributes      Open                            Volume                     \n",
       "Symbols         AAPL         FB       GOOGL       AAPL        FB    GOOGL  \n",
       "Date                                                                       \n",
       "2018-01-02 42.540001 177.679993 1053.020020  102223600  18151900  1588300  \n",
       "2018-01-03 43.132500 181.880005 1073.930054  118071600  16886600  1565900  \n",
       "2018-01-04 43.134998 184.899994 1097.089966   89738400  13880900  1302600  \n",
       "2018-01-05 43.360001 185.589996 1103.449951   94640000  13574500  1512500  \n",
       "2018-01-08 43.587502 187.199997 1111.000000   82271200  17994700  1232200  "
      ]
     },
     "execution_count": 21,
     "metadata": {},
     "output_type": "execute_result"
    }
   ],
   "source": [
    "symbol = ['AAPL', 'FB', 'GOOGL'] # kode saham yang ingin kita ambil \n",
    "start_date = '2018-01-01' # waktu mulai\n",
    "end_date = '2022-01-01' # waktu berenti\n",
    "stock = data.download(symbol, start_date, end_date)\n",
    "stock.columns.names = ['Attributes', 'Symbols']\n",
    "stock.head()"
   ]
  },
  {
   "cell_type": "markdown",
   "metadata": {},
   "source": [
    "Source:\n",
    "- `AAPL`: Apple Inc.\n",
    "- `FB`: Facebook, Inc.\n",
    "- `GOOGL`: Alphabet Inc. (Google)\n",
    "\n",
    "Data description:\n",
    "- `Date` - specifies trading date in `yyyy-mm-dd` format\n",
    "- `High` - maximum price of the day\n",
    "- `Low` - minimum price of the day\n",
    "- `Open` - opening price at the start of the day\n",
    "- `Close` - closing price at the end of the day\n",
    "- `Adj Close` - adjusted closing price for both dividends and splits\n",
    "- `Volume` - the number of shares that changed hands during a given day\n",
    "\n",
    "The trading hours of [different stock markets differ](https://www.maybank-ke.com.sg/markets/markets-listing/trading-hours/) (the NYSE for example open its market floor from 9.30am to 4pm five days a week)."
   ]
  },
  {
   "cell_type": "markdown",
   "metadata": {},
   "source": [
    "contoh saham indonesia"
   ]
  },
  {
   "cell_type": "code",
   "execution_count": 22,
   "metadata": {},
   "outputs": [
    {
     "name": "stdout",
     "output_type": "stream",
     "text": [
      "[*********************100%***********************]  3 of 3 completed\n"
     ]
    },
    {
     "data": {
      "text/html": [
       "<div>\n",
       "<style scoped>\n",
       "    .dataframe tbody tr th:only-of-type {\n",
       "        vertical-align: middle;\n",
       "    }\n",
       "\n",
       "    .dataframe tbody tr th {\n",
       "        vertical-align: top;\n",
       "    }\n",
       "\n",
       "    .dataframe thead tr th {\n",
       "        text-align: left;\n",
       "    }\n",
       "\n",
       "    .dataframe thead tr:last-of-type th {\n",
       "        text-align: right;\n",
       "    }\n",
       "</style>\n",
       "<table border=\"1\" class=\"dataframe\">\n",
       "  <thead>\n",
       "    <tr>\n",
       "      <th>Attributes</th>\n",
       "      <th colspan=\"3\" halign=\"left\">Adj Close</th>\n",
       "      <th colspan=\"3\" halign=\"left\">Close</th>\n",
       "      <th colspan=\"3\" halign=\"left\">High</th>\n",
       "      <th colspan=\"3\" halign=\"left\">Low</th>\n",
       "      <th colspan=\"3\" halign=\"left\">Open</th>\n",
       "      <th colspan=\"3\" halign=\"left\">Volume</th>\n",
       "    </tr>\n",
       "    <tr>\n",
       "      <th>Symbols</th>\n",
       "      <th>ADRO.JK</th>\n",
       "      <th>BBCA.JK</th>\n",
       "      <th>BBRI.JK</th>\n",
       "      <th>ADRO.JK</th>\n",
       "      <th>BBCA.JK</th>\n",
       "      <th>BBRI.JK</th>\n",
       "      <th>ADRO.JK</th>\n",
       "      <th>BBCA.JK</th>\n",
       "      <th>BBRI.JK</th>\n",
       "      <th>ADRO.JK</th>\n",
       "      <th>BBCA.JK</th>\n",
       "      <th>BBRI.JK</th>\n",
       "      <th>ADRO.JK</th>\n",
       "      <th>BBCA.JK</th>\n",
       "      <th>BBRI.JK</th>\n",
       "      <th>ADRO.JK</th>\n",
       "      <th>BBCA.JK</th>\n",
       "      <th>BBRI.JK</th>\n",
       "    </tr>\n",
       "    <tr>\n",
       "      <th>Date</th>\n",
       "      <th></th>\n",
       "      <th></th>\n",
       "      <th></th>\n",
       "      <th></th>\n",
       "      <th></th>\n",
       "      <th></th>\n",
       "      <th></th>\n",
       "      <th></th>\n",
       "      <th></th>\n",
       "      <th></th>\n",
       "      <th></th>\n",
       "      <th></th>\n",
       "      <th></th>\n",
       "      <th></th>\n",
       "      <th></th>\n",
       "      <th></th>\n",
       "      <th></th>\n",
       "      <th></th>\n",
       "    </tr>\n",
       "  </thead>\n",
       "  <tbody>\n",
       "    <tr>\n",
       "      <th>2018-01-01</th>\n",
       "      <td>1453.167603</td>\n",
       "      <td>4122.658203</td>\n",
       "      <td>3243.274170</td>\n",
       "      <td>1860.000000</td>\n",
       "      <td>4380.000000</td>\n",
       "      <td>3640.000000</td>\n",
       "      <td>1860.000000</td>\n",
       "      <td>4380.000000</td>\n",
       "      <td>3640.000000</td>\n",
       "      <td>1860.000000</td>\n",
       "      <td>4380.000000</td>\n",
       "      <td>3640.000000</td>\n",
       "      <td>1860.000000</td>\n",
       "      <td>4380.000000</td>\n",
       "      <td>3640.000000</td>\n",
       "      <td>0.000000</td>\n",
       "      <td>0.000000</td>\n",
       "      <td>0.000000</td>\n",
       "    </tr>\n",
       "    <tr>\n",
       "      <th>2018-01-02</th>\n",
       "      <td>1468.792969</td>\n",
       "      <td>4122.658203</td>\n",
       "      <td>3234.364258</td>\n",
       "      <td>1880.000000</td>\n",
       "      <td>4380.000000</td>\n",
       "      <td>3630.000000</td>\n",
       "      <td>1900.000000</td>\n",
       "      <td>4505.000000</td>\n",
       "      <td>3720.000000</td>\n",
       "      <td>1865.000000</td>\n",
       "      <td>4365.000000</td>\n",
       "      <td>3610.000000</td>\n",
       "      <td>1865.000000</td>\n",
       "      <td>4380.000000</td>\n",
       "      <td>3690.000000</td>\n",
       "      <td>26045000.000000</td>\n",
       "      <td>82303500.000000</td>\n",
       "      <td>91127100.000000</td>\n",
       "    </tr>\n",
       "    <tr>\n",
       "      <th>2018-01-03</th>\n",
       "      <td>1429.729370</td>\n",
       "      <td>4122.658203</td>\n",
       "      <td>3216.543945</td>\n",
       "      <td>1830.000000</td>\n",
       "      <td>4380.000000</td>\n",
       "      <td>3610.000000</td>\n",
       "      <td>1890.000000</td>\n",
       "      <td>4390.000000</td>\n",
       "      <td>3630.000000</td>\n",
       "      <td>1810.000000</td>\n",
       "      <td>4265.000000</td>\n",
       "      <td>3560.000000</td>\n",
       "      <td>1890.000000</td>\n",
       "      <td>4385.000000</td>\n",
       "      <td>3630.000000</td>\n",
       "      <td>35595000.000000</td>\n",
       "      <td>68214000.000000</td>\n",
       "      <td>70148700.000000</td>\n",
       "    </tr>\n",
       "    <tr>\n",
       "      <th>2018-01-04</th>\n",
       "      <td>1496.137573</td>\n",
       "      <td>4183.839844</td>\n",
       "      <td>3163.083252</td>\n",
       "      <td>1915.000000</td>\n",
       "      <td>4445.000000</td>\n",
       "      <td>3550.000000</td>\n",
       "      <td>1935.000000</td>\n",
       "      <td>4445.000000</td>\n",
       "      <td>3610.000000</td>\n",
       "      <td>1850.000000</td>\n",
       "      <td>4380.000000</td>\n",
       "      <td>3460.000000</td>\n",
       "      <td>1860.000000</td>\n",
       "      <td>4380.000000</td>\n",
       "      <td>3610.000000</td>\n",
       "      <td>81191500.000000</td>\n",
       "      <td>76567000.000000</td>\n",
       "      <td>156406300.000000</td>\n",
       "    </tr>\n",
       "    <tr>\n",
       "      <th>2018-01-05</th>\n",
       "      <td>1554.733032</td>\n",
       "      <td>4188.544922</td>\n",
       "      <td>3198.723877</td>\n",
       "      <td>1990.000000</td>\n",
       "      <td>4450.000000</td>\n",
       "      <td>3590.000000</td>\n",
       "      <td>1990.000000</td>\n",
       "      <td>4480.000000</td>\n",
       "      <td>3590.000000</td>\n",
       "      <td>1935.000000</td>\n",
       "      <td>4435.000000</td>\n",
       "      <td>3520.000000</td>\n",
       "      <td>1935.000000</td>\n",
       "      <td>4460.000000</td>\n",
       "      <td>3550.000000</td>\n",
       "      <td>112355500.000000</td>\n",
       "      <td>65268000.000000</td>\n",
       "      <td>87095600.000000</td>\n",
       "    </tr>\n",
       "  </tbody>\n",
       "</table>\n",
       "</div>"
      ],
      "text/plain": [
       "Attributes   Adj Close                               Close              \\\n",
       "Symbols        ADRO.JK     BBCA.JK     BBRI.JK     ADRO.JK     BBCA.JK   \n",
       "Date                                                                     \n",
       "2018-01-01 1453.167603 4122.658203 3243.274170 1860.000000 4380.000000   \n",
       "2018-01-02 1468.792969 4122.658203 3234.364258 1880.000000 4380.000000   \n",
       "2018-01-03 1429.729370 4122.658203 3216.543945 1830.000000 4380.000000   \n",
       "2018-01-04 1496.137573 4183.839844 3163.083252 1915.000000 4445.000000   \n",
       "2018-01-05 1554.733032 4188.544922 3198.723877 1990.000000 4450.000000   \n",
       "\n",
       "Attributes                    High                                 Low  \\\n",
       "Symbols        BBRI.JK     ADRO.JK     BBCA.JK     BBRI.JK     ADRO.JK   \n",
       "Date                                                                     \n",
       "2018-01-01 3640.000000 1860.000000 4380.000000 3640.000000 1860.000000   \n",
       "2018-01-02 3630.000000 1900.000000 4505.000000 3720.000000 1865.000000   \n",
       "2018-01-03 3610.000000 1890.000000 4390.000000 3630.000000 1810.000000   \n",
       "2018-01-04 3550.000000 1935.000000 4445.000000 3610.000000 1850.000000   \n",
       "2018-01-05 3590.000000 1990.000000 4480.000000 3590.000000 1935.000000   \n",
       "\n",
       "Attributes                                Open                          \\\n",
       "Symbols        BBCA.JK     BBRI.JK     ADRO.JK     BBCA.JK     BBRI.JK   \n",
       "Date                                                                     \n",
       "2018-01-01 4380.000000 3640.000000 1860.000000 4380.000000 3640.000000   \n",
       "2018-01-02 4365.000000 3610.000000 1865.000000 4380.000000 3690.000000   \n",
       "2018-01-03 4265.000000 3560.000000 1890.000000 4385.000000 3630.000000   \n",
       "2018-01-04 4380.000000 3460.000000 1860.000000 4380.000000 3610.000000   \n",
       "2018-01-05 4435.000000 3520.000000 1935.000000 4460.000000 3550.000000   \n",
       "\n",
       "Attributes           Volume                                   \n",
       "Symbols             ADRO.JK         BBCA.JK          BBRI.JK  \n",
       "Date                                                          \n",
       "2018-01-01         0.000000        0.000000         0.000000  \n",
       "2018-01-02  26045000.000000 82303500.000000  91127100.000000  \n",
       "2018-01-03  35595000.000000 68214000.000000  70148700.000000  \n",
       "2018-01-04  81191500.000000 76567000.000000 156406300.000000  \n",
       "2018-01-05 112355500.000000 65268000.000000  87095600.000000  "
      ]
     },
     "execution_count": 22,
     "metadata": {},
     "output_type": "execute_result"
    }
   ],
   "source": [
    "symbol = ['BBCA.JK','BBRI.JK','ADRO.JK'] # kode saham yang ingin kita ambil \n",
    "start_date = '2018-01-01' # waktu mulai\n",
    "end_date = '2022-01-01' # waktu berenti\n",
    "stock = data.download(symbol, start_date, end_date)\n",
    "stock.columns.names = ['Attributes', 'Symbols']\n",
    "stock.head()"
   ]
  },
  {
   "cell_type": "markdown",
   "metadata": {},
   "source": [
    "contoh untuk mengambil data kriptocurrency"
   ]
  },
  {
   "cell_type": "code",
   "execution_count": 23,
   "metadata": {},
   "outputs": [],
   "source": [
    "# symbol = ['MATIC-USD', 'SOL-USD', 'BTC-USD'] # kode saham yang ingin kita ambil \n",
    "# start_date = '2018-01-01' # waktu mulai\n",
    "# end_date = '2022-01-01' # waktu berenti\n",
    "# stock = data.download(symbol, start_date, end_date)\n",
    "# stock.columns.names = ['Attributes', 'Symbols']\n",
    "# stock.head()"
   ]
  },
  {
   "cell_type": "markdown",
   "metadata": {},
   "source": [
    "contoh mengambil kurs asing harga rupiah ke usd, contoh juga untuk mengambil 1 data saja "
   ]
  },
  {
   "cell_type": "code",
   "execution_count": 24,
   "metadata": {},
   "outputs": [],
   "source": [
    "# symbol = ['IDR=X'] # kode saham yang ingin kita ambil \n",
    "# start_date = '2018-01-01' # waktu mulai\n",
    "# end_date = '2022-01-01' # waktu berenti\n",
    "# stock = data.download(symbol, start_date, end_date)\n",
    "# #stock.columns.names = ['Attributes', 'Symbols'] # kalau 1 tidak perlu ini\n",
    "# stock.head()"
   ]
  },
  {
   "cell_type": "markdown",
   "metadata": {},
   "source": [
    "### File Pickle\n",
    "\n",
    "Pickling/Serializing: **menyimpan** suatu objek Python ke sebuah file binary (byte stream).\n",
    "- Gunakan method `.to_pickle()`\n",
    "- Contohnya objek DataFrame `stock` disimpan sebagai file `stock_2`\n",
    "- Kemudian silahkan cek file pickle pada folder di mana file `.ipynb` ini berada"
   ]
  },
  {
   "cell_type": "code",
   "execution_count": 25,
   "metadata": {
    "ExecuteTime": {
     "end_time": "2021-06-27T06:57:35.475820Z",
     "start_time": "2021-06-27T06:57:35.464552Z"
    }
   },
   "outputs": [],
   "source": [
    "stock.to_pickle('data_cache/stock_2')"
   ]
  },
  {
   "cell_type": "markdown",
   "metadata": {},
   "source": [
    "Unpickling/De-serializing: **membaca** suatu objek Python dari sebuah file binary (byte stream). \n",
    "- Gunakan method `pd.read_pickle()`\n",
    "- Untuk selanjutnya, mari kita gunakan file pickle pada `data_cache/stock` yang untuk tanggal 2 Januari 2018 sampai 24 Mei 2021."
   ]
  },
  {
   "cell_type": "code",
   "execution_count": 26,
   "metadata": {
    "ExecuteTime": {
     "end_time": "2021-06-27T07:25:27.468162Z",
     "start_time": "2021-06-27T07:25:27.414637Z"
    }
   },
   "outputs": [
    {
     "data": {
      "text/html": [
       "<div>\n",
       "<style scoped>\n",
       "    .dataframe tbody tr th:only-of-type {\n",
       "        vertical-align: middle;\n",
       "    }\n",
       "\n",
       "    .dataframe tbody tr th {\n",
       "        vertical-align: top;\n",
       "    }\n",
       "\n",
       "    .dataframe thead tr th {\n",
       "        text-align: left;\n",
       "    }\n",
       "\n",
       "    .dataframe thead tr:last-of-type th {\n",
       "        text-align: right;\n",
       "    }\n",
       "</style>\n",
       "<table border=\"1\" class=\"dataframe\">\n",
       "  <thead>\n",
       "    <tr>\n",
       "      <th>Attributes</th>\n",
       "      <th colspan=\"3\" halign=\"left\">Adj Close</th>\n",
       "      <th colspan=\"3\" halign=\"left\">Close</th>\n",
       "      <th colspan=\"3\" halign=\"left\">High</th>\n",
       "      <th colspan=\"3\" halign=\"left\">Low</th>\n",
       "      <th colspan=\"3\" halign=\"left\">Open</th>\n",
       "      <th colspan=\"3\" halign=\"left\">Volume</th>\n",
       "    </tr>\n",
       "    <tr>\n",
       "      <th>Symbols</th>\n",
       "      <th>ADRO.JK</th>\n",
       "      <th>BBCA.JK</th>\n",
       "      <th>BBRI.JK</th>\n",
       "      <th>ADRO.JK</th>\n",
       "      <th>BBCA.JK</th>\n",
       "      <th>BBRI.JK</th>\n",
       "      <th>ADRO.JK</th>\n",
       "      <th>BBCA.JK</th>\n",
       "      <th>BBRI.JK</th>\n",
       "      <th>ADRO.JK</th>\n",
       "      <th>BBCA.JK</th>\n",
       "      <th>BBRI.JK</th>\n",
       "      <th>ADRO.JK</th>\n",
       "      <th>BBCA.JK</th>\n",
       "      <th>BBRI.JK</th>\n",
       "      <th>ADRO.JK</th>\n",
       "      <th>BBCA.JK</th>\n",
       "      <th>BBRI.JK</th>\n",
       "    </tr>\n",
       "    <tr>\n",
       "      <th>Date</th>\n",
       "      <th></th>\n",
       "      <th></th>\n",
       "      <th></th>\n",
       "      <th></th>\n",
       "      <th></th>\n",
       "      <th></th>\n",
       "      <th></th>\n",
       "      <th></th>\n",
       "      <th></th>\n",
       "      <th></th>\n",
       "      <th></th>\n",
       "      <th></th>\n",
       "      <th></th>\n",
       "      <th></th>\n",
       "      <th></th>\n",
       "      <th></th>\n",
       "      <th></th>\n",
       "      <th></th>\n",
       "    </tr>\n",
       "  </thead>\n",
       "  <tbody>\n",
       "    <tr>\n",
       "      <th>2018-01-01</th>\n",
       "      <td>1453.167603</td>\n",
       "      <td>4122.658203</td>\n",
       "      <td>3243.274170</td>\n",
       "      <td>1860.000000</td>\n",
       "      <td>4380.000000</td>\n",
       "      <td>3640.000000</td>\n",
       "      <td>1860.000000</td>\n",
       "      <td>4380.000000</td>\n",
       "      <td>3640.000000</td>\n",
       "      <td>1860.000000</td>\n",
       "      <td>4380.000000</td>\n",
       "      <td>3640.000000</td>\n",
       "      <td>1860.000000</td>\n",
       "      <td>4380.000000</td>\n",
       "      <td>3640.000000</td>\n",
       "      <td>0.000000</td>\n",
       "      <td>0.000000</td>\n",
       "      <td>0.000000</td>\n",
       "    </tr>\n",
       "    <tr>\n",
       "      <th>2018-01-02</th>\n",
       "      <td>1468.792969</td>\n",
       "      <td>4122.658203</td>\n",
       "      <td>3234.364258</td>\n",
       "      <td>1880.000000</td>\n",
       "      <td>4380.000000</td>\n",
       "      <td>3630.000000</td>\n",
       "      <td>1900.000000</td>\n",
       "      <td>4505.000000</td>\n",
       "      <td>3720.000000</td>\n",
       "      <td>1865.000000</td>\n",
       "      <td>4365.000000</td>\n",
       "      <td>3610.000000</td>\n",
       "      <td>1865.000000</td>\n",
       "      <td>4380.000000</td>\n",
       "      <td>3690.000000</td>\n",
       "      <td>26045000.000000</td>\n",
       "      <td>82303500.000000</td>\n",
       "      <td>91127100.000000</td>\n",
       "    </tr>\n",
       "    <tr>\n",
       "      <th>2018-01-03</th>\n",
       "      <td>1429.729370</td>\n",
       "      <td>4122.658203</td>\n",
       "      <td>3216.543945</td>\n",
       "      <td>1830.000000</td>\n",
       "      <td>4380.000000</td>\n",
       "      <td>3610.000000</td>\n",
       "      <td>1890.000000</td>\n",
       "      <td>4390.000000</td>\n",
       "      <td>3630.000000</td>\n",
       "      <td>1810.000000</td>\n",
       "      <td>4265.000000</td>\n",
       "      <td>3560.000000</td>\n",
       "      <td>1890.000000</td>\n",
       "      <td>4385.000000</td>\n",
       "      <td>3630.000000</td>\n",
       "      <td>35595000.000000</td>\n",
       "      <td>68214000.000000</td>\n",
       "      <td>70148700.000000</td>\n",
       "    </tr>\n",
       "    <tr>\n",
       "      <th>2018-01-04</th>\n",
       "      <td>1496.137573</td>\n",
       "      <td>4183.839844</td>\n",
       "      <td>3163.083252</td>\n",
       "      <td>1915.000000</td>\n",
       "      <td>4445.000000</td>\n",
       "      <td>3550.000000</td>\n",
       "      <td>1935.000000</td>\n",
       "      <td>4445.000000</td>\n",
       "      <td>3610.000000</td>\n",
       "      <td>1850.000000</td>\n",
       "      <td>4380.000000</td>\n",
       "      <td>3460.000000</td>\n",
       "      <td>1860.000000</td>\n",
       "      <td>4380.000000</td>\n",
       "      <td>3610.000000</td>\n",
       "      <td>81191500.000000</td>\n",
       "      <td>76567000.000000</td>\n",
       "      <td>156406300.000000</td>\n",
       "    </tr>\n",
       "    <tr>\n",
       "      <th>2018-01-05</th>\n",
       "      <td>1554.733032</td>\n",
       "      <td>4188.544922</td>\n",
       "      <td>3198.723877</td>\n",
       "      <td>1990.000000</td>\n",
       "      <td>4450.000000</td>\n",
       "      <td>3590.000000</td>\n",
       "      <td>1990.000000</td>\n",
       "      <td>4480.000000</td>\n",
       "      <td>3590.000000</td>\n",
       "      <td>1935.000000</td>\n",
       "      <td>4435.000000</td>\n",
       "      <td>3520.000000</td>\n",
       "      <td>1935.000000</td>\n",
       "      <td>4460.000000</td>\n",
       "      <td>3550.000000</td>\n",
       "      <td>112355500.000000</td>\n",
       "      <td>65268000.000000</td>\n",
       "      <td>87095600.000000</td>\n",
       "    </tr>\n",
       "  </tbody>\n",
       "</table>\n",
       "</div>"
      ],
      "text/plain": [
       "Attributes   Adj Close                               Close              \\\n",
       "Symbols        ADRO.JK     BBCA.JK     BBRI.JK     ADRO.JK     BBCA.JK   \n",
       "Date                                                                     \n",
       "2018-01-01 1453.167603 4122.658203 3243.274170 1860.000000 4380.000000   \n",
       "2018-01-02 1468.792969 4122.658203 3234.364258 1880.000000 4380.000000   \n",
       "2018-01-03 1429.729370 4122.658203 3216.543945 1830.000000 4380.000000   \n",
       "2018-01-04 1496.137573 4183.839844 3163.083252 1915.000000 4445.000000   \n",
       "2018-01-05 1554.733032 4188.544922 3198.723877 1990.000000 4450.000000   \n",
       "\n",
       "Attributes                    High                                 Low  \\\n",
       "Symbols        BBRI.JK     ADRO.JK     BBCA.JK     BBRI.JK     ADRO.JK   \n",
       "Date                                                                     \n",
       "2018-01-01 3640.000000 1860.000000 4380.000000 3640.000000 1860.000000   \n",
       "2018-01-02 3630.000000 1900.000000 4505.000000 3720.000000 1865.000000   \n",
       "2018-01-03 3610.000000 1890.000000 4390.000000 3630.000000 1810.000000   \n",
       "2018-01-04 3550.000000 1935.000000 4445.000000 3610.000000 1850.000000   \n",
       "2018-01-05 3590.000000 1990.000000 4480.000000 3590.000000 1935.000000   \n",
       "\n",
       "Attributes                                Open                          \\\n",
       "Symbols        BBCA.JK     BBRI.JK     ADRO.JK     BBCA.JK     BBRI.JK   \n",
       "Date                                                                     \n",
       "2018-01-01 4380.000000 3640.000000 1860.000000 4380.000000 3640.000000   \n",
       "2018-01-02 4365.000000 3610.000000 1865.000000 4380.000000 3690.000000   \n",
       "2018-01-03 4265.000000 3560.000000 1890.000000 4385.000000 3630.000000   \n",
       "2018-01-04 4380.000000 3460.000000 1860.000000 4380.000000 3610.000000   \n",
       "2018-01-05 4435.000000 3520.000000 1935.000000 4460.000000 3550.000000   \n",
       "\n",
       "Attributes           Volume                                   \n",
       "Symbols             ADRO.JK         BBCA.JK          BBRI.JK  \n",
       "Date                                                          \n",
       "2018-01-01         0.000000        0.000000         0.000000  \n",
       "2018-01-02  26045000.000000 82303500.000000  91127100.000000  \n",
       "2018-01-03  35595000.000000 68214000.000000  70148700.000000  \n",
       "2018-01-04  81191500.000000 76567000.000000 156406300.000000  \n",
       "2018-01-05 112355500.000000 65268000.000000  87095600.000000  "
      ]
     },
     "execution_count": 26,
     "metadata": {},
     "output_type": "execute_result"
    }
   ],
   "source": [
    "# import pandas as pd\n",
    "stock = pd.read_pickle(\"data_cache/stock_2\")\n",
    "stock.head()"
   ]
  },
  {
   "cell_type": "markdown",
   "metadata": {},
   "source": [
    "⚠️ Jangan pernah unpickling file yang berasal dari sumber yang tidak tepercaya, karena bisa saja file tersebut berisi script berupa virus yang dapat membahayakan sistem Anda."
   ]
  },
  {
   "cell_type": "markdown",
   "metadata": {},
   "source": [
    "💡 Dengan menggunakan file pickle kita **\"mengawetkan\"** struktur dari object Python, untuk DataFrame dapat terjaga tipe data dan indexnya."
   ]
  },
  {
   "cell_type": "code",
   "execution_count": 27,
   "metadata": {
    "ExecuteTime": {
     "end_time": "2021-06-27T06:57:35.534890Z",
     "start_time": "2021-06-27T06:57:35.506187Z"
    },
    "run_control": {
     "marked": false
    }
   },
   "outputs": [
    {
     "data": {
      "text/plain": [
       "id                     int64\n",
       "gender              category\n",
       "blood_type          category\n",
       "join_date     datetime64[ns]\n",
       "dtype: object"
      ]
     },
     "execution_count": 27,
     "metadata": {},
     "output_type": "execute_result"
    }
   ],
   "source": [
    "# membuat dummy data lalu konversi tipe data\n",
    "dummy = pd.DataFrame({\n",
    "    'id': [1, 2, 3, 4, 5, 6, 7],\n",
    "    'gender': ['Male', 'Female', 'Male', 'Female', 'Female', 'Female', 'Male'],\n",
    "    'blood_type': ['O', 'A', 'B', 'AB', 'B', 'B', 'O'],\n",
    "    'join_date': ['28 Jun 2021', '29 Jun 2021', '30 Jun 2021', '1 Jul 2021', '2 Jul 2021', '3 Jul 2021', '4 Jul 2021']\n",
    "})\n",
    "dummy[['gender', 'blood_type']] = dummy[['gender', 'blood_type']].astype('category')\n",
    "dummy['join_date'] = dummy['join_date'].astype('datetime64')\n",
    "dummy.dtypes"
   ]
  },
  {
   "cell_type": "code",
   "execution_count": 28,
   "metadata": {},
   "outputs": [
    {
     "data": {
      "text/html": [
       "<div>\n",
       "<style scoped>\n",
       "    .dataframe tbody tr th:only-of-type {\n",
       "        vertical-align: middle;\n",
       "    }\n",
       "\n",
       "    .dataframe tbody tr th {\n",
       "        vertical-align: top;\n",
       "    }\n",
       "\n",
       "    .dataframe thead th {\n",
       "        text-align: right;\n",
       "    }\n",
       "</style>\n",
       "<table border=\"1\" class=\"dataframe\">\n",
       "  <thead>\n",
       "    <tr style=\"text-align: right;\">\n",
       "      <th></th>\n",
       "      <th>id</th>\n",
       "      <th>gender</th>\n",
       "      <th>blood_type</th>\n",
       "      <th>join_date</th>\n",
       "    </tr>\n",
       "  </thead>\n",
       "  <tbody>\n",
       "    <tr>\n",
       "      <th>0</th>\n",
       "      <td>1</td>\n",
       "      <td>Male</td>\n",
       "      <td>O</td>\n",
       "      <td>2021-06-28</td>\n",
       "    </tr>\n",
       "    <tr>\n",
       "      <th>1</th>\n",
       "      <td>2</td>\n",
       "      <td>Female</td>\n",
       "      <td>A</td>\n",
       "      <td>2021-06-29</td>\n",
       "    </tr>\n",
       "    <tr>\n",
       "      <th>2</th>\n",
       "      <td>3</td>\n",
       "      <td>Male</td>\n",
       "      <td>B</td>\n",
       "      <td>2021-06-30</td>\n",
       "    </tr>\n",
       "    <tr>\n",
       "      <th>3</th>\n",
       "      <td>4</td>\n",
       "      <td>Female</td>\n",
       "      <td>AB</td>\n",
       "      <td>2021-07-01</td>\n",
       "    </tr>\n",
       "    <tr>\n",
       "      <th>4</th>\n",
       "      <td>5</td>\n",
       "      <td>Female</td>\n",
       "      <td>B</td>\n",
       "      <td>2021-07-02</td>\n",
       "    </tr>\n",
       "  </tbody>\n",
       "</table>\n",
       "</div>"
      ],
      "text/plain": [
       "   id  gender blood_type  join_date\n",
       "0   1    Male          O 2021-06-28\n",
       "1   2  Female          A 2021-06-29\n",
       "2   3    Male          B 2021-06-30\n",
       "3   4  Female         AB 2021-07-01\n",
       "4   5  Female          B 2021-07-02"
      ]
     },
     "execution_count": 28,
     "metadata": {},
     "output_type": "execute_result"
    }
   ],
   "source": [
    "dummy.head()"
   ]
  },
  {
   "cell_type": "code",
   "execution_count": 29,
   "metadata": {},
   "outputs": [],
   "source": [
    "# simpan object dummy ke dalam folder data_cache nama filenya \"dummy\"\n",
    "dummy.to_pickle(\"data_cache/dummy\")"
   ]
  },
  {
   "cell_type": "code",
   "execution_count": 30,
   "metadata": {},
   "outputs": [
    {
     "data": {
      "text/plain": [
       "id                     int64\n",
       "gender              category\n",
       "blood_type          category\n",
       "join_date     datetime64[ns]\n",
       "dtype: object"
      ]
     },
     "execution_count": 30,
     "metadata": {},
     "output_type": "execute_result"
    }
   ],
   "source": [
    "# baca dari pickle dan cek tipe data\n",
    "test_dummy = pd.read_pickle('data_cache/dummy')\n",
    "\n",
    "test_dummy.dtypes"
   ]
  },
  {
   "cell_type": "markdown",
   "metadata": {},
   "source": [
    "Bandingkan dengan menyimpannya ke file text biasa, yaitu csv misalnya:"
   ]
  },
  {
   "cell_type": "code",
   "execution_count": 31,
   "metadata": {
    "ExecuteTime": {
     "end_time": "2021-06-27T06:57:35.584713Z",
     "start_time": "2021-06-27T06:57:35.566286Z"
    }
   },
   "outputs": [
    {
     "data": {
      "text/plain": [
       "id             int64\n",
       "gender        object\n",
       "blood_type    object\n",
       "join_date     object\n",
       "dtype: object"
      ]
     },
     "execution_count": 31,
     "metadata": {},
     "output_type": "execute_result"
    }
   ],
   "source": [
    "# simpan ke file csv\n",
    "dummy.to_csv('data_cache/dummy.csv', index=False)\n",
    "\n",
    "# baca dari csv dan cek tipe data\n",
    "pd.read_csv('data_cache/dummy.csv').dtypes"
   ]
  },
  {
   "cell_type": "code",
   "execution_count": 32,
   "metadata": {},
   "outputs": [
    {
     "data": {
      "text/html": [
       "<div>\n",
       "<style scoped>\n",
       "    .dataframe tbody tr th:only-of-type {\n",
       "        vertical-align: middle;\n",
       "    }\n",
       "\n",
       "    .dataframe tbody tr th {\n",
       "        vertical-align: top;\n",
       "    }\n",
       "\n",
       "    .dataframe thead th {\n",
       "        text-align: right;\n",
       "    }\n",
       "</style>\n",
       "<table border=\"1\" class=\"dataframe\">\n",
       "  <thead>\n",
       "    <tr style=\"text-align: right;\">\n",
       "      <th></th>\n",
       "      <th>Attributes</th>\n",
       "      <th>Adj Close</th>\n",
       "      <th>Adj Close.1</th>\n",
       "      <th>Adj Close.2</th>\n",
       "      <th>Close</th>\n",
       "      <th>Close.1</th>\n",
       "      <th>Close.2</th>\n",
       "      <th>High</th>\n",
       "      <th>High.1</th>\n",
       "      <th>High.2</th>\n",
       "      <th>Low</th>\n",
       "      <th>Low.1</th>\n",
       "      <th>Low.2</th>\n",
       "      <th>Open</th>\n",
       "      <th>Open.1</th>\n",
       "      <th>Open.2</th>\n",
       "      <th>Volume</th>\n",
       "      <th>Volume.1</th>\n",
       "      <th>Volume.2</th>\n",
       "    </tr>\n",
       "  </thead>\n",
       "  <tbody>\n",
       "    <tr>\n",
       "      <th>0</th>\n",
       "      <td>Symbols</td>\n",
       "      <td>ADRO.JK</td>\n",
       "      <td>BBCA.JK</td>\n",
       "      <td>BBRI.JK</td>\n",
       "      <td>ADRO.JK</td>\n",
       "      <td>BBCA.JK</td>\n",
       "      <td>BBRI.JK</td>\n",
       "      <td>ADRO.JK</td>\n",
       "      <td>BBCA.JK</td>\n",
       "      <td>BBRI.JK</td>\n",
       "      <td>ADRO.JK</td>\n",
       "      <td>BBCA.JK</td>\n",
       "      <td>BBRI.JK</td>\n",
       "      <td>ADRO.JK</td>\n",
       "      <td>BBCA.JK</td>\n",
       "      <td>BBRI.JK</td>\n",
       "      <td>ADRO.JK</td>\n",
       "      <td>BBCA.JK</td>\n",
       "      <td>BBRI.JK</td>\n",
       "    </tr>\n",
       "    <tr>\n",
       "      <th>1</th>\n",
       "      <td>Date</td>\n",
       "      <td>NaN</td>\n",
       "      <td>NaN</td>\n",
       "      <td>NaN</td>\n",
       "      <td>NaN</td>\n",
       "      <td>NaN</td>\n",
       "      <td>NaN</td>\n",
       "      <td>NaN</td>\n",
       "      <td>NaN</td>\n",
       "      <td>NaN</td>\n",
       "      <td>NaN</td>\n",
       "      <td>NaN</td>\n",
       "      <td>NaN</td>\n",
       "      <td>NaN</td>\n",
       "      <td>NaN</td>\n",
       "      <td>NaN</td>\n",
       "      <td>NaN</td>\n",
       "      <td>NaN</td>\n",
       "      <td>NaN</td>\n",
       "    </tr>\n",
       "    <tr>\n",
       "      <th>2</th>\n",
       "      <td>2018-01-01</td>\n",
       "      <td>1453.1676025390625</td>\n",
       "      <td>4122.658203125</td>\n",
       "      <td>3243.274169921875</td>\n",
       "      <td>1860.0</td>\n",
       "      <td>4380.0</td>\n",
       "      <td>3640.0</td>\n",
       "      <td>1860.0</td>\n",
       "      <td>4380.0</td>\n",
       "      <td>3640.0</td>\n",
       "      <td>1860.0</td>\n",
       "      <td>4380.0</td>\n",
       "      <td>3640.0</td>\n",
       "      <td>1860.0</td>\n",
       "      <td>4380.0</td>\n",
       "      <td>3640.0</td>\n",
       "      <td>0.0</td>\n",
       "      <td>0.0</td>\n",
       "      <td>0.0</td>\n",
       "    </tr>\n",
       "    <tr>\n",
       "      <th>3</th>\n",
       "      <td>2018-01-02</td>\n",
       "      <td>1468.79296875</td>\n",
       "      <td>4122.658203125</td>\n",
       "      <td>3234.3642578125</td>\n",
       "      <td>1880.0</td>\n",
       "      <td>4380.0</td>\n",
       "      <td>3630.0</td>\n",
       "      <td>1900.0</td>\n",
       "      <td>4505.0</td>\n",
       "      <td>3720.0</td>\n",
       "      <td>1865.0</td>\n",
       "      <td>4365.0</td>\n",
       "      <td>3610.0</td>\n",
       "      <td>1865.0</td>\n",
       "      <td>4380.0</td>\n",
       "      <td>3690.0</td>\n",
       "      <td>26045000.0</td>\n",
       "      <td>82303500.0</td>\n",
       "      <td>91127100.0</td>\n",
       "    </tr>\n",
       "    <tr>\n",
       "      <th>4</th>\n",
       "      <td>2018-01-03</td>\n",
       "      <td>1429.7293701171875</td>\n",
       "      <td>4122.658203125</td>\n",
       "      <td>3216.5439453125</td>\n",
       "      <td>1830.0</td>\n",
       "      <td>4380.0</td>\n",
       "      <td>3610.0</td>\n",
       "      <td>1890.0</td>\n",
       "      <td>4390.0</td>\n",
       "      <td>3630.0</td>\n",
       "      <td>1810.0</td>\n",
       "      <td>4265.0</td>\n",
       "      <td>3560.0</td>\n",
       "      <td>1890.0</td>\n",
       "      <td>4385.0</td>\n",
       "      <td>3630.0</td>\n",
       "      <td>35595000.0</td>\n",
       "      <td>68214000.0</td>\n",
       "      <td>70148700.0</td>\n",
       "    </tr>\n",
       "  </tbody>\n",
       "</table>\n",
       "</div>"
      ],
      "text/plain": [
       "   Attributes           Adj Close     Adj Close.1        Adj Close.2    Close  \\\n",
       "0     Symbols             ADRO.JK         BBCA.JK            BBRI.JK  ADRO.JK   \n",
       "1        Date                 NaN             NaN                NaN      NaN   \n",
       "2  2018-01-01  1453.1676025390625  4122.658203125  3243.274169921875   1860.0   \n",
       "3  2018-01-02       1468.79296875  4122.658203125    3234.3642578125   1880.0   \n",
       "4  2018-01-03  1429.7293701171875  4122.658203125    3216.5439453125   1830.0   \n",
       "\n",
       "   Close.1  Close.2     High   High.1   High.2      Low    Low.1    Low.2  \\\n",
       "0  BBCA.JK  BBRI.JK  ADRO.JK  BBCA.JK  BBRI.JK  ADRO.JK  BBCA.JK  BBRI.JK   \n",
       "1      NaN      NaN      NaN      NaN      NaN      NaN      NaN      NaN   \n",
       "2   4380.0   3640.0   1860.0   4380.0   3640.0   1860.0   4380.0   3640.0   \n",
       "3   4380.0   3630.0   1900.0   4505.0   3720.0   1865.0   4365.0   3610.0   \n",
       "4   4380.0   3610.0   1890.0   4390.0   3630.0   1810.0   4265.0   3560.0   \n",
       "\n",
       "      Open   Open.1   Open.2      Volume    Volume.1    Volume.2  \n",
       "0  ADRO.JK  BBCA.JK  BBRI.JK     ADRO.JK     BBCA.JK     BBRI.JK  \n",
       "1      NaN      NaN      NaN         NaN         NaN         NaN  \n",
       "2   1860.0   4380.0   3640.0         0.0         0.0         0.0  \n",
       "3   1865.0   4380.0   3690.0  26045000.0  82303500.0  91127100.0  \n",
       "4   1890.0   4385.0   3630.0  35595000.0  68214000.0  70148700.0  "
      ]
     },
     "execution_count": 32,
     "metadata": {},
     "output_type": "execute_result"
    }
   ],
   "source": [
    "stock.to_csv(\"data_cache/stock.csv\")\n",
    "\n",
    "test_stock = pd.read_csv('data_cache/stock.csv')\n",
    "\n",
    "test_stock.head()"
   ]
  },
  {
   "cell_type": "code",
   "execution_count": 33,
   "metadata": {},
   "outputs": [
    {
     "data": {
      "text/html": [
       "<div>\n",
       "<style scoped>\n",
       "    .dataframe tbody tr th:only-of-type {\n",
       "        vertical-align: middle;\n",
       "    }\n",
       "\n",
       "    .dataframe tbody tr th {\n",
       "        vertical-align: top;\n",
       "    }\n",
       "\n",
       "    .dataframe thead tr th {\n",
       "        text-align: left;\n",
       "    }\n",
       "\n",
       "    .dataframe thead tr:last-of-type th {\n",
       "        text-align: right;\n",
       "    }\n",
       "</style>\n",
       "<table border=\"1\" class=\"dataframe\">\n",
       "  <thead>\n",
       "    <tr>\n",
       "      <th>Attributes</th>\n",
       "      <th colspan=\"3\" halign=\"left\">Adj Close</th>\n",
       "      <th colspan=\"3\" halign=\"left\">Close</th>\n",
       "      <th colspan=\"3\" halign=\"left\">High</th>\n",
       "      <th colspan=\"3\" halign=\"left\">Low</th>\n",
       "      <th colspan=\"3\" halign=\"left\">Open</th>\n",
       "      <th colspan=\"3\" halign=\"left\">Volume</th>\n",
       "    </tr>\n",
       "    <tr>\n",
       "      <th>Symbols</th>\n",
       "      <th>ADRO.JK</th>\n",
       "      <th>BBCA.JK</th>\n",
       "      <th>BBRI.JK</th>\n",
       "      <th>ADRO.JK</th>\n",
       "      <th>BBCA.JK</th>\n",
       "      <th>BBRI.JK</th>\n",
       "      <th>ADRO.JK</th>\n",
       "      <th>BBCA.JK</th>\n",
       "      <th>BBRI.JK</th>\n",
       "      <th>ADRO.JK</th>\n",
       "      <th>BBCA.JK</th>\n",
       "      <th>BBRI.JK</th>\n",
       "      <th>ADRO.JK</th>\n",
       "      <th>BBCA.JK</th>\n",
       "      <th>BBRI.JK</th>\n",
       "      <th>ADRO.JK</th>\n",
       "      <th>BBCA.JK</th>\n",
       "      <th>BBRI.JK</th>\n",
       "    </tr>\n",
       "    <tr>\n",
       "      <th>Date</th>\n",
       "      <th></th>\n",
       "      <th></th>\n",
       "      <th></th>\n",
       "      <th></th>\n",
       "      <th></th>\n",
       "      <th></th>\n",
       "      <th></th>\n",
       "      <th></th>\n",
       "      <th></th>\n",
       "      <th></th>\n",
       "      <th></th>\n",
       "      <th></th>\n",
       "      <th></th>\n",
       "      <th></th>\n",
       "      <th></th>\n",
       "      <th></th>\n",
       "      <th></th>\n",
       "      <th></th>\n",
       "    </tr>\n",
       "  </thead>\n",
       "  <tbody>\n",
       "    <tr>\n",
       "      <th>2018-01-01</th>\n",
       "      <td>1453.167603</td>\n",
       "      <td>4122.658203</td>\n",
       "      <td>3243.274170</td>\n",
       "      <td>1860.000000</td>\n",
       "      <td>4380.000000</td>\n",
       "      <td>3640.000000</td>\n",
       "      <td>1860.000000</td>\n",
       "      <td>4380.000000</td>\n",
       "      <td>3640.000000</td>\n",
       "      <td>1860.000000</td>\n",
       "      <td>4380.000000</td>\n",
       "      <td>3640.000000</td>\n",
       "      <td>1860.000000</td>\n",
       "      <td>4380.000000</td>\n",
       "      <td>3640.000000</td>\n",
       "      <td>0.000000</td>\n",
       "      <td>0.000000</td>\n",
       "      <td>0.000000</td>\n",
       "    </tr>\n",
       "    <tr>\n",
       "      <th>2018-01-02</th>\n",
       "      <td>1468.792969</td>\n",
       "      <td>4122.658203</td>\n",
       "      <td>3234.364258</td>\n",
       "      <td>1880.000000</td>\n",
       "      <td>4380.000000</td>\n",
       "      <td>3630.000000</td>\n",
       "      <td>1900.000000</td>\n",
       "      <td>4505.000000</td>\n",
       "      <td>3720.000000</td>\n",
       "      <td>1865.000000</td>\n",
       "      <td>4365.000000</td>\n",
       "      <td>3610.000000</td>\n",
       "      <td>1865.000000</td>\n",
       "      <td>4380.000000</td>\n",
       "      <td>3690.000000</td>\n",
       "      <td>26045000.000000</td>\n",
       "      <td>82303500.000000</td>\n",
       "      <td>91127100.000000</td>\n",
       "    </tr>\n",
       "    <tr>\n",
       "      <th>2018-01-03</th>\n",
       "      <td>1429.729370</td>\n",
       "      <td>4122.658203</td>\n",
       "      <td>3216.543945</td>\n",
       "      <td>1830.000000</td>\n",
       "      <td>4380.000000</td>\n",
       "      <td>3610.000000</td>\n",
       "      <td>1890.000000</td>\n",
       "      <td>4390.000000</td>\n",
       "      <td>3630.000000</td>\n",
       "      <td>1810.000000</td>\n",
       "      <td>4265.000000</td>\n",
       "      <td>3560.000000</td>\n",
       "      <td>1890.000000</td>\n",
       "      <td>4385.000000</td>\n",
       "      <td>3630.000000</td>\n",
       "      <td>35595000.000000</td>\n",
       "      <td>68214000.000000</td>\n",
       "      <td>70148700.000000</td>\n",
       "    </tr>\n",
       "    <tr>\n",
       "      <th>2018-01-04</th>\n",
       "      <td>1496.137573</td>\n",
       "      <td>4183.839844</td>\n",
       "      <td>3163.083252</td>\n",
       "      <td>1915.000000</td>\n",
       "      <td>4445.000000</td>\n",
       "      <td>3550.000000</td>\n",
       "      <td>1935.000000</td>\n",
       "      <td>4445.000000</td>\n",
       "      <td>3610.000000</td>\n",
       "      <td>1850.000000</td>\n",
       "      <td>4380.000000</td>\n",
       "      <td>3460.000000</td>\n",
       "      <td>1860.000000</td>\n",
       "      <td>4380.000000</td>\n",
       "      <td>3610.000000</td>\n",
       "      <td>81191500.000000</td>\n",
       "      <td>76567000.000000</td>\n",
       "      <td>156406300.000000</td>\n",
       "    </tr>\n",
       "    <tr>\n",
       "      <th>2018-01-05</th>\n",
       "      <td>1554.733032</td>\n",
       "      <td>4188.544922</td>\n",
       "      <td>3198.723877</td>\n",
       "      <td>1990.000000</td>\n",
       "      <td>4450.000000</td>\n",
       "      <td>3590.000000</td>\n",
       "      <td>1990.000000</td>\n",
       "      <td>4480.000000</td>\n",
       "      <td>3590.000000</td>\n",
       "      <td>1935.000000</td>\n",
       "      <td>4435.000000</td>\n",
       "      <td>3520.000000</td>\n",
       "      <td>1935.000000</td>\n",
       "      <td>4460.000000</td>\n",
       "      <td>3550.000000</td>\n",
       "      <td>112355500.000000</td>\n",
       "      <td>65268000.000000</td>\n",
       "      <td>87095600.000000</td>\n",
       "    </tr>\n",
       "  </tbody>\n",
       "</table>\n",
       "</div>"
      ],
      "text/plain": [
       "Attributes   Adj Close                               Close              \\\n",
       "Symbols        ADRO.JK     BBCA.JK     BBRI.JK     ADRO.JK     BBCA.JK   \n",
       "Date                                                                     \n",
       "2018-01-01 1453.167603 4122.658203 3243.274170 1860.000000 4380.000000   \n",
       "2018-01-02 1468.792969 4122.658203 3234.364258 1880.000000 4380.000000   \n",
       "2018-01-03 1429.729370 4122.658203 3216.543945 1830.000000 4380.000000   \n",
       "2018-01-04 1496.137573 4183.839844 3163.083252 1915.000000 4445.000000   \n",
       "2018-01-05 1554.733032 4188.544922 3198.723877 1990.000000 4450.000000   \n",
       "\n",
       "Attributes                    High                                 Low  \\\n",
       "Symbols        BBRI.JK     ADRO.JK     BBCA.JK     BBRI.JK     ADRO.JK   \n",
       "Date                                                                     \n",
       "2018-01-01 3640.000000 1860.000000 4380.000000 3640.000000 1860.000000   \n",
       "2018-01-02 3630.000000 1900.000000 4505.000000 3720.000000 1865.000000   \n",
       "2018-01-03 3610.000000 1890.000000 4390.000000 3630.000000 1810.000000   \n",
       "2018-01-04 3550.000000 1935.000000 4445.000000 3610.000000 1850.000000   \n",
       "2018-01-05 3590.000000 1990.000000 4480.000000 3590.000000 1935.000000   \n",
       "\n",
       "Attributes                                Open                          \\\n",
       "Symbols        BBCA.JK     BBRI.JK     ADRO.JK     BBCA.JK     BBRI.JK   \n",
       "Date                                                                     \n",
       "2018-01-01 4380.000000 3640.000000 1860.000000 4380.000000 3640.000000   \n",
       "2018-01-02 4365.000000 3610.000000 1865.000000 4380.000000 3690.000000   \n",
       "2018-01-03 4265.000000 3560.000000 1890.000000 4385.000000 3630.000000   \n",
       "2018-01-04 4380.000000 3460.000000 1860.000000 4380.000000 3610.000000   \n",
       "2018-01-05 4435.000000 3520.000000 1935.000000 4460.000000 3550.000000   \n",
       "\n",
       "Attributes           Volume                                   \n",
       "Symbols             ADRO.JK         BBCA.JK          BBRI.JK  \n",
       "Date                                                          \n",
       "2018-01-01         0.000000        0.000000         0.000000  \n",
       "2018-01-02  26045000.000000 82303500.000000  91127100.000000  \n",
       "2018-01-03  35595000.000000 68214000.000000  70148700.000000  \n",
       "2018-01-04  81191500.000000 76567000.000000 156406300.000000  \n",
       "2018-01-05 112355500.000000 65268000.000000  87095600.000000  "
      ]
     },
     "execution_count": 33,
     "metadata": {},
     "output_type": "execute_result"
    }
   ],
   "source": [
    "stock.head()"
   ]
  },
  {
   "cell_type": "markdown",
   "metadata": {},
   "source": [
    "Catatan tambahan:\n",
    "\n",
    "- File pickle cenderung lebih kecil file sizenya dibandingkan file csv (apabila data sudah cukup besar)\n",
    "- File pickle hanya dapat di-load menggunakan bahasa Python dengan versi yang sama (saat ini kita menggunakan python 3.8)"
   ]
  },
  {
   "cell_type": "markdown",
   "metadata": {},
   "source": [
    "## Slicing Multi-Index DataFrame\n",
    "Perhatikan bahwa `stock` adalah Multi-Index DataFrame, dimana level dari column-nya terdiri dari: `Attributes` dan `Symbols`:"
   ]
  },
  {
   "cell_type": "code",
   "execution_count": 34,
   "metadata": {
    "ExecuteTime": {
     "end_time": "2021-06-27T06:57:35.592826Z",
     "start_time": "2021-06-27T06:57:35.586919Z"
    },
    "scrolled": false
   },
   "outputs": [
    {
     "data": {
      "text/plain": [
       "Index(['id', 'gender', 'blood_type', 'join_date'], dtype='object')"
      ]
     },
     "execution_count": 34,
     "metadata": {},
     "output_type": "execute_result"
    }
   ],
   "source": [
    "dummy.columns"
   ]
  },
  {
   "cell_type": "code",
   "execution_count": 35,
   "metadata": {},
   "outputs": [
    {
     "data": {
      "text/plain": [
       "MultiIndex([('Adj Close', 'ADRO.JK'),\n",
       "            ('Adj Close', 'BBCA.JK'),\n",
       "            ('Adj Close', 'BBRI.JK'),\n",
       "            (    'Close', 'ADRO.JK'),\n",
       "            (    'Close', 'BBCA.JK'),\n",
       "            (    'Close', 'BBRI.JK'),\n",
       "            (     'High', 'ADRO.JK'),\n",
       "            (     'High', 'BBCA.JK'),\n",
       "            (     'High', 'BBRI.JK'),\n",
       "            (      'Low', 'ADRO.JK'),\n",
       "            (      'Low', 'BBCA.JK'),\n",
       "            (      'Low', 'BBRI.JK'),\n",
       "            (     'Open', 'ADRO.JK'),\n",
       "            (     'Open', 'BBCA.JK'),\n",
       "            (     'Open', 'BBRI.JK'),\n",
       "            (   'Volume', 'ADRO.JK'),\n",
       "            (   'Volume', 'BBCA.JK'),\n",
       "            (   'Volume', 'BBRI.JK')],\n",
       "           names=['Attributes', 'Symbols'])"
      ]
     },
     "execution_count": 35,
     "metadata": {},
     "output_type": "execute_result"
    }
   ],
   "source": [
    "stock.columns"
   ]
  },
  {
   "cell_type": "markdown",
   "metadata": {},
   "source": [
    "Ketika kita subset menggunakan `[]`, maka kita hanya bisa mengakses kolom dengan level teratas, yaitu untuk `Attributes`. \n",
    "\n",
    "- ❓ Melakukan subset pada kolom `High` akan menghasilkan DataFrame single index dengan `Symbols` sebagai levelnya."
   ]
  },
  {
   "cell_type": "code",
   "execution_count": 36,
   "metadata": {
    "ExecuteTime": {
     "end_time": "2021-06-27T06:57:35.617692Z",
     "start_time": "2021-06-27T06:57:35.594826Z"
    },
    "scrolled": false
   },
   "outputs": [
    {
     "data": {
      "text/html": [
       "<div>\n",
       "<style scoped>\n",
       "    .dataframe tbody tr th:only-of-type {\n",
       "        vertical-align: middle;\n",
       "    }\n",
       "\n",
       "    .dataframe tbody tr th {\n",
       "        vertical-align: top;\n",
       "    }\n",
       "\n",
       "    .dataframe thead th {\n",
       "        text-align: right;\n",
       "    }\n",
       "</style>\n",
       "<table border=\"1\" class=\"dataframe\">\n",
       "  <thead>\n",
       "    <tr style=\"text-align: right;\">\n",
       "      <th>Symbols</th>\n",
       "      <th>ADRO.JK</th>\n",
       "      <th>BBCA.JK</th>\n",
       "      <th>BBRI.JK</th>\n",
       "    </tr>\n",
       "    <tr>\n",
       "      <th>Date</th>\n",
       "      <th></th>\n",
       "      <th></th>\n",
       "      <th></th>\n",
       "    </tr>\n",
       "  </thead>\n",
       "  <tbody>\n",
       "    <tr>\n",
       "      <th>2018-01-01</th>\n",
       "      <td>1860.000000</td>\n",
       "      <td>4380.000000</td>\n",
       "      <td>3640.000000</td>\n",
       "    </tr>\n",
       "    <tr>\n",
       "      <th>2018-01-02</th>\n",
       "      <td>1900.000000</td>\n",
       "      <td>4505.000000</td>\n",
       "      <td>3720.000000</td>\n",
       "    </tr>\n",
       "    <tr>\n",
       "      <th>2018-01-03</th>\n",
       "      <td>1890.000000</td>\n",
       "      <td>4390.000000</td>\n",
       "      <td>3630.000000</td>\n",
       "    </tr>\n",
       "    <tr>\n",
       "      <th>2018-01-04</th>\n",
       "      <td>1935.000000</td>\n",
       "      <td>4445.000000</td>\n",
       "      <td>3610.000000</td>\n",
       "    </tr>\n",
       "    <tr>\n",
       "      <th>2018-01-05</th>\n",
       "      <td>1990.000000</td>\n",
       "      <td>4480.000000</td>\n",
       "      <td>3590.000000</td>\n",
       "    </tr>\n",
       "    <tr>\n",
       "      <th>...</th>\n",
       "      <td>...</td>\n",
       "      <td>...</td>\n",
       "      <td>...</td>\n",
       "    </tr>\n",
       "    <tr>\n",
       "      <th>2021-12-22</th>\n",
       "      <td>2190.000000</td>\n",
       "      <td>7425.000000</td>\n",
       "      <td>4110.000000</td>\n",
       "    </tr>\n",
       "    <tr>\n",
       "      <th>2021-12-23</th>\n",
       "      <td>2180.000000</td>\n",
       "      <td>7350.000000</td>\n",
       "      <td>4110.000000</td>\n",
       "    </tr>\n",
       "    <tr>\n",
       "      <th>2021-12-24</th>\n",
       "      <td>2240.000000</td>\n",
       "      <td>7350.000000</td>\n",
       "      <td>4120.000000</td>\n",
       "    </tr>\n",
       "    <tr>\n",
       "      <th>2021-12-27</th>\n",
       "      <td>2260.000000</td>\n",
       "      <td>7350.000000</td>\n",
       "      <td>4110.000000</td>\n",
       "    </tr>\n",
       "    <tr>\n",
       "      <th>2021-12-28</th>\n",
       "      <td>2300.000000</td>\n",
       "      <td>7400.000000</td>\n",
       "      <td>4110.000000</td>\n",
       "    </tr>\n",
       "  </tbody>\n",
       "</table>\n",
       "<p>1007 rows × 3 columns</p>\n",
       "</div>"
      ],
      "text/plain": [
       "Symbols        ADRO.JK     BBCA.JK     BBRI.JK\n",
       "Date                                          \n",
       "2018-01-01 1860.000000 4380.000000 3640.000000\n",
       "2018-01-02 1900.000000 4505.000000 3720.000000\n",
       "2018-01-03 1890.000000 4390.000000 3630.000000\n",
       "2018-01-04 1935.000000 4445.000000 3610.000000\n",
       "2018-01-05 1990.000000 4480.000000 3590.000000\n",
       "...                ...         ...         ...\n",
       "2021-12-22 2190.000000 7425.000000 4110.000000\n",
       "2021-12-23 2180.000000 7350.000000 4110.000000\n",
       "2021-12-24 2240.000000 7350.000000 4120.000000\n",
       "2021-12-27 2260.000000 7350.000000 4110.000000\n",
       "2021-12-28 2300.000000 7400.000000 4110.000000\n",
       "\n",
       "[1007 rows x 3 columns]"
      ]
     },
     "execution_count": 36,
     "metadata": {},
     "output_type": "execute_result"
    }
   ],
   "source": [
    "stock['High']"
   ]
  },
  {
   "cell_type": "markdown",
   "metadata": {},
   "source": [
    "❗️**Masalah:** Bagaimana caranya apabila kita ingin mengambil semua nilai `Attributes` untuk saham `GOOGL` saja?"
   ]
  },
  {
   "cell_type": "code",
   "execution_count": 37,
   "metadata": {
    "ExecuteTime": {
     "end_time": "2021-06-27T06:57:35.626388Z",
     "start_time": "2021-06-27T06:57:35.620332Z"
    }
   },
   "outputs": [],
   "source": [
    "# stock['BBCA.JK']\n",
    "# KeyError: 'BBCA.JK'"
   ]
  },
  {
   "cell_type": "markdown",
   "metadata": {},
   "source": [
    "**Solusi:** Kita harus menggunakan method `.xs()` (cross-section) untuk mengambil kolom (`axis=1`) pada level dalam\n",
    "\n",
    "- `key`: kolom yang kita ingin ambil\n",
    "- `level`: kolom tersebut ada di level apa?\n",
    "- `axis=1`: merujuk pada kolom"
   ]
  },
  {
   "cell_type": "code",
   "execution_count": 38,
   "metadata": {
    "ExecuteTime": {
     "end_time": "2021-06-27T06:57:35.685933Z",
     "start_time": "2021-06-27T06:57:35.631933Z"
    }
   },
   "outputs": [
    {
     "data": {
      "text/html": [
       "<div>\n",
       "<style scoped>\n",
       "    .dataframe tbody tr th:only-of-type {\n",
       "        vertical-align: middle;\n",
       "    }\n",
       "\n",
       "    .dataframe tbody tr th {\n",
       "        vertical-align: top;\n",
       "    }\n",
       "\n",
       "    .dataframe thead th {\n",
       "        text-align: right;\n",
       "    }\n",
       "</style>\n",
       "<table border=\"1\" class=\"dataframe\">\n",
       "  <thead>\n",
       "    <tr style=\"text-align: right;\">\n",
       "      <th>Attributes</th>\n",
       "      <th>Adj Close</th>\n",
       "      <th>Close</th>\n",
       "      <th>High</th>\n",
       "      <th>Low</th>\n",
       "      <th>Open</th>\n",
       "      <th>Volume</th>\n",
       "    </tr>\n",
       "    <tr>\n",
       "      <th>Date</th>\n",
       "      <th></th>\n",
       "      <th></th>\n",
       "      <th></th>\n",
       "      <th></th>\n",
       "      <th></th>\n",
       "      <th></th>\n",
       "    </tr>\n",
       "  </thead>\n",
       "  <tbody>\n",
       "    <tr>\n",
       "      <th>2018-01-01</th>\n",
       "      <td>4122.658203</td>\n",
       "      <td>4380.000000</td>\n",
       "      <td>4380.000000</td>\n",
       "      <td>4380.000000</td>\n",
       "      <td>4380.000000</td>\n",
       "      <td>0.000000</td>\n",
       "    </tr>\n",
       "    <tr>\n",
       "      <th>2018-01-02</th>\n",
       "      <td>4122.658203</td>\n",
       "      <td>4380.000000</td>\n",
       "      <td>4505.000000</td>\n",
       "      <td>4365.000000</td>\n",
       "      <td>4380.000000</td>\n",
       "      <td>82303500.000000</td>\n",
       "    </tr>\n",
       "    <tr>\n",
       "      <th>2018-01-03</th>\n",
       "      <td>4122.658203</td>\n",
       "      <td>4380.000000</td>\n",
       "      <td>4390.000000</td>\n",
       "      <td>4265.000000</td>\n",
       "      <td>4385.000000</td>\n",
       "      <td>68214000.000000</td>\n",
       "    </tr>\n",
       "    <tr>\n",
       "      <th>2018-01-04</th>\n",
       "      <td>4183.839844</td>\n",
       "      <td>4445.000000</td>\n",
       "      <td>4445.000000</td>\n",
       "      <td>4380.000000</td>\n",
       "      <td>4380.000000</td>\n",
       "      <td>76567000.000000</td>\n",
       "    </tr>\n",
       "    <tr>\n",
       "      <th>2018-01-05</th>\n",
       "      <td>4188.544922</td>\n",
       "      <td>4450.000000</td>\n",
       "      <td>4480.000000</td>\n",
       "      <td>4435.000000</td>\n",
       "      <td>4460.000000</td>\n",
       "      <td>65268000.000000</td>\n",
       "    </tr>\n",
       "    <tr>\n",
       "      <th>...</th>\n",
       "      <td>...</td>\n",
       "      <td>...</td>\n",
       "      <td>...</td>\n",
       "      <td>...</td>\n",
       "      <td>...</td>\n",
       "      <td>...</td>\n",
       "    </tr>\n",
       "    <tr>\n",
       "      <th>2021-12-22</th>\n",
       "      <td>7325.000000</td>\n",
       "      <td>7325.000000</td>\n",
       "      <td>7425.000000</td>\n",
       "      <td>7325.000000</td>\n",
       "      <td>7425.000000</td>\n",
       "      <td>33232000.000000</td>\n",
       "    </tr>\n",
       "    <tr>\n",
       "      <th>2021-12-23</th>\n",
       "      <td>7300.000000</td>\n",
       "      <td>7300.000000</td>\n",
       "      <td>7350.000000</td>\n",
       "      <td>7300.000000</td>\n",
       "      <td>7325.000000</td>\n",
       "      <td>37136400.000000</td>\n",
       "    </tr>\n",
       "    <tr>\n",
       "      <th>2021-12-24</th>\n",
       "      <td>7300.000000</td>\n",
       "      <td>7300.000000</td>\n",
       "      <td>7350.000000</td>\n",
       "      <td>7300.000000</td>\n",
       "      <td>7300.000000</td>\n",
       "      <td>30802100.000000</td>\n",
       "    </tr>\n",
       "    <tr>\n",
       "      <th>2021-12-27</th>\n",
       "      <td>7350.000000</td>\n",
       "      <td>7350.000000</td>\n",
       "      <td>7350.000000</td>\n",
       "      <td>7300.000000</td>\n",
       "      <td>7300.000000</td>\n",
       "      <td>20722100.000000</td>\n",
       "    </tr>\n",
       "    <tr>\n",
       "      <th>2021-12-28</th>\n",
       "      <td>7350.000000</td>\n",
       "      <td>7350.000000</td>\n",
       "      <td>7400.000000</td>\n",
       "      <td>7325.000000</td>\n",
       "      <td>7375.000000</td>\n",
       "      <td>27387000.000000</td>\n",
       "    </tr>\n",
       "  </tbody>\n",
       "</table>\n",
       "<p>1007 rows × 6 columns</p>\n",
       "</div>"
      ],
      "text/plain": [
       "Attributes   Adj Close       Close        High         Low        Open  \\\n",
       "Date                                                                     \n",
       "2018-01-01 4122.658203 4380.000000 4380.000000 4380.000000 4380.000000   \n",
       "2018-01-02 4122.658203 4380.000000 4505.000000 4365.000000 4380.000000   \n",
       "2018-01-03 4122.658203 4380.000000 4390.000000 4265.000000 4385.000000   \n",
       "2018-01-04 4183.839844 4445.000000 4445.000000 4380.000000 4380.000000   \n",
       "2018-01-05 4188.544922 4450.000000 4480.000000 4435.000000 4460.000000   \n",
       "...                ...         ...         ...         ...         ...   \n",
       "2021-12-22 7325.000000 7325.000000 7425.000000 7325.000000 7425.000000   \n",
       "2021-12-23 7300.000000 7300.000000 7350.000000 7300.000000 7325.000000   \n",
       "2021-12-24 7300.000000 7300.000000 7350.000000 7300.000000 7300.000000   \n",
       "2021-12-27 7350.000000 7350.000000 7350.000000 7300.000000 7300.000000   \n",
       "2021-12-28 7350.000000 7350.000000 7400.000000 7325.000000 7375.000000   \n",
       "\n",
       "Attributes          Volume  \n",
       "Date                        \n",
       "2018-01-01        0.000000  \n",
       "2018-01-02 82303500.000000  \n",
       "2018-01-03 68214000.000000  \n",
       "2018-01-04 76567000.000000  \n",
       "2018-01-05 65268000.000000  \n",
       "...                    ...  \n",
       "2021-12-22 33232000.000000  \n",
       "2021-12-23 37136400.000000  \n",
       "2021-12-24 30802100.000000  \n",
       "2021-12-27 20722100.000000  \n",
       "2021-12-28 27387000.000000  \n",
       "\n",
       "[1007 rows x 6 columns]"
      ]
     },
     "execution_count": 38,
     "metadata": {},
     "output_type": "execute_result"
    }
   ],
   "source": [
    "stock.xs(key = 'BBCA.JK' , level = 1 , axis = 1)\n",
    "\n",
    "#alternatif \n",
    "#stock.xs(key = 'BBCA.JK' , level = 'Symbols' , axis = 1)"
   ]
  },
  {
   "cell_type": "markdown",
   "metadata": {},
   "source": [
    "Jika saya ingin mengambil BBRI?"
   ]
  },
  {
   "cell_type": "code",
   "execution_count": 39,
   "metadata": {},
   "outputs": [
    {
     "data": {
      "text/html": [
       "<div>\n",
       "<style scoped>\n",
       "    .dataframe tbody tr th:only-of-type {\n",
       "        vertical-align: middle;\n",
       "    }\n",
       "\n",
       "    .dataframe tbody tr th {\n",
       "        vertical-align: top;\n",
       "    }\n",
       "\n",
       "    .dataframe thead th {\n",
       "        text-align: right;\n",
       "    }\n",
       "</style>\n",
       "<table border=\"1\" class=\"dataframe\">\n",
       "  <thead>\n",
       "    <tr style=\"text-align: right;\">\n",
       "      <th>Attributes</th>\n",
       "      <th>Adj Close</th>\n",
       "      <th>Close</th>\n",
       "      <th>High</th>\n",
       "      <th>Low</th>\n",
       "      <th>Open</th>\n",
       "      <th>Volume</th>\n",
       "    </tr>\n",
       "    <tr>\n",
       "      <th>Date</th>\n",
       "      <th></th>\n",
       "      <th></th>\n",
       "      <th></th>\n",
       "      <th></th>\n",
       "      <th></th>\n",
       "      <th></th>\n",
       "    </tr>\n",
       "  </thead>\n",
       "  <tbody>\n",
       "    <tr>\n",
       "      <th>2018-01-01</th>\n",
       "      <td>3243.274170</td>\n",
       "      <td>3640.000000</td>\n",
       "      <td>3640.000000</td>\n",
       "      <td>3640.000000</td>\n",
       "      <td>3640.000000</td>\n",
       "      <td>0.000000</td>\n",
       "    </tr>\n",
       "    <tr>\n",
       "      <th>2018-01-02</th>\n",
       "      <td>3234.364258</td>\n",
       "      <td>3630.000000</td>\n",
       "      <td>3720.000000</td>\n",
       "      <td>3610.000000</td>\n",
       "      <td>3690.000000</td>\n",
       "      <td>91127100.000000</td>\n",
       "    </tr>\n",
       "    <tr>\n",
       "      <th>2018-01-03</th>\n",
       "      <td>3216.543945</td>\n",
       "      <td>3610.000000</td>\n",
       "      <td>3630.000000</td>\n",
       "      <td>3560.000000</td>\n",
       "      <td>3630.000000</td>\n",
       "      <td>70148700.000000</td>\n",
       "    </tr>\n",
       "    <tr>\n",
       "      <th>2018-01-04</th>\n",
       "      <td>3163.083252</td>\n",
       "      <td>3550.000000</td>\n",
       "      <td>3610.000000</td>\n",
       "      <td>3460.000000</td>\n",
       "      <td>3610.000000</td>\n",
       "      <td>156406300.000000</td>\n",
       "    </tr>\n",
       "    <tr>\n",
       "      <th>2018-01-05</th>\n",
       "      <td>3198.723877</td>\n",
       "      <td>3590.000000</td>\n",
       "      <td>3590.000000</td>\n",
       "      <td>3520.000000</td>\n",
       "      <td>3550.000000</td>\n",
       "      <td>87095600.000000</td>\n",
       "    </tr>\n",
       "    <tr>\n",
       "      <th>...</th>\n",
       "      <td>...</td>\n",
       "      <td>...</td>\n",
       "      <td>...</td>\n",
       "      <td>...</td>\n",
       "      <td>...</td>\n",
       "      <td>...</td>\n",
       "    </tr>\n",
       "    <tr>\n",
       "      <th>2021-12-22</th>\n",
       "      <td>4050.000000</td>\n",
       "      <td>4050.000000</td>\n",
       "      <td>4110.000000</td>\n",
       "      <td>4050.000000</td>\n",
       "      <td>4100.000000</td>\n",
       "      <td>104738000.000000</td>\n",
       "    </tr>\n",
       "    <tr>\n",
       "      <th>2021-12-23</th>\n",
       "      <td>4100.000000</td>\n",
       "      <td>4100.000000</td>\n",
       "      <td>4110.000000</td>\n",
       "      <td>4060.000000</td>\n",
       "      <td>4090.000000</td>\n",
       "      <td>72736800.000000</td>\n",
       "    </tr>\n",
       "    <tr>\n",
       "      <th>2021-12-24</th>\n",
       "      <td>4070.000000</td>\n",
       "      <td>4070.000000</td>\n",
       "      <td>4120.000000</td>\n",
       "      <td>4050.000000</td>\n",
       "      <td>4100.000000</td>\n",
       "      <td>59795000.000000</td>\n",
       "    </tr>\n",
       "    <tr>\n",
       "      <th>2021-12-27</th>\n",
       "      <td>4060.000000</td>\n",
       "      <td>4060.000000</td>\n",
       "      <td>4110.000000</td>\n",
       "      <td>4060.000000</td>\n",
       "      <td>4070.000000</td>\n",
       "      <td>65491200.000000</td>\n",
       "    </tr>\n",
       "    <tr>\n",
       "      <th>2021-12-28</th>\n",
       "      <td>4110.000000</td>\n",
       "      <td>4110.000000</td>\n",
       "      <td>4110.000000</td>\n",
       "      <td>4070.000000</td>\n",
       "      <td>4090.000000</td>\n",
       "      <td>40491900.000000</td>\n",
       "    </tr>\n",
       "  </tbody>\n",
       "</table>\n",
       "<p>1007 rows × 6 columns</p>\n",
       "</div>"
      ],
      "text/plain": [
       "Attributes   Adj Close       Close        High         Low        Open  \\\n",
       "Date                                                                     \n",
       "2018-01-01 3243.274170 3640.000000 3640.000000 3640.000000 3640.000000   \n",
       "2018-01-02 3234.364258 3630.000000 3720.000000 3610.000000 3690.000000   \n",
       "2018-01-03 3216.543945 3610.000000 3630.000000 3560.000000 3630.000000   \n",
       "2018-01-04 3163.083252 3550.000000 3610.000000 3460.000000 3610.000000   \n",
       "2018-01-05 3198.723877 3590.000000 3590.000000 3520.000000 3550.000000   \n",
       "...                ...         ...         ...         ...         ...   \n",
       "2021-12-22 4050.000000 4050.000000 4110.000000 4050.000000 4100.000000   \n",
       "2021-12-23 4100.000000 4100.000000 4110.000000 4060.000000 4090.000000   \n",
       "2021-12-24 4070.000000 4070.000000 4120.000000 4050.000000 4100.000000   \n",
       "2021-12-27 4060.000000 4060.000000 4110.000000 4060.000000 4070.000000   \n",
       "2021-12-28 4110.000000 4110.000000 4110.000000 4070.000000 4090.000000   \n",
       "\n",
       "Attributes           Volume  \n",
       "Date                         \n",
       "2018-01-01         0.000000  \n",
       "2018-01-02  91127100.000000  \n",
       "2018-01-03  70148700.000000  \n",
       "2018-01-04 156406300.000000  \n",
       "2018-01-05  87095600.000000  \n",
       "...                     ...  \n",
       "2021-12-22 104738000.000000  \n",
       "2021-12-23  72736800.000000  \n",
       "2021-12-24  59795000.000000  \n",
       "2021-12-27  65491200.000000  \n",
       "2021-12-28  40491900.000000  \n",
       "\n",
       "[1007 rows x 6 columns]"
      ]
     },
     "execution_count": 39,
     "metadata": {},
     "output_type": "execute_result"
    }
   ],
   "source": [
    "#jawaban Ibu Atika\n",
    "stock.xs(key = 'BBRI.JK' , level = 1 , axis = 1)\n",
    "\n",
    "# Jqwaban Bapak Tisna\n",
    "stock.xs(key='BBRI.JK', level='Symbols', axis=1)\n"
   ]
  },
  {
   "cell_type": "markdown",
   "metadata": {},
   "source": [
    "Ambil tanggal 11 januari"
   ]
  },
  {
   "cell_type": "code",
   "execution_count": 40,
   "metadata": {},
   "outputs": [
    {
     "data": {
      "text/plain": [
       "Attributes  Symbols\n",
       "Adj Close   ADRO.JK        1444.138428\n",
       "            BBCA.JK        7219.237305\n",
       "            BBRI.JK        4550.453613\n",
       "Close       ADRO.JK        1525.000000\n",
       "            BBCA.JK        7345.000000\n",
       "            BBRI.JK        4650.000000\n",
       "High        ADRO.JK        1540.000000\n",
       "            BBCA.JK        7360.000000\n",
       "            BBRI.JK        4660.000000\n",
       "Low         ADRO.JK        1470.000000\n",
       "            BBCA.JK        7145.000000\n",
       "            BBRI.JK        4410.000000\n",
       "Open        ADRO.JK        1490.000000\n",
       "            BBCA.JK        7150.000000\n",
       "            BBRI.JK        4420.000000\n",
       "Volume      ADRO.JK   278542900.000000\n",
       "            BBCA.JK   169034500.000000\n",
       "            BBRI.JK   383714500.000000\n",
       "Name: 2021-01-11 00:00:00, dtype: float64"
      ]
     },
     "execution_count": 40,
     "metadata": {},
     "output_type": "execute_result"
    }
   ],
   "source": [
    "# jawaban Pak sunarto\n",
    "stock.xs(key='2021-01-11',axis=0)\n",
    "\n",
    "# jawaban Pak Daniel\n",
    "\n",
    "#stock.loc['2021-01-11']\n"
   ]
  },
  {
   "cell_type": "markdown",
   "metadata": {},
   "source": [
    "**pertanyaan** Pak Daniel : kalau index nya berlevel bagaimana kak?"
   ]
  },
  {
   "cell_type": "markdown",
   "metadata": {},
   "source": [
    "### ❓🔎 Concern on Time Series Data\n",
    "\n",
    "1. Create a DataFrame by subsetting only the `Close` columns. Name it `closingprice`. \n",
    "2. Use a method to count the number of missing values in each of the columns present in `closingprice`. Is there any missing values?\n",
    "\n",
    "___\n",
    "\n",
    "1. Buatlah DataFrame dengan cara subset hanya kolom `Close`. Simpanlah ke object bernama `closingprice`,\n",
    "2. Gunakan methode untuk menghitung jumlah missing value pada setiap kolom di object `closingprice`. Apakah ada missing value?"
   ]
  },
  {
   "cell_type": "code",
   "execution_count": 41,
   "metadata": {
    "ExecuteTime": {
     "end_time": "2021-06-27T06:57:35.698482Z",
     "start_time": "2021-06-27T06:57:35.688094Z"
    },
    "scrolled": false
   },
   "outputs": [
    {
     "data": {
      "text/plain": [
       "Symbols\n",
       "ADRO.JK    2\n",
       "BBCA.JK    1\n",
       "BBRI.JK    2\n",
       "dtype: int64"
      ]
     },
     "execution_count": 41,
     "metadata": {},
     "output_type": "execute_result"
    }
   ],
   "source": [
    "# your code here\n",
    "\n",
    "# Jawaban Bapak/Ibu Firby\n",
    "\n",
    "closingprice = stock['Close']\n",
    "closingprice.head()\n",
    "\n",
    "closingprice.isna().sum()"
   ]
  },
  {
   "cell_type": "markdown",
   "metadata": {},
   "source": [
    "❗️ Perhatikan index baris dari `stock`, terdapat beberapa hari yang terlewati dan tidak ada datanya seperti 2018-01-01, 2018-01-06, dan 2018-01-07. Pada akhir pekan serta hari libur nasional, semua pasar saham tutup."
   ]
  },
  {
   "cell_type": "code",
   "execution_count": null,
   "metadata": {
    "ExecuteTime": {
     "end_time": "2021-06-27T06:57:35.719065Z",
     "start_time": "2021-06-27T06:57:35.700482Z"
    },
    "scrolled": true
   },
   "outputs": [],
   "source": [
    "closingprice.head(20)"
   ]
  },
  {
   "cell_type": "markdown",
   "metadata": {},
   "source": [
    "Ketika kita bekerja dengan data runtun waktu (time series), kita harus memastikan data lengkap pada setiap periode waktu. Untuk kasus di atas kita harus melakukan **padding**, yaitu menyelipkan tanggal yang terlewati. \n",
    "\n",
    "❗️Kita dapat mengatur ulang index `Date` dengan method `reindex()` sehingga indexnya mengikuti rentang tanggal yang kita tentukan sendiri:"
   ]
  },
  {
   "cell_type": "code",
   "execution_count": 42,
   "metadata": {
    "ExecuteTime": {
     "end_time": "2021-06-27T06:57:35.733206Z",
     "start_time": "2021-06-27T06:57:35.720068Z"
    },
    "scrolled": true
   },
   "outputs": [
    {
     "data": {
      "text/html": [
       "<div>\n",
       "<style scoped>\n",
       "    .dataframe tbody tr th:only-of-type {\n",
       "        vertical-align: middle;\n",
       "    }\n",
       "\n",
       "    .dataframe tbody tr th {\n",
       "        vertical-align: top;\n",
       "    }\n",
       "\n",
       "    .dataframe thead th {\n",
       "        text-align: right;\n",
       "    }\n",
       "</style>\n",
       "<table border=\"1\" class=\"dataframe\">\n",
       "  <thead>\n",
       "    <tr style=\"text-align: right;\">\n",
       "      <th>Symbols</th>\n",
       "      <th>ADRO.JK</th>\n",
       "      <th>BBCA.JK</th>\n",
       "      <th>BBRI.JK</th>\n",
       "    </tr>\n",
       "  </thead>\n",
       "  <tbody>\n",
       "    <tr>\n",
       "      <th>2018-01-01</th>\n",
       "      <td>1860.000000</td>\n",
       "      <td>4380.000000</td>\n",
       "      <td>3640.000000</td>\n",
       "    </tr>\n",
       "    <tr>\n",
       "      <th>2018-01-02</th>\n",
       "      <td>1880.000000</td>\n",
       "      <td>4380.000000</td>\n",
       "      <td>3630.000000</td>\n",
       "    </tr>\n",
       "    <tr>\n",
       "      <th>2018-01-03</th>\n",
       "      <td>1830.000000</td>\n",
       "      <td>4380.000000</td>\n",
       "      <td>3610.000000</td>\n",
       "    </tr>\n",
       "    <tr>\n",
       "      <th>2018-01-04</th>\n",
       "      <td>1915.000000</td>\n",
       "      <td>4445.000000</td>\n",
       "      <td>3550.000000</td>\n",
       "    </tr>\n",
       "    <tr>\n",
       "      <th>2018-01-05</th>\n",
       "      <td>1990.000000</td>\n",
       "      <td>4450.000000</td>\n",
       "      <td>3590.000000</td>\n",
       "    </tr>\n",
       "    <tr>\n",
       "      <th>2018-01-06</th>\n",
       "      <td>NaN</td>\n",
       "      <td>NaN</td>\n",
       "      <td>NaN</td>\n",
       "    </tr>\n",
       "    <tr>\n",
       "      <th>2018-01-07</th>\n",
       "      <td>NaN</td>\n",
       "      <td>NaN</td>\n",
       "      <td>NaN</td>\n",
       "    </tr>\n",
       "    <tr>\n",
       "      <th>2018-01-08</th>\n",
       "      <td>2160.000000</td>\n",
       "      <td>4470.000000</td>\n",
       "      <td>3590.000000</td>\n",
       "    </tr>\n",
       "  </tbody>\n",
       "</table>\n",
       "</div>"
      ],
      "text/plain": [
       "Symbols        ADRO.JK     BBCA.JK     BBRI.JK\n",
       "2018-01-01 1860.000000 4380.000000 3640.000000\n",
       "2018-01-02 1880.000000 4380.000000 3630.000000\n",
       "2018-01-03 1830.000000 4380.000000 3610.000000\n",
       "2018-01-04 1915.000000 4445.000000 3550.000000\n",
       "2018-01-05 1990.000000 4450.000000 3590.000000\n",
       "2018-01-06         NaN         NaN         NaN\n",
       "2018-01-07         NaN         NaN         NaN\n",
       "2018-01-08 2160.000000 4470.000000 3590.000000"
      ]
     },
     "execution_count": 42,
     "metadata": {},
     "output_type": "execute_result"
    }
   ],
   "source": [
    "# data tanggal per harian dari 1 Januari sampai 31 Maret 2018\n",
    "closingprice = stock['Close']\n",
    "quarter1 = pd.date_range(start=\"2018-01-01\", end=\"2018-03-31\")\n",
    "closingprice = closingprice.reindex(quarter1)\n",
    "closingprice.head(8)"
   ]
  },
  {
   "cell_type": "markdown",
   "metadata": {},
   "source": [
    "Note: `nan`: missing value untuk numerik (not a number)"
   ]
  },
  {
   "cell_type": "markdown",
   "metadata": {},
   "source": [
    "Cek kembali missing value `NaN` yang terdapat pada `closingprice`:"
   ]
  },
  {
   "cell_type": "code",
   "execution_count": 43,
   "metadata": {
    "ExecuteTime": {
     "end_time": "2021-06-27T06:57:35.754007Z",
     "start_time": "2021-06-27T06:57:35.736407Z"
    }
   },
   "outputs": [
    {
     "data": {
      "text/plain": [
       "Symbols\n",
       "ADRO.JK    25\n",
       "BBCA.JK    25\n",
       "BBRI.JK    25\n",
       "dtype: int64"
      ]
     },
     "execution_count": 43,
     "metadata": {},
     "output_type": "execute_result"
    }
   ],
   "source": [
    "# your code here\n",
    "closingprice.isna().sum()"
   ]
  },
  {
   "cell_type": "markdown",
   "metadata": {},
   "source": [
    "❓**Diskusi:** Bagaimana cara kita mengisi missing value tersebut?"
   ]
  },
  {
   "cell_type": "code",
   "execution_count": 44,
   "metadata": {
    "ExecuteTime": {
     "end_time": "2021-06-27T06:57:35.773485Z",
     "start_time": "2021-06-27T06:57:35.755265Z"
    },
    "scrolled": true
   },
   "outputs": [
    {
     "data": {
      "text/plain": [
       "Symbols\n",
       "ADRO.JK    0\n",
       "BBCA.JK    0\n",
       "BBRI.JK    0\n",
       "dtype: int64"
      ]
     },
     "execution_count": 44,
     "metadata": {},
     "output_type": "execute_result"
    }
   ],
   "source": [
    "# your code here\n",
    "\n",
    "closingprice = closingprice.fillna(method = 'ffill')\n",
    "closingprice.isna().sum()\n"
   ]
  },
  {
   "cell_type": "markdown",
   "metadata": {},
   "source": [
    "---\n",
    "### 📝 Summary Day 1\n",
    "\n",
    "- Environment adalah tempat mengisolasi sistem dalam bentuk ruang lingkup virtual yang menampung library beserta versionnya dalam sebuah project python.\n",
    "- Reproducible environment bertujuan untuk menyelaraskan versi dari library python agar tidak terjadi error yang berkaitan dengan perbedaan versi library.\n",
    "- Requirements.txt berisi kumpulan library-library yang digunakan beserta versinya untuk melakukan pembuatan kembali (reproduce) environment yang sama persis dan selaras.\n",
    "- untuk menyimpan library (export) bisa menggunakan pip freeze , untuk menggunakan library dari environment lainnya bisa pip install -r\n",
    "\n",
    "- yfinance digunakan untuk menarik data dari site yahoo finance, membutuhkan simbol yang merupakan kode saham atau produk keuangan lainnya, tanggal mulai observasi dan tanggal akhir observasi\n",
    "\n",
    "- file pickle bertujuan untuk menympan suatu objek di python ke dalam bentuk binary file\n",
    "- Untuk menyimpan objek ke pickle > obj.to_pickle(path)\n",
    "- Untuk read pickle ke pandas dataframe > pd.read_pickle(path)\n",
    "- File pickle hanya bisa di load dengan python yang memiliki versi yang sama saat menyimpan pickle\n",
    "- Pickle menyimpan file dataframe sesuai dengan format yang telah disesuaikan \n",
    "- Karena file pickle dapat menyimpan object apa saja, perlu hati-hati apabila membuka file pickle yang berasal dari sumber yang tidak terpercaya\n",
    "\n",
    "- Melakukan subsetting untuk dataframe yang berbentuk multi index lebih baik menggunakan method .xs() (cross section)\n",
    "- Cross section memiliki parameter: key (kolom yang akan diambil), level (tingkatan ke berapa), axis (baris atau kolom)\n",
    "- level juga dapat diisi dengan nama string levelnya (misal 'Attributes', 'Symbols')\n",
    "\n",
    "- reshaping dataframe adalah mengubah bentuk dataframe tanpa mengubah isi dari dataframenya.\n",
    "- reshaping yang umum dilakukan pada dataframe multi-index adalah stack() dan unstack()\n",
    "- karena multi-index sulit di analisis, sebisa mungkin apabila menemukan data dengan bentuk multi index dikembalikan ke bentuk single index (dengan metode reshaping)\n",
    "\n",
    "\n",
    "\n",
    "**Data Loading**\n",
    "- Library `yfinance` digunakan untuk menarik data dari berbagai sumber terkait keuangan, misalnya data saham dari Yahoo! Finance.\n",
    "- File pickle: file binary yang digunakan untuk menyimpan object Python (contohnya DataFrame)\n",
    "    - `.to_pickle(path)`: method untuk [pickling/unpickling]\n",
    "    - `pd.read_pickle(path)`: method untuk [pickling/unpickling]\n",
    "\n",
    "**Slicing MultiIndex DataFrame**\n",
    "- Gunakan ['nama kolom'] untuk mengambil kolom pada **level teratas**\n",
    "- Gunakan `xs()` untuk mengambil kolom pada level lebih dalam, parameter: \n",
    "    - `key`: nama label yang ingin diambil\n",
    "    - `level`: nama level dimana label tersebut berada\n",
    "    - `axis`: level terdapat pada index/baris (0 untuk baris, 1 untuk kolom)\n",
    "\n",
    "**Datetime Padding**\n",
    "- `pd.date_range(start, end)`: untuk membuat sebuah DatetimeIndex dari tanggal `start` sampai `end`\n",
    "- `.reindex()`: untuk mengatur kembali index sesuai dengan yang diinginkan\n",
    "\n",
    "**Reshaping: Stacking vs Unstacking**\n",
    "- `stack()`: mengubah level pada kolom menjadi pada baris\n",
    "- `unstack()`: mengubah level pada baris menjadi pada kolom\n",
    "---\n",
    "\n",
    "**END OF DAY 1**\n",
    "\n",
    "\n",
    "\n",
    "---\n",
    "\n",
    "**START OF DAY 2**"
   ]
  },
  {
   "cell_type": "markdown",
   "metadata": {},
   "source": [
    "## Reshaping\n",
    "\n",
    "Reshaping data adalah salah satu komponen penting dalam tahap data wrangling, karena memungkinkan seorang analis untuk mempersiapkan data menjadi bentuk yang sesuai untuk tahap analisa data berikutnya."
   ]
  },
  {
   "cell_type": "markdown",
   "metadata": {},
   "source": [
    "### `stack()` and `unstack()`\n",
    "\n",
    "Method yang berguna saat kita ingin mengubah bentuk Multi-Index DataFrame:\n",
    "\n",
    "- `stack()`: mengubah level pada kolom menjadi pada baris\n",
    "- `unstack()`: mengubah level pada baris menjadi pada kolom\n",
    "\n",
    "<img src=\"assets/reshaping_stack.png\" width=\"600\"/>\n",
    "\n",
    "Untuk saat ini, `stock` memiliki 2-level kolom (`Attributes` dan `Symbols`) dan 1-level baris (`Date`)."
   ]
  },
  {
   "cell_type": "code",
   "execution_count": 33,
   "metadata": {
    "ExecuteTime": {
     "end_time": "2021-06-27T06:57:35.802332Z",
     "start_time": "2021-06-27T06:57:35.775501Z"
    },
    "scrolled": false
   },
   "outputs": [
    {
     "data": {
      "text/html": [
       "<div>\n",
       "<style scoped>\n",
       "    .dataframe tbody tr th:only-of-type {\n",
       "        vertical-align: middle;\n",
       "    }\n",
       "\n",
       "    .dataframe tbody tr th {\n",
       "        vertical-align: top;\n",
       "    }\n",
       "\n",
       "    .dataframe thead th {\n",
       "        text-align: right;\n",
       "    }\n",
       "</style>\n",
       "<table border=\"1\" class=\"dataframe\">\n",
       "  <thead>\n",
       "    <tr style=\"text-align: right;\">\n",
       "      <th></th>\n",
       "      <th>Attributes</th>\n",
       "      <th>Adj Close</th>\n",
       "      <th>Close</th>\n",
       "      <th>High</th>\n",
       "      <th>Low</th>\n",
       "      <th>Open</th>\n",
       "      <th>Volume</th>\n",
       "    </tr>\n",
       "    <tr>\n",
       "      <th>Date</th>\n",
       "      <th>Symbols</th>\n",
       "      <th></th>\n",
       "      <th></th>\n",
       "      <th></th>\n",
       "      <th></th>\n",
       "      <th></th>\n",
       "      <th></th>\n",
       "    </tr>\n",
       "  </thead>\n",
       "  <tbody>\n",
       "    <tr>\n",
       "      <th rowspan=\"3\" valign=\"top\">2018-01-01</th>\n",
       "      <th>ADRO.JK</th>\n",
       "      <td>1453.167480</td>\n",
       "      <td>1860.000000</td>\n",
       "      <td>1860.000000</td>\n",
       "      <td>1860.000000</td>\n",
       "      <td>1860.000000</td>\n",
       "      <td>0.000000</td>\n",
       "    </tr>\n",
       "    <tr>\n",
       "      <th>BBCA.JK</th>\n",
       "      <td>4122.658203</td>\n",
       "      <td>4380.000000</td>\n",
       "      <td>4380.000000</td>\n",
       "      <td>4380.000000</td>\n",
       "      <td>4380.000000</td>\n",
       "      <td>0.000000</td>\n",
       "    </tr>\n",
       "    <tr>\n",
       "      <th>BBRI.JK</th>\n",
       "      <td>3243.274414</td>\n",
       "      <td>3640.000000</td>\n",
       "      <td>3640.000000</td>\n",
       "      <td>3640.000000</td>\n",
       "      <td>3640.000000</td>\n",
       "      <td>0.000000</td>\n",
       "    </tr>\n",
       "    <tr>\n",
       "      <th rowspan=\"2\" valign=\"top\">2018-01-02</th>\n",
       "      <th>ADRO.JK</th>\n",
       "      <td>1468.792969</td>\n",
       "      <td>1880.000000</td>\n",
       "      <td>1900.000000</td>\n",
       "      <td>1865.000000</td>\n",
       "      <td>1865.000000</td>\n",
       "      <td>26045000.000000</td>\n",
       "    </tr>\n",
       "    <tr>\n",
       "      <th>BBCA.JK</th>\n",
       "      <td>4122.658203</td>\n",
       "      <td>4380.000000</td>\n",
       "      <td>4505.000000</td>\n",
       "      <td>4365.000000</td>\n",
       "      <td>4380.000000</td>\n",
       "      <td>82303500.000000</td>\n",
       "    </tr>\n",
       "    <tr>\n",
       "      <th>...</th>\n",
       "      <th>...</th>\n",
       "      <td>...</td>\n",
       "      <td>...</td>\n",
       "      <td>...</td>\n",
       "      <td>...</td>\n",
       "      <td>...</td>\n",
       "      <td>...</td>\n",
       "    </tr>\n",
       "    <tr>\n",
       "      <th rowspan=\"2\" valign=\"top\">2021-12-27</th>\n",
       "      <th>BBCA.JK</th>\n",
       "      <td>7350.000000</td>\n",
       "      <td>7350.000000</td>\n",
       "      <td>7350.000000</td>\n",
       "      <td>7300.000000</td>\n",
       "      <td>7300.000000</td>\n",
       "      <td>20722100.000000</td>\n",
       "    </tr>\n",
       "    <tr>\n",
       "      <th>BBRI.JK</th>\n",
       "      <td>4060.000000</td>\n",
       "      <td>4060.000000</td>\n",
       "      <td>4110.000000</td>\n",
       "      <td>4060.000000</td>\n",
       "      <td>4070.000000</td>\n",
       "      <td>65491200.000000</td>\n",
       "    </tr>\n",
       "    <tr>\n",
       "      <th rowspan=\"3\" valign=\"top\">2021-12-28</th>\n",
       "      <th>ADRO.JK</th>\n",
       "      <td>2270.000000</td>\n",
       "      <td>2270.000000</td>\n",
       "      <td>2290.000000</td>\n",
       "      <td>2180.000000</td>\n",
       "      <td>2180.000000</td>\n",
       "      <td>200805200.000000</td>\n",
       "    </tr>\n",
       "    <tr>\n",
       "      <th>BBCA.JK</th>\n",
       "      <td>7375.000000</td>\n",
       "      <td>7375.000000</td>\n",
       "      <td>7400.000000</td>\n",
       "      <td>7325.000000</td>\n",
       "      <td>7375.000000</td>\n",
       "      <td>15975200.000000</td>\n",
       "    </tr>\n",
       "    <tr>\n",
       "      <th>BBRI.JK</th>\n",
       "      <td>4090.000000</td>\n",
       "      <td>4090.000000</td>\n",
       "      <td>4110.000000</td>\n",
       "      <td>4070.000000</td>\n",
       "      <td>4090.000000</td>\n",
       "      <td>24814800.000000</td>\n",
       "    </tr>\n",
       "  </tbody>\n",
       "</table>\n",
       "<p>3016 rows × 6 columns</p>\n",
       "</div>"
      ],
      "text/plain": [
       "Attributes           Adj Close       Close        High         Low  \\\n",
       "Date       Symbols                                                   \n",
       "2018-01-01 ADRO.JK 1453.167480 1860.000000 1860.000000 1860.000000   \n",
       "           BBCA.JK 4122.658203 4380.000000 4380.000000 4380.000000   \n",
       "           BBRI.JK 3243.274414 3640.000000 3640.000000 3640.000000   \n",
       "2018-01-02 ADRO.JK 1468.792969 1880.000000 1900.000000 1865.000000   \n",
       "           BBCA.JK 4122.658203 4380.000000 4505.000000 4365.000000   \n",
       "...                        ...         ...         ...         ...   \n",
       "2021-12-27 BBCA.JK 7350.000000 7350.000000 7350.000000 7300.000000   \n",
       "           BBRI.JK 4060.000000 4060.000000 4110.000000 4060.000000   \n",
       "2021-12-28 ADRO.JK 2270.000000 2270.000000 2290.000000 2180.000000   \n",
       "           BBCA.JK 7375.000000 7375.000000 7400.000000 7325.000000   \n",
       "           BBRI.JK 4090.000000 4090.000000 4110.000000 4070.000000   \n",
       "\n",
       "Attributes                Open           Volume  \n",
       "Date       Symbols                               \n",
       "2018-01-01 ADRO.JK 1860.000000         0.000000  \n",
       "           BBCA.JK 4380.000000         0.000000  \n",
       "           BBRI.JK 3640.000000         0.000000  \n",
       "2018-01-02 ADRO.JK 1865.000000  26045000.000000  \n",
       "           BBCA.JK 4380.000000  82303500.000000  \n",
       "...                        ...              ...  \n",
       "2021-12-27 BBCA.JK 7300.000000  20722100.000000  \n",
       "           BBRI.JK 4070.000000  65491200.000000  \n",
       "2021-12-28 ADRO.JK 2180.000000 200805200.000000  \n",
       "           BBCA.JK 7375.000000  15975200.000000  \n",
       "           BBRI.JK 4090.000000  24814800.000000  \n",
       "\n",
       "[3016 rows x 6 columns]"
      ]
     },
     "execution_count": 33,
     "metadata": {},
     "output_type": "execute_result"
    }
   ],
   "source": [
    "# aplikasikan method stack\n",
    "\n"
   ]
  },
  {
   "cell_type": "markdown",
   "metadata": {},
   "source": [
    "📈 Setelah mengaplikasikan method `stack()`, `Symbols` pindah dari yang sebelumnya level pada kolom menjadi baris. Kenapa `Symbols`? Karena secara default parameter `level=-1`, sehingga kolom dengan level paling dalam yang pindah menjadi baris.\n",
    "\n",
    "❗️ Bagaimana cara kita memindahkan level `Attributes`nya menjadi baris?"
   ]
  },
  {
   "cell_type": "code",
   "execution_count": null,
   "metadata": {
    "ExecuteTime": {
     "end_time": "2021-06-27T06:57:35.843021Z",
     "start_time": "2021-06-27T06:57:35.805942Z"
    }
   },
   "outputs": [],
   "source": []
  },
  {
   "cell_type": "markdown",
   "metadata": {},
   "source": [
    "Sedangkan `unstack()` adalah kebalikan dari `stack()`:\n",
    "\n",
    "<img src=\"assets/reshaping_unstack.png\" width=\"600\"/>\n",
    "\n",
    "Cobalah aplikasikan method `unstack()` pada dataframe `stock`:"
   ]
  },
  {
   "cell_type": "code",
   "execution_count": null,
   "metadata": {
    "ExecuteTime": {
     "end_time": "2021-06-27T06:57:35.867274Z",
     "start_time": "2021-06-27T06:57:35.848470Z"
    },
    "scrolled": true
   },
   "outputs": [],
   "source": []
  },
  {
   "cell_type": "markdown",
   "metadata": {},
   "source": [
    "Contoh penggunakan unstack: untuk mengubah series hasil value_counts pada 2 kolom kategori menjadi data frame yang wide."
   ]
  },
  {
   "cell_type": "code",
   "execution_count": 46,
   "metadata": {},
   "outputs": [
    {
     "data": {
      "text/html": [
       "<div>\n",
       "<style scoped>\n",
       "    .dataframe tbody tr th:only-of-type {\n",
       "        vertical-align: middle;\n",
       "    }\n",
       "\n",
       "    .dataframe tbody tr th {\n",
       "        vertical-align: top;\n",
       "    }\n",
       "\n",
       "    .dataframe thead th {\n",
       "        text-align: right;\n",
       "    }\n",
       "</style>\n",
       "<table border=\"1\" class=\"dataframe\">\n",
       "  <thead>\n",
       "    <tr style=\"text-align: right;\">\n",
       "      <th></th>\n",
       "      <th>gender</th>\n",
       "      <th>blood_type</th>\n",
       "    </tr>\n",
       "  </thead>\n",
       "  <tbody>\n",
       "    <tr>\n",
       "      <th>0</th>\n",
       "      <td>Male</td>\n",
       "      <td>O</td>\n",
       "    </tr>\n",
       "    <tr>\n",
       "      <th>1</th>\n",
       "      <td>Female</td>\n",
       "      <td>A</td>\n",
       "    </tr>\n",
       "    <tr>\n",
       "      <th>2</th>\n",
       "      <td>Male</td>\n",
       "      <td>B</td>\n",
       "    </tr>\n",
       "    <tr>\n",
       "      <th>3</th>\n",
       "      <td>Female</td>\n",
       "      <td>AB</td>\n",
       "    </tr>\n",
       "    <tr>\n",
       "      <th>4</th>\n",
       "      <td>Female</td>\n",
       "      <td>B</td>\n",
       "    </tr>\n",
       "    <tr>\n",
       "      <th>5</th>\n",
       "      <td>Female</td>\n",
       "      <td>B</td>\n",
       "    </tr>\n",
       "    <tr>\n",
       "      <th>6</th>\n",
       "      <td>Male</td>\n",
       "      <td>O</td>\n",
       "    </tr>\n",
       "  </tbody>\n",
       "</table>\n",
       "</div>"
      ],
      "text/plain": [
       "   gender blood_type\n",
       "0    Male          O\n",
       "1  Female          A\n",
       "2    Male          B\n",
       "3  Female         AB\n",
       "4  Female          B\n",
       "5  Female          B\n",
       "6    Male          O"
      ]
     },
     "execution_count": 46,
     "metadata": {},
     "output_type": "execute_result"
    }
   ],
   "source": [
    "dummy[['gender', 'blood_type']]"
   ]
  },
  {
   "cell_type": "markdown",
   "metadata": {},
   "source": [
    "❗️ Apa yang terjadi ketika method `stack()` dilanjutkan dengan method `unstack()` (asumsi menggunakan parameter `level` default)?"
   ]
  },
  {
   "cell_type": "code",
   "execution_count": null,
   "metadata": {
    "ExecuteTime": {
     "end_time": "2021-06-27T06:57:35.952509Z",
     "start_time": "2021-06-27T06:57:35.871440Z"
    },
    "scrolled": false
   },
   "outputs": [],
   "source": [
    "# your code here\n"
   ]
  },
  {
   "cell_type": "markdown",
   "metadata": {},
   "source": [
    "### 💭 Dive Deeper\n",
    "\n",
    "1. How to swap the position (`level`) of Symbols and Attributes?\n",
    "\n",
    "___\n",
    "\n",
    "1. Bagaimana cara menukar posisi (`level`) dari Symbols dan Attributes?"
   ]
  },
  {
   "cell_type": "code",
   "execution_count": 48,
   "metadata": {
    "ExecuteTime": {
     "end_time": "2021-06-27T06:57:36.008839Z",
     "start_time": "2021-06-27T06:57:35.956737Z"
    },
    "scrolled": true
   },
   "outputs": [],
   "source": [
    "# your code here\n"
   ]
  },
  {
   "cell_type": "markdown",
   "metadata": {},
   "source": [
    "2. Based on your knowledge, what company (`Symbols`) worth invest on? (You may look on its fluctuations, means, etc)\n",
    "\n",
    "___\n",
    "\n",
    "2. Berdasarkan pengetahuan Anda, perusahaan (`Symbols`) apa yang layak untuk diinvestasikan? (Anda dapat melihat fluktuasi, means, dll)"
   ]
  },
  {
   "cell_type": "code",
   "execution_count": null,
   "metadata": {},
   "outputs": [],
   "source": []
  },
  {
   "cell_type": "code",
   "execution_count": null,
   "metadata": {
    "ExecuteTime": {
     "end_time": "2021-06-27T06:57:36.032499Z",
     "start_time": "2021-06-27T06:57:36.012840Z"
    },
    "scrolled": true
   },
   "outputs": [],
   "source": [
    "# your code here\n"
   ]
  },
  {
   "cell_type": "markdown",
   "metadata": {},
   "source": [
    "📈 Insight:\n",
    "\n",
    "- ...\n",
    "- ...\n",
    "- ..."
   ]
  },
  {
   "cell_type": "code",
   "execution_count": null,
   "metadata": {},
   "outputs": [],
   "source": [
    "# TAMBAHAN: menggunakan coefficient of variance\n",
    "import numpy as np\n",
    "stock.stack().reset_index().pivot_table(\n",
    "    index = 'Symbols',\n",
    "    aggfunc = lambda x: np.std(x)/np.mean(x)\n",
    ").sort_values(by='Symbols', ascending=False)"
   ]
  },
  {
   "cell_type": "markdown",
   "metadata": {},
   "source": [
    "Info lebih lanjut terkait [coefficient of variance](https://www.investopedia.com/terms/c/coefficientofvariation.asp)\n",
    "\n",
    "CoV = std dibagi dengan mean (rata-rata) = %"
   ]
  },
  {
   "cell_type": "markdown",
   "metadata": {},
   "source": [
    "### ❓ Knowledge Check: Stack and Unstack\n",
    "\n",
    "Which of the following statement is correct?\n",
    "\n",
    "- [ ] `stack()` changes the DataFrame from wide to long\n",
    "- [ ] `unstack()` changes the DataFrame from long to wide\n",
    "- [ ] `unstack()` changes the DataFrame from wide to long"
   ]
  },
  {
   "cell_type": "markdown",
   "metadata": {},
   "source": [
    "### Melt\n",
    "\n",
    "Mirip dengan `stack()`, kita bisa menggunakan `melt()` untuk mengubah dataframe dari wide to long.\n",
    "\n",
    "<img src=\"assets/reshaping_melt.png\" width=\"600\"/>\n",
    "\n",
    "❓ Dari data `stock` silahkan slicing untuk mendapatkan data saham `AAPL`, simpan pada objek `aapl`:"
   ]
  },
  {
   "cell_type": "code",
   "execution_count": null,
   "metadata": {
    "ExecuteTime": {
     "end_time": "2021-06-27T06:57:36.068754Z",
     "start_time": "2021-06-27T06:57:36.040239Z"
    },
    "scrolled": true
   },
   "outputs": [],
   "source": [
    "# your code here\n"
   ]
  },
  {
   "cell_type": "markdown",
   "metadata": {},
   "source": [
    "❓ Aplikasikan method `melt()` dan simpan pada objek `aapl_melted`"
   ]
  },
  {
   "cell_type": "code",
   "execution_count": null,
   "metadata": {
    "ExecuteTime": {
     "end_time": "2021-06-27T06:57:36.095963Z",
     "start_time": "2021-06-27T06:57:36.073745Z"
    },
    "scrolled": true
   },
   "outputs": [],
   "source": [
    "# code here\n"
   ]
  },
  {
   "cell_type": "markdown",
   "metadata": {},
   "source": [
    "❓ Bandingkan ukuran `aapl` dan `aapl_melted`:\n",
    "\n",
    "- `aapl` (wide): ...\n",
    "- `aapl_melted` (long): ..."
   ]
  },
  {
   "cell_type": "code",
   "execution_count": null,
   "metadata": {
    "ExecuteTime": {
     "end_time": "2021-06-27T06:57:36.116442Z",
     "start_time": "2021-06-27T06:57:36.098964Z"
    }
   },
   "outputs": [],
   "source": []
  },
  {
   "cell_type": "markdown",
   "metadata": {},
   "source": [
    "#### 💭 Knowledge Check: Melt vs Stack\n",
    "\n",
    "Persamaan antara `melt()` dan `stack()`: ...\n",
    "\n",
    "Apa perbedaan antara `melt()` dan `stack()` ?\n",
    "\n",
    "- `stack()` digunakan untuk ...\n",
    "- `melt()` digunakan untuk ..."
   ]
  },
  {
   "cell_type": "markdown",
   "metadata": {},
   "source": [
    "#### Identifier and Value\n",
    "\n",
    "Dalam method `melt()`, terdapat dua parameter yang sering digunakan:\n",
    "- `id_vars`: kolom yang menjadi identifier variables (kolom yang dipertahankan)\n",
    "- `value_vars`: kolom yang menjadi value variables\n",
    "\n",
    "Kita ingin kolom `Date` menjadi `id_vars`, namun belum bisa diakses sebagai kolom karena masih berupa index. Untuk itu kita menggunakan `reset_index()` sebelum `melt()`"
   ]
  },
  {
   "cell_type": "code",
   "execution_count": null,
   "metadata": {
    "ExecuteTime": {
     "end_time": "2021-06-27T06:57:36.171511Z",
     "start_time": "2021-06-27T06:57:36.151906Z"
    }
   },
   "outputs": [],
   "source": [
    "# coba langsung mengaplikasikan melt\n"
   ]
  },
  {
   "cell_type": "code",
   "execution_count": null,
   "metadata": {
    "ExecuteTime": {
     "end_time": "2021-06-27T06:57:36.199066Z",
     "start_time": "2021-06-27T06:57:36.173514Z"
    }
   },
   "outputs": [],
   "source": [
    "# menggunakan reset_index\n"
   ]
  },
  {
   "cell_type": "markdown",
   "metadata": {},
   "source": [
    "❓ **Latihan:** Saya ingin melakukan melt terhadap data `aapl` hanya pada kolom `Close` dan `Open`, serta setiap observasinya dibedakan berdasarkan `Date`. Simpan pada objek `aapl_close_open`:"
   ]
  },
  {
   "cell_type": "markdown",
   "metadata": {},
   "source": [
    "Parameter:\n",
    "- `id_vars`: daftar kolom yang ingin kita pertahankan setelah hasil melt\n",
    "- `value_vars`: daftar kolom yang ingin kita peroleh di kolom `variable`"
   ]
  },
  {
   "cell_type": "code",
   "execution_count": null,
   "metadata": {
    "ExecuteTime": {
     "end_time": "2021-06-27T06:57:36.231155Z",
     "start_time": "2021-06-27T06:57:36.201063Z"
    },
    "scrolled": true
   },
   "outputs": [],
   "source": [
    "# your code here\n"
   ]
  },
  {
   "cell_type": "markdown",
   "metadata": {},
   "source": [
    "Tambahan parameter:\n",
    "\n",
    "- `var_name` untuk memberi nama terhadap kolom `variable`\n",
    "- `value_name` untuk memberi nama terhadap kolom `value`"
   ]
  },
  {
   "cell_type": "code",
   "execution_count": null,
   "metadata": {
    "ExecuteTime": {
     "end_time": "2021-06-27T06:57:36.267674Z",
     "start_time": "2021-06-27T06:57:36.233155Z"
    }
   },
   "outputs": [],
   "source": []
  },
  {
   "cell_type": "markdown",
   "metadata": {},
   "source": [
    "### (Optional) Pivot: Inverse of Melt\n",
    "\n",
    "Kebalikan dari method `melt()` adalah `pivot()`, yaitu mengubah dataframe dari long ke wide.\n",
    "\n",
    "<img src=\"assets/reshaping_pivot.png\" width=\"600\"/>\n",
    "\n",
    "Silahkan coba mengaplikasikan method `pivot()` pada objek `aapl_close_open`, sehingga index-nya berupa `Date` serta terdapat dua kolom `Close` dan `Open` (dari `Attributes`):"
   ]
  },
  {
   "cell_type": "code",
   "execution_count": null,
   "metadata": {
    "ExecuteTime": {
     "end_time": "2021-06-27T06:57:36.295791Z",
     "start_time": "2021-06-27T06:57:36.269671Z"
    },
    "scrolled": true
   },
   "outputs": [],
   "source": []
  },
  {
   "cell_type": "markdown",
   "metadata": {},
   "source": [
    "📌 Catatan tambahan:\n",
    " \n",
    "- `pivot_table()` untuk membuat tabel agregasi (ada nilai yang dirangkum)\n",
    "- `pivot()` hanya untuk reshaping (tidak ada nilai yang dirangkum)"
   ]
  },
  {
   "cell_type": "markdown",
   "metadata": {},
   "source": [
    "📌 Method reshaping yang sudah dipelajari sampai tahap ini:\n",
    "\n",
    "- `stack`, `unstack` (bekerja pada level untuk multi index)\n",
    "- `melt`, `pivot` (bekerja pada index, column untuk single index dataframe)\n",
    "- `reset_index` (level pada index menjadi kolom)"
   ]
  },
  {
   "cell_type": "markdown",
   "metadata": {},
   "source": [
    "# Visualization\n",
    "\n",
    "Tujuan Visualisasi:\n",
    "\n",
    "- Exploratory: proses untuk memfamiliarkan diri (berkenalan) dengan data melalui visualisasi, sehingga mendapatkan sebuah insight. Visualisasi yang ditampilkan biasanya sederhana. Analogi: mencari dan mendapatkan batu permata di antara ratusan batu biasa.\n",
    "- Explanatory: proses untuk menjelaskan atau menyajikan insight yang didapat dari hasil exploratory kepada user/audience. Visualisasi yang ditampilkan biasanya lebih menarik dan meng-highlight insight secara spesifik. Analogi: mempoles batu permata tersebut dan menawarkannya kepada pembeli.\n",
    "\n",
    "Pada course ini, dititikberatkan pada bagaimana cara kita menampilkan visualisasi data yang **informatif dan tepat**. Untuk memperindah tampilan visualisasi dapat di-eksplorasi secara mandiri melalui dokumentasi yang tersedia."
   ]
  },
  {
   "cell_type": "markdown",
   "metadata": {},
   "source": [
    "## Pandas and Matplotlib\n",
    "\n",
    "Sampai tahap ini mungkin Anda tidak sabar untuk melakukan visualisasi data di Python. Dengan cukup mudah, kita bisa membuat objek plot `matplotlib` dengan hanya menggunakan method `.plot()`. Kita dapat mengecek dependencies package `pandas` menggunakan `show_versions()`, dari situ kita bisa lihat bahwa `matplotlib` termasuk di dalamnya."
   ]
  },
  {
   "cell_type": "code",
   "execution_count": null,
   "metadata": {
    "ExecuteTime": {
     "end_time": "2021-06-27T06:57:36.617358Z",
     "start_time": "2021-06-27T06:57:36.297797Z"
    }
   },
   "outputs": [],
   "source": [
    "pd.show_versions()"
   ]
  },
  {
   "cell_type": "markdown",
   "metadata": {},
   "source": [
    "❗️ Sekarang mari kita coba melakukan visualisasi untuk **10 observasi (baris) pertama `Volume` pada `stock`**\n",
    "\n",
    "- Index akan menjadi sumbu horizontal pada plot (`Date`)\n",
    "- Nilai akan menjadi sumbu vertikal pada plot\n",
    "- Masing-masing kolom akan menjadi 1 komponen pada plot, dalam hal ini 1 `Symbols` menjadi 1 garis"
   ]
  },
  {
   "cell_type": "code",
   "execution_count": 48,
   "metadata": {
    "ExecuteTime": {
     "end_time": "2021-06-27T06:57:37.147615Z",
     "start_time": "2021-06-27T06:57:36.619358Z"
    }
   },
   "outputs": [],
   "source": [
    "# menyiapkan datanya terlebih dahulu\n"
   ]
  },
  {
   "cell_type": "code",
   "execution_count": null,
   "metadata": {},
   "outputs": [],
   "source": [
    "# visualisasi\n"
   ]
  },
  {
   "cell_type": "markdown",
   "metadata": {},
   "source": [
    "📈 Insight:\n",
    "\n",
    "- ...\n",
    "- ...\n",
    "- ..."
   ]
  },
  {
   "cell_type": "markdown",
   "metadata": {},
   "source": [
    "🔻 Cukup mudah bukan? Method `plot()` sudah mempermudah kita dalam melakukan visualisasi langsung pada DataFrame, tanpa perlu mengerti cara penggunaan `matplotlib`. Kunjungi [dokumentasi matplotlib](https://matplotlib.org/tutorials/introductory/usage.html#sphx-glr-tutorials-introductory-usage-py) untuk detail mengenai `matplotlib`.\n",
    "\n",
    "🔻 Namun, keterbatasan dari penggunaan `plot()` adalah minim kustomisasi dari visualisasi yang ada. Hanya terbatas pada parameter yang ada di dalam method tersebut. Kunjungi [dokumentasi method plot](https://pandas.pydata.org/pandas-docs/stable/reference/api/pandas.DataFrame.plot.html)."
   ]
  },
  {
   "cell_type": "markdown",
   "metadata": {},
   "source": [
    "🔻 Salah satu kustomisasi yang dapat kita lakukan untuk memperindah visualisasi adalah melalui [matplotlib style sheet](https://matplotlib.org/tutorials/introductory/customizing.html). Kita dapat mengganti nilai 'default' pada method `plt.style.use()` dengan salah satu style yang tersedia, kemudian jalankan kembali code visualisasi untuk menerapkan style yang dipilih.\n",
    "\n",
    "💡 **Tips:** Meskipun kode kita tidak menggunakan `matplotlib` secara eksplisit namun bergantung pada implementasi `pandas`, alangkah lebih baik kita tetap melakukan import untuk berinteraksi dengan plot: `import matplotlib.pyplot as plt`."
   ]
  },
  {
   "cell_type": "code",
   "execution_count": null,
   "metadata": {
    "ExecuteTime": {
     "end_time": "2021-06-27T06:57:37.158125Z",
     "start_time": "2021-06-27T06:57:37.149393Z"
    },
    "scrolled": true
   },
   "outputs": [],
   "source": [
    "import matplotlib.pyplot as plt\n",
    "print(plt.style.available)\n",
    "plt.style.use('seaborn')"
   ]
  },
  {
   "cell_type": "code",
   "execution_count": null,
   "metadata": {},
   "outputs": [],
   "source": [
    "stock['Volume'].head(n=10).plot();"
   ]
  },
  {
   "cell_type": "markdown",
   "metadata": {},
   "source": [
    "❓ Sekarang kita coba visualisasi dari object `aapl` berikut:"
   ]
  },
  {
   "cell_type": "code",
   "execution_count": null,
   "metadata": {
    "ExecuteTime": {
     "end_time": "2021-06-27T07:35:43.134433Z",
     "start_time": "2021-06-27T07:35:43.101462Z"
    }
   },
   "outputs": [],
   "source": [
    "march = pd.date_range(start=\"2018-03-01\", end=\"2019-03-31\")\n",
    "aapl = stock.xs('AAPL', level='Symbols', axis=1)\n",
    "aapl = aapl.reindex(march)\n",
    "aapl"
   ]
  },
  {
   "cell_type": "code",
   "execution_count": null,
   "metadata": {
    "ExecuteTime": {
     "end_time": "2021-06-27T07:35:49.076784Z",
     "start_time": "2021-06-27T07:35:48.598118Z"
    },
    "scrolled": false
   },
   "outputs": [],
   "source": [
    "# visualisasi\n"
   ]
  },
  {
   "cell_type": "markdown",
   "metadata": {},
   "source": [
    "💭 **Diskusi:** Apakah visualisasi tersebut sudah cukup informatif dan tepat? Apabila belum, hal apa saja yang bisa di-improve dari visualisasi tersebut?\n",
    "\n",
    "- [ ] Plot Volume tidak dapat digabung dengan attribute lain, karena satuannya berbeda\n",
    "- [ ] Pastikan data tidak ada missing value agar garis tidak terputus-putus\n",
    "- [ ] Menambahkan informasi judul (title), label vertikalnya (xlabel, ylabel)\n"
   ]
  },
  {
   "cell_type": "code",
   "execution_count": null,
   "metadata": {
    "ExecuteTime": {
     "end_time": "2021-06-27T06:57:38.641985Z",
     "start_time": "2021-06-27T06:57:38.112057Z"
    }
   },
   "outputs": [],
   "source": [
    "# Attribute: High dan Low\n"
   ]
  },
  {
   "cell_type": "markdown",
   "metadata": {},
   "source": [
    "Opsional: anatomi plot pada matplotlib https://matplotlib.org/stable/gallery/showcase/anatomy.html"
   ]
  },
  {
   "cell_type": "markdown",
   "metadata": {},
   "source": [
    "## 📌 Types of Visualization\n",
    "\n",
    "Secara default, `plot()` menampilkan visualisasi **line chart**. Ada beberapa tipe visualisasi lain yang dapat kita buat menggunakan `.plot`:\n",
    "\n",
    "Visualisasi berikut hanya perlu menggunakan **satu** kolom:\n",
    "\n",
    "- Data kategorik:\n",
    "    - **`.plot.bar()` atau `.plot.barh()` untuk barplot (diagram batang)**\n",
    "    - **`.plot.box()` atau `.boxplot()` untuk boxplot (berhubungan dengan five number summary)**\n",
    "    - `.plot.pie()` untuk pie chart\n",
    "    \n",
    "\n",
    "- Data numerik:\n",
    "    - **`.plot.hist()` untuk histogram**\n",
    "    - `.plot.kde()` atau `.plot.density()` untuk density plot\n",
    "    - `.plot.area()` untuk area plot\n",
    "\n",
    "Visualisasi berikut perlu menggunakan **dua** kolom:\n",
    "\n",
    "- Numerik vs numerik:\n",
    "    - `.plot.scatter()` untuk scatter plot\n",
    "    - `.plot.hexbin()` untuk hexagonal bin plot\n",
    "\n",
    "💡 Panduan untuk menentukan tipe visualisasi yang tepat: https://www.data-to-viz.com/\n",
    "\n",
    "**Silahkan mengacu referensi lengkapnya di [official documentation](https://pandas.pydata.org/pandas-docs/stable/reference/api/pandas.DataFrame.plot.html) untuk method `plot` apabila ingin eksplor visualisasi yang ada di luar lingkup course ini**"
   ]
  },
  {
   "cell_type": "markdown",
   "metadata": {},
   "source": [
    "### 📊 Bar plot\n",
    "\n",
    "❓ Menggunakan data `stock`, tampilkan visualisasi untuk **membandingkan** fluktuasi nilai `Open` pada masing-masing `Symbols`."
   ]
  },
  {
   "cell_type": "code",
   "execution_count": null,
   "metadata": {},
   "outputs": [],
   "source": [
    "cov = stock['Open'].std()/stock['Open'].mean()\n",
    "cov"
   ]
  },
  {
   "cell_type": "markdown",
   "metadata": {},
   "source": [
    "📈 Insight:\n",
    "\n",
    "- ...\n",
    "- ..."
   ]
  },
  {
   "cell_type": "markdown",
   "metadata": {},
   "source": [
    "❓ Gunakan parameter `kind='barh'` untuk menampilkan bar chart secara horizontal (mendatar)"
   ]
  },
  {
   "cell_type": "code",
   "execution_count": null,
   "metadata": {
    "ExecuteTime": {
     "end_time": "2021-06-27T06:57:39.032562Z",
     "start_time": "2021-06-27T06:57:38.836315Z"
    }
   },
   "outputs": [],
   "source": [
    "# code here\n"
   ]
  },
  {
   "cell_type": "markdown",
   "metadata": {},
   "source": [
    "---\n",
    "### 📝 Summary Day 2\n",
    "\n",
    "**Reshaping: Melt vs Pivot**\n",
    "\n",
    "- `melt()`: mengubah bentuk DataFrame dari ... menjadi ..., parameter:\n",
    "    - `id_vars`: kolom yang menjadi **identifier variables**\n",
    "    - `value_vars`: kolom yang menjadi **value variables**\n",
    "    - `var_name`: memberi **nama** terhadap kolom **variable**\n",
    "    - `value_name`: memberi **nama** terhadap kolom **value**\n",
    "- `pivot()`: mengubah bentuk DataFrame dari ... menjadi ..., parameter:\n",
    "    - `index`: kolom yang menjadi **nama baris** pada hasil reshaping\n",
    "    - `columns`: kolom yang menjadi **nama kolom** pada hasil reshaping\n",
    "    - `values`: kolom yang merupakan **nilai** pada hasil reshaping\n",
    "    - Perbedaannya dengan `pivot_table()` adalah pivot_table = agregasi sedangkan pivot = reshape\n",
    "\n",
    "**Visualization**\n",
    "\n",
    "Tujuan Visualisasi:\n",
    "- Exploratory: proses menghasilkan visualisasi secara cepat dan sederhana untuk menggali insight\n",
    "- Explanatory: proses untuk mempercantik visualisasi dan menyajikannya dalam bentuk dashboard/reporting\n",
    "\n",
    "**Types of Visualization**\n",
    "\n",
    "Pada `pandas`, kita dapat menggunakan method `.plot()` untuk melakukan visualisasi dengan bantuan package `matplotlib`\n",
    "- Default: ...\n",
    "- Bar plot: ...\n",
    "    - Vertikal: `.plot(kind='bar')` atau `.plot.bar()`\n",
    "    - Horizontal: `.plot(kind='barh')` atau `.plot.barh()`\n",
    "\n",
    "---"
   ]
  },
  {
   "cell_type": "markdown",
   "metadata": {},
   "source": [
    "**END OF DAY 2**\n",
    "\n",
    "---\n",
    "\n",
    "**START OF DAY 3**"
   ]
  },
  {
   "cell_type": "markdown",
   "metadata": {},
   "source": [
    "### Histogram\n",
    "\n",
    "Menggunakan data `stock`, tampilkan visualisasi histogram untuk mengetahui **persebaran** `Volume` pada saham `GOOGL`:"
   ]
  },
  {
   "cell_type": "code",
   "execution_count": null,
   "metadata": {
    "ExecuteTime": {
     "end_time": "2021-06-27T06:57:39.247896Z",
     "start_time": "2021-06-27T06:57:39.036449Z"
    }
   },
   "outputs": [],
   "source": [
    "# menyiapkan data\n"
   ]
  },
  {
   "cell_type": "code",
   "execution_count": null,
   "metadata": {},
   "outputs": [],
   "source": [
    "# visualisasi\n"
   ]
  },
  {
   "cell_type": "markdown",
   "metadata": {},
   "source": [
    "📈 Insight: ..."
   ]
  },
  {
   "cell_type": "markdown",
   "metadata": {},
   "source": [
    "### 💭 Knowledge Check: Bar plot vs Histogram\n",
    "\n",
    "Setelah membuat kedua plot di atas, apa perbedaan antara bar plot dengan histogram?\n",
    "\n",
    "- Barplot digunakan untuk ...\n",
    "- Histogram digunakan untuk ..."
   ]
  },
  {
   "cell_type": "markdown",
   "metadata": {},
   "source": [
    "### Box plot\n",
    "\n",
    "❓ Menggunakan data `stock`, tampilkan visualisasi box plot untuk membandingkan **persebaran** `Volume` untuk ketiga saham."
   ]
  },
  {
   "cell_type": "code",
   "execution_count": null,
   "metadata": {
    "ExecuteTime": {
     "end_time": "2021-06-27T06:57:39.448608Z",
     "start_time": "2021-06-27T06:57:39.251591Z"
    },
    "scrolled": false
   },
   "outputs": [],
   "source": []
  },
  {
   "cell_type": "markdown",
   "metadata": {},
   "source": [
    "Box plot menggambarkan **five number summary** sebagai berikut: \n",
    "\n",
    "<img src=\"assets/boxplot.png\" width=\"600\"/>\n",
    "\n",
    "- Q1: kuartil 1 (data ke 25%)\n",
    "- Median: kuartil 2 (data ke 50%)\n",
    "- Q3: kuartil 3 (data ke 75%)\n",
    "- Lower whisker: pagar bawah\n",
    "- Upper whisker: pagar atas\n",
    "- Data di luar pagar akan dianggap sebagai outlier atau data pencilan\n",
    "\n",
    "⚠️ Lower whisker bukan nilai minimum data. Upper whisker juga buka nilai maksimum data"
   ]
  },
  {
   "cell_type": "code",
   "execution_count": null,
   "metadata": {
    "ExecuteTime": {
     "end_time": "2021-06-27T06:57:39.531206Z",
     "start_time": "2021-06-27T06:57:39.451230Z"
    },
    "scrolled": true
   },
   "outputs": [],
   "source": [
    "# informasi mengenai quartile 1, 2, dan 3\n"
   ]
  },
  {
   "cell_type": "markdown",
   "metadata": {},
   "source": [
    "Gunakan parameter `vert=False` untuk melihat boxplot secara horizontal:"
   ]
  },
  {
   "cell_type": "code",
   "execution_count": null,
   "metadata": {
    "ExecuteTime": {
     "end_time": "2021-06-27T06:57:39.696398Z",
     "start_time": "2021-06-27T06:57:39.534194Z"
    }
   },
   "outputs": [],
   "source": []
  },
  {
   "cell_type": "markdown",
   "metadata": {},
   "source": [
    "📌 Catatan: visualisasi boxplot di atas kurang tepat, karena dalam dunia saham kita tidak boleh langsung membandingkan nilai volumenya secara absolute, melainkan biasanya kita melihatnya secara relatif / persentasenya tergantung lembar saham yang dijual."
   ]
  },
  {
   "cell_type": "markdown",
   "metadata": {},
   "source": [
    "❓ **Kasus**: Tampilkan **persebaran** Volume GOOGL untuk masing-masing periode `quarter`nya:\n",
    "\n",
    "- Memindahkan index `Date` menjadi kolom\n",
    "- Mengekstrak periode kuarter dari `Date` menggunakan `.dt.to_period()`, simpan ke kolom `quarter`"
   ]
  },
  {
   "cell_type": "code",
   "execution_count": null,
   "metadata": {
    "ExecuteTime": {
     "end_time": "2021-06-27T06:57:39.737719Z",
     "start_time": "2021-06-27T06:57:39.700431Z"
    },
    "scrolled": true
   },
   "outputs": [],
   "source": [
    "# mempersiapkan data\n"
   ]
  },
  {
   "cell_type": "markdown",
   "metadata": {},
   "source": [
    "Alternatif `.plot(kind='box')`: Method `.boxplot()` akan mempermudah Anda ketika ingin membuat boxplot namun dikelompokkan berdasarkan kolom tertentu"
   ]
  },
  {
   "cell_type": "code",
   "execution_count": null,
   "metadata": {
    "ExecuteTime": {
     "end_time": "2021-06-27T06:57:40.196465Z",
     "start_time": "2021-06-27T06:57:39.739756Z"
    },
    "scrolled": true
   },
   "outputs": [],
   "source": [
    "# visualisasi\n"
   ]
  },
  {
   "cell_type": "markdown",
   "metadata": {},
   "source": [
    "📈 Insight:\n",
    "\n",
    "- Dari median: ...\n",
    "- Dari lebar kotak: ...\n",
    "- Dari outlier: ..."
   ]
  },
  {
   "cell_type": "markdown",
   "metadata": {},
   "source": [
    "## (Additional) Other Python Libraries for Visualization\n",
    "\n",
    "Apabila Anda tertarik mengenai visualisasi di Python, silahkan eksplorasi lebih lanjut package-package berikut:\n",
    "\n",
    "- `matplotlib`: semua elemen pada visualisasi dapat dikustomisasi, namun membutuhkan code yang lebih panjang. [Dokumentasi Matplotlib](https://matplotlib.org/3.2.2/tutorials/index.html) \n",
    "- `seaborn`: dikembangkan dari `matplotlib`, lebih sedikit yang dapat dikustomisasi namun lebih mudah. [Dokumentasi Seaborn](https://seaborn.pydata.org/introduction.html)\n",
    "- `plotly`: plot interaktif serta kompatibilitas dengan bahasa lain yang tinggi. [Dokumentasi Plotly](https://plotly.com/python/)\n",
    "- `altair`: plot interaktif yang bersifat deklaratif, code relatif lebih mudah. [Dokumentasi Altair](https://altair-viz.github.io/index.html)\n",
    "\n",
    "Referensi perbandingan library: https://askalgo-py.netlify.app/docs/dwv#adakah-library-visualisasi-data-di-python-selain-matplotlib"
   ]
  },
  {
   "cell_type": "markdown",
   "metadata": {},
   "source": [
    "# Group By: Aggregation Table\n",
    "\n",
    "Teknik yang tak kalah penting adalah operasi **group by**. Mungkin untuk Anda yang sudah pernah menggunakan SQL atau tools lain seperti `tidyverse` pada bahasa R akan familiar dengan operasi group by ini.\n",
    "\n",
    "❗️ Misalkan kita punya dataframe `close_melted` yang ingin kita bandingkan nilai `Close` hariannya pada saham AAPL, FB, dan GOOGL:"
   ]
  },
  {
   "cell_type": "code",
   "execution_count": null,
   "metadata": {
    "ExecuteTime": {
     "end_time": "2021-06-27T06:57:40.224292Z",
     "start_time": "2021-06-27T06:57:40.200526Z"
    },
    "scrolled": false
   },
   "outputs": [],
   "source": [
    "close = stock.xs('Close', level='Attributes', axis=1)\n",
    "close_melted = close.reset_index().melt(id_vars='Date', value_name='Close')\n",
    "close_melted"
   ]
  },
  {
   "cell_type": "markdown",
   "metadata": {},
   "source": [
    "❓ **Pertanyaan**: Di antara AAPL, FB, GOOGL, manakah saham yang memiliki **rata-rata** `Close` harian tertinggi?\n",
    "\n",
    "Pertama, coba buatlah tabel agregasi dengan `crosstab()` dan juga `pivot_table()`:"
   ]
  },
  {
   "cell_type": "code",
   "execution_count": null,
   "metadata": {
    "ExecuteTime": {
     "end_time": "2021-06-27T06:57:40.262123Z",
     "start_time": "2021-06-27T06:57:40.226423Z"
    },
    "scrolled": true
   },
   "outputs": [],
   "source": [
    "# versi crosstab\n"
   ]
  },
  {
   "cell_type": "code",
   "execution_count": null,
   "metadata": {
    "ExecuteTime": {
     "end_time": "2021-06-27T06:57:40.289623Z",
     "start_time": "2021-06-27T06:57:40.264234Z"
    },
    "scrolled": true
   },
   "outputs": [],
   "source": [
    "# versi pivot_table: \n"
   ]
  },
  {
   "cell_type": "markdown",
   "metadata": {},
   "source": [
    "**Ingat kembali:** \n",
    "\n",
    "Persamaan antara `crosstab` dan `pivot_table` yaitu keduanya dapat digunakan untuk menghasilkan tabel agregasi yang memiliki parameter `index`, `columns`, `values`, and `aggfunc`.\n",
    "\n",
    "Perbedaan antara `crosstab` dan `pivot_table` dapat dirangkum dalam tabel berikut:\n",
    "\n",
    "|                                                                                    | `pd.crosstab()` | `pd.pivot_table()` |\n",
    "|------------------------------------------------------------------------------------|-----------------|--------------------|\n",
    "|                                                                          **Input** | Array of values/Series |          DataFrame (parameter `data`)|\n",
    "|                                                              **Default `aggfunc`** |       `'count'` |           `'mean'` |\n",
    "|                                                          **Parameter `columns`** |       Mandatory |      Optional |\n",
    "|                                                          **Parameter `normalize`** |       Available |      Not Available |\n",
    "| [**Computation Time**](https://ramiro.org/notebook/pandas-crosstab-groupby-pivot/) | Relatively Slower |  Relatively Faster |"
   ]
  },
  {
   "cell_type": "markdown",
   "metadata": {},
   "source": [
    "Bandingkan dengan method `groupby()`:"
   ]
  },
  {
   "cell_type": "code",
   "execution_count": null,
   "metadata": {
    "ExecuteTime": {
     "end_time": "2021-06-27T06:57:40.309039Z",
     "start_time": "2021-06-27T06:57:40.291626Z"
    }
   },
   "outputs": [],
   "source": [
    "# versi groupby\n"
   ]
  },
  {
   "cell_type": "code",
   "execution_count": null,
   "metadata": {},
   "outputs": [],
   "source": [
    "# mengurutkan tabel hasil groupby berdasarkan nilai Close\n"
   ]
  },
  {
   "cell_type": "markdown",
   "metadata": {},
   "source": [
    "Istilah **group by** merupakan gabungan dari proses:\n",
    "\n",
    "1. Split: mengelompokkan baris, co: dikelompokkan berdasarkan `Symbols`\n",
    "2. Apply: menerapkan fungsi untuk masing-masing kelompok, co: dihitung mean untuk masing-masing `Symbols`\n",
    "3. Combine: mengembalikan hasil dalam bentuk 1 tabel\n",
    "\n",
    "Ilustrasi proses **split-apply-combine** dapat dilihat pada [Google Sheet](https://docs.google.com/spreadsheets/d/1i58D8cXXGfKVs_2yBzXp4vD1Dku2p6HvDaCJBLB_-rg/edit#gid=0)"
   ]
  },
  {
   "cell_type": "markdown",
   "metadata": {},
   "source": [
    "## Visualizing Barchart for Comparison\n",
    "\n",
    "Sampai di sini kita tahu bahwa GOOGL memiliki rata-rata `Close` transaksi harian tertinggi dari visualisasi bar plot yang dihasilkan pada bagian sebelumnya. Untuk selanjutnya, mari kita menganalisa `Close` dari saham GOOGL. Kita bisa menggunakan method `day_name()` untuk mengekstrak nama hari dari `Date`:"
   ]
  },
  {
   "cell_type": "code",
   "execution_count": null,
   "metadata": {
    "ExecuteTime": {
     "end_time": "2021-06-27T06:57:40.333606Z",
     "start_time": "2021-06-27T06:57:40.311074Z"
    },
    "scrolled": false
   },
   "outputs": [],
   "source": [
    "googl = stock.xs('GOOGL', level='Symbols', axis=1).copy()\n",
    "googl['Close_Diff'] = googl['Close'].diff()\n",
    "googl['Weekday'] = googl.index.day_name()\n",
    "googl"
   ]
  },
  {
   "cell_type": "markdown",
   "metadata": {},
   "source": [
    "Perhatikan kolom `Close_Diff` yang dibuat di atas, nilai ini merupakan perbedaan antara nilai `Close` pada hari tertentu dengan hari berikutnya.\n",
    "\n",
    "❓ **Kasus:** Misalkan kita ingin membandingkan `Close_Diff` di setiap hari kerja. Untuk saham GOOGL, apakah secara rata-rata pada hari Kamis (Thursday) mencatat perbedaan yang lebih tinggi dibandingkan dengan hari Jumat (Friday)?"
   ]
  },
  {
   "cell_type": "code",
   "execution_count": null,
   "metadata": {
    "ExecuteTime": {
     "end_time": "2021-06-27T06:57:40.351131Z",
     "start_time": "2021-06-27T06:57:40.335606Z"
    }
   },
   "outputs": [],
   "source": [
    "# mempersiapkan data: gunakan groupby\n"
   ]
  },
  {
   "cell_type": "code",
   "execution_count": null,
   "metadata": {
    "ExecuteTime": {
     "end_time": "2021-06-27T06:57:40.515953Z",
     "start_time": "2021-06-27T06:57:40.354131Z"
    }
   },
   "outputs": [],
   "source": [
    "# visualisasi\n"
   ]
  },
  {
   "cell_type": "markdown",
   "metadata": {},
   "source": [
    "❓ **Diskusi:** Apakah plot di atas sudah cukup efektif? Kalau belum, apa yang perlu diperbaiki dari plot di atas?\n",
    "\n",
    "<!--\n",
    "googl_close_diff = googl.groupby('Weekday').mean()['Close_Diff']\n",
    "googl_close_diff.index\n",
    "\n",
    "wday = [\"Monday\", \"Tuesday\", \"Wednesday\", \"Thursday\", \"Friday\"]\n",
    "googl_close_diff.index = pd.CategoricalIndex(\n",
    "    data = googl_close_diff.index,\n",
    "    categories = wday,\n",
    "    ordered = True)\n",
    "googl_close_diff.index\n",
    "-->"
   ]
  },
  {
   "cell_type": "code",
   "execution_count": null,
   "metadata": {
    "ExecuteTime": {
     "end_time": "2021-06-27T06:57:40.722698Z",
     "start_time": "2021-06-27T06:57:40.560437Z"
    }
   },
   "outputs": [],
   "source": []
  },
  {
   "cell_type": "code",
   "execution_count": null,
   "metadata": {},
   "outputs": [],
   "source": []
  },
  {
   "cell_type": "markdown",
   "metadata": {},
   "source": [
    "- mengurutkan berdasarkan nilai: `.sort_values()`\n",
    "- mengurutkan berdasarkan index: `.sort_index()`"
   ]
  },
  {
   "cell_type": "code",
   "execution_count": null,
   "metadata": {},
   "outputs": [],
   "source": [
    "# visualisasi\n"
   ]
  },
  {
   "cell_type": "markdown",
   "metadata": {},
   "source": [
    "📈 Insight: ..."
   ]
  },
  {
   "cell_type": "markdown",
   "metadata": {},
   "source": [
    "Alternatif barplot horizontal:\n",
    "\n",
    "📌 Note: preferensi pengurutan index: dari **kiri ke kanan** atau **atas ke bawah**"
   ]
  },
  {
   "cell_type": "code",
   "execution_count": null,
   "metadata": {},
   "outputs": [],
   "source": [
    "# alternatif 1 untuk mengubah urutan weekday pada horizontal barplot\n",
    "googl_close_diff.sort_index(ascending=False).plot(kind='barh');"
   ]
  },
  {
   "cell_type": "markdown",
   "metadata": {},
   "source": [
    "---\n",
    "### 📝 Summary Day 3\n",
    "\n",
    "**Types of Visualization (cont.)**\n",
    "\n",
    "- Histogram: ...\n",
    "    - `.plot(kind='hist')` atau `.plot.hist()`\n",
    "- Boxplot: ...\n",
    "    - `.plot(kind='box')` atau `.plot.box()` atau `.boxplot()`\n",
    "    - Insight:\n",
    "        - ...\n",
    "        - ...\n",
    "        - ...\n",
    "        \n",
    "- Istilah group by merupakan gabungan dari proses:\n",
    "    - Mengelompokkan baris berdasarkan kolom tertentu: split\n",
    "    - Menerapkan fungsi untuk masing-masing kelompok: apply\n",
    "    - Mengembalikan hasil dalam bentuk 1 tabel: combine\n",
    "\n",
    "- Syntax:\n",
    "\n",
    "```\n",
    "    df.groupby([COLUMNS_TO_GROUP])[[VALUES]].AGGFUNC()\n",
    "    df.groupby([COLUMNS_TO_GROUP]).AGGFUNC()[[VALUES]]\n",
    "```\n",
    "\n",
    "- `COLUMNS_TO_GROUP` mengacu pada kolom yang ingin dikelompokkan, seperti parameter `index` atau `columns` pada `crosstab`/`pivot_table`\n",
    "- `VALUES` mengacu pada kolom yang ingin di-agregasi, seperti parameter `values` pada `crosstab`/`pivot_table`\n",
    "- `AGGFUNC` mengacu pada fungsi agregat yang ingin diterapkan pada `VALUES`, seperti parameter `aggfunc` pada `crosstab`/`pivot_table`. Dapat berupa method `.agg()` untuk menspesifikan fungsi agregat untuk masing-masing kolom.\n",
    "\n",
    "---"
   ]
  },
  {
   "cell_type": "markdown",
   "metadata": {},
   "source": [
    "**END OF DAY 3**\n",
    "\n",
    "---\n",
    "\n",
    "**START OF DAY 4**"
   ]
  },
  {
   "cell_type": "markdown",
   "metadata": {},
   "source": [
    "## Using Grouped Barchart\n",
    "\n",
    "💭 Masih ingat dengan dataframe `closingprice`? Kita akan coba memvisualisasikan **grouped barchart** untuk membandingkan nilai `Close` untuk ketiga saham **setiap bulannya** pada kuartal pertama tahun 2019.\n",
    "\n",
    "- Pertama, kita memastikan `closingprice` tidak memiliki missing values dengan melakukan imputasi forward dan backward fill.\n",
    "- Selanjutnya, gunakan objek `closingprice` untuk menampilkan nilai **rata-rata** `Close` untuk setiap bulannya. Simpan tabel agregasi ke objek `average_closing`.\n",
    "\n",
    "📌 Note: untuk mengambil nama bulan tidak perlu `.dt` lagi, karena sudah berupa objek DatetimeIndex."
   ]
  },
  {
   "cell_type": "code",
   "execution_count": null,
   "metadata": {
    "ExecuteTime": {
     "end_time": "2021-06-27T06:57:40.933751Z",
     "start_time": "2021-06-27T06:57:40.919695Z"
    },
    "scrolled": false
   },
   "outputs": [],
   "source": [
    "# mempersiapkan data\n",
    "closingprice = closingprice.ffill().bfill()\n",
    "closingprice['Month'] = closingprice.index.month_name()\n",
    "average_closing = closingprice.groupby('Month').mean()\n",
    "average_closing"
   ]
  },
  {
   "cell_type": "markdown",
   "metadata": {},
   "source": [
    "Visualisasi:\n",
    "\n",
    "- Index menjadi sumbu horizontal\n",
    "- Column menjadi grouping untuk bar chartnya"
   ]
  },
  {
   "cell_type": "code",
   "execution_count": null,
   "metadata": {
    "ExecuteTime": {
     "end_time": "2021-06-27T06:57:41.126842Z",
     "start_time": "2021-06-27T06:57:40.934757Z"
    }
   },
   "outputs": [],
   "source": [
    "# visualisasi\n"
   ]
  },
  {
   "cell_type": "markdown",
   "metadata": {},
   "source": [
    "❓ **Diskusi:** Apakah plot di atas sudah cukup efektif? Kalau belum, apa yang perlu diperbaiki dari plot di atas?\n",
    "\n",
    "<!--\n",
    "months = ['January', 'February', 'March', 'April', 'May', 'June', 'July', 'August', 'September', 'October', 'November', 'December']\n",
    "average_closing.index = pd.CategoricalIndex(\n",
    "    data=...,\n",
    "    categories=...,\n",
    "    ordered=...)\n",
    "-->"
   ]
  },
  {
   "cell_type": "code",
   "execution_count": null,
   "metadata": {
    "ExecuteTime": {
     "end_time": "2021-06-27T06:57:41.135860Z",
     "start_time": "2021-06-27T06:57:41.128845Z"
    },
    "scrolled": false
   },
   "outputs": [],
   "source": []
  },
  {
   "cell_type": "code",
   "execution_count": null,
   "metadata": {},
   "outputs": [],
   "source": [
    "# improvement visualisasi\n"
   ]
  },
  {
   "cell_type": "markdown",
   "metadata": {},
   "source": [
    "📈 Insight: ..."
   ]
  },
  {
   "cell_type": "markdown",
   "metadata": {},
   "source": [
    "## 💭 Knowledge Check: Group By + Reshaping\n",
    "\n",
    "Misal Anda dihadapkan dengan long DataFrame seperti pada `closingprice_melt` berikut:"
   ]
  },
  {
   "cell_type": "code",
   "execution_count": null,
   "metadata": {
    "ExecuteTime": {
     "end_time": "2021-06-27T06:57:41.579670Z",
     "start_time": "2021-06-27T06:57:41.565029Z"
    },
    "scrolled": true
   },
   "outputs": [],
   "source": [
    "closingprice_melt = closingprice.melt(id_vars='Month', value_name='Close')\n",
    "closingprice_melt"
   ]
  },
  {
   "cell_type": "markdown",
   "metadata": {},
   "source": [
    "❓ Kira-kira bagaimana cara kita mengubah bentuk `closingprice_melt` menjadi `average_closing`?\n",
    "\n",
    "**Hint:** Gunakan teknik `groupby` dan juga reshaping"
   ]
  },
  {
   "cell_type": "code",
   "execution_count": null,
   "metadata": {
    "ExecuteTime": {
     "end_time": "2021-06-27T06:57:41.624933Z",
     "start_time": "2021-06-27T06:57:41.604757Z"
    },
    "run_control": {
     "marked": false
    },
    "scrolled": false
   },
   "outputs": [],
   "source": [
    "# your code here\n"
   ]
  },
  {
   "cell_type": "code",
   "execution_count": null,
   "metadata": {},
   "outputs": [],
   "source": [
    "# reshape agar bentuknya sama seperti average_closing\n"
   ]
  },
  {
   "cell_type": "markdown",
   "metadata": {},
   "source": [
    "Ilustrasi group by pada kasus di atas dapat dilihat pada [Google Sheet](https://docs.google.com/spreadsheets/d/1i58D8cXXGfKVs_2yBzXp4vD1Dku2p6HvDaCJBLB_-rg/edit?usp=sharing)"
   ]
  },
  {
   "cell_type": "markdown",
   "metadata": {},
   "source": [
    "## Combining `agg` and `groupby`\n",
    "\n",
    "❗️ Perhatikan group by operation di bawah ini yang di-chaining dengan aggregate method `mean()`:"
   ]
  },
  {
   "cell_type": "code",
   "execution_count": null,
   "metadata": {
    "ExecuteTime": {
     "end_time": "2021-06-27T07:45:07.722050Z",
     "start_time": "2021-06-27T07:45:07.689748Z"
    },
    "run_control": {
     "marked": false
    },
    "scrolled": false
   },
   "outputs": [],
   "source": [
    "stock_long = stock.stack().reset_index()\n",
    "stock_long.head()"
   ]
  },
  {
   "cell_type": "code",
   "execution_count": null,
   "metadata": {
    "ExecuteTime": {
     "end_time": "2021-06-27T07:45:18.340409Z",
     "start_time": "2021-06-27T07:45:18.318425Z"
    }
   },
   "outputs": [],
   "source": [
    "# aggregasi biasa\n",
    "stock_long.groupby('Symbols').mean()"
   ]
  },
  {
   "cell_type": "markdown",
   "metadata": {},
   "source": [
    "Misalkan kita ingin membuat tabel agregasi dengan `aggfunc` yang berbeda-beda untuk masing-masing `Symbols` berupa:\n",
    "- Maximum `stock` price (`max` dari `High`)\n",
    "- Minimum `stock` price (`min` dari `Low`)\n",
    "- Rata-rata closing price (`mean` dari `Close`)\n",
    "\n",
    "Untuk mendapat hasil tersebut, kita harus melakukan chaining `groupby` dengan method `agg`. Kita harus menyertakan mapping (**dictionary**) untuk setiap kolom dengan fungsi agregasinya seperti berikut ini:"
   ]
  },
  {
   "cell_type": "markdown",
   "metadata": {},
   "source": [
    "Syntax:\n",
    "\n",
    "```\n",
    ".agg({\n",
    "    'NAMA_KOLOM': 'FUNGSI_AGREGASI'\n",
    "})\n",
    "```"
   ]
  },
  {
   "cell_type": "code",
   "execution_count": null,
   "metadata": {},
   "outputs": [],
   "source": [
    "# contoh penggunaan method agg untuk menerapkan fungsi std pada 1 kolom, yaitu Close\n"
   ]
  },
  {
   "cell_type": "code",
   "execution_count": null,
   "metadata": {
    "ExecuteTime": {
     "end_time": "2021-06-27T06:57:41.676103Z",
     "start_time": "2021-06-27T06:57:41.660257Z"
    },
    "scrolled": true
   },
   "outputs": [],
   "source": [
    "# contoh penggunaan untuk fungsi yang berbeda pada setiap kolonya\n",
    "stock_summary = \n"
   ]
  },
  {
   "cell_type": "markdown",
   "metadata": {},
   "source": [
    "❓ Visualisasikan tabel agregasi di atas untuk membandingkan nilai tersebut:"
   ]
  },
  {
   "cell_type": "code",
   "execution_count": null,
   "metadata": {
    "ExecuteTime": {
     "end_time": "2021-06-27T06:57:41.892221Z",
     "start_time": "2021-06-27T06:57:41.687517Z"
    }
   },
   "outputs": [],
   "source": [
    "# visualisasi\n"
   ]
  },
  {
   "cell_type": "markdown",
   "metadata": {},
   "source": [
    "📈 Insight:\n",
    "\n",
    "..."
   ]
  },
  {
   "cell_type": "markdown",
   "metadata": {},
   "source": [
    "## 💭 Knowledge Check: Vizualization\n",
    "\n",
    "Perhatikan dataframe `monthly_closing` berikut:"
   ]
  },
  {
   "cell_type": "code",
   "execution_count": null,
   "metadata": {
    "ExecuteTime": {
     "end_time": "2021-06-27T06:57:41.925703Z",
     "start_time": "2021-06-27T06:57:41.899075Z"
    },
    "scrolled": true
   },
   "outputs": [],
   "source": [
    "stock['YearMonth'] = stock.index.to_period('M')\n",
    "monthly_closing = stock.groupby('YearMonth').mean()['Close']\n",
    "monthly_closing.head()"
   ]
  },
  {
   "cell_type": "markdown",
   "metadata": {},
   "source": [
    "Tipe plot mana yang paling sesuai untuk data di atas, apabila kita ingin melihat pergerakan nilai `Close` dari waktu ke waktu?\n",
    "\n",
    "- [ ] Line plot `.plot()`\n",
    "- [ ] Scatter plot `.plot.scatter(x, y)`\n",
    "- [ ] Bar plot `.plot.bar()`\n",
    "- [ ] Box plot `.plot.box()`"
   ]
  },
  {
   "cell_type": "code",
   "execution_count": null,
   "metadata": {
    "ExecuteTime": {
     "end_time": "2021-06-27T06:57:43.850571Z",
     "start_time": "2021-06-27T06:57:41.927788Z"
    },
    "scrolled": false
   },
   "outputs": [],
   "source": [
    "# your code here\n",
    "# line plot\n",
    "monthly_closing.plot()"
   ]
  },
  {
   "cell_type": "code",
   "execution_count": null,
   "metadata": {},
   "outputs": [],
   "source": [
    "# bar plot\n",
    "monthly_closing.plot(kind='bar')"
   ]
  },
  {
   "cell_type": "code",
   "execution_count": null,
   "metadata": {},
   "outputs": [],
   "source": [
    "# box plot\n",
    "monthly_closing.plot(kind='box')"
   ]
  },
  {
   "cell_type": "code",
   "execution_count": null,
   "metadata": {},
   "outputs": [],
   "source": [
    "monthly_closing.head()"
   ]
  },
  {
   "cell_type": "code",
   "execution_count": null,
   "metadata": {},
   "outputs": [],
   "source": [
    "monthly_closing.plot.scatter(x='AAPL', y='FB')"
   ]
  }
 ],
 "metadata": {
  "kernelspec": {
   "display_name": "qoppa-new",
   "language": "python",
   "name": "qoppa-new"
  },
  "language_info": {
   "codemirror_mode": {
    "name": "ipython",
    "version": 3
   },
   "file_extension": ".py",
   "mimetype": "text/x-python",
   "name": "python",
   "nbconvert_exporter": "python",
   "pygments_lexer": "ipython3",
   "version": "3.9.7"
  },
  "toc": {
   "base_numbering": 1,
   "nav_menu": {},
   "number_sections": true,
   "sideBar": true,
   "skip_h1_title": false,
   "title_cell": "Table of Contents",
   "title_sidebar": "Contents",
   "toc_cell": false,
   "toc_position": {
    "height": "calc(100% - 180px)",
    "left": "10px",
    "top": "150px",
    "width": "243.458px"
   },
   "toc_section_display": true,
   "toc_window_display": true
  },
  "varInspector": {
   "cols": {
    "lenName": 16,
    "lenType": 16,
    "lenVar": 40
   },
   "kernels_config": {
    "python": {
     "delete_cmd_postfix": "",
     "delete_cmd_prefix": "del ",
     "library": "var_list.py",
     "varRefreshCmd": "print(var_dic_list())"
    },
    "r": {
     "delete_cmd_postfix": ") ",
     "delete_cmd_prefix": "rm(",
     "library": "var_list.r",
     "varRefreshCmd": "cat(var_dic_list()) "
    }
   },
   "types_to_exclude": [
    "module",
    "function",
    "builtin_function_or_method",
    "instance",
    "_Feature"
   ],
   "window_display": false
  }
 },
 "nbformat": 4,
 "nbformat_minor": 4
}
