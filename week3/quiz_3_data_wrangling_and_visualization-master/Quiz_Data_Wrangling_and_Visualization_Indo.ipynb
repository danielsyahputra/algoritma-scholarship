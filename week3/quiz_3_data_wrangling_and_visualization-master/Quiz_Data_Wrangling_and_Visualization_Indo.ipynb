{
 "cells": [
  {
   "cell_type": "markdown",
   "metadata": {},
   "source": [
    "# Quiz: Data Wrangling and Visualization\n",
    "\n",
    "Kuis ini merupakan bagian dari proses penilaian *Algoritma Academy*. Selamat Anda sudah menyelesaikan materi *Data Wrangling and Visualization*! Kami akan melakukan penilaian berupa kuis untuk menguji materi yang sudah dipelajari. Pengerjaan kuis diharapkan dapat dilakukan di dalam kelas, silakan hubungi tim pengajar kami jika Anda melewatkan kesempatan untuk mengambilnya di kelas."
   ]
  },
  {
   "cell_type": "code",
   "execution_count": 213,
   "metadata": {},
   "outputs": [],
   "source": [
    "import pandas as pd\n",
    "import matplotlib as plt"
   ]
  },
  {
   "cell_type": "markdown",
   "metadata": {},
   "source": [
    "\n",
    "# Data Preparation\n",
    "\n",
    "Pada kuis ini, data yang akan kita gunakan adalah **ringkasan data transaksi** sebuah toko ritel online yang diperoleh dari UCI Machine Learning [repository](https://archive.ics.uci.edu/ml/datasets/online+retail). Semua transaksi terjadi di akhir tahun 2010 sampai akhir tahun 2011 untuk ritel online non-toko yang berbasis dan terdaftar di UK: \n",
    "\n",
    "- `InvoiceNo`: ID invoice unik\n",
    "- `TotalPrice`: total harga dari suatu transaksi\n",
    "- `UniqueItem`: banyak item unik yang dibeli pada tiap transaksi/invoice\n",
    "- `CustomerID`: kode identifikasi customer\n",
    "- `Country`: negara asal customer\n",
    "- `InvoiceDate`: tanggal transaksi"
   ]
  },
  {
   "cell_type": "code",
   "execution_count": 214,
   "metadata": {
    "scrolled": true
   },
   "outputs": [
    {
     "data": {
      "text/html": [
       "<div>\n",
       "<style scoped>\n",
       "    .dataframe tbody tr th:only-of-type {\n",
       "        vertical-align: middle;\n",
       "    }\n",
       "\n",
       "    .dataframe tbody tr th {\n",
       "        vertical-align: top;\n",
       "    }\n",
       "\n",
       "    .dataframe thead th {\n",
       "        text-align: right;\n",
       "    }\n",
       "</style>\n",
       "<table border=\"1\" class=\"dataframe\">\n",
       "  <thead>\n",
       "    <tr style=\"text-align: right;\">\n",
       "      <th></th>\n",
       "      <th>UniqueItem</th>\n",
       "      <th>TotalPrice</th>\n",
       "      <th>CustomerID</th>\n",
       "      <th>Country</th>\n",
       "      <th>InvoiceDate</th>\n",
       "    </tr>\n",
       "    <tr>\n",
       "      <th>InvoiceNo</th>\n",
       "      <th></th>\n",
       "      <th></th>\n",
       "      <th></th>\n",
       "      <th></th>\n",
       "      <th></th>\n",
       "    </tr>\n",
       "  </thead>\n",
       "  <tbody>\n",
       "    <tr>\n",
       "      <th>536365</th>\n",
       "      <td>7</td>\n",
       "      <td>139.12</td>\n",
       "      <td>17850.0</td>\n",
       "      <td>United Kingdom</td>\n",
       "      <td>2010-12-01 08:26:00</td>\n",
       "    </tr>\n",
       "    <tr>\n",
       "      <th>536366</th>\n",
       "      <td>2</td>\n",
       "      <td>22.20</td>\n",
       "      <td>17850.0</td>\n",
       "      <td>United Kingdom</td>\n",
       "      <td>2010-12-01 08:28:00</td>\n",
       "    </tr>\n",
       "    <tr>\n",
       "      <th>536367</th>\n",
       "      <td>12</td>\n",
       "      <td>278.73</td>\n",
       "      <td>13047.0</td>\n",
       "      <td>United Kingdom</td>\n",
       "      <td>2010-12-01 08:34:00</td>\n",
       "    </tr>\n",
       "    <tr>\n",
       "      <th>536368</th>\n",
       "      <td>4</td>\n",
       "      <td>70.05</td>\n",
       "      <td>13047.0</td>\n",
       "      <td>United Kingdom</td>\n",
       "      <td>2010-12-01 08:34:00</td>\n",
       "    </tr>\n",
       "    <tr>\n",
       "      <th>536369</th>\n",
       "      <td>1</td>\n",
       "      <td>17.85</td>\n",
       "      <td>13047.0</td>\n",
       "      <td>United Kingdom</td>\n",
       "      <td>2010-12-01 08:35:00</td>\n",
       "    </tr>\n",
       "  </tbody>\n",
       "</table>\n",
       "</div>"
      ],
      "text/plain": [
       "           UniqueItem  TotalPrice  CustomerID         Country  \\\n",
       "InvoiceNo                                                       \n",
       "536365              7      139.12     17850.0  United Kingdom   \n",
       "536366              2       22.20     17850.0  United Kingdom   \n",
       "536367             12      278.73     13047.0  United Kingdom   \n",
       "536368              4       70.05     13047.0  United Kingdom   \n",
       "536369              1       17.85     13047.0  United Kingdom   \n",
       "\n",
       "                   InvoiceDate  \n",
       "InvoiceNo                       \n",
       "536365     2010-12-01 08:26:00  \n",
       "536366     2010-12-01 08:28:00  \n",
       "536367     2010-12-01 08:34:00  \n",
       "536368     2010-12-01 08:34:00  \n",
       "536369     2010-12-01 08:35:00  "
      ]
     },
     "execution_count": 214,
     "metadata": {},
     "output_type": "execute_result"
    }
   ],
   "source": [
    "invoice = pd.read_csv('./data_input/retail_invoice.csv',index_col='InvoiceNo')\n",
    "invoice.head()"
   ]
  },
  {
   "cell_type": "markdown",
   "metadata": {},
   "source": [
    "Sebelum melangkah lebih jauh, periksa tipe data menggunakan `dtypes` dan pastikan semua kolom telah disimpan dalam tipe data yang benar!"
   ]
  },
  {
   "cell_type": "code",
   "execution_count": 215,
   "metadata": {},
   "outputs": [
    {
     "data": {
      "text/plain": [
       "UniqueItem       int64\n",
       "TotalPrice     float64\n",
       "CustomerID     float64\n",
       "Country         object\n",
       "InvoiceDate     object\n",
       "dtype: object"
      ]
     },
     "execution_count": 215,
     "metadata": {},
     "output_type": "execute_result"
    }
   ],
   "source": [
    "## Your code here\n",
    "\n",
    "invoice.dtypes"
   ]
  },
  {
   "cell_type": "code",
   "execution_count": 216,
   "metadata": {},
   "outputs": [
    {
     "data": {
      "text/plain": [
       "UniqueItem      259\n",
       "TotalPrice     8042\n",
       "CustomerID     2931\n",
       "Country          37\n",
       "InvoiceDate    9519\n",
       "dtype: int64"
      ]
     },
     "execution_count": 216,
     "metadata": {},
     "output_type": "execute_result"
    }
   ],
   "source": [
    "invoice.nunique()"
   ]
  },
  {
   "cell_type": "code",
   "execution_count": 217,
   "metadata": {},
   "outputs": [],
   "source": [
    "invoice['Country'] = invoice['Country'].astype('category')\n",
    "invoice['InvoiceDate'] = pd.to_datetime(invoice['InvoiceDate'])"
   ]
  },
  {
   "cell_type": "code",
   "execution_count": 218,
   "metadata": {},
   "outputs": [
    {
     "data": {
      "text/plain": [
       "UniqueItem              int64\n",
       "TotalPrice            float64\n",
       "CustomerID            float64\n",
       "Country              category\n",
       "InvoiceDate    datetime64[ns]\n",
       "dtype: object"
      ]
     },
     "execution_count": 218,
     "metadata": {},
     "output_type": "execute_result"
    }
   ],
   "source": [
    "invoice.dtypes"
   ]
  },
  {
   "cell_type": "markdown",
   "metadata": {},
   "source": [
    "Perusahaan sedang berencana untuk melakukan ekspansi/perluasan dan Anda diminta untuk mengamati pasar luar negeri. Menggunakan teknik subsetting yang telah Anda pelajari sebelumnya, lakukan subsetting pada data untuk mendapatkan  **tansaksi dari seluruh negara (`Country`) di luar United Kingdom**  dan simpanlah hasilnya ke dalam variabel bernama **`invoice_int`**."
   ]
  },
  {
   "cell_type": "code",
   "execution_count": 219,
   "metadata": {},
   "outputs": [
    {
     "data": {
      "text/html": [
       "<div>\n",
       "<style scoped>\n",
       "    .dataframe tbody tr th:only-of-type {\n",
       "        vertical-align: middle;\n",
       "    }\n",
       "\n",
       "    .dataframe tbody tr th {\n",
       "        vertical-align: top;\n",
       "    }\n",
       "\n",
       "    .dataframe thead th {\n",
       "        text-align: right;\n",
       "    }\n",
       "</style>\n",
       "<table border=\"1\" class=\"dataframe\">\n",
       "  <thead>\n",
       "    <tr style=\"text-align: right;\">\n",
       "      <th></th>\n",
       "      <th>UniqueItem</th>\n",
       "      <th>TotalPrice</th>\n",
       "      <th>CustomerID</th>\n",
       "      <th>Country</th>\n",
       "      <th>InvoiceDate</th>\n",
       "    </tr>\n",
       "    <tr>\n",
       "      <th>InvoiceNo</th>\n",
       "      <th></th>\n",
       "      <th></th>\n",
       "      <th></th>\n",
       "      <th></th>\n",
       "      <th></th>\n",
       "    </tr>\n",
       "  </thead>\n",
       "  <tbody>\n",
       "    <tr>\n",
       "      <th>536365</th>\n",
       "      <td>7</td>\n",
       "      <td>139.12</td>\n",
       "      <td>17850.0</td>\n",
       "      <td>United Kingdom</td>\n",
       "      <td>2010-12-01 08:26:00</td>\n",
       "    </tr>\n",
       "    <tr>\n",
       "      <th>536366</th>\n",
       "      <td>2</td>\n",
       "      <td>22.20</td>\n",
       "      <td>17850.0</td>\n",
       "      <td>United Kingdom</td>\n",
       "      <td>2010-12-01 08:28:00</td>\n",
       "    </tr>\n",
       "    <tr>\n",
       "      <th>536367</th>\n",
       "      <td>12</td>\n",
       "      <td>278.73</td>\n",
       "      <td>13047.0</td>\n",
       "      <td>United Kingdom</td>\n",
       "      <td>2010-12-01 08:34:00</td>\n",
       "    </tr>\n",
       "  </tbody>\n",
       "</table>\n",
       "</div>"
      ],
      "text/plain": [
       "           UniqueItem  TotalPrice  CustomerID         Country  \\\n",
       "InvoiceNo                                                       \n",
       "536365              7      139.12     17850.0  United Kingdom   \n",
       "536366              2       22.20     17850.0  United Kingdom   \n",
       "536367             12      278.73     13047.0  United Kingdom   \n",
       "\n",
       "                  InvoiceDate  \n",
       "InvoiceNo                      \n",
       "536365    2010-12-01 08:26:00  \n",
       "536366    2010-12-01 08:28:00  \n",
       "536367    2010-12-01 08:34:00  "
      ]
     },
     "execution_count": 219,
     "metadata": {},
     "output_type": "execute_result"
    }
   ],
   "source": [
    "## Your code here\n",
    "invoice.head(3)"
   ]
  },
  {
   "cell_type": "code",
   "execution_count": 220,
   "metadata": {},
   "outputs": [
    {
     "data": {
      "text/html": [
       "<div>\n",
       "<style scoped>\n",
       "    .dataframe tbody tr th:only-of-type {\n",
       "        vertical-align: middle;\n",
       "    }\n",
       "\n",
       "    .dataframe tbody tr th {\n",
       "        vertical-align: top;\n",
       "    }\n",
       "\n",
       "    .dataframe thead th {\n",
       "        text-align: right;\n",
       "    }\n",
       "</style>\n",
       "<table border=\"1\" class=\"dataframe\">\n",
       "  <thead>\n",
       "    <tr style=\"text-align: right;\">\n",
       "      <th></th>\n",
       "      <th>UniqueItem</th>\n",
       "      <th>TotalPrice</th>\n",
       "      <th>CustomerID</th>\n",
       "      <th>Country</th>\n",
       "      <th>InvoiceDate</th>\n",
       "    </tr>\n",
       "    <tr>\n",
       "      <th>InvoiceNo</th>\n",
       "      <th></th>\n",
       "      <th></th>\n",
       "      <th></th>\n",
       "      <th></th>\n",
       "      <th></th>\n",
       "    </tr>\n",
       "  </thead>\n",
       "  <tbody>\n",
       "    <tr>\n",
       "      <th>536370</th>\n",
       "      <td>20</td>\n",
       "      <td>855.86</td>\n",
       "      <td>12583.0</td>\n",
       "      <td>France</td>\n",
       "      <td>2010-12-01 08:45:00</td>\n",
       "    </tr>\n",
       "    <tr>\n",
       "      <th>536389</th>\n",
       "      <td>14</td>\n",
       "      <td>358.25</td>\n",
       "      <td>12431.0</td>\n",
       "      <td>Australia</td>\n",
       "      <td>2010-12-01 10:03:00</td>\n",
       "    </tr>\n",
       "    <tr>\n",
       "      <th>536403</th>\n",
       "      <td>2</td>\n",
       "      <td>192.60</td>\n",
       "      <td>12791.0</td>\n",
       "      <td>Netherlands</td>\n",
       "      <td>2010-12-01 11:27:00</td>\n",
       "    </tr>\n",
       "    <tr>\n",
       "      <th>536527</th>\n",
       "      <td>15</td>\n",
       "      <td>261.48</td>\n",
       "      <td>12662.0</td>\n",
       "      <td>Germany</td>\n",
       "      <td>2010-12-01 13:04:00</td>\n",
       "    </tr>\n",
       "    <tr>\n",
       "      <th>536532</th>\n",
       "      <td>73</td>\n",
       "      <td>1919.14</td>\n",
       "      <td>12433.0</td>\n",
       "      <td>Norway</td>\n",
       "      <td>2010-12-01 13:24:00</td>\n",
       "    </tr>\n",
       "    <tr>\n",
       "      <th>...</th>\n",
       "      <td>...</td>\n",
       "      <td>...</td>\n",
       "      <td>...</td>\n",
       "      <td>...</td>\n",
       "      <td>...</td>\n",
       "    </tr>\n",
       "    <tr>\n",
       "      <th>558045</th>\n",
       "      <td>31</td>\n",
       "      <td>634.74</td>\n",
       "      <td>12615.0</td>\n",
       "      <td>France</td>\n",
       "      <td>2011-06-24 13:35:00</td>\n",
       "    </tr>\n",
       "    <tr>\n",
       "      <th>558046</th>\n",
       "      <td>30</td>\n",
       "      <td>542.20</td>\n",
       "      <td>NaN</td>\n",
       "      <td>EIRE</td>\n",
       "      <td>2011-06-24 13:47:00</td>\n",
       "    </tr>\n",
       "    <tr>\n",
       "      <th>558047</th>\n",
       "      <td>1</td>\n",
       "      <td>542.20</td>\n",
       "      <td>NaN</td>\n",
       "      <td>EIRE</td>\n",
       "      <td>2011-06-24 13:51:00</td>\n",
       "    </tr>\n",
       "    <tr>\n",
       "      <th>558067</th>\n",
       "      <td>37</td>\n",
       "      <td>930.71</td>\n",
       "      <td>14156.0</td>\n",
       "      <td>EIRE</td>\n",
       "      <td>2011-06-24 15:51:00</td>\n",
       "    </tr>\n",
       "    <tr>\n",
       "      <th>558069</th>\n",
       "      <td>4</td>\n",
       "      <td>69.60</td>\n",
       "      <td>14156.0</td>\n",
       "      <td>EIRE</td>\n",
       "      <td>2011-06-24 15:51:00</td>\n",
       "    </tr>\n",
       "  </tbody>\n",
       "</table>\n",
       "<p>859 rows × 5 columns</p>\n",
       "</div>"
      ],
      "text/plain": [
       "           UniqueItem  TotalPrice  CustomerID      Country         InvoiceDate\n",
       "InvoiceNo                                                                     \n",
       "536370             20      855.86     12583.0       France 2010-12-01 08:45:00\n",
       "536389             14      358.25     12431.0    Australia 2010-12-01 10:03:00\n",
       "536403              2      192.60     12791.0  Netherlands 2010-12-01 11:27:00\n",
       "536527             15      261.48     12662.0      Germany 2010-12-01 13:04:00\n",
       "536532             73     1919.14     12433.0       Norway 2010-12-01 13:24:00\n",
       "...               ...         ...         ...          ...                 ...\n",
       "558045             31      634.74     12615.0       France 2011-06-24 13:35:00\n",
       "558046             30      542.20         NaN         EIRE 2011-06-24 13:47:00\n",
       "558047              1      542.20         NaN         EIRE 2011-06-24 13:51:00\n",
       "558067             37      930.71     14156.0         EIRE 2011-06-24 15:51:00\n",
       "558069              4       69.60     14156.0         EIRE 2011-06-24 15:51:00\n",
       "\n",
       "[859 rows x 5 columns]"
      ]
     },
     "execution_count": 220,
     "metadata": {},
     "output_type": "execute_result"
    }
   ],
   "source": [
    "invoice_int = invoice[invoice['Country'] != 'United Kingdom']\n",
    "invoice_int"
   ]
  },
  {
   "cell_type": "markdown",
   "metadata": {},
   "source": [
    "## Analisis Pendapatan\n",
    " \n",
    "Negara yang memiliki total pendapatan terbesar akan menjadi target pasar perusahaan Anda. Oleh karena itu, menggunakan data `invoice_int`, buatlah sebuah bar chart yang menampilkan **top 5** negara dengan **total** pendapatan (`TotalPrice`) paling besar!\n",
    "\n",
    "*Petunjuk:*\n",
    "- Lakukan agregasi menggunakan `groupby` untuk mendapatkan total (`sum`) pendapatan (`TotalPrice`) dari setiap negara dan subset hasilnya untuk menghasilkan dataframe berisi 5 negara dengan nilai pendapatan paling besar.\n",
    "- Pasangkan dataframe yang Anda peroleh dengan method `.plot()` untuk menampilkan diagram batang (bar chart)."
   ]
  },
  {
   "cell_type": "code",
   "execution_count": 221,
   "metadata": {},
   "outputs": [
    {
     "data": {
      "text/plain": [
       "<AxesSubplot:xlabel='Country'>"
      ]
     },
     "execution_count": 221,
     "metadata": {},
     "output_type": "execute_result"
    },
    {
     "data": {
      "image/png": "[encoded data removed]",
      "text/plain": [
       "<Figure size 432x288 with 1 Axes>"
      ]
     },
     "metadata": {
      "needs_background": "light"
     },
     "output_type": "display_data"
    }
   ],
   "source": [
    "## Your code here\n",
    "invoice_int.groupby('Country').sum()[['TotalPrice']].sort_values(by='TotalPrice', ascending=False).iloc[:5].plot.bar()"
   ]
  },
  {
   "cell_type": "markdown",
   "metadata": {},
   "source": [
    "1. Saat membuat diagram batang (bar chart), kita juga harus mempertimbangkan urutan batangnya. Mengurutkan batang dengan urutan yang benar mengurangi beban pembaca untuk menyimpulkan perbandingannya. Menurut Anda, berdasarkan nilai apakah sebaiknya pengurutan diagram batang pada kasus di atas dilakukan?\n",
    "    - [ ] by Country: `sort_values('Country', ascending = False).plot(kind='bar')`\n",
    "    - [ ] by Country: `sort_values('Country').plot(kind='barh')`\n",
    "    - [X] by Value: `sort_values('TotalPrice', ascending=False).plot(kind='bar')`\n",
    "    - [ ] by Value: `sort_values('TotalPrice').plot()`\n",
    "\n",
    "2. Berdasarkan diagram yang telah dibuat, manakah di antara negara berikut yang **bukan** merupakan top 5 (berdasarkan total pendapatan) pasar terbesar di luar United Kingdom?\n",
    "    - [ ] Netherland\n",
    "    - [ ] EIRE\n",
    "    - [ ] Germany\n",
    "    - [X] Spain "
   ]
  },
  {
   "cell_type": "markdown",
   "metadata": {},
   "source": [
    "## Replikasi Plot\n",
    "\n",
    "Cara yang umum untuk memeriksa data secara statistik adalah dengan menggunakan boxplot, alat visualisasi praktis yang menyediakan lima ringkasan statistik untuk data Anda. Boxplot di bawah ini menampilkan perbandingan ringkasan bulanan dari setiap total pendapatan pasar luar negeri;\n",
    "\n",
    "- Setiap poin data mewakili total pendapatan negara (`TotalPrice`)\n",
    "- Sumbu x dan y masing-masing mewakili periode bulan dan total pendapatan bulanan.\n",
    "\n",
    "![](assets/task2.png)\n",
    "\n",
    "3. Berdasarkan boxplot di atas, manakah dari pernyataan berikut yang **BENAR**?\n",
    "\n",
    "    - [ ] Total pendapatan tertinggi di bulan Januari 2011 adalah sekitar 18,000 USD\n",
    "    - [ ] Di tahun 2011, nilai maksimum dari total pendapatan di bulan Februari lebih tinggi dari bulan Mei\n",
    "    - [ ] Nilai median dari total pendapatan meraih angka tertinggi di bulan Mei 2011.\n",
    "    - [X] Di tahun 2011, dapat dipastikan bahwa terdapat lebih banyak nilai outlier pada bulan April dibandingkan bulan Juni\n",
    "\n",
    "   Opsi jawaban Bahasa Inggris:\n",
    "\n",
    "    - [ ] The highest market revenue in January 2011 was around 18,000 USD\n",
    "    - [ ] In 2011, the highest market revenue in February was higher than May\n",
    "    - [ ] The median revenue appeared to be highest in May 2011.\n",
    "    - [X] In 2011, it is certain that there were more countries that happen to be outliers in April than March.\n",
    "    \n",
    "    \n",
    "4. Cobalah untuk membuat ulang boxplot di atas dengan mengisi bagian kode yang hilang di bawah ini:\n",
    "\n",
    "```\n",
    "invoice_int['InvoiceMonth'] = invoice_int['InvoiceDate'].dt.to_period('M')\n",
    "\n",
    "invoice_monthly = invoice_int.\\\n",
    "groupby(_______).\\\n",
    "agg({'TotalPrice': 'sum'})\n",
    "\n",
    "invoice_monthly.\\\n",
    "boxplot(column = _______, by=_______)\n",
    "```\n",
    "\n",
    "   - [ ] `['Country']`, `'TotalPrice'`, `'Country'`\n",
    "   - [ ] `['InvoiceMonth']`, `'TotalPrice'`, `'InvoiceMonth'`\n",
    "   - [X] `['Country','InvoiceMonth']`, `'TotalPrice'`, `'InvoiceMonth'`\n",
    "   - [ ] `['InvoiceMonth','Country']`, `'InvoiceMonth'`, `'TotalPrice'`"
   ]
  },
  {
   "cell_type": "code",
   "execution_count": 222,
   "metadata": {},
   "outputs": [
    {
     "name": "stderr",
     "output_type": "stream",
     "text": [
      "/tmp/ipykernel_60804/1418570690.py:2: SettingWithCopyWarning: \n",
      "A value is trying to be set on a copy of a slice from a DataFrame.\n",
      "Try using .loc[row_indexer,col_indexer] = value instead\n",
      "\n",
      "See the caveats in the documentation: https://pandas.pydata.org/pandas-docs/stable/user_guide/indexing.html#returning-a-view-versus-a-copy\n",
      "  invoice_int['InvoiceMonth'] = invoice_int['InvoiceDate'].dt.to_period('M')\n"
     ]
    },
    {
     "data": {
      "text/plain": [
       "<AxesSubplot:title={'center':'TotalPrice'}, xlabel='InvoiceMonth'>"
      ]
     },
     "execution_count": 222,
     "metadata": {},
     "output_type": "execute_result"
    },
    {
     "data": {
      "image/png": "[encoded data removed]",
      "text/plain": [
       "<Figure size 432x288 with 1 Axes>"
      ]
     },
     "metadata": {
      "needs_background": "light"
     },
     "output_type": "display_data"
    }
   ],
   "source": [
    "# ## Your code here\n",
    "invoice_int['InvoiceMonth'] = invoice_int['InvoiceDate'].dt.to_period('M')\n",
    "invoice_monthly = invoice_int.groupby(['Country','InvoiceMonth']).agg({\n",
    "    'TotalPrice': 'sum'\n",
    "})\n",
    "# invoice_monthly.boxplot(column='')\n",
    "invoice_monthly.boxplot(column='TotalPrice', by='InvoiceMonth')"
   ]
  },
  {
   "cell_type": "markdown",
   "metadata": {},
   "source": [
    "## Analisa Outlier\n",
    "\n",
    "Berdasarkan boxplot yang sebelumnya, kita menemukan bahwa pada Juni 2011 terdapat 3 negara dengan `TotalPrice` yang sangat tinggi (outlier). Dengan mengisi bagian kode yang hilang di bawah ini, Anda dapat mengidentifikasi outlier tersebut dengan melakukan subsetting pada `invoice_monthly` berdasarkan nilai upper wishker/batas atas pada boxplot:\n",
    "\n",
    "```\n",
    "june_invoice = invoice_monthly.xs(key = _______, level= _______)\n",
    "june_outliers = june_invoice[june_invoice['TotalPrice'] > 13000]\n",
    "\n",
    "june_outliers\n",
    "```\n",
    "\n",
    "5. Manakah negara yang **TIDAK** termasuk di dalam data frame `june_outliers`?\n",
    "   - [X] Germany\n",
    "   - [ ] France\n",
    "   - [ ] Australia\n",
    "   - [ ] EIRE"
   ]
  },
  {
   "cell_type": "code",
   "execution_count": 232,
   "metadata": {},
   "outputs": [
    {
     "data": {
      "text/html": [
       "<div>\n",
       "<style scoped>\n",
       "    .dataframe tbody tr th:only-of-type {\n",
       "        vertical-align: middle;\n",
       "    }\n",
       "\n",
       "    .dataframe tbody tr th {\n",
       "        vertical-align: top;\n",
       "    }\n",
       "\n",
       "    .dataframe thead th {\n",
       "        text-align: right;\n",
       "    }\n",
       "</style>\n",
       "<table border=\"1\" class=\"dataframe\">\n",
       "  <thead>\n",
       "    <tr style=\"text-align: right;\">\n",
       "      <th></th>\n",
       "      <th>TotalPrice</th>\n",
       "    </tr>\n",
       "    <tr>\n",
       "      <th>Country</th>\n",
       "      <th></th>\n",
       "    </tr>\n",
       "  </thead>\n",
       "  <tbody>\n",
       "    <tr>\n",
       "      <th>Australia</th>\n",
       "      <td>23426.81</td>\n",
       "    </tr>\n",
       "    <tr>\n",
       "      <th>EIRE</th>\n",
       "      <td>19551.94</td>\n",
       "    </tr>\n",
       "    <tr>\n",
       "      <th>France</th>\n",
       "      <td>16012.89</td>\n",
       "    </tr>\n",
       "  </tbody>\n",
       "</table>\n",
       "</div>"
      ],
      "text/plain": [
       "           TotalPrice\n",
       "Country              \n",
       "Australia    23426.81\n",
       "EIRE         19551.94\n",
       "France       16012.89"
      ]
     },
     "execution_count": 232,
     "metadata": {},
     "output_type": "execute_result"
    }
   ],
   "source": [
    "## Your code here:\n",
    "june_invoice = invoice_monthly.xs(key='2011-06', level='InvoiceMonth', axis=0)\n",
    "june_outliers = june_invoice[june_invoice['TotalPrice'] > 13000]\n",
    "june_outliers\n",
    "# invoice_monthly"
   ]
  },
  {
   "cell_type": "markdown",
   "metadata": {},
   "source": [
    "Anda diminta untuk melakukan analisa jumlah pendapatan masing-masing negara per kuartal yang terdapat pada data `june_outliers` . Untuk menganalisanya, Anda diminta unruk membuat sebuah visualisasi. Salin kode di bawah ini untuk menyiapkan data untuk membuat visualisasinya:\n",
    "```\n",
    "invoice_int['Quarter'] = invoice_int['InvoiceDate'].dt.to_period('Q')\n",
    "invoice_topq = invoice_int.groupby(['Country','Quarter']).\\\n",
    "                 agg({'TotalPrice' : 'sum'}).\\\n",
    "                 loc[june_outliers.axes[0],]\n",
    "invoice_topq\n",
    "```\n",
    "6. Manakah di antara kode berikut yang menunjukkan cara paling efisien untuk membuat **grouped bar chart** yang membandingkan pertumbuhan pendapatan triwulanan (quarter) dari tiap negara pada data `invoice_topq` secara terurut dari periode triwulan terlama hingga terbaru?    \n",
    "    - [ ] `invoice_topq.plot(kind='bar')`\n",
    "    - [ ] `invoice_topq.unstack().plot(kind = 'bar',stacked=True)`\n",
    "    - [X] `invoice_topq.unstack(level = 'Country').plot(kind='barh')`\n",
    "    - [ ] `invoice_topq.unstack(level = 'Country').plot(kind='bar')`"
   ]
  },
  {
   "cell_type": "code",
   "execution_count": 236,
   "metadata": {},
   "outputs": [
    {
     "name": "stderr",
     "output_type": "stream",
     "text": [
      "/tmp/ipykernel_60804/3134385199.py:2: SettingWithCopyWarning: \n",
      "A value is trying to be set on a copy of a slice from a DataFrame.\n",
      "Try using .loc[row_indexer,col_indexer] = value instead\n",
      "\n",
      "See the caveats in the documentation: https://pandas.pydata.org/pandas-docs/stable/user_guide/indexing.html#returning-a-view-versus-a-copy\n",
      "  invoice_int['Quarter'] = invoice_int['InvoiceDate'].dt.to_period('Q')\n"
     ]
    },
    {
     "data": {
      "text/plain": [
       "<AxesSubplot:ylabel='Quarter'>"
      ]
     },
     "execution_count": 236,
     "metadata": {},
     "output_type": "execute_result"
    },
    {
     "data": {
      "image/png": "[encoded data removed]",
      "text/plain": [
       "<Figure size 432x288 with 1 Axes>"
      ]
     },
     "metadata": {
      "needs_background": "light"
     },
     "output_type": "display_data"
    }
   ],
   "source": [
    "## Your code here:\n",
    "invoice_int['Quarter'] = invoice_int['InvoiceDate'].dt.to_period('Q')\n",
    "invoice_topq = invoice_int.groupby(['Country','Quarter']).\\\n",
    "                 agg({'TotalPrice' : 'sum'}).\\\n",
    "                 loc[june_outliers.axes[0],]\n",
    "invoice_topq.unstack(level='Country').plot(kind='barh')"
   ]
  }
 ],
 "metadata": {
  "interpreter": {
   "hash": "a8343b732dd7e92a09169d6c428688afa52d864319dbacc840304350021ce15e"
  },
  "kernelspec": {
   "display_name": "algoritma",
   "language": "python",
   "name": "python3"
  },
  "language_info": {
   "codemirror_mode": {
    "name": "ipython",
    "version": 3
   },
   "file_extension": ".py",
   "mimetype": "text/x-python",
   "name": "python",
   "nbconvert_exporter": "python",
   "pygments_lexer": "ipython3",
   "version": "3.8.10"
  },
  "latex_envs": {
   "LaTeX_envs_menu_present": true,
   "autoclose": false,
   "autocomplete": true,
   "bibliofile": "biblio.bib",
   "cite_by": "apalike",
   "current_citInitial": 1,
   "eqLabelWithNumbers": true,
   "eqNumInitial": 1,
   "hotkeys": {
    "equation": "Ctrl-E",
    "itemize": "Ctrl-I"
   },
   "labels_anchors": false,
   "latex_user_defs": false,
   "report_style_numbering": false,
   "user_envs_cfg": false
  },
  "toc": {
   "base_numbering": 1,
   "nav_menu": {},
   "number_sections": true,
   "sideBar": true,
   "skip_h1_title": false,
   "title_cell": "Table of Contents",
   "title_sidebar": "Contents",
   "toc_cell": false,
   "toc_position": {},
   "toc_section_display": true,
   "toc_window_display": false
  }
 },
 "nbformat": 4,
 "nbformat_minor": 4
}
