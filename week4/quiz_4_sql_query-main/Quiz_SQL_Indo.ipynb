{
 "cells": [
  {
   "cell_type": "markdown",
   "metadata": {},
   "source": [
    "# Quiz: SQL and Exploratory Data Analysis\n",
    "\n",
    "Kuis ini merupakan bagian dari proses penilaian *Algoritma Academy*. Selamat anda sudah menyelesaikan materi *SQL Course*! Kami akan melakukan penilaian berupa kuis untuk menguji materi yang sudah dipelajari. Pengerjaan Kuis diharapkan dapat dilakukan di dalam kelas, silakan hubungi tim pengajar kami jika Anda melewatkan kesempatan untuk mengambilnya di kelas.\n",
    "\n",
    "## Skema Database\n",
    "\n",
    "Pada kuis ini, database yang digunakan adalah `chinook.db` yang terdapat pada folder `data_input`.\n",
    "\n",
    "Database `chinook.db` terdiri dari 11 tabel yang berisi sampel data dari toko media digital:\n",
    "\n",
    "- Data terkait media seperti pada tabel `tracks`, `albums`, `artists`, `genres`, `media_types`, `playlists`, `playlist_track` merupakan data asli dari *library Apple iTunes*.\n",
    "- Informasi mengenai `customers` dan `employees` dibuat menggunakan nama dan alamat fiktif yang dapat ditemukan di *Google Maps*, dan data lain yang diformat dengan baik (telepon, fax, email, dll).\n",
    "- Informasi penjualan `invoices` dan `invoice_items` dihasilkan secara otomatis menggunakan data acak untuk periode tahun 2009-2013."
   ]
  },
  {
   "cell_type": "code",
   "execution_count": null,
   "metadata": {},
   "outputs": [],
   "source": [
    "import sqlite3\n",
    "import pandas as pd\n",
    "\n",
    "conn = sqlite3.connect(\"data_input/chinook.db\")"
   ]
  },
  {
   "cell_type": "markdown",
   "metadata": {},
   "source": [
    "![](assets/chinookschema2.png)"
   ]
  },
  {
   "cell_type": "markdown",
   "metadata": {},
   "source": [
    "## Data Invoice Pelanggan\n",
    "\n",
    "Mari kita coba dengan membuat dataframe terlebih dahulu menggunakan method `read_sql_query()` yang telah kita pelajari sebelumnya. Kita ingin mengembangkan laporan visualisasi penjualan sederhana dari top 5 pasar utama (kolom `Country` di tabel `customers`) yang diurutkan berdasarkan total penjualan (kolom `Total` di tabel`invoices`). \n",
    "\n",
    "Kita juga ingin mengidentifikasi top 5 customer berdasarkan namanya (`FirstName`, `LastName`) pada laporan yang dihasilkan.\n",
    "\n",
    "Terakhir, kita ingin laporan tersebut menyertakan analisis harian (dalam seminggu) tentang kinerja penjualan, dan untuk itu kita akan membutuhkan kolom `InvoiceDate`. \n",
    "\n",
    "> **Petunjuk 1** : `pandas` memiliki method bawaan untuk mengekstrak nama hari dalam seminggu. Kita telah mempelajarinya di materi ke-2 dari spesialisasi ini (**Working with Datetime**). Contoh penggunaannya adalah:\n",
    ">\n",
    "> `data['InvoiceDOW'] = data['InvoiceDate'].dt.day_name()`\n",
    ">\n",
    "> **Petunjuk 2** : Pada method `read_sql_query`, Anda dapat menggunakan argumen `parse_dates='InvoiceDate'` agar kolom tertentu dikonversikan sebagai tanggal, sehingga Anda tidak perlu lagi melakukan konversi `to_datetime ()`"
   ]
  },
  {
   "cell_type": "code",
   "execution_count": null,
   "metadata": {},
   "outputs": [],
   "source": [
    "## Your code here\n",
    "\n"
   ]
  },
  {
   "cell_type": "markdown",
   "metadata": {},
   "source": [
    "Referensi dataframe hasil *fetching data* dari database chinook. Pastikan data anda memiliki informasi seperti dataframe di bawah ini:\n",
    "<img src=\"assets/sql-table.png\" width=600>"
   ]
  },
  {
   "cell_type": "markdown",
   "metadata": {},
   "source": [
    "Berdasarkan tabel hasil *fetching* tersebut, Anda ingin mengetahui total pembelian yang dilakukan oleh masing-masing pelanggan. Untuk mengetahui nama pelanggan, Anda perlu menggabungkan nama depan (`FirstName`) dan nama belakang (`LastName`) pelanggan dan simpanlah kedalam kolom baru dengan nama `CustomerName`. Menggunakan metode subsetting yang sudah Anda ketahui, buatlah agregasi tabel yang menunjukkan **jumlah** total penjualan (`Total`) pada masing-masing pelanggan dan urutkanlah untuk mendapatkan informasi total pembelian terbesar hingga terkecil.\n",
    "\n",
    "1. Manakah di antara pelanggan berikut yang termasuk dalam 5 besar pelanggan yang diurutkan berdasarkan total pembeliannya (`Total`)?\n",
    "    - [ ] Victor Stevens\n",
    "    - [ ] Hugh O'Reilly\n",
    "    - [ ] Puja Srivastava\n",
    "    - [ ] Astrid Gruber"
   ]
  },
  {
   "cell_type": "code",
   "execution_count": null,
   "metadata": {},
   "outputs": [],
   "source": [
    "## Your code here\n",
    "\n"
   ]
  },
  {
   "cell_type": "markdown",
   "metadata": {},
   "source": [
    "Masih menggunakan data penjualan yang Anda miliki, Anda ingin mengetahui pendapatan bruto yang diperoleh oleh masing-masing negara. Gunakan metode subsetting yang Anda ketahui untuk mendapatkan **jumlah** dari pendapatan bruto (`Total`) yang diperoleh oleh masing-masing negara dan urutkanlah agar mendapatkan informasi negara yang memiliki pendapatan paling besar hingga paling kecil.\n",
    "\n",
    "2. Manakah di antara negara berikut yang termasuk dalam 5 negara dengan pendapatan bruto paling besar yang diurutkan berdasarkan kolom `Total`?\n",
    "    - [ ] United Kingdom\n",
    "    - [ ] Germany\n",
    "    - [ ] Portugal\n",
    "    - [ ] India"
   ]
  },
  {
   "cell_type": "code",
   "execution_count": null,
   "metadata": {},
   "outputs": [],
   "source": [
    "## Your code here\n",
    "\n"
   ]
  },
  {
   "cell_type": "markdown",
   "metadata": {},
   "source": [
    "## Top 5 Negara \n",
    "\n",
    "Berdasarkan informasi yang sudah Anda dapatkan mengenai 5 negara dengan pendapatan tertinggi, Anda ingin melakukan analisa lebih lanjut beberapa informasi lain yang bisa dijadikan sebagai *insight*. Gunakan kerangka kode di bawah ini sebagai referensi untuk membuat sebuah dataframe yang berisi catatan pelanggan-pelanggan yang berasal dari 5 negara dengan total pendapatan teratas. Perhatikan juga bahwa kita telah mengubah kolom `InvoiceDOW` menjadi kolom `Categorical`:\n",
    "\n",
    "```\n",
    "top5 = ______.groupby('Country').Total.sum().sort_values(ascending=False).head().index.to_list()\n",
    "\n",
    "top5_data = ______[______['Country'].isin(top5)].copy()\n",
    "\n",
    "dayorder = ['Monday', 'Tuesday', 'Wednesday', 'Thursday', 'Friday', 'Saturday', 'Sunday']\n",
    "top5_data['InvoiceDOW'] = pd.Categorical(top5_data['InvoiceDOW'],\n",
    "                                         categories=dayorder,\n",
    "                                         ordered=True)\n",
    "top5_data\n",
    "```"
   ]
  },
  {
   "cell_type": "code",
   "execution_count": null,
   "metadata": {
    "run_control": {
     "marked": false
    }
   },
   "outputs": [],
   "source": [
    "## Your code here\n",
    "\n"
   ]
  },
  {
   "cell_type": "markdown",
   "metadata": {},
   "source": [
    "Menggunakan dataframe `top5data` diatas, lakukan analisa deskriptif untuk menjawab pertanyaan dibawah ini.\n",
    "\n",
    "3. Berapa banyak transaksi penjualan (baris) yang berasal dari 5 negara teratas?\n",
    "    - [ ] 7\n",
    "    - [ ] 245\n",
    "    - [ ] 412\n",
    "    - [ ] 1715"
   ]
  },
  {
   "cell_type": "code",
   "execution_count": null,
   "metadata": {},
   "outputs": [],
   "source": [
    "## Your code here\n",
    "\n"
   ]
  },
  {
   "cell_type": "markdown",
   "metadata": {},
   "source": [
    "Anda tertarik untuk mengetahui lebih lanjut penjualan yang dilakuan pada top 5 negara khususnya Perancis (**France**). Negara Perancis (**France**) melakukan penjualan setiap harinya, lakukan agregasi data untuk mendapatkan **jumlah** pendapatan masing-masing harinya."
   ]
  },
  {
   "cell_type": "code",
   "execution_count": null,
   "metadata": {},
   "outputs": [],
   "source": [
    "## Your code here\n",
    "\n"
   ]
  },
  {
   "cell_type": "markdown",
   "metadata": {},
   "source": [
    "Selain Perancis, Anda juga tertarik untuk menganalisa pendapatan harian yang diperoleh dari top 5 negara dengan pendapatan tertinggi. Menggunakan dataframe `top5data`, lakukanlah agregasi untuk mengetahui **jumlah** penjualan masing-masing hari dari keseluruhan negara tersebut.\n",
    "\n",
    "\n",
    "4. Berdasarkan agregasi data yang Anda lakukan diatas, jawablah 2 pertanyaan berikut: Berapa jumlah penjualan (`Total`) yang kita hasilkan dari total(`sum`) pasar Perancis (**France**) pada hari Selasa? Berapa total penjualan yang kita hasilkan dari semua gabungan 5 pasar teratas pada hari Jumat?\n",
    "    - [ ] 160.41 / 173.31  \n",
    "    - [ ] 160.41 / 326.77\n",
    "    - [ ] 1.98 / 173.31\n",
    "    - [ ] 1.98 / 326.77"
   ]
  },
  {
   "cell_type": "code",
   "execution_count": null,
   "metadata": {
    "scrolled": true
   },
   "outputs": [],
   "source": [
    "## Your code here\n",
    "\n"
   ]
  },
  {
   "cell_type": "markdown",
   "metadata": {},
   "source": [
    "Hasil analisa jumlah pendapatan harian masing-masing negara diatas akan dibuat sebuah visualisasi sebagai bahan untuk reporting Anda. Simpanlah agregasi data tersebut kedalam sebuah variabel. Apabila Anda menggunakan parameter `margin` dalam membuat agregasi data, hapuslah terlebih dahulu agar memudahkan visualisasi. Buatlah visualisasi dengan metode `.plot()` dengan mengatur parameter `kind` untuk membuat salah satu jenis plot berikut:` line`, `bar`,` scatter` & `box`.\n",
    "\n",
    "5. Berdasarkan analisa diatas, manakah jenis plot yang **PALING TIDAK SESUAI** digunakan?\n",
    "    - [ ] `line`\n",
    "    - [ ] `bar`\n",
    "    - [ ] `scatter`\n",
    "    - [ ] `box`"
   ]
  },
  {
   "cell_type": "code",
   "execution_count": null,
   "metadata": {
    "scrolled": true
   },
   "outputs": [],
   "source": [
    "## Your code here\n",
    "\n"
   ]
  },
  {
   "cell_type": "markdown",
   "metadata": {},
   "source": [
    "Misalkan kita ingin membandingkan genre musik terlaris di 5 negara teratas. Mari kita coba dengan mengisi terlebih dahulu kode yang rumpang (______) di bawah ini:\n",
    "```\n",
    "genre = pd.read_sql_query(\n",
    "    '''\n",
    "    SELECT \n",
    "    BillingCountry AS Country, ______.Name AS Genre \n",
    "    FROM ______ \n",
    "    LEFT JOIN invoice_items ON invoices.______ = invoice_items.______\n",
    "    LEFT JOIN tracks ON invoice_items.______ = ______.______ \n",
    "    LEFT JOIN ______ ON tracks.______ = genres.______\n",
    "    WHERE BillingCountry IN ('USA', 'Canada', 'France', 'Brazil', 'Germany')\n",
    "    ''',conn)\n",
    "```\n"
   ]
  },
  {
   "cell_type": "code",
   "execution_count": null,
   "metadata": {},
   "outputs": [],
   "source": [
    "## Your code here\n"
   ]
  },
  {
   "cell_type": "markdown",
   "metadata": {},
   "source": [
    "Setelah Anda menyelesaikan query untuk dataframe `genre` di atas, salin dan jalankan kode di bawah ini untuk membuat diagram batang yang membandingkan genre lagu terlaris per negara.\n",
    "```\n",
    "genre.\\\n",
    "groupby(['Country','Genre']).size().reset_index(name = 'Total Bought').\\\n",
    "sort_values(['Country','Total Bought'], ascending=False).\\\n",
    "groupby('Country').head(5).\\\n",
    "pivot(index = 'Country', columns = 'Genre').plot(kind='bar',stacked=True).\\\n",
    "legend(bbox_to_anchor=(1, 1), loc=2) \n",
    "```\n",
    "6. Genre apa yang **TIDAK** termasuk dalam genre terlaris di Jerman (Germany)?\n",
    "   - [ ] Blues\n",
    "   - [ ] Jazz\n",
    "   - [ ] Alternative & Punk\n",
    "   - [ ] Latin"
   ]
  },
  {
   "cell_type": "code",
   "execution_count": null,
   "metadata": {},
   "outputs": [],
   "source": []
  }
 ],
 "metadata": {
  "kernelspec": {
   "display_name": "Python 3",
   "language": "python",
   "name": "python3"
  },
  "language_info": {
   "codemirror_mode": {
    "name": "ipython",
    "version": 3
   },
   "file_extension": ".py",
   "mimetype": "text/x-python",
   "name": "python",
   "nbconvert_exporter": "python",
   "pygments_lexer": "ipython3",
   "version": "3.7.5"
  },
  "latex_envs": {
   "LaTeX_envs_menu_present": true,
   "autoclose": false,
   "autocomplete": true,
   "bibliofile": "biblio.bib",
   "cite_by": "apalike",
   "current_citInitial": 1,
   "eqLabelWithNumbers": true,
   "eqNumInitial": 1,
   "hotkeys": {
    "equation": "Ctrl-E",
    "itemize": "Ctrl-I"
   },
   "labels_anchors": false,
   "latex_user_defs": false,
   "report_style_numbering": false,
   "user_envs_cfg": false
  },
  "toc": {
   "base_numbering": 1,
   "nav_menu": {},
   "number_sections": true,
   "sideBar": true,
   "skip_h1_title": false,
   "title_cell": "Table of Contents",
   "title_sidebar": "Contents",
   "toc_cell": false,
   "toc_position": {},
   "toc_section_display": true,
   "toc_window_display": false
  }
 },
 "nbformat": 4,
 "nbformat_minor": 4
}
