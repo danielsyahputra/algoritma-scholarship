{
 "cells": [
  {
   "cell_type": "markdown",
   "metadata": {},
   "source": [
    "# Quiz: SQL and Exploratory Data Analysis\n",
    "\n",
    "Congratulations on completing the SQL and Exploratory Data Analysis course! We will conduct an assessment quiz to test your competensces about the material that you have learned in the course. The quiz is expected to be taken in the classroom, please contact our teaching team if you missed the chance to take it in class."
   ]
  },
  {
   "cell_type": "markdown",
   "metadata": {},
   "source": [
    "## Database Schema\n",
    "\n",
    "In this quiz, the database used is `chinook.db` which is in the `data_input` folder.\n",
    "\n",
    "The `chinook.db` database consists of 11 tables containing sample data from digital media stores:\n",
    "\n",
    "- Media related data such as `tracks`, `albums`, `artists`, `genres`, `media_types`, `playlists`, `playlist_track` tables are original data from the *Apple iTunes library*.\n",
    "- Information about `customers` and `employees` is generated using fictitious names and addresses found on *Google Maps*, and other well-formatted data (phone, fax, email, etc.).\n",
    "- Sales information `invoices` and `invoice_items` are generated automatically using random data for the period 2009-2013. "
   ]
  },
  {
   "cell_type": "code",
   "execution_count": null,
   "metadata": {},
   "outputs": [],
   "source": [
    "import sqlite3\n",
    "import pandas as pd\n",
    "\n",
    "conn = sqlite3.connect(\"data_input/chinook.db\")"
   ]
  },
  {
   "cell_type": "markdown",
   "metadata": {},
   "source": [
    "![](assets/chinookschema2.png)"
   ]
  },
  {
   "cell_type": "markdown",
   "metadata": {},
   "source": [
    "## Customer Invoice Data\n",
    "\n",
    "Let's try by first constructing a DataFrame using the `read_sql_query()` method that we've grown familiar to. We want to develop a simple sales visualization report of our top 5 key markets (`Country` column in `customers`) ranked by Sales (`Total` column in `invoices`). \n",
    "\n",
    "We also want to identify our top 5 customers by name (`FirstName`, `LastName`) in the report.\n",
    "\n",
    "Last but not least, we want the report to include a day-of-week analysis on sales performance, and for that we will need the `InvoiceDate` column. \n",
    "\n",
    "> **Hint 1**: `pandas` has built-in methods of extracting the name of day in a week. We've seen this in Part 2 of this specialization (**Working with Datetime chapter**). An example usage is:\n",
    ">\n",
    "> `data['InvoiceDOW'] = data['InvoiceDate'].dt.day_name()`\n",
    ">\n",
    ">  **Hint 2**: In `read_sql_query()`, you can use the `parse_dates='InvoiceDate'` argument to have the specified column parsed as date, saving you from a `to_datetime()` conversion"
   ]
  },
  {
   "cell_type": "code",
   "execution_count": null,
   "metadata": {},
   "outputs": [],
   "source": [
    "## Your code here\n",
    "\n"
   ]
  },
  {
   "cell_type": "markdown",
   "metadata": {},
   "source": [
    "Based on the results table you have fetched, you want to know the respective total made by each customers. To find out the customers name, you need to combine the customer's first name (`FirstName`) and last name (`LastName`) and save them into a new column with the name `CustomerName`. Using the subsetting methods you already know, create an aggregation table that shows **sum** of total sales (`Total`) for each customer and sort them to get the largest to smallest respective total information. \n",
    "\n",
    "1. Which of the following customers are among the top 5 customers ranked by their respective total (`Total`)?\n",
    "\n",
    "    *Manakah di antara pelanggan berikut yang termasuk dalam 5 besar pelanggan yang diurutkan berdasarkan total pembeliannya (`Total`)?*\n",
    "    - [ ] Victor Stevens\n",
    "    - [ ] Hugh O'Reilly\n",
    "    - [ ] Puja Srivastava\n",
    "    - [ ] Astrid Gruber\t"
   ]
  },
  {
   "cell_type": "code",
   "execution_count": null,
   "metadata": {},
   "outputs": [],
   "source": [
    "## Your code here\n",
    "\n"
   ]
  },
  {
   "cell_type": "markdown",
   "metadata": {},
   "source": [
    "Using the data frame you have, you want to find out the gross income earned by each country. Use the subsetting method you know to get **sum** of the gross income (`Total`) earned by each country and sort them to get information on the country with the highest to the lowest income. \n",
    "\n",
    "2. Which of the following countries are among the top 5 grossing ranked by their respective total (`Total`)?\n",
    "\n",
    "    *Manakah di antara negara berikut yang termasuk dalam 5 negara dengan pendapatan bruto paling besar yang diurutkan berdasarkan kolom `Total`?*\n",
    "    - [ ] United Kingdom\n",
    "    - [ ] Germany\n",
    "    - [ ] Portugal\n",
    "    - [ ] India"
   ]
  },
  {
   "cell_type": "code",
   "execution_count": null,
   "metadata": {},
   "outputs": [],
   "source": [
    "## Your code here\n",
    "\n"
   ]
  },
  {
   "cell_type": "markdown",
   "metadata": {},
   "source": [
    "## Top 5 Country\n",
    "\n",
    "Based on the information you have obtained about the 5 countries with the highest respective total, you want to do further analysis of some other information that can be used as *insight*. Use the code block below as a reference to create a DataFrame containing records where the customers are from one of the top 5 countries. Notice that we have additionally converted our day-of-week column into a `Categorical` column:\n",
    "\n",
    "```\n",
    "top5 = ______.groupby('Country').Total.sum().sort_values(ascending=False).head().index.to_list()\n",
    "\n",
    "top5_data = ______[______['Country'].isin(top5)].copy()\n",
    "\n",
    "dayorder = ['Monday', 'Tuesday', 'Wednesday', 'Thursday', 'Friday', 'Saturday', 'Sunday']\n",
    "top5_data['InvoiceDOW'] = pd.Categorical(top5_data['InvoiceDOW'],\n",
    "                                         categories=dayorder,\n",
    "                                         ordered=True)\n",
    "top5_data\n",
    "```"
   ]
  },
  {
   "cell_type": "code",
   "execution_count": null,
   "metadata": {
    "run_control": {
     "marked": false
    }
   },
   "outputs": [],
   "source": [
    "## Your code here\n",
    "\n"
   ]
  },
  {
   "cell_type": "markdown",
   "metadata": {},
   "source": [
    "Using the `top5data` data frame above, perform a descriptive analysis to answer the questions below. \n",
    "\n",
    "3. How many sales transactions (or records, or rows) were from the top 5 countries?\n",
    "\n",
    "    *Berapa banyak transaksi penjualan (baris) yang berasal dari 5 negara teratas?*\n",
    "    - [ ] 7\n",
    "    - [ ] 245\n",
    "    - [ ] 412\n",
    "    - [ ] 1715"
   ]
  },
  {
   "cell_type": "code",
   "execution_count": null,
   "metadata": {},
   "outputs": [],
   "source": [
    "## Your code here\n",
    "\n"
   ]
  },
  {
   "cell_type": "markdown",
   "metadata": {},
   "source": [
    "You are interested to know more about the sales made in the top 5 countries, especially **France**. France makes sales every day, do data aggregation to get **sum** of daily income. "
   ]
  },
  {
   "cell_type": "code",
   "execution_count": null,
   "metadata": {},
   "outputs": [],
   "source": [
    "## Your code here\n",
    "\n"
   ]
  },
  {
   "cell_type": "markdown",
   "metadata": {},
   "source": [
    "Besides France, you are also interested in analyzing the daily income obtained over the top 5 countries with the highest income. Using the `top5data` data frame, perform the aggregation to find out the **sum** of each day's sales (`Total`) for the entire country. \n",
    "\n",
    "4. Based on the data aggregation you have made before, answer the next two questions: How much sales (`Total`) did we make in total (`sum`) from the France market on a Tuesday? How much sales did we make in total from all the top 5 markets combined on a Friday?\n",
    "\n",
    "    *Berdasarkan agregasi data yang Anda lakukan diatas, jawablah 2 pertanyaan berikut: Berapa jumlah penjualan (`Total`) yang kita hasilkan dari total(`sum`) pasar Perancis pada hari Selasa? Berapa total penjualan yang kita hasilkan dari semua gabungan 5 pasar teratas pada hari Jumat?*\n",
    "    - [ ] 160.41 / 173.31  \n",
    "    - [ ] 160.41 / 326.77\n",
    "    - [ ] 1.98 / 173.31\n",
    "    - [ ] 1.98 / 326.77"
   ]
  },
  {
   "cell_type": "code",
   "execution_count": null,
   "metadata": {
    "scrolled": true
   },
   "outputs": [],
   "source": [
    "## Your code here\n",
    "\n"
   ]
  },
  {
   "cell_type": "markdown",
   "metadata": {},
   "source": [
    "The analysis results of the daily respective total sales of each country above will be made a visualization as material for your reporting. Save the data aggregation into a variable. Remove the margins if you were included in the earlier step to make visualization easier. Create a visualization by chaining the `.plot()` method by setting the `kind` parameter to create one of the following plot types:` line`, `bar`,` scatter` & `box`. \n",
    "\n",
    "\n",
    "5. Based on the analysis above, which one is the **LEAST** appropriate plot type(s)?\n",
    "\n",
    "    *Berdasarkan analisa diatas, manakah jenis plot yang **PALING TIDAK SESUAI** digunakan?*\n",
    "    - [ ] `line`\n",
    "    - [ ] `bar`\n",
    "    - [ ] `scatter`\n",
    "    - [ ] `box`"
   ]
  },
  {
   "cell_type": "code",
   "execution_count": null,
   "metadata": {
    "scrolled": true
   },
   "outputs": [],
   "source": [
    "## Your code here\n",
    "\n"
   ]
  },
  {
   "cell_type": "markdown",
   "metadata": {},
   "source": [
    "Suppose we want to compare the best-selling music genres in the top 5 countries. Let's try by first filling in the blanks (______) in the query below:\n",
    "```\n",
    "genre = pd.read_sql_query(\n",
    "    '''\n",
    "    SELECT \n",
    "    BillingCountry AS Country, ______.Name AS Genre \n",
    "    FROM ______ \n",
    "    LEFT JOIN invoice_items ON invoices.______ = invoice_items.______\n",
    "    LEFT JOIN tracks ON invoice_items.______ = ______.______ \n",
    "    LEFT JOIN ______ ON tracks.______ = genres.______\n",
    "    WHERE BillingCountry IN ('USA', 'Canada', 'France', 'Brazil', 'Germany')\n",
    "    ''',conn)\n",
    "```\n"
   ]
  },
  {
   "cell_type": "code",
   "execution_count": null,
   "metadata": {},
   "outputs": [],
   "source": [
    "## Your code here\n"
   ]
  },
  {
   "cell_type": "markdown",
   "metadata": {},
   "source": [
    "Once you've completed the query for `genre` data frame above, copy and run the code below to create a bar chart that compares the best-selling song genres per country.\n",
    "```\n",
    "genre.\\\n",
    "groupby(['Country','Genre']).size().reset_index(name = 'Total Bought').\\\n",
    "sort_values(['Country','Total Bought'], ascending=False).\\\n",
    "groupby('Country').head(5).\\\n",
    "pivot(index = 'Country', columns = 'Genre').plot(kind='bar',stacked=True).\\\n",
    "legend(bbox_to_anchor=(1, 1), loc=2) \n",
    "```\n",
    "\n",
    "6. What genre is **not** among the top-selling genre in Germany?\n",
    "\n",
    "    *Genre apa yang **TIDAK** termasuk dalam genre terlaris di Jerman?*\n",
    "   - [ ] Blues\n",
    "   - [ ] Jazz\n",
    "   - [ ] Alternative & Punk\n",
    "   - [ ] Latin"
   ]
  }
 ],
 "metadata": {
  "kernelspec": {
   "display_name": "Python 3",
   "language": "python",
   "name": "python3"
  },
  "language_info": {
   "codemirror_mode": {
    "name": "ipython",
    "version": 3
   },
   "file_extension": ".py",
   "mimetype": "text/x-python",
   "name": "python",
   "nbconvert_exporter": "python",
   "pygments_lexer": "ipython3",
   "version": "3.7.5"
  },
  "latex_envs": {
   "LaTeX_envs_menu_present": true,
   "autoclose": false,
   "autocomplete": true,
   "bibliofile": "biblio.bib",
   "cite_by": "apalike",
   "current_citInitial": 1,
   "eqLabelWithNumbers": true,
   "eqNumInitial": 1,
   "hotkeys": {
    "equation": "Ctrl-E",
    "itemize": "Ctrl-I"
   },
   "labels_anchors": false,
   "latex_user_defs": false,
   "report_style_numbering": false,
   "user_envs_cfg": false
  },
  "toc": {
   "base_numbering": 1,
   "nav_menu": {},
   "number_sections": true,
   "sideBar": true,
   "skip_h1_title": false,
   "title_cell": "Table of Contents",
   "title_sidebar": "Contents",
   "toc_cell": false,
   "toc_position": {},
   "toc_section_display": true,
   "toc_window_display": false
  }
 },
 "nbformat": 4,
 "nbformat_minor": 4
}
