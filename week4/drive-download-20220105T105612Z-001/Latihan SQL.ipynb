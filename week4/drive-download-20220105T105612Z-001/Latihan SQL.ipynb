{
 "cells": [
  {
   "cell_type": "markdown",
   "id": "4d7e4589",
   "metadata": {},
   "source": [
    "# Latihan SQL\n",
    "## Case : Northwind Database\n",
    "\n",
    "Database Northwind merupakan database milik suatu perusahaan fiktif yang bernama Northwind Traders. Perusahaan ini bergerak dalam bidang eksport import makanan. Dalam database ini terdapat tabel-tabel seperti layaknya dalam suatu perusahaan eksport import seperti tabel Customers, Orders, Suppliers dan lain sebagainya."
   ]
  },
  {
   "cell_type": "markdown",
   "id": "45c54d9e",
   "metadata": {},
   "source": [
    "![](Northwind_ERD.png)"
   ]
  },
  {
   "cell_type": "markdown",
   "id": "c032dd25",
   "metadata": {},
   "source": [
    "**Role 1** : Anda adalah seorang supervisor pergudangan barang. Anda sedang diminta untuk melakukan pengecekan barang yang masih terdapat dalam gudang.\n",
    "1. Jika dilihat dari ketersediaan stok barang, manakah barang yang akan segera habis? Katakanlah barang yang akan segera habis adalah barang yang memiliki stok kurang dari 10\n",
    "\n",
    "**Role 2** : Anda sebagai tim Data Analyst diminta untuk menganalisis data untuk menjawab beberapa bussiness question sederhana berikut:\n",
    "\n",
    "1. List nama produk dan nama supplier dari semua produk yang di suplai oleh Exotic Liquids, Grandma Kelly's Homestead, dan Tokyo Traders. Ada berapa produk pada daftar tersebut?\n",
    "2. Dari seluruh transaksi pada database Northwind, kategori product apa yang paling banyak terjual?"
   ]
  },
  {
   "cell_type": "code",
   "execution_count": 9,
   "id": "d240fd06",
   "metadata": {
    "ExecuteTime": {
     "end_time": "2022-01-05T03:17:13.276349Z",
     "start_time": "2022-01-05T03:17:13.271328Z"
    }
   },
   "outputs": [],
   "source": [
    "import pandas as pd\n",
    "import sqlite3"
   ]
  },
  {
   "cell_type": "markdown",
   "id": "b5755ff2",
   "metadata": {},
   "source": [
    "Silahkan membuat koneksi database terlebih dahulu."
   ]
  },
  {
   "cell_type": "code",
   "execution_count": 7,
   "id": "1fb89090",
   "metadata": {
    "ExecuteTime": {
     "end_time": "2022-01-05T02:26:58.612539Z",
     "start_time": "2022-01-05T02:26:58.606557Z"
    }
   },
   "outputs": [],
   "source": [
    "# your code here\n"
   ]
  },
  {
   "cell_type": "markdown",
   "id": "2d7d71d3",
   "metadata": {},
   "source": [
    "Pada ERD yang ditampilkan terdapat sedikit perbedaan nama tabel dan kolom. Sebelum melakukan query untuk analisis Anda nantinya, luangkanlah waktu untuk melihat detail nama tabel dan kolom seperti contoh berikut:"
   ]
  },
  {
   "cell_type": "code",
   "execution_count": 10,
   "id": "af037c6c",
   "metadata": {
    "ExecuteTime": {
     "end_time": "2022-01-05T01:46:47.492768Z",
     "start_time": "2022-01-05T01:46:47.473849Z"
    }
   },
   "outputs": [
    {
     "data": {
      "text/html": [
       "<div>\n",
       "<style scoped>\n",
       "    .dataframe tbody tr th:only-of-type {\n",
       "        vertical-align: middle;\n",
       "    }\n",
       "\n",
       "    .dataframe tbody tr th {\n",
       "        vertical-align: top;\n",
       "    }\n",
       "\n",
       "    .dataframe thead th {\n",
       "        text-align: right;\n",
       "    }\n",
       "</style>\n",
       "<table border=\"1\" class=\"dataframe\">\n",
       "  <thead>\n",
       "    <tr style=\"text-align: right;\">\n",
       "      <th></th>\n",
       "      <th>name</th>\n",
       "    </tr>\n",
       "  </thead>\n",
       "  <tbody>\n",
       "    <tr>\n",
       "      <th>0</th>\n",
       "      <td>Employee</td>\n",
       "    </tr>\n",
       "    <tr>\n",
       "      <th>1</th>\n",
       "      <td>Category</td>\n",
       "    </tr>\n",
       "    <tr>\n",
       "      <th>2</th>\n",
       "      <td>Customer</td>\n",
       "    </tr>\n",
       "    <tr>\n",
       "      <th>3</th>\n",
       "      <td>Shipper</td>\n",
       "    </tr>\n",
       "    <tr>\n",
       "      <th>4</th>\n",
       "      <td>Supplier</td>\n",
       "    </tr>\n",
       "    <tr>\n",
       "      <th>5</th>\n",
       "      <td>Order</td>\n",
       "    </tr>\n",
       "    <tr>\n",
       "      <th>6</th>\n",
       "      <td>Product</td>\n",
       "    </tr>\n",
       "    <tr>\n",
       "      <th>7</th>\n",
       "      <td>OrderDetail</td>\n",
       "    </tr>\n",
       "    <tr>\n",
       "      <th>8</th>\n",
       "      <td>CustomerCustomerDemo</td>\n",
       "    </tr>\n",
       "    <tr>\n",
       "      <th>9</th>\n",
       "      <td>CustomerDemographic</td>\n",
       "    </tr>\n",
       "    <tr>\n",
       "      <th>10</th>\n",
       "      <td>Region</td>\n",
       "    </tr>\n",
       "    <tr>\n",
       "      <th>11</th>\n",
       "      <td>Territory</td>\n",
       "    </tr>\n",
       "    <tr>\n",
       "      <th>12</th>\n",
       "      <td>EmployeeTerritory</td>\n",
       "    </tr>\n",
       "  </tbody>\n",
       "</table>\n",
       "</div>"
      ],
      "text/plain": [
       "                    name\n",
       "0               Employee\n",
       "1               Category\n",
       "2               Customer\n",
       "3                Shipper\n",
       "4               Supplier\n",
       "5                  Order\n",
       "6                Product\n",
       "7            OrderDetail\n",
       "8   CustomerCustomerDemo\n",
       "9    CustomerDemographic\n",
       "10                Region\n",
       "11             Territory\n",
       "12     EmployeeTerritory"
      ]
     },
     "execution_count": 10,
     "metadata": {},
     "output_type": "execute_result"
    }
   ],
   "source": [
    "pd.read_sql_query(\"SELECT name FROM sqlite_master WHERE type = 'table' AND name NOT LIKE 'sqlite_%';\",conn)"
   ]
  },
  {
   "cell_type": "markdown",
   "id": "1341f6d0",
   "metadata": {},
   "source": [
    "2. Cek nama kolom:"
   ]
  },
  {
   "cell_type": "code",
   "execution_count": 6,
   "id": "e2e6ce32",
   "metadata": {
    "ExecuteTime": {
     "end_time": "2022-01-05T02:25:17.096789Z",
     "start_time": "2022-01-05T02:25:17.079830Z"
    },
    "cell_style": "center",
    "hide_input": false,
    "scrolled": true
   },
   "outputs": [
    {
     "data": {
      "text/plain": [
       "Id               int64\n",
       "CompanyName     object\n",
       "ContactName     object\n",
       "ContactTitle    object\n",
       "Address         object\n",
       "City            object\n",
       "Region          object\n",
       "PostalCode      object\n",
       "Country         object\n",
       "Phone           object\n",
       "Fax             object\n",
       "HomePage        object\n",
       "dtype: object"
      ]
     },
     "execution_count": 6,
     "metadata": {},
     "output_type": "execute_result"
    }
   ],
   "source": [
    "pd.read_sql_query(\"\"\"SELECT * FROM supplier\"\"\",conn).dtypes"
   ]
  },
  {
   "cell_type": "markdown",
   "id": "54484044",
   "metadata": {},
   "source": [
    "**NOTES** :Terdapat perbedaan nama `Id` pada tabel `supplier` asli dan nama yang tertera pada ERD yaitu `SupplierID`. Pastikan Anda melakukan pengecekan yang sama pada tabel lainnya."
   ]
  },
  {
   "cell_type": "markdown",
   "id": "6f778190",
   "metadata": {},
   "source": [
    "Selanjutnya, silahkan lakukan analisis dan tulis hasil analisis Anda di bawah ini:"
   ]
  },
  {
   "cell_type": "code",
   "execution_count": 8,
   "id": "de355a29",
   "metadata": {
    "ExecuteTime": {
     "end_time": "2022-01-05T02:27:58.691819Z",
     "start_time": "2022-01-05T02:27:58.687830Z"
    }
   },
   "outputs": [],
   "source": [
    "## your code here\n",
    "\n"
   ]
  },
  {
   "cell_type": "markdown",
   "id": "e1b32833",
   "metadata": {},
   "source": [
    "### Selamat!\n",
    "\n",
    "Jika Anda telah mencapai bagian ini berarti Anda telah menyelesaikan sebagian besar konsep untuk materi SQL Query.\n",
    "\n",
    "Kami tahu bahwa Anda sangat ingin latihan secara mandiri dan memiliki banyak pertanyaan untuk dijawab.\n",
    "\n",
    "Jadi, kami telah membuat cell khusus di bawah ini untuk Anda melakukan eksplorasi mandiri terhadap dataset.\n",
    "\n",
    "Rumuskan setidaknya satu pertanyaan bersama dengan kode dan insight yang diperoleh.\n",
    "\n",
    "Kami tidak sabar untuk melihat hasil analisis Anda ~"
   ]
  },
  {
   "cell_type": "code",
   "execution_count": null,
   "id": "93a189b4",
   "metadata": {},
   "outputs": [],
   "source": [
    "## your code here\n",
    "\n"
   ]
  }
 ],
 "metadata": {
  "kernelspec": {
   "display_name": "phoenix",
   "language": "python",
   "name": "phoenix"
  },
  "language_info": {
   "codemirror_mode": {
    "name": "ipython",
    "version": 3
   },
   "file_extension": ".py",
   "mimetype": "text/x-python",
   "name": "python",
   "nbconvert_exporter": "python",
   "pygments_lexer": "ipython3",
   "version": "3.8.12"
  },
  "latex_envs": {
   "LaTeX_envs_menu_present": true,
   "autoclose": false,
   "autocomplete": true,
   "bibliofile": "biblio.bib",
   "cite_by": "apalike",
   "current_citInitial": 1,
   "eqLabelWithNumbers": true,
   "eqNumInitial": 1,
   "hotkeys": {
    "equation": "Ctrl-E",
    "itemize": "Ctrl-I"
   },
   "labels_anchors": false,
   "latex_user_defs": false,
   "report_style_numbering": false,
   "user_envs_cfg": false
  },
  "toc": {
   "base_numbering": 1,
   "nav_menu": {},
   "number_sections": true,
   "sideBar": true,
   "skip_h1_title": false,
   "title_cell": "Table of Contents",
   "title_sidebar": "Contents",
   "toc_cell": false,
   "toc_position": {},
   "toc_section_display": true,
   "toc_window_display": false
  }
 },
 "nbformat": 4,
 "nbformat_minor": 5
}
