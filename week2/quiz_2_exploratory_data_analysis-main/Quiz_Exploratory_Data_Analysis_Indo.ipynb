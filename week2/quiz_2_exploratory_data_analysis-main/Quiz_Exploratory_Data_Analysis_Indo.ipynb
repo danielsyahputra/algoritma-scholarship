{
 "cells": [
  {
   "cell_type": "markdown",
   "metadata": {},
   "source": [
    "# Quiz: Exploratory Data Analysis\n",
    "\n",
    "Kuis ini merupakan bagian dari proses penilaian *Algoritma Academy*. Selamat anda sudah menyelesaikan materi *Exploratory Data Analysis*! Kami akan melakukan penilaian berupa kuis untuk menguji materi yang sudah dipelajari. Pengerjaan Kuis diharapkan dapat dilakukan di dalam kelas, silakan hubungi tim pengajar kami jika Anda melewatkan kesempatan untuk mengambilnya di kelas."
   ]
  },
  {
   "cell_type": "markdown",
   "metadata": {},
   "source": [
    "# Dataset Bukalapak"
   ]
  },
  {
   "cell_type": "markdown",
   "metadata": {},
   "source": [
    "## Data Preparation\n",
    "\n",
    "Pada kuis ini kita akan menggunakan **e-commerce product dataset**. Anda dapat menggunakan data `online_bl.csv` yang tersimpan dalam folder `data_input`. \n",
    "\n",
    "Data berisi informasi produk yang dijual pada website e-commerce bukalapak.com. Data tersebut memiliki beberapa variable antara lain :\n",
    "\n",
    "- `item_link` : link website produk dalam list  \n",
    "- `title` : nama produk yang dijual\n",
    "- `price_original` : harga produk\n",
    "- `price_discount` : harga discount produk\n",
    "- `sub_category` : sub-category produk\n",
    "- `time_update` : waktu unggah informasi produk pada website\n",
    "- `scale` : skala satuan product"
   ]
  },
  {
   "cell_type": "markdown",
   "metadata": {},
   "source": [
    "Silahkan import data `online_bl.csv` dari folder `data_input` dan simpan kedalam variabel `online_bl`. Gunakan parameter `parse_dates=[__]` pada method `read_csv()` untuk mengubah tipe data pada kolom `time_update`. "
   ]
  },
  {
   "cell_type": "code",
   "execution_count": 102,
   "metadata": {},
   "outputs": [
    {
     "data": {
      "text/html": [
       "<div>\n",
       "<style scoped>\n",
       "    .dataframe tbody tr th:only-of-type {\n",
       "        vertical-align: middle;\n",
       "    }\n",
       "\n",
       "    .dataframe tbody tr th {\n",
       "        vertical-align: top;\n",
       "    }\n",
       "\n",
       "    .dataframe thead th {\n",
       "        text-align: right;\n",
       "    }\n",
       "</style>\n",
       "<table border=\"1\" class=\"dataframe\">\n",
       "  <thead>\n",
       "    <tr style=\"text-align: right;\">\n",
       "      <th></th>\n",
       "      <th>item_link</th>\n",
       "      <th>title</th>\n",
       "      <th>price_original</th>\n",
       "      <th>price_discount</th>\n",
       "      <th>sub_category</th>\n",
       "      <th>time_update</th>\n",
       "      <th>scale</th>\n",
       "    </tr>\n",
       "  </thead>\n",
       "  <tbody>\n",
       "    <tr>\n",
       "      <th>0</th>\n",
       "      <td>https://www.bukalapak.com/p/kesehatan-2359/pro...</td>\n",
       "      <td>Rinso Molto Deterjen Bubuk 1.8 kg</td>\n",
       "      <td>30000.0</td>\n",
       "      <td>NaN</td>\n",
       "      <td>detergent</td>\n",
       "      <td>2018-10-20 01:32:00</td>\n",
       "      <td>1.8 kg</td>\n",
       "    </tr>\n",
       "    <tr>\n",
       "      <th>1</th>\n",
       "      <td>https://www.bukalapak.com/p/rumah-tangga/home-...</td>\n",
       "      <td>Terlaris - DETERGENT RINSO ANTI NODA 1.8 KG 1 ...</td>\n",
       "      <td>49000.0</td>\n",
       "      <td>NaN</td>\n",
       "      <td>detergent</td>\n",
       "      <td>2018-09-20 01:02:00</td>\n",
       "      <td>1.8 kg</td>\n",
       "    </tr>\n",
       "    <tr>\n",
       "      <th>2</th>\n",
       "      <td>https://www.bukalapak.com/p/rumah-tangga/home-...</td>\n",
       "      <td>Good Rinso Molto Purple 1.8 Kg</td>\n",
       "      <td>50000.0</td>\n",
       "      <td>NaN</td>\n",
       "      <td>detergent</td>\n",
       "      <td>2018-10-13 10:46:00</td>\n",
       "      <td>1.8 kg</td>\n",
       "    </tr>\n",
       "    <tr>\n",
       "      <th>3</th>\n",
       "      <td>https://www.bukalapak.com/p/rumah-tangga/home-...</td>\n",
       "      <td>Order Rinso Molto Purple 1.8 Kg</td>\n",
       "      <td>49000.0</td>\n",
       "      <td>NaN</td>\n",
       "      <td>detergent</td>\n",
       "      <td>2018-09-24 15:17:00</td>\n",
       "      <td>1.8 kg</td>\n",
       "    </tr>\n",
       "    <tr>\n",
       "      <th>4</th>\n",
       "      <td>https://www.bukalapak.com/p/rumah-tangga/home-...</td>\n",
       "      <td>Promonya Rinso Molto Purple 1.8 Kg</td>\n",
       "      <td>49000.0</td>\n",
       "      <td>NaN</td>\n",
       "      <td>detergent</td>\n",
       "      <td>2018-09-27 11:16:00</td>\n",
       "      <td>1.8 kg</td>\n",
       "    </tr>\n",
       "  </tbody>\n",
       "</table>\n",
       "</div>"
      ],
      "text/plain": [
       "                                           item_link  \\\n",
       "0  https://www.bukalapak.com/p/kesehatan-2359/pro...   \n",
       "1  https://www.bukalapak.com/p/rumah-tangga/home-...   \n",
       "2  https://www.bukalapak.com/p/rumah-tangga/home-...   \n",
       "3  https://www.bukalapak.com/p/rumah-tangga/home-...   \n",
       "4  https://www.bukalapak.com/p/rumah-tangga/home-...   \n",
       "\n",
       "                                               title  price_original  \\\n",
       "0                  Rinso Molto Deterjen Bubuk 1.8 kg         30000.0   \n",
       "1  Terlaris - DETERGENT RINSO ANTI NODA 1.8 KG 1 ...         49000.0   \n",
       "2                     Good Rinso Molto Purple 1.8 Kg         50000.0   \n",
       "3                    Order Rinso Molto Purple 1.8 Kg         49000.0   \n",
       "4                 Promonya Rinso Molto Purple 1.8 Kg         49000.0   \n",
       "\n",
       "   price_discount sub_category         time_update   scale  \n",
       "0             NaN    detergent 2018-10-20 01:32:00  1.8 kg  \n",
       "1             NaN    detergent 2018-09-20 01:02:00  1.8 kg  \n",
       "2             NaN    detergent 2018-10-13 10:46:00  1.8 kg  \n",
       "3             NaN    detergent 2018-09-24 15:17:00  1.8 kg  \n",
       "4             NaN    detergent 2018-09-27 11:16:00  1.8 kg  "
      ]
     },
     "execution_count": 102,
     "metadata": {},
     "output_type": "execute_result"
    }
   ],
   "source": [
    "## Import Library & Read Data\n",
    "import pandas as pd\n",
    "\n",
    "online_bl = pd.read_csv('./data_input/online_bl.csv', parse_dates=['time_update'])\n",
    "online_bl.head()"
   ]
  },
  {
   "cell_type": "markdown",
   "metadata": {},
   "source": [
    "Anda akan melakukan eksplorasi data `online_bl` untuk memastikan bahwa data tersebut siap untuk dianalisis. Hal yang pertama akan Anda lakukan adalah melakukan pengecekan tipe data."
   ]
  },
  {
   "cell_type": "code",
   "execution_count": 103,
   "metadata": {},
   "outputs": [
    {
     "name": "stdout",
     "output_type": "stream",
     "text": [
      "<class 'pandas.core.frame.DataFrame'>\n",
      "RangeIndex: 744 entries, 0 to 743\n",
      "Data columns (total 7 columns):\n",
      " #   Column          Non-Null Count  Dtype         \n",
      "---  ------          --------------  -----         \n",
      " 0   item_link       744 non-null    object        \n",
      " 1   title           744 non-null    object        \n",
      " 2   price_original  728 non-null    float64       \n",
      " 3   price_discount  17 non-null     float64       \n",
      " 4   sub_category    744 non-null    object        \n",
      " 5   time_update     744 non-null    datetime64[ns]\n",
      " 6   scale           744 non-null    object        \n",
      "dtypes: datetime64[ns](1), float64(2), object(4)\n",
      "memory usage: 40.8+ KB\n"
     ]
    }
   ],
   "source": [
    "# your code here\n",
    "online_bl.info()"
   ]
  },
  {
   "cell_type": "code",
   "execution_count": 104,
   "metadata": {},
   "outputs": [
    {
     "data": {
      "text/plain": [
       "item_link         689\n",
       "title             659\n",
       "price_original    244\n",
       "price_discount     15\n",
       "sub_category        3\n",
       "time_update       637\n",
       "scale               4\n",
       "dtype: int64"
      ]
     },
     "execution_count": 104,
     "metadata": {},
     "output_type": "execute_result"
    }
   ],
   "source": [
    "online_bl.nunique()"
   ]
  },
  {
   "cell_type": "markdown",
   "metadata": {},
   "source": [
    "Terdapat kolom yang perlu disesuaikan tipe datanya yaitu kolom `sub_category`. Silahkan lakukan pengubahan tipe data pada kolom tersebut kedalam tipe data yang sesuai.\n",
    "\n",
    "Kolom yang perlu diubah:\n",
    "- `sub_category` --> category\n",
    "- `scale` --> category\n"
   ]
  },
  {
   "cell_type": "code",
   "execution_count": 105,
   "metadata": {},
   "outputs": [
    {
     "data": {
      "text/plain": [
       "item_link                 object\n",
       "title                     object\n",
       "price_original           float64\n",
       "price_discount           float64\n",
       "sub_category            category\n",
       "time_update       datetime64[ns]\n",
       "scale                   category\n",
       "dtype: object"
      ]
     },
     "execution_count": 105,
     "metadata": {},
     "output_type": "execute_result"
    }
   ],
   "source": [
    "# your code here\n",
    "category_cols = ['sub_category', 'scale']\n",
    "online_bl[category_cols] = online_bl[category_cols].astype('category')\n",
    "online_bl.dtypes"
   ]
  },
  {
   "cell_type": "markdown",
   "metadata": {},
   "source": [
    "## Analisis\n",
    "\n",
    "Data `online_bl` menyimpan data beragam barang yang dijual pada suatu e-commerce. Anda diminta untuk melakukan analisis terhadap data untuk menjawab beberapa pertanyaan yang ada."
   ]
  },
  {
   "cell_type": "markdown",
   "metadata": {
    "tags": []
   },
   "source": [
    "### Jenis Barang\n",
    "\n",
    "Anda ingin mencari tahu jenis barang apa saja yang dijual dan jenis barang apakah yang paling banyak dijual pada e-commerce tersebut. Menggunakan informasi dari kolom `sub_category`, silahkan jawab pertanyaan di bawah ini.\n",
    "\n",
    "1. Berapa banyak jenis barang (`sub_category`) unik yang ada dalam kumpulan data `online_bl`? Apakah kita memiliki lebih banyak produk \"detergent\" atau \"sugar\" pada data tersebut?\n",
    "\n",
    "    - [ ] 2, dimana \"detergent\" lebih banyak dari pada \"Sugar\"\n",
    "    - [ ] 2, dimana \"detergent\" dan \"sugar\" memiliki jumlah produk sama banyak\n",
    "    - [X] 3, dimana \"sugar\" lebih banyak dari pada detergent\n",
    "    - [ ] tidak ada opsi yang benar "
   ]
  },
  {
   "cell_type": "markdown",
   "metadata": {},
   "source": [
    "- Opsi jawaban Bahasa Inggris:\n",
    "\n",
    "    - [ ] 2, with more \"detergent\" than \"sugar\"\n",
    "    - [ ] 2, with \"detergent\" and \"sugar\" having equal listings\n",
    "    - [ ] 3, with more \"sugar\" than detergent\n",
    "    - [ ] None of above is correct"
   ]
  },
  {
   "cell_type": "code",
   "execution_count": 106,
   "metadata": {},
   "outputs": [
    {
     "data": {
      "text/plain": [
       "rice         425\n",
       "sugar        213\n",
       "detergent    106\n",
       "Name: sub_category, dtype: int64"
      ]
     },
     "execution_count": 106,
     "metadata": {},
     "output_type": "execute_result"
    }
   ],
   "source": [
    "# Soal 1\n",
    "online_bl['sub_category'].value_counts()"
   ]
  },
  {
   "cell_type": "markdown",
   "metadata": {},
   "source": [
    "### Skala Barang\n",
    "\n",
    "Berdasarkan beberapa jenis barang yang dijual diatas, setiap barang dijual dengan beberapa ukuran berdasarkan beratnya, termasuk deterjen. Deterjen yang ada di pasaran memiliki beberapa pilihan ukuran (1kg, 1.8kg, dsb). \n",
    "\n",
    "2. Deterjen dengan ukuran berapakah yang paling banyak dijual di situs Bukalapak?\n",
    "\n",
    "    - [ ] 1 kg\n",
    "    - [X] 1.8 kg\n",
    "    - [ ] 5 kg\n",
    "    - [ ] 800 gr"
   ]
  },
  {
   "cell_type": "code",
   "execution_count": 107,
   "metadata": {},
   "outputs": [
    {
     "data": {
      "text/plain": [
       "sub_category\n",
       "detergent    1.8 kg\n",
       "rice           5 kg\n",
       "sugar          1 kg\n",
       "dtype: object"
      ]
     },
     "execution_count": 107,
     "metadata": {},
     "output_type": "execute_result"
    }
   ],
   "source": [
    "# Soal 2\n",
    "online_bl.pivot_table(\n",
    "    index='sub_category',\n",
    "    columns='scale',\n",
    "    values='title',\n",
    "    aggfunc='count'\n",
    ").idxmax(axis=1)"
   ]
  },
  {
   "cell_type": "markdown",
   "metadata": {},
   "source": [
    "Anda sedang membutuhkan produk deterjen. Berdasarkan informasi ukuran deterjen serta harga yang dipasarkan, Anda tertarik untuk membeli deterjen dengan ukuran 1,8 kg dan 800 gram. Namun, Anda ingin mengetahui pada bulan apa deterjen dengan ukuran tersebut dijual dengan rata-rata harga terendah.  \n",
    "\n",
    "3. Di bulan apakah produk deterjen dengan ukuran 1,8 kg dan 800 gram berada di harga terendah? Apakah keduanya berada di bulan yang sama?\n",
    "\n",
    "    - [X] Detergen 1.8 kg maupun 800 gr memiliki harga terendah di bulan Agustus\n",
    "    - [ ] Detergen 1.8 kg maupun 800 gr memiliki harga terendah di bulan Oktober\n",
    "    - [ ] Detergen 1.8 kg: terendah di Agustus, Detergen 800 gr: terendah di Oktober\n",
    "    - [ ] Detergen 1.8 kg: terendah di August, Detergen 800 gr: terendah di July \n",
    "    \n",
    "- Opsi Jawaban Bahasa Inggris:\n",
    "\n",
    "    - [ ] Both 1.8 kg and 800 gr detergents lowest price were in August\n",
    "    - [ ] Both 1.8 kg and 800 gr detergents lowest price were in October\n",
    "    - [ ] 1.8 kg detergents: Lowest in August, 800 gr: Lowest in October\n",
    "    - [ ] 1.8 kg detergents: Lowest in August, 800 gr: Lowest in July   "
   ]
  },
  {
   "cell_type": "code",
   "execution_count": 108,
   "metadata": {},
   "outputs": [
    {
     "data": {
      "text/plain": [
       "scale\n",
       "1.8 kg    August\n",
       "800 gr    August\n",
       "dtype: object"
      ]
     },
     "execution_count": 108,
     "metadata": {},
     "output_type": "execute_result"
    }
   ],
   "source": [
    "online_bl['month'] = online_bl['time_update'].dt.month_name()\n",
    "online_bl.pivot_table(\n",
    "    index='month',\n",
    "    columns='scale',\n",
    "    values='price_original',\n",
    "    aggfunc='mean'\n",
    ")[['1.8 kg', '800 gr']].idxmin()"
   ]
  },
  {
   "cell_type": "markdown",
   "metadata": {},
   "source": [
    "---"
   ]
  },
  {
   "cell_type": "markdown",
   "metadata": {},
   "source": [
    "# Dataset Fund Raising"
   ]
  },
  {
   "cell_type": "markdown",
   "metadata": {},
   "source": [
    "## Data Preparation\n",
    "\n",
    "Pada analisa kedua, Anda akan menggunakan data **fund raising** yang diperoleh beberapa perusahaan startup di Amerika. Silahkan gunakan data `techcrunch.csv` dari folder `data_input`.  Dataset mengandung variable sebagai berikut :\n",
    "\n",
    "- `permalink` : nama permalink company\n",
    "- `company` : nama perusahaan (company)\n",
    "- `numEmps` : banyaknya media partner\n",
    "- `category` : kategori perusahaan\n",
    "- `city` : nama kota lokasi perusahaan\n",
    "- `state` : kode negara bagian lokasi perusahaan\n",
    "- `fundedDate` : tanggal pendanaan\n",
    "- `raisedAmt` : jumlah pendanaan yang diperoleh\n",
    "- `raisedCurrency` : informasi"
   ]
  },
  {
   "cell_type": "code",
   "execution_count": 109,
   "metadata": {
    "ExecuteTime": {
     "end_time": "2021-07-22T09:50:36.949168Z",
     "start_time": "2021-07-22T09:50:36.934155Z"
    }
   },
   "outputs": [
    {
     "data": {
      "text/html": [
       "<div>\n",
       "<style scoped>\n",
       "    .dataframe tbody tr th:only-of-type {\n",
       "        vertical-align: middle;\n",
       "    }\n",
       "\n",
       "    .dataframe tbody tr th {\n",
       "        vertical-align: top;\n",
       "    }\n",
       "\n",
       "    .dataframe thead th {\n",
       "        text-align: right;\n",
       "    }\n",
       "</style>\n",
       "<table border=\"1\" class=\"dataframe\">\n",
       "  <thead>\n",
       "    <tr style=\"text-align: right;\">\n",
       "      <th></th>\n",
       "      <th>permalink</th>\n",
       "      <th>company</th>\n",
       "      <th>numEmps</th>\n",
       "      <th>category</th>\n",
       "      <th>city</th>\n",
       "      <th>state</th>\n",
       "      <th>fundedDate</th>\n",
       "      <th>raisedAmt</th>\n",
       "      <th>raisedCurrency</th>\n",
       "      <th>round</th>\n",
       "    </tr>\n",
       "  </thead>\n",
       "  <tbody>\n",
       "    <tr>\n",
       "      <th>0</th>\n",
       "      <td>lifelock</td>\n",
       "      <td>LifeLock</td>\n",
       "      <td>NaN</td>\n",
       "      <td>web</td>\n",
       "      <td>Tempe</td>\n",
       "      <td>AZ</td>\n",
       "      <td>2007-05-01</td>\n",
       "      <td>6850000</td>\n",
       "      <td>USD</td>\n",
       "      <td>b</td>\n",
       "    </tr>\n",
       "    <tr>\n",
       "      <th>1</th>\n",
       "      <td>lifelock</td>\n",
       "      <td>LifeLock</td>\n",
       "      <td>NaN</td>\n",
       "      <td>web</td>\n",
       "      <td>Tempe</td>\n",
       "      <td>AZ</td>\n",
       "      <td>2006-10-01</td>\n",
       "      <td>6000000</td>\n",
       "      <td>USD</td>\n",
       "      <td>a</td>\n",
       "    </tr>\n",
       "    <tr>\n",
       "      <th>2</th>\n",
       "      <td>lifelock</td>\n",
       "      <td>LifeLock</td>\n",
       "      <td>NaN</td>\n",
       "      <td>web</td>\n",
       "      <td>Tempe</td>\n",
       "      <td>AZ</td>\n",
       "      <td>2008-01-01</td>\n",
       "      <td>25000000</td>\n",
       "      <td>USD</td>\n",
       "      <td>c</td>\n",
       "    </tr>\n",
       "    <tr>\n",
       "      <th>3</th>\n",
       "      <td>mycityfaces</td>\n",
       "      <td>MyCityFaces</td>\n",
       "      <td>7.0</td>\n",
       "      <td>web</td>\n",
       "      <td>Scottsdale</td>\n",
       "      <td>AZ</td>\n",
       "      <td>2008-01-01</td>\n",
       "      <td>50000</td>\n",
       "      <td>USD</td>\n",
       "      <td>seed</td>\n",
       "    </tr>\n",
       "    <tr>\n",
       "      <th>4</th>\n",
       "      <td>flypaper</td>\n",
       "      <td>Flypaper</td>\n",
       "      <td>NaN</td>\n",
       "      <td>web</td>\n",
       "      <td>Phoenix</td>\n",
       "      <td>AZ</td>\n",
       "      <td>2008-02-01</td>\n",
       "      <td>3000000</td>\n",
       "      <td>USD</td>\n",
       "      <td>a</td>\n",
       "    </tr>\n",
       "  </tbody>\n",
       "</table>\n",
       "</div>"
      ],
      "text/plain": [
       "     permalink      company  numEmps category        city state fundedDate  \\\n",
       "0     lifelock     LifeLock      NaN      web       Tempe    AZ 2007-05-01   \n",
       "1     lifelock     LifeLock      NaN      web       Tempe    AZ 2006-10-01   \n",
       "2     lifelock     LifeLock      NaN      web       Tempe    AZ 2008-01-01   \n",
       "3  mycityfaces  MyCityFaces      7.0      web  Scottsdale    AZ 2008-01-01   \n",
       "4     flypaper     Flypaper      NaN      web     Phoenix    AZ 2008-02-01   \n",
       "\n",
       "   raisedAmt raisedCurrency round  \n",
       "0    6850000            USD     b  \n",
       "1    6000000            USD     a  \n",
       "2   25000000            USD     c  \n",
       "3      50000            USD  seed  \n",
       "4    3000000            USD     a  "
      ]
     },
     "execution_count": 109,
     "metadata": {},
     "output_type": "execute_result"
    }
   ],
   "source": [
    "## Read Data\n",
    "\n",
    "fund_raising = pd.read_csv('./data_input/techcrunch.csv', parse_dates=['fundedDate'])\n",
    "fund_raising.head()"
   ]
  },
  {
   "cell_type": "code",
   "execution_count": 110,
   "metadata": {},
   "outputs": [
    {
     "name": "stdout",
     "output_type": "stream",
     "text": [
      "<class 'pandas.core.frame.DataFrame'>\n",
      "RangeIndex: 1460 entries, 0 to 1459\n",
      "Data columns (total 10 columns):\n",
      " #   Column          Non-Null Count  Dtype         \n",
      "---  ------          --------------  -----         \n",
      " 0   permalink       1460 non-null   object        \n",
      " 1   company         1460 non-null   object        \n",
      " 2   numEmps         567 non-null    float64       \n",
      " 3   category        1436 non-null   object        \n",
      " 4   city            1442 non-null   object        \n",
      " 5   state           1460 non-null   object        \n",
      " 6   fundedDate      1460 non-null   datetime64[ns]\n",
      " 7   raisedAmt       1460 non-null   int64         \n",
      " 8   raisedCurrency  1460 non-null   object        \n",
      " 9   round           1460 non-null   object        \n",
      "dtypes: datetime64[ns](1), float64(1), int64(1), object(7)\n",
      "memory usage: 114.2+ KB\n"
     ]
    }
   ],
   "source": [
    "fund_raising.info()"
   ]
  },
  {
   "cell_type": "markdown",
   "metadata": {},
   "source": [
    "Sebelum melakukan eksplorasi data lebih lanjut, silahkan sesuaikan beberapa kolom yang belum memiliki tipe data yang tepat agar memperkecil memori."
   ]
  },
  {
   "cell_type": "code",
   "execution_count": 111,
   "metadata": {},
   "outputs": [
    {
     "data": {
      "text/plain": [
       "permalink         909\n",
       "company           909\n",
       "numEmps            72\n",
       "category            8\n",
       "city              193\n",
       "state              33\n",
       "fundedDate        386\n",
       "raisedAmt         281\n",
       "raisedCurrency      3\n",
       "round               9\n",
       "dtype: int64"
      ]
     },
     "execution_count": 111,
     "metadata": {},
     "output_type": "execute_result"
    }
   ],
   "source": [
    "fund_raising.nunique()"
   ]
  },
  {
   "cell_type": "markdown",
   "metadata": {},
   "source": [
    "Kolom yang akan diubah:\n",
    "\n",
    "- `raisedCurrency` --> category\n",
    "- `round` --> category\n",
    "- `state` --> category\n",
    "- `category` --> category\n",
    "- `city` --> category"
   ]
  },
  {
   "cell_type": "code",
   "execution_count": 112,
   "metadata": {},
   "outputs": [
    {
     "name": "stdout",
     "output_type": "stream",
     "text": [
      "<class 'pandas.core.frame.DataFrame'>\n",
      "RangeIndex: 1460 entries, 0 to 1459\n",
      "Data columns (total 10 columns):\n",
      " #   Column          Non-Null Count  Dtype         \n",
      "---  ------          --------------  -----         \n",
      " 0   permalink       1460 non-null   object        \n",
      " 1   company         1460 non-null   object        \n",
      " 2   numEmps         567 non-null    float64       \n",
      " 3   category        1436 non-null   category      \n",
      " 4   city            1442 non-null   category      \n",
      " 5   state           1460 non-null   category      \n",
      " 6   fundedDate      1460 non-null   datetime64[ns]\n",
      " 7   raisedAmt       1460 non-null   int64         \n",
      " 8   raisedCurrency  1460 non-null   category      \n",
      " 9   round           1460 non-null   category      \n",
      "dtypes: category(5), datetime64[ns](1), float64(1), int64(1), object(2)\n",
      "memory usage: 73.4+ KB\n"
     ]
    }
   ],
   "source": [
    "# your code here\n",
    "category_cols = ['raisedCurrency', 'round', 'state', 'category', 'city']\n",
    "fund_raising[category_cols] = fund_raising[category_cols].astype('category')\n",
    "fund_raising.info()"
   ]
  },
  {
   "cell_type": "markdown",
   "metadata": {},
   "source": [
    "## Analisis"
   ]
  },
  {
   "cell_type": "markdown",
   "metadata": {},
   "source": [
    "### Funding each Category\n",
    "\n",
    "Sebagai seseorang yang ingin menjalankan sebuah startup, Anda ingin melakukan perencanaan pendanaan yang cukup matang agar perusahaan Anda berjalan dengan lancar. Oleh karena itu, Anda tertarik untuk mencari tahu bidang (`category`) startup mana yang mendapatkan pendanaan tertinggi. Karena ada banyak startup yang bergerak dengan bidang yang sama, Anda ingin mendapatkan summary dari kebanyakan banyaknya pendanaan (`raisedAmt`) yang diberikan. Seperti yang sudah Anda ketahui sebelumnya, nilai rata-rata akan terpengaruhi oleh outlier, sehingga Anda akan menggunakan nilai **median** untuk mendapatkan summary bidang startup yang mendapatkan pendanaan tertinggi.\n",
    "\n",
    "Berdasarkan kondisi diatas, jawablah pertanyaan dibawah ini.\n",
    "\n",
    "4. Kategori (`category`) startup manakah yang mendapatkan funding (`raisedAmt`) tertinggi? gunakan `median` untuk menghitung kisaran funding dari tiap kategori!\n",
    "    \n",
    "    - [ ] `mobile`\n",
    "    - [ ] `cleantech`\n",
    "    - [X] `biotech`\n",
    "    - [ ] `consulting`"
   ]
  },
  {
   "cell_type": "code",
   "execution_count": 115,
   "metadata": {},
   "outputs": [
    {
     "data": {
      "text/html": [
       "<div>\n",
       "<style scoped>\n",
       "    .dataframe tbody tr th:only-of-type {\n",
       "        vertical-align: middle;\n",
       "    }\n",
       "\n",
       "    .dataframe tbody tr th {\n",
       "        vertical-align: top;\n",
       "    }\n",
       "\n",
       "    .dataframe thead th {\n",
       "        text-align: right;\n",
       "    }\n",
       "</style>\n",
       "<table border=\"1\" class=\"dataframe\">\n",
       "  <thead>\n",
       "    <tr style=\"text-align: right;\">\n",
       "      <th></th>\n",
       "      <th>raisedAmt</th>\n",
       "    </tr>\n",
       "    <tr>\n",
       "      <th>category</th>\n",
       "      <th></th>\n",
       "    </tr>\n",
       "  </thead>\n",
       "  <tbody>\n",
       "    <tr>\n",
       "      <th>biotech</th>\n",
       "      <td>20000000</td>\n",
       "    </tr>\n",
       "    <tr>\n",
       "      <th>cleantech</th>\n",
       "      <td>15500000</td>\n",
       "    </tr>\n",
       "    <tr>\n",
       "      <th>hardware</th>\n",
       "      <td>13700000</td>\n",
       "    </tr>\n",
       "    <tr>\n",
       "      <th>other</th>\n",
       "      <td>7750000</td>\n",
       "    </tr>\n",
       "    <tr>\n",
       "      <th>software</th>\n",
       "      <td>7125000</td>\n",
       "    </tr>\n",
       "    <tr>\n",
       "      <th>consulting</th>\n",
       "      <td>7000000</td>\n",
       "    </tr>\n",
       "    <tr>\n",
       "      <th>mobile</th>\n",
       "      <td>5000000</td>\n",
       "    </tr>\n",
       "    <tr>\n",
       "      <th>web</th>\n",
       "      <td>5000000</td>\n",
       "    </tr>\n",
       "  </tbody>\n",
       "</table>\n",
       "</div>"
      ],
      "text/plain": [
       "            raisedAmt\n",
       "category             \n",
       "biotech      20000000\n",
       "cleantech    15500000\n",
       "hardware     13700000\n",
       "other         7750000\n",
       "software      7125000\n",
       "consulting    7000000\n",
       "mobile        5000000\n",
       "web           5000000"
      ]
     },
     "execution_count": 115,
     "metadata": {},
     "output_type": "execute_result"
    }
   ],
   "source": [
    "# your code here\n",
    "fund_raising.pivot_table(\n",
    "    index='category',\n",
    "    values='raisedAmt',\n",
    "    aggfunc='median'\n",
    ").sort_values(by='raisedAmt', ascending=False)"
   ]
  },
  {
   "cell_type": "markdown",
   "metadata": {},
   "source": [
    "### Funding each Company\n",
    "\n",
    "Sebagai pengguna sosial media, Anda tertarik untuk menganalisa salah satu sosial media yang termasuk dalam daftar startup penerima pendanaan, yaitu **Friendster**. Selama masa pendanaan, Friendster mendapatkan pendanaan yang berbeda-beda. \n",
    "\n",
    "5. Pada periode manakah Friendster mendapatkan nilai funding tertinggi mereka?\n",
    "   \n",
    "    - [X] 2008-08\n",
    "    - [ ] 2002-12\n",
    "    - [ ] 2006-08\n",
    "    - [ ] 2012-01"
   ]
  },
  {
   "cell_type": "code",
   "execution_count": 116,
   "metadata": {},
   "outputs": [
    {
     "data": {
      "text/html": [
       "<div>\n",
       "<style scoped>\n",
       "    .dataframe tbody tr th:only-of-type {\n",
       "        vertical-align: middle;\n",
       "    }\n",
       "\n",
       "    .dataframe tbody tr th {\n",
       "        vertical-align: top;\n",
       "    }\n",
       "\n",
       "    .dataframe thead th {\n",
       "        text-align: right;\n",
       "    }\n",
       "</style>\n",
       "<table border=\"1\" class=\"dataframe\">\n",
       "  <thead>\n",
       "    <tr style=\"text-align: right;\">\n",
       "      <th></th>\n",
       "      <th>raisedAmt</th>\n",
       "    </tr>\n",
       "    <tr>\n",
       "      <th>yearmonth</th>\n",
       "      <th></th>\n",
       "    </tr>\n",
       "  </thead>\n",
       "  <tbody>\n",
       "    <tr>\n",
       "      <th>2008-08</th>\n",
       "      <td>20000000</td>\n",
       "    </tr>\n",
       "    <tr>\n",
       "      <th>2003-10</th>\n",
       "      <td>13000000</td>\n",
       "    </tr>\n",
       "    <tr>\n",
       "      <th>2006-08</th>\n",
       "      <td>10000000</td>\n",
       "    </tr>\n",
       "    <tr>\n",
       "      <th>2002-12</th>\n",
       "      <td>2400000</td>\n",
       "    </tr>\n",
       "  </tbody>\n",
       "</table>\n",
       "</div>"
      ],
      "text/plain": [
       "           raisedAmt\n",
       "yearmonth           \n",
       "2008-08     20000000\n",
       "2003-10     13000000\n",
       "2006-08     10000000\n",
       "2002-12      2400000"
      ]
     },
     "execution_count": 116,
     "metadata": {},
     "output_type": "execute_result"
    }
   ],
   "source": [
    "# your code here\n",
    "fund_raising_friendster = fund_raising[fund_raising['company'] == 'Friendster'].copy()\n",
    "fund_raising_friendster['yearmonth'] = fund_raising_friendster['fundedDate'].dt.to_period('M')\n",
    "fund_raising_friendster.pivot_table(\n",
    "    index='yearmonth',\n",
    "    values='raisedAmt',\n",
    "    aggfunc='max'\n",
    ").sort_values(by='raisedAmt', ascending=False)"
   ]
  },
  {
   "cell_type": "markdown",
   "metadata": {},
   "source": [
    "Setelah melihat beberapa startup yang mendapatkan pendanaan, Anda ingin mengetahui lebih lanjut startup yang berhasil mendapatkan pendanaan di lokasi Anda, yaitu **San Francisco**. Buatlah sebuah agregasi data yang menunjukkan beberapa perusahaan yang mendapatkan pendanaan tertinggi hingga terendah di San Francisco.\n",
    "\n",
    "6.  Perusahaan apa yang **TIDAK** termasuk 5 perusahaan dengan **total** funding (`raisedAmt`) tertinggi di San Francisco?\n",
    "    \n",
    "    - [ ] `OpenTable`\n",
    "    - [ ] `Friendster`\n",
    "    - [X] `Facebook`\n",
    "    - [ ] `Snapfish`\n",
    "  "
   ]
  },
  {
   "cell_type": "code",
   "execution_count": 90,
   "metadata": {},
   "outputs": [
    {
     "data": {
      "text/html": [
       "<div>\n",
       "<style scoped>\n",
       "    .dataframe tbody tr th:only-of-type {\n",
       "        vertical-align: middle;\n",
       "    }\n",
       "\n",
       "    .dataframe tbody tr th {\n",
       "        vertical-align: top;\n",
       "    }\n",
       "\n",
       "    .dataframe thead th {\n",
       "        text-align: right;\n",
       "    }\n",
       "</style>\n",
       "<table border=\"1\" class=\"dataframe\">\n",
       "  <thead>\n",
       "    <tr style=\"text-align: right;\">\n",
       "      <th></th>\n",
       "      <th>raisedAmt</th>\n",
       "    </tr>\n",
       "    <tr>\n",
       "      <th>company</th>\n",
       "      <th></th>\n",
       "    </tr>\n",
       "  </thead>\n",
       "  <tbody>\n",
       "    <tr>\n",
       "      <th>Slide</th>\n",
       "      <td>58000000</td>\n",
       "    </tr>\n",
       "    <tr>\n",
       "      <th>freebase</th>\n",
       "      <td>57500000</td>\n",
       "    </tr>\n",
       "    <tr>\n",
       "      <th>OpenTable</th>\n",
       "      <td>48000000</td>\n",
       "    </tr>\n",
       "    <tr>\n",
       "      <th>Friendster</th>\n",
       "      <td>45400000</td>\n",
       "    </tr>\n",
       "    <tr>\n",
       "      <th>Snapfish</th>\n",
       "      <td>43500000</td>\n",
       "    </tr>\n",
       "  </tbody>\n",
       "</table>\n",
       "</div>"
      ],
      "text/plain": [
       "            raisedAmt\n",
       "company              \n",
       "Slide        58000000\n",
       "freebase     57500000\n",
       "OpenTable    48000000\n",
       "Friendster   45400000\n",
       "Snapfish     43500000"
      ]
     },
     "execution_count": 90,
     "metadata": {},
     "output_type": "execute_result"
    }
   ],
   "source": [
    "# your code here\n",
    "fund_raising_sf = fund_raising[fund_raising['city'] == 'San Francisco'].copy()\n",
    "fund_raising_sf.pivot_table(\n",
    "    index='company',\n",
    "    values='raisedAmt',\n",
    "    aggfunc='sum'\n",
    ").sort_values(by='raisedAmt', ascending=False).iloc[:5]\n"
   ]
  }
 ],
 "metadata": {
  "kernelspec": {
   "display_name": "Python 3",
   "language": "python",
   "name": "python3"
  },
  "language_info": {
   "codemirror_mode": {
    "name": "ipython",
    "version": 3
   },
   "file_extension": ".py",
   "mimetype": "text/x-python",
   "name": "python",
   "nbconvert_exporter": "python",
   "pygments_lexer": "ipython3",
   "version": "3.8.10"
  },
  "latex_envs": {
   "LaTeX_envs_menu_present": true,
   "autoclose": false,
   "autocomplete": true,
   "bibliofile": "biblio.bib",
   "cite_by": "apalike",
   "current_citInitial": 1,
   "eqLabelWithNumbers": true,
   "eqNumInitial": 1,
   "hotkeys": {
    "equation": "Ctrl-E",
    "itemize": "Ctrl-I"
   },
   "labels_anchors": false,
   "latex_user_defs": false,
   "report_style_numbering": false,
   "user_envs_cfg": false
  },
  "toc": {
   "base_numbering": 1,
   "nav_menu": {},
   "number_sections": true,
   "sideBar": true,
   "skip_h1_title": false,
   "title_cell": "Table of Contents",
   "title_sidebar": "Contents",
   "toc_cell": false,
   "toc_position": {},
   "toc_section_display": true,
   "toc_window_display": false
  }
 },
 "nbformat": 4,
 "nbformat_minor": 4
}
