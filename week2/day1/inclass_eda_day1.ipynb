{
 "cells": [
  {
   "cell_type": "markdown",
   "metadata": {},
   "source": [
    "**Inclass material for Week 2: Exploratory Data Analysis**\n",
    "\n",
    "This notebook was made based on main materials `2_Exploratory_Data_Analysis.ipynb`\n",
    "\n",
    "Version: Qoppa - December 2021"
   ]
  },
  {
   "cell_type": "markdown",
   "metadata": {},
   "source": [
    "___"
   ]
  },
  {
   "cell_type": "markdown",
   "metadata": {},
   "source": [
    "# Exploratory Data Analysis (EDA)"
   ]
  },
  {
   "cell_type": "markdown",
   "metadata": {},
   "source": [
    "## Training Objectives"
   ]
  },
  {
   "cell_type": "markdown",
   "metadata": {},
   "source": [
    "The coursebook focuses on:\n",
    "- Why and What: Exploratory Data Analysis\n",
    "- Date Time objects\n",
    "- Categorical data types\n",
    "- Cross Tabulation and Pivot Table\n",
    "- Treating Duplicates and Missing Values "
   ]
  },
  {
   "cell_type": "markdown",
   "metadata": {},
   "source": [
    "## Apa itu EDA?"
   ]
  },
  {
   "cell_type": "markdown",
   "metadata": {},
   "source": [
    "Exploratory Data Analysis (EDA) adalah suatu proses untuk melakukan eksplorasi lebih jauh terhadap data, seperti:\n",
    "\n",
    "- melihat struktur data, \n",
    "- melihat sebaran data,\n",
    "- menyesuaikan bentuk tipe data untuk analisis lebih lanjut.\n",
    "\n",
    "Ini juga dapat membantu menentukan apakah teknik statistik yang Anda pertimbangkan untuk analisis data sudah sesuai. Awalnya dikembangkan oleh matematikawan Amerika John Tukey pada 1970-an, teknik EDA terus menjadi metode yang banyak digunakan dalam proses penemuan data saat ini."
   ]
  },
  {
   "cell_type": "markdown",
   "metadata": {},
   "source": [
    "## Mengapa EDA penting?"
   ]
  },
  {
   "cell_type": "markdown",
   "metadata": {},
   "source": [
    "Tujuan utama EDA adalah untuk membantu melihat data sebelum membuat asumsi apa pun.\n",
    "\n",
    "- Ini dapat membantu mengidentifikasi kesalahan yang jelas,\n",
    "- serta lebih memahami pola dalam data,\n",
    "- mendeteksi outlier atau kejadian anomali,\n",
    "- menemukan hubungan yang menarik antara variabel.\n",
    "\n",
    "Ilmuwan data dan Analis Data dapat menggunakan analisis eksplorasi untuk:\n",
    "\n",
    "- memastikan hasil valid dan berlaku untuk tujuan bisnis yang diinginkan,\n",
    "- membantu pemangku kepentingan mengambil keputusan yang tepat,\n",
    "- pengetahuan dari EDA dapat digunakan untuk analisis lanjut, misalnya pemodelan machine learning."
   ]
  },
  {
   "cell_type": "markdown",
   "metadata": {},
   "source": [
    "## Tools EDA"
   ]
  },
  {
   "cell_type": "markdown",
   "metadata": {},
   "source": [
    "Pada course sebelumnya, kami memiliki beberapa teknik umum:\n",
    "\n",
    "- `.head()` dan `.tail()` --> inspeksi data\n",
    "- `.describe()` --> mendeskripsikan data secara statistik\n",
    "- `.shape` dan `.size` --> dimensi data\n",
    "- `.axes` --> label index kolom dan baris\n",
    "- `.dtypes` --> cek tipe data\n",
    "\n",
    "Dalam course ini, kita akan memperluas pemahaman EDA dengan teknik berikut:\n",
    "\n",
    "- Tables\n",
    "- Cross-table and aggregates\n",
    "- Pivot Tables"
   ]
  },
  {
   "cell_type": "markdown",
   "metadata": {},
   "source": [
    "## Problem Statement\n",
    "\n",
    "🔻 Anda merupakan seorang analis data yang bekerja di sebuah perusahaan retail. Anda diminta untuk melakukan eksplorasi terhadap data transaksi hingga mendapatkan insight-insight bisnis yang dapat Anda ceritakan kepada rekan atau atasan Anda."
   ]
  },
  {
   "cell_type": "markdown",
   "metadata": {},
   "source": [
    "___"
   ]
  },
  {
   "cell_type": "markdown",
   "metadata": {},
   "source": [
    "# Data Preparation"
   ]
  },
  {
   "cell_type": "markdown",
   "metadata": {},
   "source": [
    "## Load Data"
   ]
  },
  {
   "cell_type": "markdown",
   "metadata": {},
   "source": [
    "🔻 Data transaksi terletak di dalam folder `data_input` dengan nama **`household.csv`**. Dengan bantuan library `pandas` bacalah data tersebut."
   ]
  },
  {
   "cell_type": "code",
   "execution_count": null,
   "metadata": {},
   "outputs": [],
   "source": [
    "import pandas as pd\n",
    "\n",
    "# mengatur tampilan float pada dataframe\n",
    "# , -> pemisah ribuan\n",
    "# .2f -> dua angka di belakang koma\n",
    "pd.options.display.float_format = '{:,.2f}'.format"
   ]
  },
  {
   "cell_type": "code",
   "execution_count": null,
   "metadata": {},
   "outputs": [],
   "source": [
    "# code here\n",
    "household = "
   ]
  },
  {
   "cell_type": "markdown",
   "metadata": {},
   "source": [
    "## Data Description"
   ]
  },
  {
   "cell_type": "markdown",
   "metadata": {},
   "source": [
    "Dataset ini merupakan data transaksi pembelian barang kebutuhan rumah tangga. Informasi kolom:\n",
    "\n",
    "- `receipt_id`: Unique buyer ID\n",
    "- `receipts_item_id` : Unique transaction ID\n",
    "- `purchase_time` : Waktu melakukan pembelian\n",
    "- `category` : Kategori item\n",
    "- `sub_category` : Sub-kategori item\n",
    "- `format` : Jenis pasar tempat membeli barang (supermarket', 'minimarket', 'hypermarket')\n",
    "- `unit_price` : Harga per unit\n",
    "- `diskon` : Diskon\n",
    "- `quantity` : Jumlah barang yang dibeli\n",
    "- `yearmonth` : Informasi tahun dan bulan"
   ]
  },
  {
   "cell_type": "markdown",
   "metadata": {},
   "source": [
    "🔻 Lakukan investigasi awal untuk melihat struktur data terhadap object DataFrame dengan menggunakan method `.info()`"
   ]
  },
  {
   "cell_type": "code",
   "execution_count": null,
   "metadata": {},
   "outputs": [],
   "source": []
  },
  {
   "cell_type": "markdown",
   "metadata": {},
   "source": [
    "💡 Dengan menggunakan method `.info()`, kita dapat memeriksa **informasi** lengkap dari DataFrame kita:\n",
    "\n",
    "- Dimensi data: jumlah baris dan kolom (`.shape`)\n",
    "- Nama kolom dan jumlah nilai bukan nol (`.columns`)\n",
    "- Tipe data setiap kolom (`.dtypes`)\n",
    "- Penggunaan memori"
   ]
  },
  {
   "cell_type": "markdown",
   "metadata": {},
   "source": [
    "# Data Pre-processing and Feature Engineering"
   ]
  },
  {
   "cell_type": "markdown",
   "metadata": {},
   "source": [
    "## Working with Datetime"
   ]
  },
  {
   "cell_type": "markdown",
   "metadata": {},
   "source": [
    "🔻 Tahap selanjutnya anda perlu menyesuaikan tipe data untuk dapat melakukan proses analisis lanjutan"
   ]
  },
  {
   "cell_type": "code",
   "execution_count": null,
   "metadata": {},
   "outputs": [],
   "source": [
    "# code here\n"
   ]
  },
  {
   "cell_type": "markdown",
   "metadata": {},
   "source": [
    "**❓ Kolom manakah yang seharusnya memiliki format tipe data date time?**\n",
    "\n",
    "> Jawaban: ..."
   ]
  },
  {
   "cell_type": "markdown",
   "metadata": {},
   "source": [
    "### Convert to Datetime"
   ]
  },
  {
   "cell_type": "markdown",
   "metadata": {},
   "source": [
    "Ada tiga cara untuk mengubah sebuah kolom menjadi tipe data `datetime64`:\n",
    "\n",
    "- Method **`.astype()`**\n",
    "- Parameter **`parse_dates`** dalam `pd.read_csv()`\n",
    "- Method **`pd.to_datetime()`**"
   ]
  },
  {
   "cell_type": "markdown",
   "metadata": {},
   "source": [
    "#### 1️⃣ Method `.astype()`"
   ]
  },
  {
   "cell_type": "markdown",
   "metadata": {},
   "source": [
    "🔻 Mari kita buat salinan `household` agar data aslinya tetap tidak berubah."
   ]
  },
  {
   "cell_type": "code",
   "execution_count": null,
   "metadata": {},
   "outputs": [],
   "source": [
    "df_1 = household.copy()"
   ]
  },
  {
   "cell_type": "markdown",
   "metadata": {},
   "source": [
    "Ubah menggunakan `.astype()`"
   ]
  },
  {
   "cell_type": "code",
   "execution_count": null,
   "metadata": {},
   "outputs": [],
   "source": [
    "# code here\n"
   ]
  },
  {
   "cell_type": "markdown",
   "metadata": {},
   "source": [
    "⚠️**Warning**: Jangan lupa untuk melakukan assignment hasilnya ke kolom aslinya."
   ]
  },
  {
   "cell_type": "markdown",
   "metadata": {},
   "source": [
    "#### 2️⃣ Parameter `parse_dates`"
   ]
  },
  {
   "cell_type": "markdown",
   "metadata": {},
   "source": [
    "Digunakan ketika ***read*** data, dengan asumsi kita sudah tahu kolom mana yang seharusnya `datetime64`."
   ]
  },
  {
   "cell_type": "code",
   "execution_count": null,
   "metadata": {},
   "outputs": [],
   "source": [
    "df_2 = pd.read_csv('data_input/household.csv')"
   ]
  },
  {
   "cell_type": "markdown",
   "metadata": {},
   "source": [
    "#### 3️⃣ Method `pd.to_datetime()`"
   ]
  },
  {
   "cell_type": "code",
   "execution_count": null,
   "metadata": {},
   "outputs": [],
   "source": [
    "df_3 = household.copy()\n",
    "df_3.dtypes"
   ]
  },
  {
   "cell_type": "markdown",
   "metadata": {},
   "source": [
    "Ubah menggunakan method `pd.to_datetime()`"
   ]
  },
  {
   "cell_type": "code",
   "execution_count": null,
   "metadata": {},
   "outputs": [],
   "source": []
  },
  {
   "cell_type": "markdown",
   "metadata": {},
   "source": [
    "💬 **Diskusi**: Jadi, apa yang membedakan `.astype()` dengan `pd.to_datetime()`?\n",
    "\n",
    "Pada `pd.to_datetime()` terdapat lebih banyak **parameter** yang dapat digunakan dalam mengatur pengkonversian sebuah kolom menjadi datetime. Dengan demikian, `pd.to_datetime()` lebih memberikan **fleksibilitas** daripada `.astype()`."
   ]
  },
  {
   "cell_type": "markdown",
   "metadata": {},
   "source": [
    "Misalkan kita memiliki kolom yang menyimpan data penjualan harian dari **akhir Januari hingga awal Februari**"
   ]
  },
  {
   "cell_type": "code",
   "execution_count": null,
   "metadata": {},
   "outputs": [],
   "source": [
    "sales_date = pd.Series(['30-Jan-2021', '31/01/2021', '01-02-2021', '02-02-21'])\n",
    "sales_date"
   ]
  },
  {
   "cell_type": "markdown",
   "metadata": {},
   "source": [
    "Contoh di atas menunjukkan bagaimana orang Indonesia biasanya menulis tanggal, menggunakan format **tanggal-bulan-tahun**. Mari kita lihat apa yang akan terjadi ketika kita mengonversi tipe data `sales_date` menjadi `datetime64`:"
   ]
  },
  {
   "cell_type": "code",
   "execution_count": null,
   "metadata": {},
   "outputs": [],
   "source": [
    "# code here\n"
   ]
  },
  {
   "cell_type": "markdown",
   "metadata": {},
   "source": [
    "⚠️ **Warning**: Untuk tanggal dengan beberapa representasi, `pandas` secara default akan menyimpulkannya **bulan** sebagai urutan pertama."
   ]
  },
  {
   "cell_type": "markdown",
   "metadata": {},
   "source": [
    "#### Parameter `dayfirst`\n",
    "\n",
    "Solusi: Menggunakan parameter `dayfirst=True` untuk memberitahu bahwa `sales_date` diawali dengan hari, bukan bulan."
   ]
  },
  {
   "cell_type": "code",
   "execution_count": null,
   "metadata": {},
   "outputs": [],
   "source": []
  },
  {
   "cell_type": "markdown",
   "metadata": {},
   "source": [
    "**📝 Optional**\n",
    "\n",
    "Cara mengubah representasi kolom `datetime64` dari yyyy-mm-dd menjadi format lain\n",
    "\n",
    "> Sebuah kolom `datetime64` memiliki method `.dt.strftime()` (string format time) untuk mengubah `datetime64` menjadi string. \n",
    "[Dokumentasi format strftime](https://strftime.org/)."
   ]
  },
  {
   "cell_type": "code",
   "execution_count": null,
   "metadata": {},
   "outputs": [],
   "source": [
    "sales_date.dt.strftime('%d %B %Y')"
   ]
  },
  {
   "cell_type": "markdown",
   "metadata": {},
   "source": [
    "**✏️ Quick Summary:**\n",
    "\n",
    "Kapan waktu yang tepat untuk menggunakan 3 cara tersebut?\n",
    "\n",
    "- `.astype('datetime64')`: ketika tidak ada lagi parameter yang ingin digunakan, atau data dengan format tanggalnya berupa bulan-tanggal-tahun\n",
    "- `pd.to_datetime()`: ketika ada parameter yang ingin kita tambahkan, atau yang format tanggalnya adalah **selain** bulan-tanggal-tahun\n",
    "- `parse_dates=['kolom']`: merupakan parameter `pd.read_csv()`, digunakan ketika kita sudah kenal atau terbiasa dengan data kita dan tahu kolom mana yang ingin diubah menjadi `datetime64`"
   ]
  },
  {
   "cell_type": "markdown",
   "metadata": {},
   "source": [
    "___"
   ]
  },
  {
   "cell_type": "markdown",
   "metadata": {},
   "source": [
    "### Object Datetime Partition"
   ]
  },
  {
   "cell_type": "markdown",
   "metadata": {},
   "source": [
    "Ketika sebuah kolom sudah menjadi `datetime64`, kita dapat melakukan partisi untuk menggali informasi yang lebih spesifik seperti tahun, bulan, hari, dan jam.\n",
    "\n",
    "**Date component (numeric)**\n",
    "- `.dt.year` -> partisi tahun\n",
    "- `.dt.month` -> partisi bulan (angka)\n",
    "- `.dt.day` -> partisi day/tanggal (dalam angka)\n",
    "- `.dt.dayofweek`\n",
    "\n",
    "**Date component (string)**\n",
    "- `.dt.month_name()`-> partisi bulan (nama)\n",
    "- `.dt.day_name()`-> partisi hari (nama)\n",
    "\n",
    "**Time component**\n",
    "- `.dt.hour` -> partisi jam\n",
    "- `.dt.minute` -> partisi menit\n",
    "- `.dt.second` -> partisi detik\n",
    "\n",
    "[Dokumentasi: datetime properties](https://pandas.pydata.org/pandas-docs/stable/reference/series.html#datetimelike-properties)"
   ]
  },
  {
   "cell_type": "markdown",
   "metadata": {},
   "source": [
    "**🔻 Namun pertama-tama mari kita ubah kolom `purchase_time` menjadi `datetime64`**"
   ]
  },
  {
   "cell_type": "code",
   "execution_count": null,
   "metadata": {},
   "outputs": [],
   "source": [
    "# code here\n"
   ]
  },
  {
   "cell_type": "markdown",
   "metadata": {},
   "source": [
    "**📆 Attribute pada `.dt`**\n",
    "\n",
    "Untuk mengekstrak komponen datetime dalam nilai numerik, kita dapat menggunakan **atribut**"
   ]
  },
  {
   "cell_type": "code",
   "execution_count": null,
   "metadata": {},
   "outputs": [],
   "source": [
    "# contoh: ekstrak tahun dari purchase_time\n"
   ]
  },
  {
   "cell_type": "code",
   "execution_count": null,
   "metadata": {},
   "outputs": [],
   "source": [
    "# contoh: ekstrak jam dari purchase_time\n"
   ]
  },
  {
   "cell_type": "markdown",
   "metadata": {},
   "source": [
    "**Partisi `dt.dayofweek`**\n",
    "\n",
    "Ekstrak index hari dalam seminggu ( nilainya 0-6 )\n",
    "\n",
    "- 0 menunjukkan hari Senin\n",
    "- 6 menunjukkan hari Minggu"
   ]
  },
  {
   "cell_type": "code",
   "execution_count": null,
   "metadata": {},
   "outputs": [],
   "source": []
  },
  {
   "cell_type": "markdown",
   "metadata": {},
   "source": [
    "**📆 Method pada `.dt`**\n",
    "\n",
    "Untuk mengekstrak nama (teks) dari komponen datetime, kita dapat menggunakan **method** (dengan tanda kurung)"
   ]
  },
  {
   "cell_type": "code",
   "execution_count": null,
   "metadata": {},
   "outputs": [],
   "source": []
  },
  {
   "cell_type": "code",
   "execution_count": null,
   "metadata": {},
   "outputs": [],
   "source": []
  },
  {
   "cell_type": "markdown",
   "metadata": {},
   "source": [
    "___"
   ]
  },
  {
   "cell_type": "markdown",
   "metadata": {},
   "source": [
    "### Object Datetime Transformation"
   ]
  },
  {
   "cell_type": "markdown",
   "metadata": {},
   "source": [
    "Selain digunakan untuk melakukan partisi, kita juga dapat melakukan transformasi object `datetime64` ke dalam format periode menggunakan syntax `to_period()`.\n",
    "\n",
    "- `.dt.to_period('D')` -> mengubah ke format **D**aily (tanggal lengkap)\n",
    "- `.dt.to_period('W')` -> mengubah ke format **W**eekly (awal dan akhir minggu)\n",
    "- `.dt.to_period('M')` -> mengubah ke format **M**onthly (year-month)\n",
    "- `.dt.to_period('Q')` -> mengubah ke format **Q**uarterly (year-quarter)"
   ]
  },
  {
   "cell_type": "code",
   "execution_count": null,
   "metadata": {},
   "outputs": [],
   "source": []
  },
  {
   "cell_type": "markdown",
   "metadata": {},
   "source": [
    "___"
   ]
  },
  {
   "cell_type": "markdown",
   "metadata": {},
   "source": [
    "### Dive Deeper: Feature Engineering & Datetime data types\n",
    "_Est. Time required: 10 minutes_\n",
    "\n",
    "1. Pada cell di bawah ini, import kembali data `household.csv` dan simpan ke dalam variable bernama `household_new`\n",
    "2. Ubah `purchase_time` ke tipe data `datetime64`\n",
    "3. Dapatkan nama hari menggunakan perintah `x.dt.day_name()` dengan asumsi `x` adalah nama kolom datetime yang akan dipartisi. Simpan hasil partisi nama hari ke dalam kolom baru dengan nama `dayofweek`\n",
    "4. Cobalah recreate kolom `yearmonth` dengan menggunakan metode `.dt.` dari kolom `purchase_time`\n",
    "5. Tampilkan 5 data teratas untuk memastikan bahwa langkah yang dilakukan sudah tepat "
   ]
  },
  {
   "cell_type": "code",
   "execution_count": null,
   "metadata": {},
   "outputs": [],
   "source": [
    "# code here\n"
   ]
  },
  {
   "cell_type": "markdown",
   "metadata": {},
   "source": [
    "**(Optional) Extra Challenge**\n",
    "\n",
    "Misalkan perkiraan waktu pengiriman akan membutuhkan waktu 2 hari setelah produk dibeli (`purchase_time`). Buatlah kolom baru dengan nama `est_shipdate` yang menyimpan perkiraan waktu pengiriman setiap transaksi!\n",
    "\n",
    "**(Petunjuk: Menggunakan `pd.Timedelta()`)**"
   ]
  },
  {
   "cell_type": "code",
   "execution_count": null,
   "metadata": {},
   "outputs": [],
   "source": [
    "# code here\n"
   ]
  },
  {
   "cell_type": "markdown",
   "metadata": {},
   "source": [
    "`pandas` memiliki sebuah method bermana `Timedelta` yang dapat digunakan untuk menghitung selisih hari, jam, bahkan detik.\n",
    "\n",
    "[Dokumentasi: Timedelta](https://pandas.pydata.org/docs/reference/api/pandas.Timedelta.html)"
   ]
  },
  {
   "cell_type": "markdown",
   "metadata": {},
   "source": [
    "___"
   ]
  },
  {
   "cell_type": "markdown",
   "metadata": {},
   "source": [
    "## Working with Categories"
   ]
  },
  {
   "cell_type": "markdown",
   "metadata": {},
   "source": [
    "🔻 Cek kembali tipe data yang belum sesuai:"
   ]
  },
  {
   "cell_type": "code",
   "execution_count": null,
   "metadata": {},
   "outputs": [],
   "source": [
    "household_cat = household_new.copy()\n",
    "household_cat.dtypes"
   ]
  },
  {
   "cell_type": "markdown",
   "metadata": {},
   "source": [
    "Karakteristik tipe data `category` :\n",
    "\n",
    "- Dapat dikelompokkan menjadi beberapa kelompok (category)\n",
    "- Berulang\n",
    "\n",
    "💡 **Tips**: Kita bisa menggunakan method berikut untuk mengidentifikasi kolom mana yang cocok untuk disimpan ke tipe data `category`\n",
    "\n",
    "- `.unique()` melihat nilai yang unik dari sebuah kolom\n",
    "- `.nunique()` melihat banyaknya nilai yang unik dari sebuah kolom atau dataframe\n",
    "\n",
    "🔻 Mari kita cek kembali tipe data pada object `household`. Manakah yang seharusnya memiliki tipe data category?"
   ]
  },
  {
   "cell_type": "code",
   "execution_count": null,
   "metadata": {},
   "outputs": [],
   "source": []
  },
  {
   "cell_type": "markdown",
   "metadata": {},
   "source": [
    "Ketika kita belum mengetahui kolom mana saja yang dapat diubah ke dalam tipe data category, kita dapat melakukan pengecekan terlebih dahulu menggunakan method **`.nunique()`**. Kolom yang memiliki banyaknya nilai unik yang sedikit dapat digolongkan sebagai tipe data category."
   ]
  },
  {
   "cell_type": "markdown",
   "metadata": {},
   "source": [
    "**❓Kolom manakah yang seharusnya memiliki format tipe `'category'`?**\n",
    "\n",
    "> Jawaban: ..."
   ]
  },
  {
   "cell_type": "code",
   "execution_count": null,
   "metadata": {},
   "outputs": [],
   "source": [
    "# code here\n"
   ]
  },
  {
   "cell_type": "markdown",
   "metadata": {},
   "source": [
    "**Advantages**\n",
    "\n",
    "Ada 2 keuntungan mengubah tipe data menjadi `category`:\n",
    "\n",
    "- 1️⃣ Pertama: Memory Efficient\n",
    "\n",
    "Kita dapat membandingkan dua Data Frame **sebelum dan sesudah** kolom dikonversi ke tipe data `category`:\n",
    "\n",
    "- `household_new` (before): ...\n",
    "- `household_cat` (after): ..."
   ]
  },
  {
   "cell_type": "code",
   "execution_count": null,
   "metadata": {},
   "outputs": [],
   "source": [
    "# check penggunaan memory SEBELUM konversi menjadi category\n"
   ]
  },
  {
   "cell_type": "code",
   "execution_count": null,
   "metadata": {},
   "outputs": [],
   "source": [
    "# check penggunaan memory SESUDAH konversi menjadi category\n"
   ]
  },
  {
   "cell_type": "markdown",
   "metadata": {},
   "source": [
    "**2️⃣ Kedua: Accessor Category `.cat`**\n",
    "\n",
    "Sama seperti tipe data `datetime64` yang memiliki pengakses `.dt`, tipe data `category` memiliki pengakses `.cat`. Berikut adalah contoh penggunaan accessor `.cat`:"
   ]
  },
  {
   "cell_type": "markdown",
   "metadata": {},
   "source": [
    "Mengetahui kategori dari sebuah kolom category:"
   ]
  },
  {
   "cell_type": "code",
   "execution_count": null,
   "metadata": {},
   "outputs": [],
   "source": []
  },
  {
   "cell_type": "markdown",
   "metadata": {},
   "source": [
    "Mengurutkan kategori dari sebuah kolom category yang bersifat **ordinal**:"
   ]
  },
  {
   "cell_type": "code",
   "execution_count": null,
   "metadata": {},
   "outputs": [],
   "source": [
    "ordered_dayofweek = ['Monday', 'Tuesday', 'Wednesday', 'Thursday', 'Friday', 'Saturday', 'Sunday']\n"
   ]
  },
  {
   "cell_type": "markdown",
   "metadata": {},
   "source": [
    "✏️ **Note** \n",
    "\n",
    "Anda dapat menjelajahi lebih banyak fungsionalitas dengan merujuk ke [dokumentasi accessor .cat](https://pandas.pydata.org/pandas-docs/stable/reference/series.html#categorical-accessor) untuk daftar lengkapnya."
   ]
  },
  {
   "cell_type": "markdown",
   "metadata": {},
   "source": [
    "# 📝 Summary Day 1: Knowledge Check"
   ]
  },
  {
   "cell_type": "markdown",
   "metadata": {},
   "source": [
    "1. Berikut yang **bukan** merupakan tujuan dari Exploratory Data Analisis (EDA) adalah:\n",
    "\n",
    "    - [ ] A. Mengetahui pola pada data\n",
    "    - [ ] B. Mencari anomali pada data\n",
    "    - [ ] C. Mencari jawaban dari pertanyaan bisnis yang kita miliki\n",
    "    - [ ] D. Menganalisis hingga mendapatkan suatu insight\n",
    "    - [ ] E. Semua benar\n",
    "    \n",
    "    \n",
    "2. Berikut yang **bukan** merupakan tools untuk melakukan investigasi struktur pada data kita adalah:\n",
    "\n",
    "    - [ ] A. `df.head()`\n",
    "    - [ ] B. `df.info()`\n",
    "    - [ ] C. `df.astype()`\n",
    "    - [ ] D. `df.dtypes`\n",
    "    - [ ] E. `df.columns`\n",
    "    \n",
    "\n",
    "3. Kita telah mempelajari `.astype()`, `parse_dates`, dan `pd.to_datetime()`. Manakah pernyataan berikut yang **salah** terkait dari ketiganya:\n",
    "\n",
    "    - [ ] A. `pd.to_datetime` digunakan ketika format date kita berawalan dengan tanggal, menggunakan parameter `dayfirst=True`\n",
    "    - [ ] B. `.astype()` digunakan ketika format tanggal kita hanya bulan dan tanggal tanpa tanggal\n",
    "    - [ ] C. Parameter `parse_dates` dapat digunakan ketika kita sudah terbiasa dengan data yang kita olah\n",
    "    - [ ] D. Ketiganya dapat digunakan untuk mengubah tipe data sebuah kolom menjadi `datetime64`\n",
    "    \n",
    "    \n",
    "4. Berikut adalah alasan kita menyesuaikan tipe data pada sebuah kolom, yaitu agar ...\n",
    "\n",
    "    - [ ] A. Antar kolom bisa dilakukan operasi matematis (misal penjumlahan, pengurangan, dsb)\n",
    "    - [ ] B. Komponen tertentu dapat diambil ataupun diekstrak untuk analisis lebih lanjut\n",
    "    - [ ] C. Bisa menghemat penggunaan memory\n",
    "    - [ ] D. Tiap tipe data memiliki fungsionalitas pada accessor nya masing-masing\n",
    "    - [ ] E. Semuanya benar"
   ]
  },
  {
   "cell_type": "markdown",
   "metadata": {},
   "source": [
    "___"
   ]
  },
  {
   "cell_type": "markdown",
   "metadata": {},
   "source": [
    "# Analisis Data"
   ]
  },
  {
   "cell_type": "markdown",
   "metadata": {},
   "source": [
    "## Contingency Tables / Frequency Tables"
   ]
  },
  {
   "cell_type": "markdown",
   "metadata": {},
   "source": [
    "Tabel kontingensi digunakan untuk menghitung nilai frekuensi/kemunculan data."
   ]
  },
  {
   "cell_type": "markdown",
   "metadata": {},
   "source": [
    "### Method `.value_counts()`"
   ]
  },
  {
   "cell_type": "markdown",
   "metadata": {},
   "source": [
    "**Kegunaan**: Menghitung jumlah baris pada setiap category dalam 1 kolom, dan defaultnya diurutkan secara descending\n",
    "\n",
    "Parameter:\n",
    "\n",
    "- `sort=False`: mencegah nilai pengurutan apa pun, **urutkan berdasarkan indeks** sebagai gantinya\n",
    "- `ascending=True`: **urutkan nilai** dalam urutan menaik"
   ]
  },
  {
   "cell_type": "code",
   "execution_count": null,
   "metadata": {},
   "outputs": [],
   "source": [
    "household = household_cat.copy()"
   ]
  },
  {
   "cell_type": "markdown",
   "metadata": {},
   "source": [
    "❓ Jenis market mana yang paling banyak melakukan transaksi berdasarkan data `household`?"
   ]
  },
  {
   "cell_type": "code",
   "execution_count": null,
   "metadata": {},
   "outputs": [],
   "source": []
  },
  {
   "cell_type": "markdown",
   "metadata": {},
   "source": [
    "> **📈 Insight:** ..."
   ]
  },
  {
   "cell_type": "markdown",
   "metadata": {},
   "source": [
    "❓ Sekarang kita ingin tahu hari apa yang banyak dilakukan transaksi"
   ]
  },
  {
   "cell_type": "code",
   "execution_count": null,
   "metadata": {},
   "outputs": [],
   "source": [
    "# code here\n"
   ]
  },
  {
   "cell_type": "markdown",
   "metadata": {},
   "source": [
    "> 📈 **Insight yang dapat diambil:** ..."
   ]
  },
  {
   "cell_type": "code",
   "execution_count": null,
   "metadata": {},
   "outputs": [],
   "source": [
    "# menggunakan sort=False\n"
   ]
  },
  {
   "cell_type": "markdown",
   "metadata": {},
   "source": [
    "### Cross Tabulation"
   ]
  },
  {
   "cell_type": "markdown",
   "metadata": {},
   "source": [
    "Selain menggunakan method `value_counts()`, kita juga dapat menggunakan fungsi `crosstab` yang telah disediakan oleh `pandas` untuk menghitung frekuensi pada data. Syntax:\n",
    "\n",
    "```\n",
    "pd.crosstab(index=...,\n",
    "            columns=...)\n",
    "```\n",
    "\n",
    "**Parameter wajib:**\n",
    "- `index`: kolom yang akan dijadikan pengelompokkan pada baris (axis 0)\n",
    "- `columns`: kolom yang akan dijadikan pengelompokkan pada kolom (axis 1)"
   ]
  },
  {
   "cell_type": "markdown",
   "metadata": {},
   "source": [
    "🔻 Dengan permasalahan yang sama, mari kita lihat banyaknya transaksi di setiap `format` market menggunakan fungsi **`crosstab`**"
   ]
  },
  {
   "cell_type": "code",
   "execution_count": null,
   "metadata": {},
   "outputs": [],
   "source": [
    "pd.crosstab(\n",
    "    index=household['format'],\n",
    "    columns='Frekuensi'\n",
    ")"
   ]
  },
  {
   "cell_type": "markdown",
   "metadata": {},
   "source": [
    "❓Coba tampilkan di format market mana dan berapa frekuensi transaksi terkecil yang terjadi"
   ]
  },
  {
   "cell_type": "markdown",
   "metadata": {},
   "source": [
    "Method `sort_values()` untuk mengurutkan data frame berdasarkan kolom tertentu.\n",
    "\n",
    "Parameter:\n",
    "\n",
    "- `by`: diisi dengan nama kolom\n",
    "- `ascending`: default = `True` diurutkan berdasarkan nilai terkecil ke terbesar"
   ]
  },
  {
   "cell_type": "code",
   "execution_count": null,
   "metadata": {},
   "outputs": [],
   "source": [
    "# code here\n"
   ]
  },
  {
   "cell_type": "markdown",
   "metadata": {},
   "source": [
    "❓Tinjau frekuensi transaksi berdasarkan barang (`sub_category`) yang dibeli dan coba gali insight apa yang dapat kita ambil"
   ]
  },
  {
   "cell_type": "code",
   "execution_count": null,
   "metadata": {},
   "outputs": [],
   "source": [
    "# code here\n"
   ]
  },
  {
   "cell_type": "markdown",
   "metadata": {},
   "source": [
    "> 📈 **Insight yang dapat diambil:** ..."
   ]
  },
  {
   "cell_type": "markdown",
   "metadata": {},
   "source": [
    "🔻 Seperti yang kita tahu bahwa barang dengan transaksi terbanyak adalah ... Selanjutnya kita ingin tahu `format` market manakah yang paling banyak transaksi barang tersebut:"
   ]
  },
  {
   "cell_type": "code",
   "execution_count": null,
   "metadata": {},
   "outputs": [],
   "source": [
    "pd.crosstab(\n",
    "    index=household['format'],\n",
    "    columns=household['sub_category']\n",
    ")"
   ]
  },
  {
   "cell_type": "markdown",
   "metadata": {},
   "source": [
    "___"
   ]
  },
  {
   "cell_type": "markdown",
   "metadata": {},
   "source": [
    "Dari tabel frekuensi di atas:\n",
    "\n",
    "- 🔻 Bagaimana kalau kita ingin menghitung jumlah **frekuensi per baris/kolom**?\n",
    "- 🔻 Bagaimana kalau kita ingin melihat **proporsi** atau dalam **persentase**?"
   ]
  },
  {
   "cell_type": "markdown",
   "metadata": {},
   "source": [
    "**Parameter tambahan:**\n",
    "\n",
    "- **`margins`**: Menambahkan baris atau kolom margins yang menampung nilai subtotal\n",
    "- **`normalize`**: Membagi keseluruhan nilai hasil crosstab dengan jumlah nilai."
   ]
  },
  {
   "cell_type": "markdown",
   "metadata": {},
   "source": [
    "#### Margins"
   ]
  },
  {
   "cell_type": "markdown",
   "metadata": {},
   "source": [
    "🔻 Hitung frekuensi transaksi untuk penjualan barang (`sub_category`) di setiap segmen pasar (`format`) dan gunakan parameter `margins=True`"
   ]
  },
  {
   "cell_type": "code",
   "execution_count": null,
   "metadata": {},
   "outputs": [],
   "source": [
    "# code here\n"
   ]
  },
  {
   "cell_type": "markdown",
   "metadata": {},
   "source": [
    "Ketika parameter `margins=True` maka akan terdapat 1 kolom baru dan 1 baris baru yang menampilkan nilai total transaksi pada setiap baris dan kolomnya.\n",
    "\n",
    "Selain parameter `margins`, terdapat juga parameter `margins_name`. Parameter tersebut dapat di isi dengan nama aliasing untuk kolom baru dan baris baru result dari `margins=True`."
   ]
  },
  {
   "cell_type": "code",
   "execution_count": null,
   "metadata": {},
   "outputs": [],
   "source": [
    "# code here\n"
   ]
  },
  {
   "cell_type": "markdown",
   "metadata": {},
   "source": [
    "#### Normalize\n",
    "\n",
    "Jika parameter normalize bernilai:\n",
    "- `'all'` atau `True`: melakukan normalisasi untuk keseluruhan nilai\n",
    "- `'index'`: melakukan normalisasi pada setiap **baris**\n",
    "- `'columns'`: melakukan normalisasi pada setiap **kolom**"
   ]
  },
  {
   "cell_type": "markdown",
   "metadata": {},
   "source": [
    "**Normalize by All**"
   ]
  },
  {
   "cell_type": "code",
   "execution_count": null,
   "metadata": {},
   "outputs": [],
   "source": []
  },
  {
   "cell_type": "markdown",
   "metadata": {},
   "source": [
    "> 📈 **Insight yang dapat diambil:** ..."
   ]
  },
  {
   "cell_type": "markdown",
   "metadata": {},
   "source": [
    "**Normalize by Index**"
   ]
  },
  {
   "cell_type": "code",
   "execution_count": null,
   "metadata": {},
   "outputs": [],
   "source": []
  },
  {
   "cell_type": "markdown",
   "metadata": {},
   "source": [
    "> 📈 **Insight yang dapat diambil:** ..."
   ]
  },
  {
   "cell_type": "markdown",
   "metadata": {},
   "source": [
    "**Normalize by Columns**"
   ]
  },
  {
   "cell_type": "code",
   "execution_count": null,
   "metadata": {},
   "outputs": [],
   "source": []
  },
  {
   "cell_type": "markdown",
   "metadata": {},
   "source": [
    "> 📈 **Insight yang dapat diambil:** ..."
   ]
  },
  {
   "cell_type": "markdown",
   "metadata": {},
   "source": [
    "___"
   ]
  },
  {
   "cell_type": "markdown",
   "metadata": {},
   "source": [
    "## Dive Deeper: Contingency Table"
   ]
  },
  {
   "cell_type": "markdown",
   "metadata": {},
   "source": [
    "Buatlah tabel frekuensi dengan menggunakan `pd.crosstab()` dengan `yearmonth` sebagai baris dan `format` sebagai kolom. Simpan ke object `trx_ym_format`\n",
    "\n",
    "1. Dari tabel tersebut, tampilkan frekuensi transaksi yang terjadi pada **Januari 2018** (2018-01) untuk setiap format market. Hint: Gunakan metode subsetting.\n",
    "\n",
    "2. Dari tabel tersebut, pada periode (`yearmonth`) manakah **`hypermarket`** memiliki frekuensi transaksi tertinggi?"
   ]
  },
  {
   "cell_type": "code",
   "execution_count": null,
   "metadata": {},
   "outputs": [],
   "source": [
    "# code here\n"
   ]
  },
  {
   "cell_type": "code",
   "execution_count": null,
   "metadata": {},
   "outputs": [],
   "source": [
    "# code here\n"
   ]
  },
  {
   "cell_type": "markdown",
   "metadata": {},
   "source": [
    "Di setiap menjelang akhir tahun, tepatnya pada bulan Desember, setiap market memiliki promosi spesial untuk para pengunjung. Anda diminta untuk mencari tahu:\n",
    "\n",
    "3. Format market apakah yang memiliki transaksi terbanyak pada bulan Desember?\n",
    "\n",
    "4. Kategori barang (`category`) apa yang memiliki frekuensi transaksi terbanyak pada periode bulan Desember?\n",
    "\n",
    "_Hint:_ Anda dapat melakukan partisi **nama bulan** terlebih dahulu kemudian menyimpannya ke dalam kolom baru pada dataframe `household` dengan nama `month`"
   ]
  },
  {
   "cell_type": "code",
   "execution_count": null,
   "metadata": {},
   "outputs": [],
   "source": [
    "# code here\n"
   ]
  },
  {
   "cell_type": "markdown",
   "metadata": {},
   "source": [
    "**Optional: Bonus Challenge**\n",
    "\n",
    "Dalam rangka menaikkan jumlah transaksi di **hypermarket**, perusahaan berencana untuk mengadakan _sale_ di jam dengan **transaksi terendah**. Apabila perusahaan hanya mempertimbangkan transaksi yang terjadi pada **tahun 2018**, maka pada jam berapakah _sale_ tersebut sebaiknya diadakan?\n",
    "\n",
    "_Hint_: partisi komponen datetime, conditional subsetting, membuat tabel frekuensi"
   ]
  },
  {
   "cell_type": "code",
   "execution_count": null,
   "metadata": {},
   "outputs": [],
   "source": [
    "# code here\n"
   ]
  },
  {
   "cell_type": "markdown",
   "metadata": {},
   "source": [
    "## 📝 Summary Day 2\n",
    "\n",
    "Tabel Frekuensi/Contingency digunakan untuk ...\n",
    "\n",
    "Method yang telah dipelajari:\n",
    "\n",
    "1. ...\n",
    "\n",
    "    - \n",
    "    - \n",
    "    - \n",
    "    - \n",
    "\n",
    "2. ...\n",
    "\n",
    "    - \n",
    "    - \n",
    "    - \n",
    "    - \n",
    "\n",
    "3. ...\n",
    "\n",
    "    - \n",
    "    - \n",
    "    - "
   ]
  },
  {
   "cell_type": "markdown",
   "metadata": {},
   "source": [
    "___"
   ]
  },
  {
   "cell_type": "markdown",
   "metadata": {},
   "source": [
    "## Aggregation Tables"
   ]
  },
  {
   "cell_type": "markdown",
   "metadata": {},
   "source": [
    "Selain menghitung frekuensi kemunculan data, kita juga dapat menggunakan crosstab untuk melakukan agregasi. Pada parameter crosstab, Anda dapat menambahkan parameter `values` sebagai nilai yang diagregasikan dan `aggfunc` sebagai nilai statistika yang dipakai untuk melakukan agregasi."
   ]
  },
  {
   "cell_type": "markdown",
   "metadata": {},
   "source": [
    "### `pd.crosstab`"
   ]
  },
  {
   "cell_type": "markdown",
   "metadata": {},
   "source": [
    "```\n",
    "pd.crosstab(index=...,\n",
    "            columns=...,\n",
    "            values=numerical_columns\n",
    "            aggfunc=agg_function)\n",
    "```\n",
    "\n",
    "Beberapa contoh `aggfunc`:\n",
    "- mean\n",
    "- median\n",
    "- min\n",
    "- max\n",
    "- std\n",
    "- count\n",
    "- sum"
   ]
  },
  {
   "cell_type": "markdown",
   "metadata": {},
   "source": [
    "🔻 Coba sekarang tinjau rata-rata harga satuan (`unit_price`) untuk setiap jenis barangnya (`sub_category`)"
   ]
  },
  {
   "cell_type": "code",
   "execution_count": null,
   "metadata": {},
   "outputs": [],
   "source": [
    "pd.crosstab(\n",
    "    index=household['sub_category'],\n",
    "    columns='Mean Price',\n",
    "    values=household['unit_price'],\n",
    "    aggfunc='mean'\n",
    ")"
   ]
  },
  {
   "cell_type": "markdown",
   "metadata": {},
   "source": [
    "> 📈 **Insight yang dapat diambil:** ..."
   ]
  },
  {
   "cell_type": "markdown",
   "metadata": {},
   "source": [
    "❓ Total jumlah item (`quantity`) yang terjual untuk per-`sub_category` "
   ]
  },
  {
   "cell_type": "code",
   "execution_count": null,
   "metadata": {},
   "outputs": [],
   "source": [
    "# code here\n"
   ]
  },
  {
   "cell_type": "markdown",
   "metadata": {},
   "source": [
    "> 📈 **Insight yang dapat diambil:** ..."
   ]
  },
  {
   "cell_type": "markdown",
   "metadata": {},
   "source": [
    "❓ **Knowledge Check: crosstab**\n",
    "\n",
    "Saat ingin belanja barang-barang kebutuhan pokok, tentunya dari sisi pembeli ingin mencari harga yang paling murah. Coba analisis apakah terdapat perbedaan harga satuan (`unit_price`) untuk masing-masing kategori barangnya (`sub_category`) pada `format` yang berbeda-beda? Apabila ya, pada format market apakah yang memiliki harga satuan Rice yang paling murah? Silahkan tinjau berdasarkan nilai rata-ratanya.\n",
    "\n",
    "_Hint:_ Gunakan `.idxmin()` pada hasil tabel agregasi untuk mendapatkan index dengan nilai terkecil"
   ]
  },
  {
   "cell_type": "code",
   "execution_count": null,
   "metadata": {},
   "outputs": [],
   "source": [
    "# code here\n"
   ]
  },
  {
   "cell_type": "markdown",
   "metadata": {},
   "source": [
    "> 📈 **Insight yang dapat diambil:** ..."
   ]
  },
  {
   "cell_type": "markdown",
   "metadata": {},
   "source": [
    "**❓ Exercise**:\n",
    "\n",
    "Divisi sales ingin mengetahui pada periode kuarter (year-quarter) berapakah hypermarket mencapai total sales tertingginya?\n",
    "\n",
    "<!--\n",
    "Hint:\n",
    "\n",
    "1. Buatlah kolom `subtotal` yang merupakan perkalian `quantity` dan `unit_price` dari setiap barangnya.\n",
    "2. Partisi kolom `purchase_time` untuk mendapatkan periode kuarter\n",
    "2. Dengan menggunakan nilai `subtotal`, hitunglah total penjualan per kuarter untuk masing-masing `format`.\n",
    "3. Cari tahu kapan hypermarket menyentuh total sales tertingginya\n",
    "-->"
   ]
  },
  {
   "cell_type": "code",
   "execution_count": null,
   "metadata": {},
   "outputs": [],
   "source": [
    "# code here\n"
   ]
  },
  {
   "cell_type": "markdown",
   "metadata": {},
   "source": [
    "> 📈 **Insight yang dapat diambil:** ..."
   ]
  },
  {
   "cell_type": "markdown",
   "metadata": {},
   "source": [
    "___"
   ]
  },
  {
   "cell_type": "markdown",
   "metadata": {},
   "source": [
    "### (Optional) Higher Dimensional Table"
   ]
  },
  {
   "cell_type": "markdown",
   "metadata": {},
   "source": [
    "Higher dimensional table bisa juga disebut sebagai multi-index dataframe (data yang memiliki lebih dari 1 index). Digunakan untuk melakukan proses tabulasi silang dengan menggunakan beberapa kolom kategori."
   ]
  },
  {
   "cell_type": "markdown",
   "metadata": {},
   "source": [
    "Berikut adalah contoh crosstab dengan empat kategori pengelompokkan untuk mengetahui jumlah barang (`quantity`) yang terjual untuk masing-masing `sub_category` dan `format`, dibedakan per `yearmonth` dan `dayofweek`:"
   ]
  },
  {
   "cell_type": "code",
   "execution_count": null,
   "metadata": {
    "scrolled": true
   },
   "outputs": [],
   "source": [
    "pd.crosstab(\n",
    "    index=[household['yearmonth'], household['dayofweek']],\n",
    "    columns=[household['sub_category'], household['format']],\n",
    "    values=household['quantity'],\n",
    "    aggfunc='sum')"
   ]
  },
  {
   "cell_type": "markdown",
   "metadata": {},
   "source": [
    "___"
   ]
  },
  {
   "cell_type": "markdown",
   "metadata": {},
   "source": [
    "### `pd.pivot_table`"
   ]
  },
  {
   "cell_type": "markdown",
   "metadata": {},
   "source": [
    "Cara kerja `pivot_table` tidak jauh berbeda dengan `crosstab()`. Parameter di kedua method inipun hampir sama. Yang membedakan di antara keduanya adalah adanya parameter `data` yang menspesifikasikan dataframe yang akan di pakai pada `pivot_table`\n",
    "\n",
    "Syntax:\n",
    "\n",
    "```{python}\n",
    "pd.pivot_table(\n",
    "    data=...,\n",
    "    index=...,\n",
    "    columns=...,\n",
    "    values=...,\n",
    "    aggfunc=...\n",
    ")\n",
    "```\n",
    "\n",
    "OR\n",
    "\n",
    "```{python}\n",
    "data.pivot_table(\n",
    "    index=...,\n",
    "    columns=...,\n",
    "    values=...,\n",
    "    aggfunc=...\n",
    ")\n",
    "```\n",
    "\n",
    "Kita dapat menggunakan `pivot_table` dengan beberapa parameter sebagai berikut.\n",
    "- `data`: dataframe yang kita gunakan\n",
    "- `index`: kolom yang akan menjadi index row\n",
    "- `columns`: kolom yang akan menjadi index kolom\n",
    "- `values`: nilai yang digunakan untuk mengisi tabel\n",
    "- `aggfunc`: fungsi agregasi"
   ]
  },
  {
   "cell_type": "markdown",
   "metadata": {},
   "source": [
    "Untuk memahami penggunaan `pivot_table`, mari kita bandingkan tabel agregasi yang dibuat menggunakan `crosstab` dan `pivot_table`.\n",
    "\n",
    "Berikut crosstab yang menampilkan rata-rata harga satuan `sub_category` untuk masing-masing `format`:"
   ]
  },
  {
   "cell_type": "code",
   "execution_count": null,
   "metadata": {},
   "outputs": [],
   "source": [
    "pd.crosstab(\n",
    "    index=household['sub_category'], \n",
    "    columns=household['format'], \n",
    "    values=household['unit_price'],\n",
    "    aggfunc='mean'\n",
    ")"
   ]
  },
  {
   "cell_type": "markdown",
   "metadata": {},
   "source": [
    "🔻 Buat ulang tabel agregasi di atas menggunakan `pd.pivot_table()`. Secara default, `aggfunc='mean'`"
   ]
  },
  {
   "cell_type": "code",
   "execution_count": null,
   "metadata": {},
   "outputs": [],
   "source": []
  },
  {
   "cell_type": "markdown",
   "metadata": {},
   "source": [
    "🔻 Kita juga dapat menggunakan `.pivot_table()` sebagai method pada sebuah objek dataframe:"
   ]
  },
  {
   "cell_type": "code",
   "execution_count": null,
   "metadata": {},
   "outputs": [],
   "source": []
  },
  {
   "cell_type": "markdown",
   "metadata": {},
   "source": [
    "❓ Coba tampilkan tabel aggregasi total penjualan (berdasarkan kolom `subtotal`) untuk masing-masing `sub_category` pada supermarket.\n",
    "\n",
    "Berikut kita menjawab business question di atas menggunakan kombinasi conditional subsetting dan pivot table:"
   ]
  },
  {
   "cell_type": "code",
   "execution_count": null,
   "metadata": {},
   "outputs": [],
   "source": []
  },
  {
   "cell_type": "markdown",
   "metadata": {},
   "source": [
    "#### Dive Deeper: Re-create Frequency Table"
   ]
  },
  {
   "cell_type": "markdown",
   "metadata": {},
   "source": [
    "Buat kembali tabel frekuensi berikut menggunakan pivot table.\n",
    "\n",
    "| category                 |   hypermarket |   minimarket |   supermarket |   Total |\n",
    "|:-------------------------|--------------:|-------------:|--------------:|--------:|\n",
    "| **Fabric Care**          |          2611 |        24345 |          9044 |   36000 |\n",
    "| **Rice**                 |           999 |         7088 |          3913 |   12000 |\n",
    "| **Sugar/Flavored Syrup** |          1761 |        15370 |          6869 |   24000 |\n",
    "| **Total**                |          5371 |        46803 |         19826 |   72000 |"
   ]
  },
  {
   "cell_type": "markdown",
   "metadata": {},
   "source": [
    "Parameter:\n",
    "\n",
    "- `index`: ...\n",
    "- `columns`: ...\n",
    "- `aggfunc`: ...\n",
    "- `values`: ...\n",
    "- Untuk baris dan kolom Total menggunakan parameter `...`"
   ]
  },
  {
   "cell_type": "code",
   "execution_count": null,
   "metadata": {},
   "outputs": [],
   "source": [
    "# code here\n"
   ]
  },
  {
   "cell_type": "markdown",
   "metadata": {},
   "source": [
    "Kesimpulan pivot table:\n",
    "\n",
    "- Pada `pivot_table` parameter wajib hanya `data` dan salah satu antara `index` / `columns`\n",
    "- Parameter default `aggfunc='mean'`\n",
    "- Secara default, parameter `values` adalah semua kolom pada data yang dapat diterapkan fungsi agregasi\n",
    "- Terdapat parameter `margins` dan `margins_name`, namun tidak terdapat `normalize` (hanya di `crosstab` saja)"
   ]
  },
  {
   "cell_type": "markdown",
   "metadata": {},
   "source": [
    "___"
   ]
  },
  {
   "cell_type": "markdown",
   "metadata": {},
   "source": [
    "## 📝 Summary: Tables in `pandas` "
   ]
  },
  {
   "cell_type": "markdown",
   "metadata": {},
   "source": [
    "## Frequency Tables\n",
    "\n",
    "Kegunaan: menghitung jumlah baris atau frekuensi pada kolom yang bersifat category\n",
    "\n",
    "Method:\n",
    "\n",
    "1. Apabila hanya 1 kolom kategori, disarankan menggunakan `.value_counts()`. Hasil berupa Series\n",
    "\n",
    "2. Untuk satu atau lebih dari satu kolom kategori:\n",
    "    - `pd.crosstab(index, columns)`. Terdapat parameter tambahan:\n",
    "        - `margins`: menghitung subtotal untuk masing-masing baris dan kolom\n",
    "        - `normalize`: mengubah frekuensi menjadi proporsi (persentase)\n",
    "        \n",
    "    - `pd.pivot_table(data, index, aggfunc='count')`.\n",
    "        - Tidak ada parameter `normalize`"
   ]
  },
  {
   "cell_type": "markdown",
   "metadata": {},
   "source": [
    "## Aggregation Tables\n",
    "\n",
    "Kegunaan: melakukan agregasi pada kolom numerik\n",
    "\n",
    "Method:\n",
    "\n",
    "1. `pd.crosstab(index, columns, values, aggfunc)`\n",
    "\n",
    "2. `pd.pivot_table(data, index, columns, values, aggfunc)`"
   ]
  },
  {
   "cell_type": "markdown",
   "metadata": {},
   "source": [
    "## `crosstab` vs `pivot_table`"
   ]
  },
  {
   "cell_type": "markdown",
   "metadata": {},
   "source": [
    "Berikut perbedaan mendasar antara `crosstab` and `pivot_table`:\n",
    "\n",
    "|                                                                                    | `pd.crosstab()` | `pd.pivot_table()` |\n",
    "|------------------------------------------------------------------------------------|-----------------|--------------------|\n",
    "|                                                                          **Input** |Series |          DataFrame |\n",
    "|                                                              **Default `aggfunc`** |       `'count'` |           `'mean'` |\n",
    "|                                                          **Parameter `normalize`** |       Available |      Not Available |\n",
    "| [**Computation Time**](https://ramiro.org/notebook/pandas-crosstab-groupby-pivot/) | Relatively Slower |  Relatively Faster |"
   ]
  },
  {
   "cell_type": "markdown",
   "metadata": {},
   "source": [
    "___"
   ]
  },
  {
   "cell_type": "markdown",
   "metadata": {},
   "source": [
    "# Missing Values and Duplicates"
   ]
  },
  {
   "cell_type": "markdown",
   "metadata": {},
   "source": [
    "Dalam melakukan pengolahan data, tidak semua data yang kita miliki adalah data yang \"tidy\". Ada kemungkinan bahwa data kita memiliki nilai kosong (NULL), memiliki nilai yang berulang, dan memiliki nilai yang tidak sesuai dengan nilai kolom yang seharusnya (misal usia memiliki nilai minus). Untuk mengatasi hal tersebut, kita dapat melakukan beberapa metode penanganan pada data yang hilang (missing value) atau data yang duplikat (duplicates value)"
   ]
  },
  {
   "cell_type": "markdown",
   "metadata": {},
   "source": [
    "## Missing Values"
   ]
  },
  {
   "cell_type": "markdown",
   "metadata": {},
   "source": [
    "Bacalah data `household-missing.csv` yang merupakan data `household` yang telah dimanipulasi sedemikian rupa agar terdapat nilai missing.\n",
    "\n",
    "Apabila Anda penasaran hal apa saja yang diubah, cek materi utama `2_Exploratory_Data_Analysis.ipynb` pada Section 3."
   ]
  },
  {
   "cell_type": "code",
   "execution_count": null,
   "metadata": {},
   "outputs": [],
   "source": [
    "# read data\n",
    "household_missing = pd.read_csv(\n",
    "    'data_input/household-missing.csv',\n",
    "    index_col=0,\n",
    "    parse_dates=['purchase_time'])\n",
    "\n",
    "household_missing.head()"
   ]
  },
  {
   "cell_type": "markdown",
   "metadata": {},
   "source": [
    "**✏️ Values**:\n",
    "\n",
    "- `NaN`: Not a Number, for object and category\n",
    "- `nan`: not a number, for numeric\n",
    "- `NaT`: Not a Time, for datetime64"
   ]
  },
  {
   "cell_type": "markdown",
   "metadata": {},
   "source": [
    "Tambahan: Apabila terdapat nilai tertentu yang mengindikasikan missing value seperti \"Missing\", \" \", \",\", \"-\". Gunakan parameter `na_values` untuk mendefinisikannya, contoh:\n",
    "\n",
    "```\n",
    "data = pd.read_csv('data.csv', na_values=[\"Missing\", \" \", \",\", \"-\"])\n",
    "```"
   ]
  },
  {
   "cell_type": "markdown",
   "metadata": {},
   "source": [
    "### Check Missing Value"
   ]
  },
  {
   "cell_type": "markdown",
   "metadata": {},
   "source": [
    "Metode yang paling umum digunakan untuk melihat missing value adalah:\n",
    "\n",
    "- `.notna()` : mengembalikan `True` apabila **tidak** missing\n",
    "- `.isna()` : mengembalikan `True` apabila **missing**"
   ]
  },
  {
   "cell_type": "code",
   "execution_count": null,
   "metadata": {},
   "outputs": [],
   "source": [
    "# isna\n"
   ]
  },
  {
   "cell_type": "markdown",
   "metadata": {},
   "source": [
    "Menghitung jumlah missing value pada setiap kolom:\n",
    "\n",
    "- `True` akan dihitung sebagai 1\n",
    "- `False` akan dihitung sebagai 0"
   ]
  },
  {
   "cell_type": "code",
   "execution_count": null,
   "metadata": {},
   "outputs": [],
   "source": []
  },
  {
   "cell_type": "markdown",
   "metadata": {},
   "source": [
    "Selain menggunakan `isna()`, kita juga dapat menggunakan fungsi `notna()`"
   ]
  },
  {
   "cell_type": "code",
   "execution_count": null,
   "metadata": {},
   "outputs": [],
   "source": [
    "# notna\n"
   ]
  },
  {
   "cell_type": "markdown",
   "metadata": {},
   "source": [
    "🔻 Kita dapat menggunakan `.notna()` dengan metode subsetting.\n",
    "\n",
    "Misalnya ada kebutuhan bahwa kolom tertentu sama sekali tidak boleh memiliki *missing value*, artinya kita akan subset baris berdasarkan kolom tertentu yang tidak ada *missing value*"
   ]
  },
  {
   "cell_type": "code",
   "execution_count": null,
   "metadata": {},
   "outputs": [],
   "source": []
  },
  {
   "cell_type": "markdown",
   "metadata": {},
   "source": [
    "Kapan kita menggunakan `isna()` atau `notna()`\n",
    "\n",
    "- `isna()` biasanya digunakan bersamaan dengan method `.sum()` yang tujuannya untuk menghitung jumlah missing value pada tiap kolom\n",
    "- `notna()` biasanya digunakan bersama metode subseting yang tujuannya untuk mensubset data yang salah satu/beberapa kolom tidak boleh ada missing value"
   ]
  },
  {
   "cell_type": "markdown",
   "metadata": {},
   "source": [
    "### Treatment Missing Values"
   ]
  },
  {
   "cell_type": "markdown",
   "metadata": {},
   "source": [
    "Beberapa cara umum untuk menangani missing values:\n",
    "\n",
    "1. Hapus baris atau kolom: Menggunakan metode `dropna()` dengan ambang batas yang wajar untuk menghapus setiap baris yang berisi nilai missing, NA < 5%\n",
    "2. Imputasi nilai NA dengan sebuah nilai\n",
    "3. Tetap mempertahankan data kita"
   ]
  },
  {
   "cell_type": "markdown",
   "metadata": {},
   "source": [
    "#### Hapus Baris yang NA"
   ]
  },
  {
   "cell_type": "markdown",
   "metadata": {},
   "source": [
    "- `.dropna(how='any')`: hapus baris apabila memiliki **minimal 1 kolom** nilai missing value\n",
    "\n",
    "- `.dropna(how='all')`: harus baris apabila memiliki **semua kolom** nilai missing\n",
    "\n",
    "- `.dropna(thresh=...)`: hapus baris apabila nilai **non-missing** < `thresh` "
   ]
  },
  {
   "cell_type": "code",
   "execution_count": null,
   "metadata": {},
   "outputs": [],
   "source": [
    "# how='any'\n"
   ]
  },
  {
   "cell_type": "code",
   "execution_count": null,
   "metadata": {},
   "outputs": [],
   "source": [
    "# how='all'\n"
   ]
  },
  {
   "cell_type": "code",
   "execution_count": null,
   "metadata": {},
   "outputs": [],
   "source": [
    "# tresh = 5, minimal harus ada 5 kolom yang tidak missing\n"
   ]
  },
  {
   "cell_type": "markdown",
   "metadata": {},
   "source": [
    "✏️ **Notes** \n",
    "\n",
    "Ketika akan melakukan drop missing values menggunakan threshold (thresh=n), maka yang sebaiknya diperhatikan adalah **jumlah kolom yang terisi (tidak NA)**. Jika nilai tidak NA **sama dengan atau lebih besar dari nilai threshold**, maka baris tidak di drop."
   ]
  },
  {
   "cell_type": "markdown",
   "metadata": {},
   "source": [
    "#### Imputasi"
   ]
  },
  {
   "cell_type": "markdown",
   "metadata": {},
   "source": [
    "Kita akan melakukan imputasi terhadap data yang mengandung missing value, menggunakan metode `.fillna()`\n",
    "\n",
    "💡 **Tips** untuk imputasi:\n",
    "\n",
    "Untuk kolom numerik:\n",
    "\n",
    "- Isi menggunakan pusat data seperti `mean` atau `median`\n",
    "- Isi menggunakan model prediktif (regresi)\n",
    "\n",
    "Untuk kolom kategorikal:\n",
    "\n",
    "- Menggunakan `NA` sebagai salah satu dari kategori\n",
    "- Isi menggunakan pusat data (mode)\n",
    "- Isi menggunakan model prediktif (klasifikasi)\n",
    "\n",
    "Untuk kolom datetime:\n",
    "\n",
    "- Menggunakan metode `bfill`: melakukan imputasi dari baris bawah ke atas\n",
    "- Menggunakan metode `ffill`: melakukan imputasi dari baris atas ke bawah"
   ]
  },
  {
   "cell_type": "markdown",
   "metadata": {},
   "source": [
    "❓ Tinjau beberapa kolom yang missing value dan diskusikan imputasi yang cocok\n",
    "\n",
    "- `purchase_time`: \n",
    "- `category`: \n",
    "- `format`: \n",
    "- `unit_price`: \n",
    "- `discount`: \n",
    "- `quantity`: \n",
    "- `weekday`: "
   ]
  },
  {
   "cell_type": "markdown",
   "metadata": {},
   "source": [
    "Untuk melakukan imputasi pada data yang missing dapat menggunakan method `.fillna()`. Agar perubahan tersimpan pada data, harus dilakukan assignment:\n",
    "\n",
    "1. Cara assignment menggunakan tanda sama dengan `=`\n",
    "2. Menggunakan parameter `inplace=True`, namun hanya bisa dilakukan untuk 1 kolom saja"
   ]
  },
  {
   "cell_type": "code",
   "execution_count": null,
   "metadata": {},
   "outputs": [],
   "source": [
    "# contoh imputasi\n"
   ]
  },
  {
   "cell_type": "code",
   "execution_count": null,
   "metadata": {},
   "outputs": [],
   "source": [
    "# code here\n"
   ]
  },
  {
   "cell_type": "code",
   "execution_count": null,
   "metadata": {},
   "outputs": [],
   "source": [
    "# check kembali missing value\n"
   ]
  },
  {
   "cell_type": "markdown",
   "metadata": {},
   "source": [
    "___"
   ]
  },
  {
   "cell_type": "markdown",
   "metadata": {},
   "source": [
    "## Duplicated Values"
   ]
  },
  {
   "cell_type": "markdown",
   "metadata": {},
   "source": [
    "### Check duplicated values"
   ]
  },
  {
   "cell_type": "markdown",
   "metadata": {},
   "source": [
    "Untuk melakukan pengecekan terhadap ada atau tidaknya data yang duplikat, kita dapat menggunakan method `duplicated()`."
   ]
  },
  {
   "cell_type": "code",
   "execution_count": null,
   "metadata": {},
   "outputs": [],
   "source": [
    "# cek data duplikat\n"
   ]
  },
  {
   "cell_type": "markdown",
   "metadata": {},
   "source": [
    "## Handling Duplicate Data"
   ]
  },
  {
   "cell_type": "markdown",
   "metadata": {},
   "source": [
    "Untuk menangani data yang duplicate, kita bisa menggunakan method `drop_duplicates()`. Cara ini membuat observasi yang duplicated terhapus dan kita bisa mengatur observasi mana yang akan tetap disimpan. \n",
    "\n",
    "**Case:**\n",
    "\n",
    "Cek dimensi dari data `household_missing`. Hapus baris yang duplicated. Cek kembali dimensi data `household_missing`untuk memastikan data yang duplicate sudah terhapus."
   ]
  },
  {
   "cell_type": "markdown",
   "metadata": {},
   "source": [
    "**NOTE:** Terdapat tiga macam cara untuk melakukan penghapusan pada nilai duplicate.\n",
    "\n",
    "1. Dengan menambahkan parameter `keep='first'`, maka akan mempertahankan baris **pertama (teratas)** dari nilai yang duplicate.\n",
    "2. Dengan menambahkan parameter `keep='last'`, maka akan mempertahankan baris **terakhir (terbawah)** dari nilai yang duplicate.\n",
    "3. Dengan menambahkan parameter `keep=False`, maka tidak mempertahankan baris yang duplikat. Dengan kata lain, menghapus semua baris yang duplikat."
   ]
  },
  {
   "cell_type": "code",
   "execution_count": null,
   "metadata": {},
   "outputs": [],
   "source": [
    "# keep='first'\n"
   ]
  },
  {
   "cell_type": "code",
   "execution_count": null,
   "metadata": {},
   "outputs": [],
   "source": [
    "# keep='last'\n"
   ]
  },
  {
   "cell_type": "code",
   "execution_count": null,
   "metadata": {},
   "outputs": [],
   "source": [
    "# keep=False\n"
   ]
  },
  {
   "cell_type": "markdown",
   "metadata": {},
   "source": [
    "⚠️ **Warning**: Duplikat dapat berarti hal yang berbeda dari sudut pandang data dan sudut pandang analis bisnis. Anda harus ekstra berhati-hati apakah data duplikat memang merupakan karakteristik dari data Anda, atau apakah itu merupakan sebuah kesalahan input data berdasarkan logika bisnisnya."
   ]
  },
  {
   "cell_type": "markdown",
   "metadata": {},
   "source": [
    "### Knowledge Check: Duplicate Data\n",
    "\n",
    "❓**Q: Apakah kita harus drop data duplikat atau tidak?**"
   ]
  },
  {
   "cell_type": "markdown",
   "metadata": {},
   "source": [
    "1. Sebuah pusat medis mengumpulkan data pemantauan detak jantung dari beberapa pasien anonim. Pengamatan ini diambil dalam kurun waktu 3 bulan:"
   ]
  },
  {
   "cell_type": "code",
   "execution_count": null,
   "metadata": {},
   "outputs": [],
   "source": [
    "monitoring = pd.DataFrame({\n",
    "    'patient_id': ['001', '002', '003', '004', '005', '006'],\n",
    "    'heart_rate': [100, 120, 90, 100, 98, 90]\n",
    "}).set_index('patient_id')\n",
    "\n",
    "monitoring.duplicated()"
   ]
  },
  {
   "cell_type": "markdown",
   "metadata": {},
   "source": [
    "> Jawaban: Data duplikat (dihapus / tidak dihapus), karena ..."
   ]
  },
  {
   "cell_type": "markdown",
   "metadata": {},
   "source": [
    "2. Sebuah perusahaan asuransi menggunakan machine learning untuk menetapkan harga secara dinamis kepada pelanggannya. Setiap baris berisi nama pelanggan, pekerjaan/profesi, dan data riwayat kesehatan mereka. Data ini diambil dalam kurun waktu 3 bulan"
   ]
  },
  {
   "cell_type": "code",
   "execution_count": null,
   "metadata": {},
   "outputs": [],
   "source": [
    "insurance = pd.DataFrame({\n",
    "    'cust_id': ['C1', 'C2', 'C3', 'C4', 'C1', 'C5'],\n",
    "    'occupation': ['Employee', 'Employee', 'Student', 'Student', 'Employee', 'Employee'],\n",
    "    'health': ['Good', 'Ok', 'Good', 'Ok', 'Ok', 'Bad'],\n",
    "    'date_updated': pd.Series(['2021-06-05', '2021-07-21', '2021-08-14', '2021-09-11', '2021-11-28', '2021-12-10'], dtype='datetime64[ns]')\n",
    "})\n",
    "\n",
    "insurance['cust_id'].duplicated()"
   ]
  },
  {
   "cell_type": "markdown",
   "metadata": {},
   "source": [
    "> Jawaban: Data duplikat (dihapus / tidak dihapus), karena ..."
   ]
  },
  {
   "cell_type": "markdown",
   "metadata": {},
   "source": [
    "3. Pada data `household` yang kita punya, coba check duplikatnya. Apakah Anda akan menghapus baris yang duplikat?\n",
    "\n",
    "Note: `receipts_item_id` sebagai index"
   ]
  },
  {
   "cell_type": "code",
   "execution_count": null,
   "metadata": {},
   "outputs": [],
   "source": [
    "household_duplicate = pd.read_csv('data_input/household.csv', index_col='receipts_item_id')\n",
    "household_duplicate.duplicated().sum()"
   ]
  },
  {
   "cell_type": "markdown",
   "metadata": {},
   "source": [
    "> Jawaban: Data duplikat (dihapus / tidak dihapus), karena ..."
   ]
  },
  {
   "cell_type": "markdown",
   "metadata": {},
   "source": [
    "___"
   ]
  }
 ],
 "metadata": {
  "kernelspec": {
   "display_name": "Python [conda env:qoppa_da]",
   "language": "python",
   "name": "conda-env-qoppa_da-py"
  },
  "language_info": {
   "codemirror_mode": {
    "name": "ipython",
    "version": 3
   },
   "file_extension": ".py",
   "mimetype": "text/x-python",
   "name": "python",
   "nbconvert_exporter": "python",
   "pygments_lexer": "ipython3",
   "version": "3.9.7"
  },
  "toc": {
   "base_numbering": 1,
   "nav_menu": {},
   "number_sections": false,
   "sideBar": true,
   "skip_h1_title": false,
   "title_cell": "Table of Contents",
   "title_sidebar": "Contents",
   "toc_cell": false,
   "toc_position": {
    "height": "calc(100% - 180px)",
    "left": "10px",
    "top": "150px",
    "width": "320px"
   },
   "toc_section_display": false,
   "toc_window_display": false
  },
  "varInspector": {
   "cols": {
    "lenName": 16,
    "lenType": 16,
    "lenVar": 40
   },
   "kernels_config": {
    "python": {
     "delete_cmd_postfix": "",
     "delete_cmd_prefix": "del ",
     "library": "var_list.py",
     "varRefreshCmd": "print(var_dic_list())"
    },
    "r": {
     "delete_cmd_postfix": ") ",
     "delete_cmd_prefix": "rm(",
     "library": "var_list.r",
     "varRefreshCmd": "cat(var_dic_list()) "
    }
   },
   "types_to_exclude": [
    "module",
    "function",
    "builtin_function_or_method",
    "instance",
    "_Feature"
   ],
   "window_display": false
  }
 },
 "nbformat": 4,
 "nbformat_minor": 4
}
