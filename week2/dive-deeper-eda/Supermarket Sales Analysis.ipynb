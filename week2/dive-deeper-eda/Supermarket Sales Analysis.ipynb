{
 "cells": [
  {
   "cell_type": "markdown",
   "id": "f4e197b6",
   "metadata": {},
   "source": [
    "# Dive Deeper: Supermarket Sales Analysis"
   ]
  },
  {
   "cell_type": "markdown",
   "id": "35608cb3",
   "metadata": {},
   "source": [
    "> The growth of supermarkets in most populated cities are increasing and market competitions are also high. The dataset is one of the historical sales of supermarket company which has recorded in 3 different branches for 3 months data. [Source: Kaggle](https://www.kaggle.com/aungpyaeap/supermarket-sales)"
   ]
  },
  {
   "cell_type": "markdown",
   "id": "160f3ef8",
   "metadata": {},
   "source": [
    "## Import Library and Dataset"
   ]
  },
  {
   "cell_type": "code",
   "execution_count": null,
   "id": "3f2dda3e",
   "metadata": {},
   "outputs": [],
   "source": [
    "# import library\n"
   ]
  },
  {
   "cell_type": "markdown",
   "id": "9cdeb112",
   "metadata": {},
   "source": [
    "Silakan import data CSV bernama `supermarket_sales.csv`. Data ini diperoleh dari Kaggle dan hanya diambil beberapa kolom untuk kebutuhan analisis."
   ]
  },
  {
   "cell_type": "code",
   "execution_count": null,
   "id": "5be4a9e0",
   "metadata": {},
   "outputs": [],
   "source": [
    "# import dataset, simpan ke object supermarket\n"
   ]
  },
  {
   "cell_type": "code",
   "execution_count": null,
   "id": "73bcf79a",
   "metadata": {},
   "outputs": [],
   "source": [
    "# cek informasi data\n"
   ]
  },
  {
   "cell_type": "markdown",
   "id": "79eb1b6e",
   "metadata": {},
   "source": [
    "Deskripsi data:\n",
    "\n",
    "- `invoice_id`: Computer generated sales slip invoice identification number\n",
    "- `city`: Location of supercenters\n",
    "- `customer`: Type of customers, recorded by Members for customers using member card and Normal for without member card\n",
    "- `gender`: Gender type of customer\n",
    "- `product_line`: General item categorization groups - Electronic accessories, Fashion accessories, Food and beverages, Health and beauty, Home and lifestyle, Sports and travel\n",
    "- `unit_price`: Price of each product in dollar\n",
    "- `quantity`: Number of products purchased by customer\n",
    "- `date`: Date of purchase (Record available from January 2019 to March 2019)\n",
    "- `time`: Purchase time (10am to 9pm)\n",
    "- `payment`: Payment used by customer for purchase (3 methods are available – Cash, Credit card and Ewallet)\n",
    "- `rating`: Customer stratification rating on their overall shopping experience (On a scale of 1 to 10)"
   ]
  },
  {
   "cell_type": "markdown",
   "id": "00da5518",
   "metadata": {},
   "source": [
    "## Data Pre-processing"
   ]
  },
  {
   "cell_type": "markdown",
   "id": "a0b23f28",
   "metadata": {},
   "source": [
    "❓ Apakah seluruh kolom di atas sudah memiliki tipe data yang sesuai? Jika belum, kolom apa saja yang perlu diubah?\n"
   ]
  },
  {
   "cell_type": "code",
   "execution_count": null,
   "id": "1e1e0bee",
   "metadata": {},
   "outputs": [],
   "source": [
    "# cek tipe data\n"
   ]
  },
  {
   "cell_type": "code",
   "execution_count": null,
   "id": "ed836915",
   "metadata": {},
   "outputs": [],
   "source": [
    "# ubah tipe data\n"
   ]
  },
  {
   "cell_type": "markdown",
   "id": "039b04ca",
   "metadata": {},
   "source": [
    "## Analysis"
   ]
  },
  {
   "cell_type": "markdown",
   "id": "1e65fc46",
   "metadata": {},
   "source": [
    "❓ Bantulah tim marketing untuk mengetahui jenis produk apa yang paling favorit di setiap kotanya? Favorit di sini berdasarkan banyaknya transaksi yang terjadi."
   ]
  },
  {
   "cell_type": "code",
   "execution_count": null,
   "id": "f3335db5",
   "metadata": {
    "scrolled": true
   },
   "outputs": [],
   "source": []
  },
  {
   "cell_type": "markdown",
   "id": "f11e923a",
   "metadata": {},
   "source": [
    "❓ Bantulah tim sales untuk mengetahui **total pendapatan kotor** untuk masing-masing kota, jika pada setiap transaksi diberlakukan pajak sebesar 5%.\n",
    "\n",
    "Hint: Hitung `total` per transaksi terlebih dahulu, kemudian tambahkan dengan besar pajaknya."
   ]
  },
  {
   "cell_type": "code",
   "execution_count": null,
   "id": "0c491b1d",
   "metadata": {},
   "outputs": [],
   "source": []
  },
  {
   "cell_type": "markdown",
   "id": "a1971827",
   "metadata": {},
   "source": [
    "❓ Bantulah tim customer relation untuk mengetahui rata-rata tingkat kepuasan customer secara bulanan untuk masing-masing kota. Apakah mengalami penurunan atau kenaikan?"
   ]
  },
  {
   "cell_type": "code",
   "execution_count": null,
   "id": "9443256c",
   "metadata": {},
   "outputs": [],
   "source": []
  },
  {
   "cell_type": "markdown",
   "id": "2667be94",
   "metadata": {},
   "source": [
    "___"
   ]
  },
  {
   "cell_type": "markdown",
   "id": "ea6175db",
   "metadata": {},
   "source": [
    "## Self-Exploration Time ~"
   ]
  },
  {
   "cell_type": "markdown",
   "id": "ebc6b850",
   "metadata": {},
   "source": [
    "Pada bagian ini, kami sediakan tempat untuk Anda melakukan eksplorasi mandiri terhadap data `supermarket`. Rumuskanlah minimal **dua pertanyaan bisnis** yang menarik dari data, kemudian cobalah jawab pertanyaan tersebut menggunakan teknik-teknik yang sudah kita pelajari bersama di kelas. Sertakan insight menarik dalam bentuk narasi dan ceritakanlah di depan kelas :)"
   ]
  },
  {
   "cell_type": "markdown",
   "id": "bc849b9a",
   "metadata": {},
   "source": [
    "Sebagai panduan, berikut adalah teknik-teknik yang dapat Anda gunakan:\n",
    "\n",
    "- Conditional subsetting (filter): `dataframe[kondisi]`\n",
    "- Extract and transform `datetime64` component: `.dt.COMPONENT` and `.dt.to_period()`\n",
    "- Frequency and aggregation table:\n",
    "    - `.value_counts()`\n",
    "    - `pd.crosstab()`\n",
    "    - `pd.pivot_table()`\n",
    "- Sorting table: `.sort_values()`"
   ]
  },
  {
   "cell_type": "markdown",
   "id": "a8905018",
   "metadata": {},
   "source": [
    "**Pertanyaan 1:** ..."
   ]
  },
  {
   "cell_type": "code",
   "execution_count": null,
   "id": "47d9fe0e",
   "metadata": {},
   "outputs": [],
   "source": [
    "# code here\n"
   ]
  },
  {
   "cell_type": "markdown",
   "id": "ef486b13",
   "metadata": {},
   "source": [
    "> **📈 Insight:** ..."
   ]
  },
  {
   "cell_type": "markdown",
   "id": "c9b8875d",
   "metadata": {},
   "source": [
    "**Pertanyaan 2:** ..."
   ]
  },
  {
   "cell_type": "code",
   "execution_count": null,
   "id": "68c625d3",
   "metadata": {},
   "outputs": [],
   "source": [
    "# code here\n"
   ]
  },
  {
   "cell_type": "markdown",
   "id": "681aaf44",
   "metadata": {},
   "source": [
    "> **📈 Insight:** ..."
   ]
  }
 ],
 "metadata": {
  "kernelspec": {
   "display_name": "Python [conda env:qoppa_da]",
   "language": "python",
   "name": "conda-env-qoppa_da-py"
  },
  "language_info": {
   "codemirror_mode": {
    "name": "ipython",
    "version": 3
   },
   "file_extension": ".py",
   "mimetype": "text/x-python",
   "name": "python",
   "nbconvert_exporter": "python",
   "pygments_lexer": "ipython3",
   "version": "3.9.7"
  },
  "toc": {
   "base_numbering": 1,
   "nav_menu": {},
   "number_sections": false,
   "sideBar": true,
   "skip_h1_title": false,
   "title_cell": "Table of Contents",
   "title_sidebar": "Contents",
   "toc_cell": false,
   "toc_position": {},
   "toc_section_display": true,
   "toc_window_display": false
  },
  "varInspector": {
   "cols": {
    "lenName": 16,
    "lenType": 16,
    "lenVar": 40
   },
   "kernels_config": {
    "python": {
     "delete_cmd_postfix": "",
     "delete_cmd_prefix": "del ",
     "library": "var_list.py",
     "varRefreshCmd": "print(var_dic_list())"
    },
    "r": {
     "delete_cmd_postfix": ") ",
     "delete_cmd_prefix": "rm(",
     "library": "var_list.r",
     "varRefreshCmd": "cat(var_dic_list()) "
    }
   },
   "types_to_exclude": [
    "module",
    "function",
    "builtin_function_or_method",
    "instance",
    "_Feature"
   ],
   "window_display": false
  }
 },
 "nbformat": 4,
 "nbformat_minor": 5
}
