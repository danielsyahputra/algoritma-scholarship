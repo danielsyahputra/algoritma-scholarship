{
 "cells": [
  {
   "cell_type": "markdown",
   "id": "f4e197b6",
   "metadata": {},
   "source": [
    "# Dive Deeper: Supermarket Sales Analysis"
   ]
  },
  {
   "cell_type": "markdown",
   "id": "35608cb3",
   "metadata": {},
   "source": [
    "> The growth of supermarkets in most populated cities are increasing and market competitions are also high. The dataset is one of the historical sales of supermarket company which has recorded in 3 different branches for 3 months data. [Source: Kaggle](https://www.kaggle.com/aungpyaeap/supermarket-sales)"
   ]
  },
  {
   "cell_type": "markdown",
   "id": "160f3ef8",
   "metadata": {},
   "source": [
    "## Import Library and Dataset"
   ]
  },
  {
   "cell_type": "code",
   "execution_count": 167,
   "id": "3f2dda3e",
   "metadata": {},
   "outputs": [],
   "source": [
    "# import library\n",
    "import pandas as pd"
   ]
  },
  {
   "cell_type": "markdown",
   "id": "9cdeb112",
   "metadata": {},
   "source": [
    "Silakan import data CSV bernama `supermarket_sales.csv`. Data ini diperoleh dari Kaggle dan hanya diambil beberapa kolom untuk kebutuhan analisis."
   ]
  },
  {
   "cell_type": "code",
   "execution_count": 168,
   "id": "5be4a9e0",
   "metadata": {},
   "outputs": [],
   "source": [
    "# import dataset, simpan ke object supermarket\n",
    "supermarket = pd.read_csv('./supermarket_sales.csv')"
   ]
  },
  {
   "cell_type": "code",
   "execution_count": 169,
   "id": "73bcf79a",
   "metadata": {},
   "outputs": [
    {
     "data": {
      "text/html": [
       "<div>\n",
       "<style scoped>\n",
       "    .dataframe tbody tr th:only-of-type {\n",
       "        vertical-align: middle;\n",
       "    }\n",
       "\n",
       "    .dataframe tbody tr th {\n",
       "        vertical-align: top;\n",
       "    }\n",
       "\n",
       "    .dataframe thead th {\n",
       "        text-align: right;\n",
       "    }\n",
       "</style>\n",
       "<table border=\"1\" class=\"dataframe\">\n",
       "  <thead>\n",
       "    <tr style=\"text-align: right;\">\n",
       "      <th></th>\n",
       "      <th>invoice_id</th>\n",
       "      <th>city</th>\n",
       "      <th>customer</th>\n",
       "      <th>gender</th>\n",
       "      <th>product_line</th>\n",
       "      <th>unit_price</th>\n",
       "      <th>quantity</th>\n",
       "      <th>date</th>\n",
       "      <th>time</th>\n",
       "      <th>payment</th>\n",
       "      <th>rating</th>\n",
       "    </tr>\n",
       "  </thead>\n",
       "  <tbody>\n",
       "    <tr>\n",
       "      <th>0</th>\n",
       "      <td>750-67-8428</td>\n",
       "      <td>Yangon</td>\n",
       "      <td>Member</td>\n",
       "      <td>Female</td>\n",
       "      <td>Health and beauty</td>\n",
       "      <td>74.69</td>\n",
       "      <td>7</td>\n",
       "      <td>1/5/2019</td>\n",
       "      <td>13:08</td>\n",
       "      <td>Ewallet</td>\n",
       "      <td>9.1</td>\n",
       "    </tr>\n",
       "    <tr>\n",
       "      <th>1</th>\n",
       "      <td>226-31-3081</td>\n",
       "      <td>Naypyitaw</td>\n",
       "      <td>Normal</td>\n",
       "      <td>Female</td>\n",
       "      <td>Electronic accessories</td>\n",
       "      <td>15.28</td>\n",
       "      <td>5</td>\n",
       "      <td>3/8/2019</td>\n",
       "      <td>10:29</td>\n",
       "      <td>Cash</td>\n",
       "      <td>9.6</td>\n",
       "    </tr>\n",
       "    <tr>\n",
       "      <th>2</th>\n",
       "      <td>631-41-3108</td>\n",
       "      <td>Yangon</td>\n",
       "      <td>Normal</td>\n",
       "      <td>Male</td>\n",
       "      <td>Home and lifestyle</td>\n",
       "      <td>46.33</td>\n",
       "      <td>7</td>\n",
       "      <td>3/3/2019</td>\n",
       "      <td>13:23</td>\n",
       "      <td>Credit card</td>\n",
       "      <td>7.4</td>\n",
       "    </tr>\n",
       "    <tr>\n",
       "      <th>3</th>\n",
       "      <td>123-19-1176</td>\n",
       "      <td>Yangon</td>\n",
       "      <td>Member</td>\n",
       "      <td>Male</td>\n",
       "      <td>Health and beauty</td>\n",
       "      <td>58.22</td>\n",
       "      <td>8</td>\n",
       "      <td>1/27/2019</td>\n",
       "      <td>20:33</td>\n",
       "      <td>Ewallet</td>\n",
       "      <td>8.4</td>\n",
       "    </tr>\n",
       "    <tr>\n",
       "      <th>4</th>\n",
       "      <td>373-73-7910</td>\n",
       "      <td>Yangon</td>\n",
       "      <td>Normal</td>\n",
       "      <td>Male</td>\n",
       "      <td>Sports and travel</td>\n",
       "      <td>86.31</td>\n",
       "      <td>7</td>\n",
       "      <td>2/8/2019</td>\n",
       "      <td>10:37</td>\n",
       "      <td>Ewallet</td>\n",
       "      <td>5.3</td>\n",
       "    </tr>\n",
       "  </tbody>\n",
       "</table>\n",
       "</div>"
      ],
      "text/plain": [
       "    invoice_id       city customer  gender            product_line  \\\n",
       "0  750-67-8428     Yangon   Member  Female       Health and beauty   \n",
       "1  226-31-3081  Naypyitaw   Normal  Female  Electronic accessories   \n",
       "2  631-41-3108     Yangon   Normal    Male      Home and lifestyle   \n",
       "3  123-19-1176     Yangon   Member    Male       Health and beauty   \n",
       "4  373-73-7910     Yangon   Normal    Male       Sports and travel   \n",
       "\n",
       "   unit_price  quantity       date   time      payment  rating  \n",
       "0       74.69         7   1/5/2019  13:08      Ewallet     9.1  \n",
       "1       15.28         5   3/8/2019  10:29         Cash     9.6  \n",
       "2       46.33         7   3/3/2019  13:23  Credit card     7.4  \n",
       "3       58.22         8  1/27/2019  20:33      Ewallet     8.4  \n",
       "4       86.31         7   2/8/2019  10:37      Ewallet     5.3  "
      ]
     },
     "execution_count": 169,
     "metadata": {},
     "output_type": "execute_result"
    }
   ],
   "source": [
    "# cek informasi data\n",
    "supermarket.head()"
   ]
  },
  {
   "cell_type": "markdown",
   "id": "79eb1b6e",
   "metadata": {},
   "source": [
    "Deskripsi data:\n",
    "\n",
    "- `invoice_id`: Computer generated sales slip invoice identification number\n",
    "- `city`: Location of supercenters\n",
    "- `customer`: Type of customers, recorded by Members for customers using member card and Normal for without member card\n",
    "- `gender`: Gender type of customer\n",
    "- `product_line`: General item categorization groups - Electronic accessories, Fashion accessories, Food and beverages, Health and beauty, Home and lifestyle, Sports and travel\n",
    "- `unit_price`: Price of each product in dollar\n",
    "- `quantity`: Number of products purchased by customer\n",
    "- `date`: Date of purchase (Record available from January 2019 to March 2019)\n",
    "- `time`: Purchase time (10am to 9pm)\n",
    "- `payment`: Payment used by customer for purchase (3 methods are available – Cash, Credit card and Ewallet)\n",
    "- `rating`: Customer stratification rating on their overall shopping experience (On a scale of 1 to 10)"
   ]
  },
  {
   "cell_type": "markdown",
   "id": "00da5518",
   "metadata": {},
   "source": [
    "## Data Pre-processing"
   ]
  },
  {
   "cell_type": "markdown",
   "id": "a0b23f28",
   "metadata": {},
   "source": [
    "❓ Apakah seluruh kolom di atas sudah memiliki tipe data yang sesuai? Jika belum, kolom apa saja yang perlu diubah?\n"
   ]
  },
  {
   "cell_type": "code",
   "execution_count": 170,
   "id": "89bca160",
   "metadata": {},
   "outputs": [
    {
     "data": {
      "text/plain": [
       "invoice_id      1000\n",
       "city               3\n",
       "customer           2\n",
       "gender             2\n",
       "product_line       6\n",
       "unit_price       943\n",
       "quantity          10\n",
       "date              89\n",
       "time             506\n",
       "payment            3\n",
       "rating            61\n",
       "dtype: int64"
      ]
     },
     "execution_count": 170,
     "metadata": {},
     "output_type": "execute_result"
    }
   ],
   "source": [
    "supermarket.nunique()"
   ]
  },
  {
   "cell_type": "code",
   "execution_count": 171,
   "id": "1e1e0bee",
   "metadata": {},
   "outputs": [
    {
     "data": {
      "text/plain": [
       "invoice_id       object\n",
       "city             object\n",
       "customer         object\n",
       "gender           object\n",
       "product_line     object\n",
       "unit_price      float64\n",
       "quantity          int64\n",
       "date             object\n",
       "time             object\n",
       "payment          object\n",
       "rating          float64\n",
       "dtype: object"
      ]
     },
     "execution_count": 171,
     "metadata": {},
     "output_type": "execute_result"
    }
   ],
   "source": [
    "# cek tipe data\n",
    "supermarket.dtypes"
   ]
  },
  {
   "cell_type": "markdown",
   "id": "5d1db3d4",
   "metadata": {},
   "source": [
    "> Kolom yang perlu diganti:\n",
    "- `city` --> category\n",
    "- `customer` --> category\n",
    "- `gender` --> category\n",
    "- `product_line` --> category\n",
    "- `payment` --> category\n",
    "- `date` + `time` --> datetime"
   ]
  },
  {
   "cell_type": "code",
   "execution_count": 172,
   "id": "ed836915",
   "metadata": {},
   "outputs": [],
   "source": [
    "# ubah tipe data jadi category\n",
    "category_cols = ['city', 'customer', 'gender', 'product_line', 'payment']\n",
    "supermarket[category_cols] = \\\n",
    "supermarket[category_cols].astype('category')\n"
   ]
  },
  {
   "cell_type": "code",
   "execution_count": 173,
   "id": "da7a5fe5",
   "metadata": {},
   "outputs": [
    {
     "data": {
      "text/plain": [
       "invoice_id              object\n",
       "city                  category\n",
       "customer              category\n",
       "gender                category\n",
       "product_line          category\n",
       "unit_price             float64\n",
       "quantity                 int64\n",
       "date                    object\n",
       "time                    object\n",
       "payment               category\n",
       "rating                 float64\n",
       "datetime        datetime64[ns]\n",
       "dtype: object"
      ]
     },
     "execution_count": 173,
     "metadata": {},
     "output_type": "execute_result"
    }
   ],
   "source": [
    "supermarket['datetime'] = supermarket['date'] + ' ' + supermarket['time']\n",
    "supermarket['datetime'] = pd.to_datetime(supermarket['datetime'])\n",
    "supermarket.dtypes"
   ]
  },
  {
   "cell_type": "code",
   "execution_count": 174,
   "id": "0bba48a9",
   "metadata": {},
   "outputs": [
    {
     "data": {
      "text/plain": [
       "invoice_id              object\n",
       "city                  category\n",
       "customer              category\n",
       "gender                category\n",
       "product_line          category\n",
       "unit_price             float64\n",
       "quantity                 int64\n",
       "date                    object\n",
       "time                    object\n",
       "payment               category\n",
       "rating                 float64\n",
       "datetime        datetime64[ns]\n",
       "month                 category\n",
       "dtype: object"
      ]
     },
     "execution_count": 174,
     "metadata": {},
     "output_type": "execute_result"
    }
   ],
   "source": [
    "supermarket['month'] = supermarket['datetime'].dt.month_name()\n",
    "supermarket['month'] = supermarket['month'].astype('category')\n",
    "ordered_month = ['January', \"February\", \"March\"]\n",
    "supermarket['month'] = supermarket['month'].cat.reorder_categories(ordered_month)\n",
    "supermarket.dtypes"
   ]
  },
  {
   "cell_type": "markdown",
   "id": "039b04ca",
   "metadata": {},
   "source": [
    "## Analysis"
   ]
  },
  {
   "cell_type": "markdown",
   "id": "1e65fc46",
   "metadata": {},
   "source": [
    "❓ Bantulah tim marketing untuk mengetahui jenis produk apa yang paling favorit di setiap kotanya? Favorit di sini berdasarkan banyaknya transaksi yang terjadi."
   ]
  },
  {
   "cell_type": "code",
   "execution_count": 175,
   "id": "f3335db5",
   "metadata": {
    "scrolled": true
   },
   "outputs": [
    {
     "data": {
      "text/plain": [
       "city\n",
       "Mandalay     Fashion accessories\n",
       "Naypyitaw     Food and beverages\n",
       "Yangon        Home and lifestyle\n",
       "dtype: object"
      ]
     },
     "execution_count": 175,
     "metadata": {},
     "output_type": "execute_result"
    }
   ],
   "source": [
    "supermarket.pivot_table(\n",
    "    index='city',\n",
    "    columns='product_line',\n",
    "    values='invoice_id',\n",
    "    aggfunc='count',\n",
    ").idxmax(axis=1)"
   ]
  },
  {
   "cell_type": "markdown",
   "id": "f11e923a",
   "metadata": {},
   "source": [
    "❓ Bantulah tim sales untuk mengetahui **total pendapatan kotor** untuk masing-masing kota, jika pada setiap transaksi diberlakukan pajak sebesar 5%.\n",
    "\n",
    "Hint: Hitung `total` per transaksi terlebih dahulu, kemudian tambahkan dengan besar pajaknya."
   ]
  },
  {
   "cell_type": "code",
   "execution_count": 176,
   "id": "0c491b1d",
   "metadata": {},
   "outputs": [
    {
     "data": {
      "text/html": [
       "<div>\n",
       "<style scoped>\n",
       "    .dataframe tbody tr th:only-of-type {\n",
       "        vertical-align: middle;\n",
       "    }\n",
       "\n",
       "    .dataframe tbody tr th {\n",
       "        vertical-align: top;\n",
       "    }\n",
       "\n",
       "    .dataframe thead th {\n",
       "        text-align: right;\n",
       "    }\n",
       "</style>\n",
       "<table border=\"1\" class=\"dataframe\">\n",
       "  <thead>\n",
       "    <tr style=\"text-align: right;\">\n",
       "      <th></th>\n",
       "      <th>invoice_id</th>\n",
       "      <th>city</th>\n",
       "      <th>customer</th>\n",
       "      <th>gender</th>\n",
       "      <th>product_line</th>\n",
       "      <th>unit_price</th>\n",
       "      <th>quantity</th>\n",
       "      <th>date</th>\n",
       "      <th>time</th>\n",
       "      <th>payment</th>\n",
       "      <th>rating</th>\n",
       "      <th>datetime</th>\n",
       "      <th>month</th>\n",
       "      <th>total</th>\n",
       "    </tr>\n",
       "  </thead>\n",
       "  <tbody>\n",
       "    <tr>\n",
       "      <th>0</th>\n",
       "      <td>750-67-8428</td>\n",
       "      <td>Yangon</td>\n",
       "      <td>Member</td>\n",
       "      <td>Female</td>\n",
       "      <td>Health and beauty</td>\n",
       "      <td>74.69</td>\n",
       "      <td>7</td>\n",
       "      <td>1/5/2019</td>\n",
       "      <td>13:08</td>\n",
       "      <td>Ewallet</td>\n",
       "      <td>9.1</td>\n",
       "      <td>2019-01-05 13:08:00</td>\n",
       "      <td>January</td>\n",
       "      <td>548.9715</td>\n",
       "    </tr>\n",
       "    <tr>\n",
       "      <th>1</th>\n",
       "      <td>226-31-3081</td>\n",
       "      <td>Naypyitaw</td>\n",
       "      <td>Normal</td>\n",
       "      <td>Female</td>\n",
       "      <td>Electronic accessories</td>\n",
       "      <td>15.28</td>\n",
       "      <td>5</td>\n",
       "      <td>3/8/2019</td>\n",
       "      <td>10:29</td>\n",
       "      <td>Cash</td>\n",
       "      <td>9.6</td>\n",
       "      <td>2019-03-08 10:29:00</td>\n",
       "      <td>March</td>\n",
       "      <td>80.2200</td>\n",
       "    </tr>\n",
       "    <tr>\n",
       "      <th>2</th>\n",
       "      <td>631-41-3108</td>\n",
       "      <td>Yangon</td>\n",
       "      <td>Normal</td>\n",
       "      <td>Male</td>\n",
       "      <td>Home and lifestyle</td>\n",
       "      <td>46.33</td>\n",
       "      <td>7</td>\n",
       "      <td>3/3/2019</td>\n",
       "      <td>13:23</td>\n",
       "      <td>Credit card</td>\n",
       "      <td>7.4</td>\n",
       "      <td>2019-03-03 13:23:00</td>\n",
       "      <td>March</td>\n",
       "      <td>340.5255</td>\n",
       "    </tr>\n",
       "  </tbody>\n",
       "</table>\n",
       "</div>"
      ],
      "text/plain": [
       "    invoice_id       city customer  gender            product_line  \\\n",
       "0  750-67-8428     Yangon   Member  Female       Health and beauty   \n",
       "1  226-31-3081  Naypyitaw   Normal  Female  Electronic accessories   \n",
       "2  631-41-3108     Yangon   Normal    Male      Home and lifestyle   \n",
       "\n",
       "   unit_price  quantity      date   time      payment  rating  \\\n",
       "0       74.69         7  1/5/2019  13:08      Ewallet     9.1   \n",
       "1       15.28         5  3/8/2019  10:29         Cash     9.6   \n",
       "2       46.33         7  3/3/2019  13:23  Credit card     7.4   \n",
       "\n",
       "             datetime    month     total  \n",
       "0 2019-01-05 13:08:00  January  548.9715  \n",
       "1 2019-03-08 10:29:00    March   80.2200  \n",
       "2 2019-03-03 13:23:00    March  340.5255  "
      ]
     },
     "execution_count": 176,
     "metadata": {},
     "output_type": "execute_result"
    }
   ],
   "source": [
    "# Hitung total transaksi\n",
    "supermarket['total'] = supermarket['unit_price'] * supermarket['quantity'] * 1.05\n",
    "supermarket.head(3)"
   ]
  },
  {
   "cell_type": "markdown",
   "id": "84caeffb",
   "metadata": {},
   "source": [
    "> Soal 2\n",
    "- index = `city`\n",
    "- columns = ``\n",
    "- values = `sum`"
   ]
  },
  {
   "cell_type": "code",
   "execution_count": 177,
   "id": "18daadf1",
   "metadata": {},
   "outputs": [
    {
     "data": {
      "text/html": [
       "<div>\n",
       "<style scoped>\n",
       "    .dataframe tbody tr th:only-of-type {\n",
       "        vertical-align: middle;\n",
       "    }\n",
       "\n",
       "    .dataframe tbody tr th {\n",
       "        vertical-align: top;\n",
       "    }\n",
       "\n",
       "    .dataframe thead th {\n",
       "        text-align: right;\n",
       "    }\n",
       "</style>\n",
       "<table border=\"1\" class=\"dataframe\">\n",
       "  <thead>\n",
       "    <tr style=\"text-align: right;\">\n",
       "      <th></th>\n",
       "      <th>total</th>\n",
       "    </tr>\n",
       "    <tr>\n",
       "      <th>city</th>\n",
       "      <th></th>\n",
       "    </tr>\n",
       "  </thead>\n",
       "  <tbody>\n",
       "    <tr>\n",
       "      <th>Mandalay</th>\n",
       "      <td>106197.6720</td>\n",
       "    </tr>\n",
       "    <tr>\n",
       "      <th>Naypyitaw</th>\n",
       "      <td>110568.7065</td>\n",
       "    </tr>\n",
       "    <tr>\n",
       "      <th>Yangon</th>\n",
       "      <td>106200.3705</td>\n",
       "    </tr>\n",
       "  </tbody>\n",
       "</table>\n",
       "</div>"
      ],
      "text/plain": [
       "                 total\n",
       "city                  \n",
       "Mandalay   106197.6720\n",
       "Naypyitaw  110568.7065\n",
       "Yangon     106200.3705"
      ]
     },
     "execution_count": 177,
     "metadata": {},
     "output_type": "execute_result"
    }
   ],
   "source": [
    "# Soal 2\n",
    "\n",
    "supermarket.pivot_table(\n",
    "    index='city',\n",
    "    values='total',\n",
    "    aggfunc='sum'\n",
    ")"
   ]
  },
  {
   "cell_type": "markdown",
   "id": "a1971827",
   "metadata": {},
   "source": [
    "❓ Bantulah tim customer relation untuk mengetahui rata-rata tingkat kepuasan customer secara bulanan untuk masing-masing kota. Apakah mengalami penurunan atau kenaikan?"
   ]
  },
  {
   "cell_type": "markdown",
   "id": "8b4b0afc",
   "metadata": {},
   "source": [
    "Kolom yang digunakan: `rating`, `datetime`"
   ]
  },
  {
   "cell_type": "code",
   "execution_count": 178,
   "id": "9443256c",
   "metadata": {},
   "outputs": [
    {
     "data": {
      "text/html": [
       "<div>\n",
       "<style scoped>\n",
       "    .dataframe tbody tr th:only-of-type {\n",
       "        vertical-align: middle;\n",
       "    }\n",
       "\n",
       "    .dataframe tbody tr th {\n",
       "        vertical-align: top;\n",
       "    }\n",
       "\n",
       "    .dataframe thead th {\n",
       "        text-align: right;\n",
       "    }\n",
       "</style>\n",
       "<table border=\"1\" class=\"dataframe\">\n",
       "  <thead>\n",
       "    <tr style=\"text-align: right;\">\n",
       "      <th>city</th>\n",
       "      <th>Mandalay</th>\n",
       "      <th>Naypyitaw</th>\n",
       "      <th>Yangon</th>\n",
       "    </tr>\n",
       "    <tr>\n",
       "      <th>month</th>\n",
       "      <th></th>\n",
       "      <th></th>\n",
       "      <th></th>\n",
       "    </tr>\n",
       "  </thead>\n",
       "  <tbody>\n",
       "    <tr>\n",
       "      <th>January</th>\n",
       "      <td>6.801802</td>\n",
       "      <td>7.154918</td>\n",
       "      <td>7.078151</td>\n",
       "    </tr>\n",
       "    <tr>\n",
       "      <th>February</th>\n",
       "      <td>7.008257</td>\n",
       "      <td>7.200000</td>\n",
       "      <td>7.007447</td>\n",
       "    </tr>\n",
       "    <tr>\n",
       "      <th>March</th>\n",
       "      <td>6.649107</td>\n",
       "      <td>6.858491</td>\n",
       "      <td>6.993701</td>\n",
       "    </tr>\n",
       "  </tbody>\n",
       "</table>\n",
       "</div>"
      ],
      "text/plain": [
       "city      Mandalay  Naypyitaw    Yangon\n",
       "month                                  \n",
       "January   6.801802   7.154918  7.078151\n",
       "February  7.008257   7.200000  7.007447\n",
       "March     6.649107   6.858491  6.993701"
      ]
     },
     "execution_count": 178,
     "metadata": {},
     "output_type": "execute_result"
    }
   ],
   "source": [
    "pd.crosstab(\n",
    "    index=supermarket['month'],\n",
    "    columns=supermarket['city'],\n",
    "    values=supermarket['rating'],\n",
    "    aggfunc='mean',\n",
    ")"
   ]
  },
  {
   "cell_type": "markdown",
   "id": "df9c8988",
   "metadata": {},
   "source": [
    "> Insight: Untuk setiap kota ada penurunan dari february ke maret."
   ]
  },
  {
   "cell_type": "markdown",
   "id": "2667be94",
   "metadata": {},
   "source": [
    "___"
   ]
  },
  {
   "cell_type": "markdown",
   "id": "ea6175db",
   "metadata": {},
   "source": [
    "## Self-Exploration Time ~"
   ]
  },
  {
   "cell_type": "markdown",
   "id": "ebc6b850",
   "metadata": {},
   "source": [
    "Pada bagian ini, kami sediakan tempat untuk Anda melakukan eksplorasi mandiri terhadap data `supermarket`. Rumuskanlah minimal **dua pertanyaan bisnis** yang menarik dari data, kemudian cobalah jawab pertanyaan tersebut menggunakan teknik-teknik yang sudah kita pelajari bersama di kelas. Sertakan insight menarik dalam bentuk narasi dan ceritakanlah di depan kelas :)"
   ]
  },
  {
   "cell_type": "markdown",
   "id": "bc849b9a",
   "metadata": {},
   "source": [
    "Sebagai panduan, berikut adalah teknik-teknik yang dapat Anda gunakan:\n",
    "\n",
    "- Conditional subsetting (filter): `dataframe[kondisi]`\n",
    "- Extract and transform `datetime64` component: `.dt.COMPONENT` and `.dt.to_period()`\n",
    "- Frequency and aggregation table:\n",
    "    - `.value_counts()`\n",
    "    - `pd.crosstab()`\n",
    "    - `pd.pivot_table()`\n",
    "- Sorting table: `.sort_values()`"
   ]
  },
  {
   "cell_type": "markdown",
   "id": "a8905018",
   "metadata": {},
   "source": [
    "**Pertanyaan 1:** Kita ingin membuat strategi marketing di masing-masing kota di segment penjualan product dengan kuantitas paling rendah \n",
    "\n",
    "- index = product_line \n",
    "- column = city \n",
    "- values = quantity \n",
    "- aggfunc=sum "
   ]
  },
  {
   "cell_type": "code",
   "execution_count": 181,
   "id": "47d9fe0e",
   "metadata": {},
   "outputs": [
    {
     "data": {
      "text/plain": [
       "city\n",
       "Mandalay     Food and beverages\n",
       "Naypyitaw    Home and lifestyle\n",
       "Yangon        Health and beauty\n",
       "dtype: object"
      ]
     },
     "execution_count": 181,
     "metadata": {},
     "output_type": "execute_result"
    }
   ],
   "source": [
    "# code here\n",
    "supermarket.pivot_table(\n",
    "    index = 'product_line',\n",
    "    columns = 'city',\n",
    "    values = 'quantity',\n",
    "    aggfunc='sum'\n",
    ").idxmin() "
   ]
  },
  {
   "cell_type": "markdown",
   "id": "ef486b13",
   "metadata": {},
   "source": [
    "> **📈 Insight:** ..."
   ]
  },
  {
   "cell_type": "markdown",
   "id": "c9b8875d",
   "metadata": {},
   "source": [
    "**Pertanyaan 2:** Mencari payment yang paling sering digunakan di setiap kota."
   ]
  },
  {
   "cell_type": "code",
   "execution_count": 185,
   "id": "68c625d3",
   "metadata": {},
   "outputs": [
    {
     "data": {
      "text/plain": [
       "city\n",
       "Mandalay     Ewallet\n",
       "Naypyitaw       Cash\n",
       "Yangon       Ewallet\n",
       "dtype: object"
      ]
     },
     "execution_count": 185,
     "metadata": {},
     "output_type": "execute_result"
    }
   ],
   "source": [
    "# code here\n",
    "supermarket.pivot_table( \n",
    "    index = 'payment', \n",
    "    columns = 'city', \n",
    "    values = 'rating', \n",
    "    aggfunc = 'count' \n",
    ").idxmax() "
   ]
  },
  {
   "cell_type": "markdown",
   "id": "681aaf44",
   "metadata": {},
   "source": [
    "> **📈 Insight:** ..."
   ]
  }
 ],
 "metadata": {
  "interpreter": {
   "hash": "a8343b732dd7e92a09169d6c428688afa52d864319dbacc840304350021ce15e"
  },
  "kernelspec": {
   "display_name": "Python [conda env:qoppa_da]",
   "language": "python",
   "name": "python3"
  },
  "language_info": {
   "codemirror_mode": {
    "name": "ipython",
    "version": 3
   },
   "file_extension": ".py",
   "mimetype": "text/x-python",
   "name": "python",
   "nbconvert_exporter": "python",
   "pygments_lexer": "ipython3",
   "version": "3.8.10"
  },
  "toc": {
   "base_numbering": 1,
   "nav_menu": {},
   "number_sections": false,
   "sideBar": true,
   "skip_h1_title": false,
   "title_cell": "Table of Contents",
   "title_sidebar": "Contents",
   "toc_cell": false,
   "toc_position": {},
   "toc_section_display": true,
   "toc_window_display": false
  },
  "varInspector": {
   "cols": {
    "lenName": 16,
    "lenType": 16,
    "lenVar": 40
   },
   "kernels_config": {
    "python": {
     "delete_cmd_postfix": "",
     "delete_cmd_prefix": "del ",
     "library": "var_list.py",
     "varRefreshCmd": "print(var_dic_list())"
    },
    "r": {
     "delete_cmd_postfix": ") ",
     "delete_cmd_prefix": "rm(",
     "library": "var_list.r",
     "varRefreshCmd": "cat(var_dic_list()) "
    }
   },
   "types_to_exclude": [
    "module",
    "function",
    "builtin_function_or_method",
    "instance",
    "_Feature"
   ],
   "window_display": false
  }
 },
 "nbformat": 4,
 "nbformat_minor": 5
}
