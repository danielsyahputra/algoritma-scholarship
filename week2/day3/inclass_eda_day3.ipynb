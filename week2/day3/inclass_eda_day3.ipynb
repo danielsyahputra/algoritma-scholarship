{
 "cells": [
  {
   "cell_type": "markdown",
   "metadata": {},
   "source": [
    "**Inclass material for Week 2: Exploratory Data Analysis**\n",
    "\n",
    "This notebook was made based on main materials `2_Exploratory_Data_Analysis.ipynb`\n",
    "\n",
    "Version: Qoppa - December 2021"
   ]
  },
  {
   "cell_type": "markdown",
   "metadata": {},
   "source": [
    "___"
   ]
  },
  {
   "cell_type": "markdown",
   "metadata": {},
   "source": [
    "# Exploratory Data Analysis (EDA)"
   ]
  },
  {
   "cell_type": "markdown",
   "metadata": {},
   "source": [
    "## Training Objectives"
   ]
  },
  {
   "cell_type": "markdown",
   "metadata": {},
   "source": [
    "The coursebook focuses on:\n",
    "- Why and What: Exploratory Data Analysis\n",
    "- Date Time objects\n",
    "- Categorical data types\n",
    "- Cross Tabulation and Pivot Table\n",
    "- Treating Duplicates and Missing Values "
   ]
  },
  {
   "cell_type": "markdown",
   "metadata": {},
   "source": [
    "## Apa itu EDA?"
   ]
  },
  {
   "cell_type": "markdown",
   "metadata": {},
   "source": [
    "Exploratory Data Analysis (EDA) adalah suatu proses untuk melakukan eksplorasi lebih jauh terhadap data, seperti:\n",
    "\n",
    "- melihat struktur data, \n",
    "- melihat sebaran data,\n",
    "- menyesuaikan bentuk tipe data untuk analisis lebih lanjut.\n",
    "\n",
    "Ini juga dapat membantu menentukan apakah teknik statistik yang Anda pertimbangkan untuk analisis data sudah sesuai. Awalnya dikembangkan oleh matematikawan Amerika John Tukey pada 1970-an, teknik EDA terus menjadi metode yang banyak digunakan dalam proses penemuan data saat ini."
   ]
  },
  {
   "cell_type": "markdown",
   "metadata": {},
   "source": [
    "## Mengapa EDA penting?"
   ]
  },
  {
   "cell_type": "markdown",
   "metadata": {},
   "source": [
    "Tujuan utama EDA adalah untuk membantu melihat data sebelum membuat asumsi apa pun.\n",
    "\n",
    "- Ini dapat membantu mengidentifikasi kesalahan yang jelas,\n",
    "- serta lebih memahami pola dalam data,\n",
    "- mendeteksi outlier atau kejadian anomali,\n",
    "- menemukan hubungan yang menarik antara variabel.\n",
    "\n",
    "Ilmuwan data dan Analis Data dapat menggunakan analisis eksplorasi untuk:\n",
    "\n",
    "- memastikan hasil valid dan berlaku untuk tujuan bisnis yang diinginkan,\n",
    "- membantu pemangku kepentingan mengambil keputusan yang tepat,\n",
    "- pengetahuan dari EDA dapat digunakan untuk analisis lanjut, misalnya pemodelan machine learning."
   ]
  },
  {
   "cell_type": "markdown",
   "metadata": {},
   "source": [
    "## Tools EDA"
   ]
  },
  {
   "cell_type": "markdown",
   "metadata": {},
   "source": [
    "Pada course sebelumnya, kami memiliki beberapa teknik umum:\n",
    "\n",
    "- `.head()` dan `.tail()` --> inspeksi data\n",
    "- `.describe()` --> mendeskripsikan data secara statistik\n",
    "- `.shape` dan `.size` --> dimensi data\n",
    "- `.axes` --> label index kolom dan baris\n",
    "- `.dtypes` --> cek tipe data\n",
    "\n",
    "Dalam course ini, kita akan memperluas pemahaman EDA dengan teknik berikut:\n",
    "\n",
    "- Tables\n",
    "- Cross-table and aggregates\n",
    "- Pivot Tables"
   ]
  },
  {
   "cell_type": "markdown",
   "metadata": {},
   "source": [
    "## Problem Statement\n",
    "\n",
    "🔻 Anda merupakan seorang analis data yang bekerja di sebuah perusahaan retail. Anda diminta untuk melakukan eksplorasi terhadap data transaksi hingga mendapatkan insight-insight bisnis yang dapat Anda ceritakan kepada rekan atau atasan Anda."
   ]
  },
  {
   "cell_type": "markdown",
   "metadata": {},
   "source": [
    "___"
   ]
  },
  {
   "cell_type": "markdown",
   "metadata": {},
   "source": [
    "# Data Preparation"
   ]
  },
  {
   "cell_type": "markdown",
   "metadata": {},
   "source": [
    "## Load Data"
   ]
  },
  {
   "cell_type": "markdown",
   "metadata": {},
   "source": [
    "🔻 Data transaksi terletak di dalam folder `data_input` dengan nama **`household.csv`**. Dengan bantuan library `pandas` bacalah data tersebut."
   ]
  },
  {
   "cell_type": "code",
   "execution_count": 317,
   "metadata": {},
   "outputs": [],
   "source": [
    "import pandas as pd\n",
    "\n",
    "# mengatur tampilan float pada dataframe\n",
    "# , -> pemisah ribuan\n",
    "# .2f -> dua angka di belakang koma\n",
    "pd.options.display.float_format = '{:,.2f}'.format"
   ]
  },
  {
   "cell_type": "code",
   "execution_count": 318,
   "metadata": {},
   "outputs": [],
   "source": [
    "# code here\n",
    "household = pd.read_csv('../material_2_eda-main/data_input/household.csv')"
   ]
  },
  {
   "cell_type": "code",
   "execution_count": 319,
   "metadata": {},
   "outputs": [
    {
     "data": {
      "text/html": [
       "<div>\n",
       "<style scoped>\n",
       "    .dataframe tbody tr th:only-of-type {\n",
       "        vertical-align: middle;\n",
       "    }\n",
       "\n",
       "    .dataframe tbody tr th {\n",
       "        vertical-align: top;\n",
       "    }\n",
       "\n",
       "    .dataframe thead th {\n",
       "        text-align: right;\n",
       "    }\n",
       "</style>\n",
       "<table border=\"1\" class=\"dataframe\">\n",
       "  <thead>\n",
       "    <tr style=\"text-align: right;\">\n",
       "      <th></th>\n",
       "      <th>receipt_id</th>\n",
       "      <th>receipts_item_id</th>\n",
       "      <th>purchase_time</th>\n",
       "      <th>category</th>\n",
       "      <th>sub_category</th>\n",
       "      <th>format</th>\n",
       "      <th>unit_price</th>\n",
       "      <th>discount</th>\n",
       "      <th>quantity</th>\n",
       "      <th>yearmonth</th>\n",
       "    </tr>\n",
       "  </thead>\n",
       "  <tbody>\n",
       "    <tr>\n",
       "      <th>0</th>\n",
       "      <td>9622257</td>\n",
       "      <td>32369294</td>\n",
       "      <td>7/22/2018 21:19</td>\n",
       "      <td>Rice</td>\n",
       "      <td>Rice</td>\n",
       "      <td>supermarket</td>\n",
       "      <td>128,000.00</td>\n",
       "      <td>0</td>\n",
       "      <td>1</td>\n",
       "      <td>2018-07</td>\n",
       "    </tr>\n",
       "    <tr>\n",
       "      <th>1</th>\n",
       "      <td>9446359</td>\n",
       "      <td>31885876</td>\n",
       "      <td>7/15/2018 16:17</td>\n",
       "      <td>Rice</td>\n",
       "      <td>Rice</td>\n",
       "      <td>minimarket</td>\n",
       "      <td>102,750.00</td>\n",
       "      <td>0</td>\n",
       "      <td>1</td>\n",
       "      <td>2018-07</td>\n",
       "    </tr>\n",
       "    <tr>\n",
       "      <th>2</th>\n",
       "      <td>9470290</td>\n",
       "      <td>31930241</td>\n",
       "      <td>7/15/2018 12:12</td>\n",
       "      <td>Rice</td>\n",
       "      <td>Rice</td>\n",
       "      <td>supermarket</td>\n",
       "      <td>64,000.00</td>\n",
       "      <td>0</td>\n",
       "      <td>3</td>\n",
       "      <td>2018-07</td>\n",
       "    </tr>\n",
       "    <tr>\n",
       "      <th>3</th>\n",
       "      <td>9643416</td>\n",
       "      <td>32418582</td>\n",
       "      <td>7/24/2018 8:27</td>\n",
       "      <td>Rice</td>\n",
       "      <td>Rice</td>\n",
       "      <td>minimarket</td>\n",
       "      <td>65,000.00</td>\n",
       "      <td>0</td>\n",
       "      <td>1</td>\n",
       "      <td>2018-07</td>\n",
       "    </tr>\n",
       "    <tr>\n",
       "      <th>4</th>\n",
       "      <td>9692093</td>\n",
       "      <td>32561236</td>\n",
       "      <td>7/26/2018 11:28</td>\n",
       "      <td>Rice</td>\n",
       "      <td>Rice</td>\n",
       "      <td>supermarket</td>\n",
       "      <td>124,500.00</td>\n",
       "      <td>0</td>\n",
       "      <td>1</td>\n",
       "      <td>2018-07</td>\n",
       "    </tr>\n",
       "  </tbody>\n",
       "</table>\n",
       "</div>"
      ],
      "text/plain": [
       "   receipt_id  receipts_item_id    purchase_time category sub_category  \\\n",
       "0     9622257          32369294  7/22/2018 21:19     Rice         Rice   \n",
       "1     9446359          31885876  7/15/2018 16:17     Rice         Rice   \n",
       "2     9470290          31930241  7/15/2018 12:12     Rice         Rice   \n",
       "3     9643416          32418582   7/24/2018 8:27     Rice         Rice   \n",
       "4     9692093          32561236  7/26/2018 11:28     Rice         Rice   \n",
       "\n",
       "        format  unit_price  discount  quantity yearmonth  \n",
       "0  supermarket  128,000.00         0         1   2018-07  \n",
       "1   minimarket  102,750.00         0         1   2018-07  \n",
       "2  supermarket   64,000.00         0         3   2018-07  \n",
       "3   minimarket   65,000.00         0         1   2018-07  \n",
       "4  supermarket  124,500.00         0         1   2018-07  "
      ]
     },
     "execution_count": 319,
     "metadata": {},
     "output_type": "execute_result"
    }
   ],
   "source": [
    "household.head()"
   ]
  },
  {
   "cell_type": "markdown",
   "metadata": {},
   "source": [
    "## Data Description"
   ]
  },
  {
   "cell_type": "markdown",
   "metadata": {},
   "source": [
    "Dataset ini merupakan data transaksi pembelian barang kebutuhan rumah tangga. Informasi kolom:\n",
    "\n",
    "- `receipt_id`: Unique buyer ID\n",
    "- `receipts_item_id` : Unique transaction ID\n",
    "- `purchase_time` : Waktu melakukan pembelian\n",
    "- `category` : Kategori item\n",
    "- `sub_category` : Sub-kategori item\n",
    "- `format` : Jenis pasar tempat membeli barang (supermarket', 'minimarket', 'hypermarket')\n",
    "- `unit_price` : Harga per unit\n",
    "- `diskon` : Diskon\n",
    "- `quantity` : Jumlah barang yang dibeli\n",
    "- `yearmonth` : Informasi tahun dan bulan"
   ]
  },
  {
   "cell_type": "markdown",
   "metadata": {},
   "source": [
    "🔻 Lakukan investigasi awal untuk melihat struktur data terhadap object DataFrame dengan menggunakan method `.info()`"
   ]
  },
  {
   "cell_type": "code",
   "execution_count": 320,
   "metadata": {},
   "outputs": [
    {
     "name": "stdout",
     "output_type": "stream",
     "text": [
      "<class 'pandas.core.frame.DataFrame'>\n",
      "RangeIndex: 72000 entries, 0 to 71999\n",
      "Data columns (total 10 columns):\n",
      " #   Column            Non-Null Count  Dtype  \n",
      "---  ------            --------------  -----  \n",
      " 0   receipt_id        72000 non-null  int64  \n",
      " 1   receipts_item_id  72000 non-null  int64  \n",
      " 2   purchase_time     72000 non-null  object \n",
      " 3   category          72000 non-null  object \n",
      " 4   sub_category      72000 non-null  object \n",
      " 5   format            72000 non-null  object \n",
      " 6   unit_price        72000 non-null  float64\n",
      " 7   discount          72000 non-null  int64  \n",
      " 8   quantity          72000 non-null  int64  \n",
      " 9   yearmonth         72000 non-null  object \n",
      "dtypes: float64(1), int64(4), object(5)\n",
      "memory usage: 5.5+ MB\n"
     ]
    }
   ],
   "source": [
    "household.info()"
   ]
  },
  {
   "cell_type": "markdown",
   "metadata": {},
   "source": [
    "💡 Dengan menggunakan method `.info()`, kita dapat memeriksa **informasi** lengkap dari DataFrame kita:\n",
    "\n",
    "- Dimensi data: jumlah baris dan kolom (`.shape`)\n",
    "- Nama kolom dan jumlah nilai bukan nol (`.columns`)\n",
    "- Tipe data setiap kolom (`.dtypes`)\n",
    "- Penggunaan memori"
   ]
  },
  {
   "cell_type": "markdown",
   "metadata": {},
   "source": [
    "# Data Pre-processing and Feature Engineering"
   ]
  },
  {
   "cell_type": "markdown",
   "metadata": {},
   "source": [
    "## Working with Datetime"
   ]
  },
  {
   "cell_type": "markdown",
   "metadata": {},
   "source": [
    "🔻 Tahap selanjutnya anda perlu menyesuaikan tipe data untuk dapat melakukan proses analisis lanjutan"
   ]
  },
  {
   "cell_type": "markdown",
   "metadata": {},
   "source": [
    "Beberapa column yang perlu diganti:\n",
    "\n",
    "- `purchase_time` tipenya `datetime64`\n",
    "- `category` tipenya `category`\n",
    "- `sub_category` tipenya `category`\n",
    "- `format` tipenya `category`\n",
    "- `yearmonth` tipenya `category`"
   ]
  },
  {
   "cell_type": "code",
   "execution_count": 321,
   "metadata": {},
   "outputs": [],
   "source": [
    "# code here\n",
    "# household[\"purchase_time\"] = household[\"purchase_time\"].astype(\"datetime64\")\n",
    "household[[\"category\", \"sub_category\", \"format\", \"yearmonth\"]] = household[[\"category\", \"sub_category\", \"format\", \"yearmonth\"]].astype(\"category\")"
   ]
  },
  {
   "cell_type": "markdown",
   "metadata": {},
   "source": [
    "**❓ Kolom manakah yang seharusnya memiliki format tipe data date time?**\n",
    "\n",
    "> Jawaban: `purchase_time`"
   ]
  },
  {
   "cell_type": "code",
   "execution_count": 322,
   "metadata": {},
   "outputs": [
    {
     "name": "stdout",
     "output_type": "stream",
     "text": [
      "<class 'pandas.core.frame.DataFrame'>\n",
      "RangeIndex: 72000 entries, 0 to 71999\n",
      "Data columns (total 10 columns):\n",
      " #   Column            Non-Null Count  Dtype   \n",
      "---  ------            --------------  -----   \n",
      " 0   receipt_id        72000 non-null  int64   \n",
      " 1   receipts_item_id  72000 non-null  int64   \n",
      " 2   purchase_time     72000 non-null  object  \n",
      " 3   category          72000 non-null  category\n",
      " 4   sub_category      72000 non-null  category\n",
      " 5   format            72000 non-null  category\n",
      " 6   unit_price        72000 non-null  float64 \n",
      " 7   discount          72000 non-null  int64   \n",
      " 8   quantity          72000 non-null  int64   \n",
      " 9   yearmonth         72000 non-null  category\n",
      "dtypes: category(4), float64(1), int64(4), object(1)\n",
      "memory usage: 3.6+ MB\n"
     ]
    }
   ],
   "source": [
    "household.info()"
   ]
  },
  {
   "cell_type": "markdown",
   "metadata": {},
   "source": [
    "### Convert to Datetime"
   ]
  },
  {
   "cell_type": "markdown",
   "metadata": {},
   "source": [
    "Ada tiga cara untuk mengubah sebuah kolom menjadi tipe data `datetime64`:\n",
    "\n",
    "- Method **`.astype()`**\n",
    "- Parameter **`parse_dates`** dalam `pd.read_csv()`\n",
    "- Method **`pd.to_datetime()`**"
   ]
  },
  {
   "cell_type": "markdown",
   "metadata": {},
   "source": [
    "#### 1️⃣ Method `.astype()`"
   ]
  },
  {
   "cell_type": "markdown",
   "metadata": {},
   "source": [
    "🔻 Mari kita buat salinan `household` agar data aslinya tetap tidak berubah."
   ]
  },
  {
   "cell_type": "code",
   "execution_count": 323,
   "metadata": {},
   "outputs": [],
   "source": [
    "df_1 = household.copy()"
   ]
  },
  {
   "cell_type": "markdown",
   "metadata": {},
   "source": [
    "Ubah menggunakan `.astype()`"
   ]
  },
  {
   "cell_type": "code",
   "execution_count": 324,
   "metadata": {},
   "outputs": [],
   "source": [
    "# code here\n",
    "df_1[\"purchase_time\"] = df_1[\"purchase_time\"].astype(\"datetime64\")"
   ]
  },
  {
   "cell_type": "markdown",
   "metadata": {},
   "source": [
    "⚠️**Warning**: Jangan lupa untuk melakukan assignment hasilnya ke kolom aslinya."
   ]
  },
  {
   "cell_type": "markdown",
   "metadata": {},
   "source": [
    "#### 2️⃣ Parameter `parse_dates`"
   ]
  },
  {
   "cell_type": "markdown",
   "metadata": {},
   "source": [
    "Digunakan ketika ***read*** data, dengan asumsi kita sudah tahu kolom mana yang seharusnya `datetime64`."
   ]
  },
  {
   "cell_type": "code",
   "execution_count": 325,
   "metadata": {},
   "outputs": [],
   "source": [
    "df_2 = pd.read_csv('../material_2_eda-main/data_input/household.csv', parse_dates=[\"purchase_time\"])"
   ]
  },
  {
   "cell_type": "code",
   "execution_count": 326,
   "metadata": {},
   "outputs": [
    {
     "data": {
      "text/plain": [
       "receipt_id                   int64\n",
       "receipts_item_id             int64\n",
       "purchase_time       datetime64[ns]\n",
       "category                    object\n",
       "sub_category                object\n",
       "format                      object\n",
       "unit_price                 float64\n",
       "discount                     int64\n",
       "quantity                     int64\n",
       "yearmonth                   object\n",
       "dtype: object"
      ]
     },
     "execution_count": 326,
     "metadata": {},
     "output_type": "execute_result"
    }
   ],
   "source": [
    "df_2.dtypes"
   ]
  },
  {
   "cell_type": "markdown",
   "metadata": {},
   "source": [
    "#### 3️⃣ Method `pd.to_datetime()`"
   ]
  },
  {
   "cell_type": "code",
   "execution_count": 327,
   "metadata": {},
   "outputs": [
    {
     "data": {
      "text/plain": [
       "receipt_id             int64\n",
       "receipts_item_id       int64\n",
       "purchase_time         object\n",
       "category            category\n",
       "sub_category        category\n",
       "format              category\n",
       "unit_price           float64\n",
       "discount               int64\n",
       "quantity               int64\n",
       "yearmonth           category\n",
       "dtype: object"
      ]
     },
     "execution_count": 327,
     "metadata": {},
     "output_type": "execute_result"
    }
   ],
   "source": [
    "df_3 = household.copy()\n",
    "df_3.dtypes"
   ]
  },
  {
   "cell_type": "markdown",
   "metadata": {},
   "source": [
    "Ubah menggunakan method `pd.to_datetime()`"
   ]
  },
  {
   "cell_type": "code",
   "execution_count": 328,
   "metadata": {},
   "outputs": [],
   "source": [
    "df_3[\"purchase_time\"] = pd.to_datetime(df_3[\"purchase_time\"])"
   ]
  },
  {
   "cell_type": "code",
   "execution_count": 329,
   "metadata": {},
   "outputs": [
    {
     "data": {
      "text/plain": [
       "receipt_id                   int64\n",
       "receipts_item_id             int64\n",
       "purchase_time       datetime64[ns]\n",
       "category                  category\n",
       "sub_category              category\n",
       "format                    category\n",
       "unit_price                 float64\n",
       "discount                     int64\n",
       "quantity                     int64\n",
       "yearmonth                 category\n",
       "dtype: object"
      ]
     },
     "execution_count": 329,
     "metadata": {},
     "output_type": "execute_result"
    }
   ],
   "source": [
    "df_3.dtypes"
   ]
  },
  {
   "cell_type": "markdown",
   "metadata": {},
   "source": [
    "💬 **Diskusi**: Jadi, apa yang membedakan `.astype()` dengan `pd.to_datetime()`?\n",
    "\n",
    "Pada `pd.to_datetime()` terdapat lebih banyak **parameter** yang dapat digunakan dalam mengatur pengkonversian sebuah kolom menjadi datetime. Dengan demikian, `pd.to_datetime()` lebih memberikan **fleksibilitas** daripada `.astype()`."
   ]
  },
  {
   "cell_type": "markdown",
   "metadata": {},
   "source": [
    "Misalkan kita memiliki kolom yang menyimpan data penjualan harian dari **akhir Januari hingga awal Februari**"
   ]
  },
  {
   "cell_type": "code",
   "execution_count": 330,
   "metadata": {},
   "outputs": [
    {
     "data": {
      "text/plain": [
       "0    30-Jan-2021\n",
       "1     31/01/2021\n",
       "2     01-02-2021\n",
       "3       02-02-21\n",
       "dtype: object"
      ]
     },
     "execution_count": 330,
     "metadata": {},
     "output_type": "execute_result"
    }
   ],
   "source": [
    "sales_date = pd.Series(['30-Jan-2021', '31/01/2021', '01-02-2021', '02-02-21'])\n",
    "sales_date"
   ]
  },
  {
   "cell_type": "markdown",
   "metadata": {},
   "source": [
    "Contoh di atas menunjukkan bagaimana orang Indonesia biasanya menulis tanggal, menggunakan format **tanggal-bulan-tahun**. Mari kita lihat apa yang akan terjadi ketika kita mengonversi tipe data `sales_date` menjadi `datetime64`:"
   ]
  },
  {
   "cell_type": "code",
   "execution_count": 331,
   "metadata": {},
   "outputs": [
    {
     "data": {
      "text/plain": [
       "0   2021-01-30\n",
       "1   2021-01-31\n",
       "2   2021-01-02\n",
       "3   2021-02-02\n",
       "dtype: datetime64[ns]"
      ]
     },
     "execution_count": 331,
     "metadata": {},
     "output_type": "execute_result"
    }
   ],
   "source": [
    "# code here\n",
    "sales_date.astype(\"datetime64\")"
   ]
  },
  {
   "cell_type": "markdown",
   "metadata": {},
   "source": [
    "⚠️ **Warning**: Untuk tanggal dengan beberapa representasi, `pandas` secara default akan menyimpulkannya **bulan** sebagai urutan pertama."
   ]
  },
  {
   "cell_type": "markdown",
   "metadata": {},
   "source": [
    "#### Parameter `dayfirst`\n",
    "\n",
    "Solusi: Menggunakan parameter `dayfirst=True` untuk memberitahu bahwa `sales_date` diawali dengan hari, bukan bulan."
   ]
  },
  {
   "cell_type": "code",
   "execution_count": 332,
   "metadata": {},
   "outputs": [],
   "source": [
    "sales_date = pd.to_datetime(sales_date, dayfirst=True)"
   ]
  },
  {
   "cell_type": "markdown",
   "metadata": {},
   "source": [
    "**📝 Optional**\n",
    "\n",
    "Cara mengubah representasi kolom `datetime64` dari yyyy-mm-dd menjadi format lain\n",
    "\n",
    "> Sebuah kolom `datetime64` memiliki method `.dt.strftime()` (string format time) untuk mengubah `datetime64` menjadi string. \n",
    "[Dokumentasi format strftime](https://strftime.org/)."
   ]
  },
  {
   "cell_type": "code",
   "execution_count": 333,
   "metadata": {},
   "outputs": [
    {
     "data": {
      "text/plain": [
       "0     30 January 2021\n",
       "1     31 January 2021\n",
       "2    01 February 2021\n",
       "3    02 February 2021\n",
       "dtype: object"
      ]
     },
     "execution_count": 333,
     "metadata": {},
     "output_type": "execute_result"
    }
   ],
   "source": [
    "sales_date.dt.strftime('%d %B %Y')"
   ]
  },
  {
   "cell_type": "markdown",
   "metadata": {},
   "source": [
    "**✏️ Quick Summary:**\n",
    "\n",
    "Kapan waktu yang tepat untuk menggunakan 3 cara tersebut?\n",
    "\n",
    "- `.astype('datetime64')`: ketika tidak ada lagi parameter yang ingin digunakan, atau data dengan format tanggalnya berupa bulan-tanggal-tahun\n",
    "- `pd.to_datetime()`: ketika ada parameter yang ingin kita tambahkan, atau yang format tanggalnya adalah **selain** bulan-tanggal-tahun\n",
    "- `parse_dates=['kolom']`: merupakan parameter `pd.read_csv()`, digunakan ketika kita sudah kenal atau terbiasa dengan data kita dan tahu kolom mana yang ingin diubah menjadi `datetime64`"
   ]
  },
  {
   "cell_type": "markdown",
   "metadata": {},
   "source": [
    "___"
   ]
  },
  {
   "cell_type": "markdown",
   "metadata": {},
   "source": [
    "### Object Datetime Partition"
   ]
  },
  {
   "cell_type": "markdown",
   "metadata": {},
   "source": [
    "Ketika sebuah kolom sudah menjadi `datetime64`, kita dapat melakukan partisi untuk menggali informasi yang lebih spesifik seperti tahun, bulan, hari, dan jam.\n",
    "\n",
    "**Date component (numeric)**\n",
    "- `.dt.year` -> partisi tahun\n",
    "- `.dt.month` -> partisi bulan (angka)\n",
    "- `.dt.day` -> partisi day/tanggal (dalam angka)\n",
    "- `.dt.dayofweek`\n",
    "\n",
    "**Date component (string)**\n",
    "- `.dt.month_name()`-> partisi bulan (nama)\n",
    "- `.dt.day_name()`-> partisi hari (nama)\n",
    "\n",
    "**Time component**\n",
    "- `.dt.hour` -> partisi jam\n",
    "- `.dt.minute` -> partisi menit\n",
    "- `.dt.second` -> partisi detik\n",
    "\n",
    "[Dokumentasi: datetime properties](https://pandas.pydata.org/pandas-docs/stable/reference/series.html#datetimelike-properties)"
   ]
  },
  {
   "cell_type": "markdown",
   "metadata": {},
   "source": [
    "**🔻 Namun pertama-tama mari kita ubah kolom `purchase_time` menjadi `datetime64`**"
   ]
  },
  {
   "cell_type": "code",
   "execution_count": 334,
   "metadata": {},
   "outputs": [],
   "source": [
    "# code here\n",
    "household[\"purchase_time\"] = pd.to_datetime(household[\"purchase_time\"])"
   ]
  },
  {
   "cell_type": "code",
   "execution_count": 335,
   "metadata": {},
   "outputs": [
    {
     "data": {
      "text/html": [
       "<div>\n",
       "<style scoped>\n",
       "    .dataframe tbody tr th:only-of-type {\n",
       "        vertical-align: middle;\n",
       "    }\n",
       "\n",
       "    .dataframe tbody tr th {\n",
       "        vertical-align: top;\n",
       "    }\n",
       "\n",
       "    .dataframe thead th {\n",
       "        text-align: right;\n",
       "    }\n",
       "</style>\n",
       "<table border=\"1\" class=\"dataframe\">\n",
       "  <thead>\n",
       "    <tr style=\"text-align: right;\">\n",
       "      <th></th>\n",
       "      <th>receipt_id</th>\n",
       "      <th>receipts_item_id</th>\n",
       "      <th>purchase_time</th>\n",
       "      <th>category</th>\n",
       "      <th>sub_category</th>\n",
       "      <th>format</th>\n",
       "      <th>unit_price</th>\n",
       "      <th>discount</th>\n",
       "      <th>quantity</th>\n",
       "      <th>yearmonth</th>\n",
       "    </tr>\n",
       "  </thead>\n",
       "  <tbody>\n",
       "    <tr>\n",
       "      <th>0</th>\n",
       "      <td>9622257</td>\n",
       "      <td>32369294</td>\n",
       "      <td>2018-07-22 21:19:00</td>\n",
       "      <td>Rice</td>\n",
       "      <td>Rice</td>\n",
       "      <td>supermarket</td>\n",
       "      <td>128,000.00</td>\n",
       "      <td>0</td>\n",
       "      <td>1</td>\n",
       "      <td>2018-07</td>\n",
       "    </tr>\n",
       "    <tr>\n",
       "      <th>1</th>\n",
       "      <td>9446359</td>\n",
       "      <td>31885876</td>\n",
       "      <td>2018-07-15 16:17:00</td>\n",
       "      <td>Rice</td>\n",
       "      <td>Rice</td>\n",
       "      <td>minimarket</td>\n",
       "      <td>102,750.00</td>\n",
       "      <td>0</td>\n",
       "      <td>1</td>\n",
       "      <td>2018-07</td>\n",
       "    </tr>\n",
       "    <tr>\n",
       "      <th>2</th>\n",
       "      <td>9470290</td>\n",
       "      <td>31930241</td>\n",
       "      <td>2018-07-15 12:12:00</td>\n",
       "      <td>Rice</td>\n",
       "      <td>Rice</td>\n",
       "      <td>supermarket</td>\n",
       "      <td>64,000.00</td>\n",
       "      <td>0</td>\n",
       "      <td>3</td>\n",
       "      <td>2018-07</td>\n",
       "    </tr>\n",
       "    <tr>\n",
       "      <th>3</th>\n",
       "      <td>9643416</td>\n",
       "      <td>32418582</td>\n",
       "      <td>2018-07-24 08:27:00</td>\n",
       "      <td>Rice</td>\n",
       "      <td>Rice</td>\n",
       "      <td>minimarket</td>\n",
       "      <td>65,000.00</td>\n",
       "      <td>0</td>\n",
       "      <td>1</td>\n",
       "      <td>2018-07</td>\n",
       "    </tr>\n",
       "    <tr>\n",
       "      <th>4</th>\n",
       "      <td>9692093</td>\n",
       "      <td>32561236</td>\n",
       "      <td>2018-07-26 11:28:00</td>\n",
       "      <td>Rice</td>\n",
       "      <td>Rice</td>\n",
       "      <td>supermarket</td>\n",
       "      <td>124,500.00</td>\n",
       "      <td>0</td>\n",
       "      <td>1</td>\n",
       "      <td>2018-07</td>\n",
       "    </tr>\n",
       "  </tbody>\n",
       "</table>\n",
       "</div>"
      ],
      "text/plain": [
       "   receipt_id  receipts_item_id       purchase_time category sub_category  \\\n",
       "0     9622257          32369294 2018-07-22 21:19:00     Rice         Rice   \n",
       "1     9446359          31885876 2018-07-15 16:17:00     Rice         Rice   \n",
       "2     9470290          31930241 2018-07-15 12:12:00     Rice         Rice   \n",
       "3     9643416          32418582 2018-07-24 08:27:00     Rice         Rice   \n",
       "4     9692093          32561236 2018-07-26 11:28:00     Rice         Rice   \n",
       "\n",
       "        format  unit_price  discount  quantity yearmonth  \n",
       "0  supermarket  128,000.00         0         1   2018-07  \n",
       "1   minimarket  102,750.00         0         1   2018-07  \n",
       "2  supermarket   64,000.00         0         3   2018-07  \n",
       "3   minimarket   65,000.00         0         1   2018-07  \n",
       "4  supermarket  124,500.00         0         1   2018-07  "
      ]
     },
     "execution_count": 335,
     "metadata": {},
     "output_type": "execute_result"
    }
   ],
   "source": [
    "household.head()"
   ]
  },
  {
   "cell_type": "markdown",
   "metadata": {},
   "source": [
    "**📆 Attribute pada `.dt`**\n",
    "\n",
    "Untuk mengekstrak komponen datetime dalam nilai numerik, kita dapat menggunakan **atribut**"
   ]
  },
  {
   "cell_type": "code",
   "execution_count": 336,
   "metadata": {},
   "outputs": [
    {
     "data": {
      "text/plain": [
       "0        2018\n",
       "1        2018\n",
       "2        2018\n",
       "3        2018\n",
       "4        2018\n",
       "         ... \n",
       "71995    2017\n",
       "71996    2017\n",
       "71997    2017\n",
       "71998    2017\n",
       "71999    2017\n",
       "Name: purchase_time, Length: 72000, dtype: int64"
      ]
     },
     "execution_count": 336,
     "metadata": {},
     "output_type": "execute_result"
    }
   ],
   "source": [
    "# contoh: ekstrak tahun dari purchase_time\n",
    "household[\"purchase_time\"].dt.year"
   ]
  },
  {
   "cell_type": "code",
   "execution_count": 337,
   "metadata": {},
   "outputs": [
    {
     "data": {
      "text/plain": [
       "0        21\n",
       "1        16\n",
       "2        12\n",
       "3         8\n",
       "4        11\n",
       "         ..\n",
       "71995     9\n",
       "71996    19\n",
       "71997     8\n",
       "71998    12\n",
       "71999    18\n",
       "Name: purchase_time, Length: 72000, dtype: int64"
      ]
     },
     "execution_count": 337,
     "metadata": {},
     "output_type": "execute_result"
    }
   ],
   "source": [
    "# contoh: ekstrak jam dari purchase_time\n",
    "household['purchase_time'].dt.hour"
   ]
  },
  {
   "cell_type": "markdown",
   "metadata": {},
   "source": [
    "**Partisi `dt.dayofweek`**\n",
    "\n",
    "Ekstrak index hari dalam seminggu ( nilainya 0-6 )\n",
    "\n",
    "- 0 menunjukkan hari Senin\n",
    "- 6 menunjukkan hari Minggu"
   ]
  },
  {
   "cell_type": "code",
   "execution_count": 338,
   "metadata": {},
   "outputs": [
    {
     "data": {
      "text/plain": [
       "0        6\n",
       "1        6\n",
       "2        6\n",
       "3        1\n",
       "4        3\n",
       "        ..\n",
       "71995    2\n",
       "71996    2\n",
       "71997    2\n",
       "71998    3\n",
       "71999    1\n",
       "Name: purchase_time, Length: 72000, dtype: int64"
      ]
     },
     "execution_count": 338,
     "metadata": {},
     "output_type": "execute_result"
    }
   ],
   "source": [
    "household['purchase_time'].dt.dayofweek"
   ]
  },
  {
   "cell_type": "markdown",
   "metadata": {},
   "source": [
    "**📆 Method pada `.dt`**\n",
    "\n",
    "Untuk mengekstrak nama (teks) dari komponen datetime, kita dapat menggunakan **method** (dengan tanda kurung)"
   ]
  },
  {
   "cell_type": "code",
   "execution_count": 339,
   "metadata": {},
   "outputs": [
    {
     "data": {
      "text/plain": [
       "0           Sunday\n",
       "1           Sunday\n",
       "2           Sunday\n",
       "3          Tuesday\n",
       "4         Thursday\n",
       "           ...    \n",
       "71995    Wednesday\n",
       "71996    Wednesday\n",
       "71997    Wednesday\n",
       "71998     Thursday\n",
       "71999      Tuesday\n",
       "Name: purchase_time, Length: 72000, dtype: object"
      ]
     },
     "execution_count": 339,
     "metadata": {},
     "output_type": "execute_result"
    }
   ],
   "source": [
    "household['purchase_time'].dt.day_name()"
   ]
  },
  {
   "cell_type": "code",
   "execution_count": 340,
   "metadata": {},
   "outputs": [
    {
     "data": {
      "text/plain": [
       "0            July\n",
       "1            July\n",
       "2            July\n",
       "3            July\n",
       "4            July\n",
       "           ...   \n",
       "71995    December\n",
       "71996    December\n",
       "71997    December\n",
       "71998    December\n",
       "71999    December\n",
       "Name: purchase_time, Length: 72000, dtype: object"
      ]
     },
     "execution_count": 340,
     "metadata": {},
     "output_type": "execute_result"
    }
   ],
   "source": [
    "household['purchase_time'].dt.month_name()"
   ]
  },
  {
   "cell_type": "markdown",
   "metadata": {},
   "source": [
    "___"
   ]
  },
  {
   "cell_type": "markdown",
   "metadata": {},
   "source": [
    "### Object Datetime Transformation"
   ]
  },
  {
   "cell_type": "markdown",
   "metadata": {},
   "source": [
    "Selain digunakan untuk melakukan partisi, kita juga dapat melakukan transformasi object `datetime64` ke dalam format periode menggunakan syntax `to_period()`.\n",
    "\n",
    "- `.dt.to_period('D')` -> mengubah ke format **D**aily (tanggal lengkap)\n",
    "- `.dt.to_period('W')` -> mengubah ke format **W**eekly (awal dan akhir minggu)\n",
    "- `.dt.to_period('M')` -> mengubah ke format **M**onthly (year-month)\n",
    "- `.dt.to_period('Q')` -> mengubah ke format **Q**uarterly (year-quarter)"
   ]
  },
  {
   "cell_type": "code",
   "execution_count": 341,
   "metadata": {},
   "outputs": [
    {
     "data": {
      "text/plain": [
       "0        2018-07-22\n",
       "1        2018-07-15\n",
       "2        2018-07-15\n",
       "3        2018-07-24\n",
       "4        2018-07-26\n",
       "            ...    \n",
       "71995    2017-12-27\n",
       "71996    2017-12-13\n",
       "71997    2017-12-27\n",
       "71998    2017-12-07\n",
       "71999    2017-12-19\n",
       "Name: purchase_time, Length: 72000, dtype: period[D]"
      ]
     },
     "execution_count": 341,
     "metadata": {},
     "output_type": "execute_result"
    }
   ],
   "source": [
    "household[\"purchase_time\"].dt.to_period(\"D\")"
   ]
  },
  {
   "cell_type": "code",
   "execution_count": 342,
   "metadata": {},
   "outputs": [
    {
     "data": {
      "text/plain": [
       "0        2018-07-16/2018-07-22\n",
       "1        2018-07-09/2018-07-15\n",
       "2        2018-07-09/2018-07-15\n",
       "3        2018-07-23/2018-07-29\n",
       "4        2018-07-23/2018-07-29\n",
       "                 ...          \n",
       "71995    2017-12-25/2017-12-31\n",
       "71996    2017-12-11/2017-12-17\n",
       "71997    2017-12-25/2017-12-31\n",
       "71998    2017-12-04/2017-12-10\n",
       "71999    2017-12-18/2017-12-24\n",
       "Name: purchase_time, Length: 72000, dtype: period[W-SUN]"
      ]
     },
     "execution_count": 342,
     "metadata": {},
     "output_type": "execute_result"
    }
   ],
   "source": [
    "household[\"purchase_time\"].dt.to_period(\"W\")"
   ]
  },
  {
   "cell_type": "code",
   "execution_count": 343,
   "metadata": {},
   "outputs": [
    {
     "data": {
      "text/plain": [
       "0        2018-07\n",
       "1        2018-07\n",
       "2        2018-07\n",
       "3        2018-07\n",
       "4        2018-07\n",
       "          ...   \n",
       "71995    2017-12\n",
       "71996    2017-12\n",
       "71997    2017-12\n",
       "71998    2017-12\n",
       "71999    2017-12\n",
       "Name: purchase_time, Length: 72000, dtype: period[M]"
      ]
     },
     "execution_count": 343,
     "metadata": {},
     "output_type": "execute_result"
    }
   ],
   "source": [
    "household[\"purchase_time\"].dt.to_period(\"M\")"
   ]
  },
  {
   "cell_type": "markdown",
   "metadata": {},
   "source": [
    "___"
   ]
  },
  {
   "cell_type": "markdown",
   "metadata": {},
   "source": [
    "### Dive Deeper: Feature Engineering & Datetime data types\n",
    "_Est. Time required: 10 minutes_\n",
    "\n",
    "1. Pada cell di bawah ini, import kembali data `household.csv` dan simpan ke dalam variable bernama `household_new`\n",
    "2. Ubah `purchase_time` ke tipe data `datetime64`\n",
    "3. Dapatkan nama hari menggunakan perintah `x.dt.day_name()` dengan asumsi `x` adalah nama kolom datetime yang akan dipartisi. Simpan hasil partisi nama hari ke dalam kolom baru dengan nama `dayofweek`\n",
    "4. Cobalah recreate kolom `yearmonth` dengan menggunakan metode `.dt.` dari kolom `purchase_time`\n",
    "5. Tampilkan 5 data teratas untuk memastikan bahwa langkah yang dilakukan sudah tepat "
   ]
  },
  {
   "cell_type": "code",
   "execution_count": 344,
   "metadata": {},
   "outputs": [],
   "source": [
    "# code here\n",
    "household_new = pd.read_csv('../material_2_eda-main/data_input/household.csv', parse_dates=[\"purchase_time\"])"
   ]
  },
  {
   "cell_type": "code",
   "execution_count": 345,
   "metadata": {},
   "outputs": [
    {
     "data": {
      "text/plain": [
       "receipt_id                   int64\n",
       "receipts_item_id             int64\n",
       "purchase_time       datetime64[ns]\n",
       "category                    object\n",
       "sub_category                object\n",
       "format                      object\n",
       "unit_price                 float64\n",
       "discount                     int64\n",
       "quantity                     int64\n",
       "yearmonth                   object\n",
       "dtype: object"
      ]
     },
     "execution_count": 345,
     "metadata": {},
     "output_type": "execute_result"
    }
   ],
   "source": [
    "household_new.dtypes"
   ]
  },
  {
   "cell_type": "code",
   "execution_count": 346,
   "metadata": {},
   "outputs": [],
   "source": [
    "household_new[\"dayofweek\"] =  household_new[\"purchase_time\"].dt.day_name()"
   ]
  },
  {
   "cell_type": "code",
   "execution_count": 347,
   "metadata": {},
   "outputs": [
    {
     "data": {
      "text/html": [
       "<div>\n",
       "<style scoped>\n",
       "    .dataframe tbody tr th:only-of-type {\n",
       "        vertical-align: middle;\n",
       "    }\n",
       "\n",
       "    .dataframe tbody tr th {\n",
       "        vertical-align: top;\n",
       "    }\n",
       "\n",
       "    .dataframe thead th {\n",
       "        text-align: right;\n",
       "    }\n",
       "</style>\n",
       "<table border=\"1\" class=\"dataframe\">\n",
       "  <thead>\n",
       "    <tr style=\"text-align: right;\">\n",
       "      <th></th>\n",
       "      <th>receipt_id</th>\n",
       "      <th>receipts_item_id</th>\n",
       "      <th>purchase_time</th>\n",
       "      <th>category</th>\n",
       "      <th>sub_category</th>\n",
       "      <th>format</th>\n",
       "      <th>unit_price</th>\n",
       "      <th>discount</th>\n",
       "      <th>quantity</th>\n",
       "      <th>yearmonth</th>\n",
       "      <th>dayofweek</th>\n",
       "    </tr>\n",
       "  </thead>\n",
       "  <tbody>\n",
       "    <tr>\n",
       "      <th>0</th>\n",
       "      <td>9622257</td>\n",
       "      <td>32369294</td>\n",
       "      <td>2018-07-22 21:19:00</td>\n",
       "      <td>Rice</td>\n",
       "      <td>Rice</td>\n",
       "      <td>supermarket</td>\n",
       "      <td>128,000.00</td>\n",
       "      <td>0</td>\n",
       "      <td>1</td>\n",
       "      <td>2018-07</td>\n",
       "      <td>Sunday</td>\n",
       "    </tr>\n",
       "    <tr>\n",
       "      <th>1</th>\n",
       "      <td>9446359</td>\n",
       "      <td>31885876</td>\n",
       "      <td>2018-07-15 16:17:00</td>\n",
       "      <td>Rice</td>\n",
       "      <td>Rice</td>\n",
       "      <td>minimarket</td>\n",
       "      <td>102,750.00</td>\n",
       "      <td>0</td>\n",
       "      <td>1</td>\n",
       "      <td>2018-07</td>\n",
       "      <td>Sunday</td>\n",
       "    </tr>\n",
       "    <tr>\n",
       "      <th>2</th>\n",
       "      <td>9470290</td>\n",
       "      <td>31930241</td>\n",
       "      <td>2018-07-15 12:12:00</td>\n",
       "      <td>Rice</td>\n",
       "      <td>Rice</td>\n",
       "      <td>supermarket</td>\n",
       "      <td>64,000.00</td>\n",
       "      <td>0</td>\n",
       "      <td>3</td>\n",
       "      <td>2018-07</td>\n",
       "      <td>Sunday</td>\n",
       "    </tr>\n",
       "    <tr>\n",
       "      <th>3</th>\n",
       "      <td>9643416</td>\n",
       "      <td>32418582</td>\n",
       "      <td>2018-07-24 08:27:00</td>\n",
       "      <td>Rice</td>\n",
       "      <td>Rice</td>\n",
       "      <td>minimarket</td>\n",
       "      <td>65,000.00</td>\n",
       "      <td>0</td>\n",
       "      <td>1</td>\n",
       "      <td>2018-07</td>\n",
       "      <td>Tuesday</td>\n",
       "    </tr>\n",
       "    <tr>\n",
       "      <th>4</th>\n",
       "      <td>9692093</td>\n",
       "      <td>32561236</td>\n",
       "      <td>2018-07-26 11:28:00</td>\n",
       "      <td>Rice</td>\n",
       "      <td>Rice</td>\n",
       "      <td>supermarket</td>\n",
       "      <td>124,500.00</td>\n",
       "      <td>0</td>\n",
       "      <td>1</td>\n",
       "      <td>2018-07</td>\n",
       "      <td>Thursday</td>\n",
       "    </tr>\n",
       "  </tbody>\n",
       "</table>\n",
       "</div>"
      ],
      "text/plain": [
       "   receipt_id  receipts_item_id       purchase_time category sub_category  \\\n",
       "0     9622257          32369294 2018-07-22 21:19:00     Rice         Rice   \n",
       "1     9446359          31885876 2018-07-15 16:17:00     Rice         Rice   \n",
       "2     9470290          31930241 2018-07-15 12:12:00     Rice         Rice   \n",
       "3     9643416          32418582 2018-07-24 08:27:00     Rice         Rice   \n",
       "4     9692093          32561236 2018-07-26 11:28:00     Rice         Rice   \n",
       "\n",
       "        format  unit_price  discount  quantity yearmonth dayofweek  \n",
       "0  supermarket  128,000.00         0         1   2018-07    Sunday  \n",
       "1   minimarket  102,750.00         0         1   2018-07    Sunday  \n",
       "2  supermarket   64,000.00         0         3   2018-07    Sunday  \n",
       "3   minimarket   65,000.00         0         1   2018-07   Tuesday  \n",
       "4  supermarket  124,500.00         0         1   2018-07  Thursday  "
      ]
     },
     "execution_count": 347,
     "metadata": {},
     "output_type": "execute_result"
    }
   ],
   "source": [
    "household_new.head()"
   ]
  },
  {
   "cell_type": "code",
   "execution_count": 348,
   "metadata": {},
   "outputs": [
    {
     "data": {
      "text/html": [
       "<div>\n",
       "<style scoped>\n",
       "    .dataframe tbody tr th:only-of-type {\n",
       "        vertical-align: middle;\n",
       "    }\n",
       "\n",
       "    .dataframe tbody tr th {\n",
       "        vertical-align: top;\n",
       "    }\n",
       "\n",
       "    .dataframe thead th {\n",
       "        text-align: right;\n",
       "    }\n",
       "</style>\n",
       "<table border=\"1\" class=\"dataframe\">\n",
       "  <thead>\n",
       "    <tr style=\"text-align: right;\">\n",
       "      <th></th>\n",
       "      <th>receipt_id</th>\n",
       "      <th>receipts_item_id</th>\n",
       "      <th>purchase_time</th>\n",
       "      <th>category</th>\n",
       "      <th>sub_category</th>\n",
       "      <th>format</th>\n",
       "      <th>unit_price</th>\n",
       "      <th>discount</th>\n",
       "      <th>quantity</th>\n",
       "      <th>yearmonth</th>\n",
       "      <th>dayofweek</th>\n",
       "    </tr>\n",
       "  </thead>\n",
       "  <tbody>\n",
       "    <tr>\n",
       "      <th>0</th>\n",
       "      <td>9622257</td>\n",
       "      <td>32369294</td>\n",
       "      <td>2018-07-22 21:19:00</td>\n",
       "      <td>Rice</td>\n",
       "      <td>Rice</td>\n",
       "      <td>supermarket</td>\n",
       "      <td>128,000.00</td>\n",
       "      <td>0</td>\n",
       "      <td>1</td>\n",
       "      <td>2018-07</td>\n",
       "      <td>Sunday</td>\n",
       "    </tr>\n",
       "    <tr>\n",
       "      <th>1</th>\n",
       "      <td>9446359</td>\n",
       "      <td>31885876</td>\n",
       "      <td>2018-07-15 16:17:00</td>\n",
       "      <td>Rice</td>\n",
       "      <td>Rice</td>\n",
       "      <td>minimarket</td>\n",
       "      <td>102,750.00</td>\n",
       "      <td>0</td>\n",
       "      <td>1</td>\n",
       "      <td>2018-07</td>\n",
       "      <td>Sunday</td>\n",
       "    </tr>\n",
       "    <tr>\n",
       "      <th>2</th>\n",
       "      <td>9470290</td>\n",
       "      <td>31930241</td>\n",
       "      <td>2018-07-15 12:12:00</td>\n",
       "      <td>Rice</td>\n",
       "      <td>Rice</td>\n",
       "      <td>supermarket</td>\n",
       "      <td>64,000.00</td>\n",
       "      <td>0</td>\n",
       "      <td>3</td>\n",
       "      <td>2018-07</td>\n",
       "      <td>Sunday</td>\n",
       "    </tr>\n",
       "    <tr>\n",
       "      <th>3</th>\n",
       "      <td>9643416</td>\n",
       "      <td>32418582</td>\n",
       "      <td>2018-07-24 08:27:00</td>\n",
       "      <td>Rice</td>\n",
       "      <td>Rice</td>\n",
       "      <td>minimarket</td>\n",
       "      <td>65,000.00</td>\n",
       "      <td>0</td>\n",
       "      <td>1</td>\n",
       "      <td>2018-07</td>\n",
       "      <td>Tuesday</td>\n",
       "    </tr>\n",
       "    <tr>\n",
       "      <th>4</th>\n",
       "      <td>9692093</td>\n",
       "      <td>32561236</td>\n",
       "      <td>2018-07-26 11:28:00</td>\n",
       "      <td>Rice</td>\n",
       "      <td>Rice</td>\n",
       "      <td>supermarket</td>\n",
       "      <td>124,500.00</td>\n",
       "      <td>0</td>\n",
       "      <td>1</td>\n",
       "      <td>2018-07</td>\n",
       "      <td>Thursday</td>\n",
       "    </tr>\n",
       "  </tbody>\n",
       "</table>\n",
       "</div>"
      ],
      "text/plain": [
       "   receipt_id  receipts_item_id       purchase_time category sub_category  \\\n",
       "0     9622257          32369294 2018-07-22 21:19:00     Rice         Rice   \n",
       "1     9446359          31885876 2018-07-15 16:17:00     Rice         Rice   \n",
       "2     9470290          31930241 2018-07-15 12:12:00     Rice         Rice   \n",
       "3     9643416          32418582 2018-07-24 08:27:00     Rice         Rice   \n",
       "4     9692093          32561236 2018-07-26 11:28:00     Rice         Rice   \n",
       "\n",
       "        format  unit_price  discount  quantity yearmonth dayofweek  \n",
       "0  supermarket  128,000.00         0         1   2018-07    Sunday  \n",
       "1   minimarket  102,750.00         0         1   2018-07    Sunday  \n",
       "2  supermarket   64,000.00         0         3   2018-07    Sunday  \n",
       "3   minimarket   65,000.00         0         1   2018-07   Tuesday  \n",
       "4  supermarket  124,500.00         0         1   2018-07  Thursday  "
      ]
     },
     "execution_count": 348,
     "metadata": {},
     "output_type": "execute_result"
    }
   ],
   "source": [
    "household_new['yearmonth'] = household_new[\"purchase_time\"].dt.to_period(\"M\")\n",
    "household_new.head()"
   ]
  },
  {
   "cell_type": "markdown",
   "metadata": {},
   "source": [
    "**(Optional) Extra Challenge**\n",
    "\n",
    "Misalkan perkiraan waktu pengiriman akan membutuhkan waktu 2 hari setelah produk dibeli (`purchase_time`). Buatlah kolom baru dengan nama `est_shipdate` yang menyimpan perkiraan waktu pengiriman setiap transaksi!\n",
    "\n",
    "**(Petunjuk: Menggunakan `pd.Timedelta()`)**"
   ]
  },
  {
   "cell_type": "code",
   "execution_count": 349,
   "metadata": {},
   "outputs": [
    {
     "data": {
      "text/html": [
       "<div>\n",
       "<style scoped>\n",
       "    .dataframe tbody tr th:only-of-type {\n",
       "        vertical-align: middle;\n",
       "    }\n",
       "\n",
       "    .dataframe tbody tr th {\n",
       "        vertical-align: top;\n",
       "    }\n",
       "\n",
       "    .dataframe thead th {\n",
       "        text-align: right;\n",
       "    }\n",
       "</style>\n",
       "<table border=\"1\" class=\"dataframe\">\n",
       "  <thead>\n",
       "    <tr style=\"text-align: right;\">\n",
       "      <th></th>\n",
       "      <th>receipt_id</th>\n",
       "      <th>receipts_item_id</th>\n",
       "      <th>purchase_time</th>\n",
       "      <th>category</th>\n",
       "      <th>sub_category</th>\n",
       "      <th>format</th>\n",
       "      <th>unit_price</th>\n",
       "      <th>discount</th>\n",
       "      <th>quantity</th>\n",
       "      <th>yearmonth</th>\n",
       "      <th>dayofweek</th>\n",
       "      <th>est_shipdate</th>\n",
       "    </tr>\n",
       "  </thead>\n",
       "  <tbody>\n",
       "    <tr>\n",
       "      <th>0</th>\n",
       "      <td>9622257</td>\n",
       "      <td>32369294</td>\n",
       "      <td>2018-07-22 21:19:00</td>\n",
       "      <td>Rice</td>\n",
       "      <td>Rice</td>\n",
       "      <td>supermarket</td>\n",
       "      <td>128,000.00</td>\n",
       "      <td>0</td>\n",
       "      <td>1</td>\n",
       "      <td>2018-07</td>\n",
       "      <td>Sunday</td>\n",
       "      <td>2018-07-24 21:19:00</td>\n",
       "    </tr>\n",
       "    <tr>\n",
       "      <th>1</th>\n",
       "      <td>9446359</td>\n",
       "      <td>31885876</td>\n",
       "      <td>2018-07-15 16:17:00</td>\n",
       "      <td>Rice</td>\n",
       "      <td>Rice</td>\n",
       "      <td>minimarket</td>\n",
       "      <td>102,750.00</td>\n",
       "      <td>0</td>\n",
       "      <td>1</td>\n",
       "      <td>2018-07</td>\n",
       "      <td>Sunday</td>\n",
       "      <td>2018-07-17 16:17:00</td>\n",
       "    </tr>\n",
       "    <tr>\n",
       "      <th>2</th>\n",
       "      <td>9470290</td>\n",
       "      <td>31930241</td>\n",
       "      <td>2018-07-15 12:12:00</td>\n",
       "      <td>Rice</td>\n",
       "      <td>Rice</td>\n",
       "      <td>supermarket</td>\n",
       "      <td>64,000.00</td>\n",
       "      <td>0</td>\n",
       "      <td>3</td>\n",
       "      <td>2018-07</td>\n",
       "      <td>Sunday</td>\n",
       "      <td>2018-07-17 12:12:00</td>\n",
       "    </tr>\n",
       "    <tr>\n",
       "      <th>3</th>\n",
       "      <td>9643416</td>\n",
       "      <td>32418582</td>\n",
       "      <td>2018-07-24 08:27:00</td>\n",
       "      <td>Rice</td>\n",
       "      <td>Rice</td>\n",
       "      <td>minimarket</td>\n",
       "      <td>65,000.00</td>\n",
       "      <td>0</td>\n",
       "      <td>1</td>\n",
       "      <td>2018-07</td>\n",
       "      <td>Tuesday</td>\n",
       "      <td>2018-07-26 08:27:00</td>\n",
       "    </tr>\n",
       "    <tr>\n",
       "      <th>4</th>\n",
       "      <td>9692093</td>\n",
       "      <td>32561236</td>\n",
       "      <td>2018-07-26 11:28:00</td>\n",
       "      <td>Rice</td>\n",
       "      <td>Rice</td>\n",
       "      <td>supermarket</td>\n",
       "      <td>124,500.00</td>\n",
       "      <td>0</td>\n",
       "      <td>1</td>\n",
       "      <td>2018-07</td>\n",
       "      <td>Thursday</td>\n",
       "      <td>2018-07-28 11:28:00</td>\n",
       "    </tr>\n",
       "  </tbody>\n",
       "</table>\n",
       "</div>"
      ],
      "text/plain": [
       "   receipt_id  receipts_item_id       purchase_time category sub_category  \\\n",
       "0     9622257          32369294 2018-07-22 21:19:00     Rice         Rice   \n",
       "1     9446359          31885876 2018-07-15 16:17:00     Rice         Rice   \n",
       "2     9470290          31930241 2018-07-15 12:12:00     Rice         Rice   \n",
       "3     9643416          32418582 2018-07-24 08:27:00     Rice         Rice   \n",
       "4     9692093          32561236 2018-07-26 11:28:00     Rice         Rice   \n",
       "\n",
       "        format  unit_price  discount  quantity yearmonth dayofweek  \\\n",
       "0  supermarket  128,000.00         0         1   2018-07    Sunday   \n",
       "1   minimarket  102,750.00         0         1   2018-07    Sunday   \n",
       "2  supermarket   64,000.00         0         3   2018-07    Sunday   \n",
       "3   minimarket   65,000.00         0         1   2018-07   Tuesday   \n",
       "4  supermarket  124,500.00         0         1   2018-07  Thursday   \n",
       "\n",
       "         est_shipdate  \n",
       "0 2018-07-24 21:19:00  \n",
       "1 2018-07-17 16:17:00  \n",
       "2 2018-07-17 12:12:00  \n",
       "3 2018-07-26 08:27:00  \n",
       "4 2018-07-28 11:28:00  "
      ]
     },
     "execution_count": 349,
     "metadata": {},
     "output_type": "execute_result"
    }
   ],
   "source": [
    "# code here\n",
    "household_new[\"est_shipdate\"] = household_new[\"purchase_time\"] + pd.Timedelta(days=2)\n",
    "household_new.head()"
   ]
  },
  {
   "cell_type": "markdown",
   "metadata": {},
   "source": [
    "`pandas` memiliki sebuah method bermana `Timedelta` yang dapat digunakan untuk menghitung selisih hari, jam, bahkan detik.\n",
    "\n",
    "[Dokumentasi: Timedelta](https://pandas.pydata.org/docs/reference/api/pandas.Timedelta.html)"
   ]
  },
  {
   "cell_type": "markdown",
   "metadata": {},
   "source": [
    "___"
   ]
  },
  {
   "cell_type": "markdown",
   "metadata": {},
   "source": [
    "## Working with Categories"
   ]
  },
  {
   "cell_type": "markdown",
   "metadata": {},
   "source": [
    "🔻 Cek kembali tipe data yang belum sesuai:"
   ]
  },
  {
   "cell_type": "code",
   "execution_count": 350,
   "metadata": {},
   "outputs": [
    {
     "data": {
      "text/plain": [
       "receipt_id                   int64\n",
       "receipts_item_id             int64\n",
       "purchase_time       datetime64[ns]\n",
       "category                    object\n",
       "sub_category                object\n",
       "format                      object\n",
       "unit_price                 float64\n",
       "discount                     int64\n",
       "quantity                     int64\n",
       "yearmonth                period[M]\n",
       "dayofweek                   object\n",
       "est_shipdate        datetime64[ns]\n",
       "dtype: object"
      ]
     },
     "execution_count": 350,
     "metadata": {},
     "output_type": "execute_result"
    }
   ],
   "source": [
    "household_cat = household_new.copy()\n",
    "household_cat.dtypes"
   ]
  },
  {
   "cell_type": "markdown",
   "metadata": {},
   "source": [
    "Karakteristik tipe data `category` :\n",
    "\n",
    "- Dapat dikelompokkan menjadi beberapa kelompok (category)\n",
    "- Berulang\n",
    "\n",
    "💡 **Tips**: Kita bisa menggunakan method berikut untuk mengidentifikasi kolom mana yang cocok untuk disimpan ke tipe data `category`\n",
    "\n",
    "- `.unique()` melihat nilai yang unik dari sebuah kolom\n",
    "- `.nunique()` melihat banyaknya nilai yang unik dari sebuah kolom atau dataframe\n",
    "\n",
    "🔻 Mari kita cek kembali tipe data pada object `household`. Manakah yang seharusnya memiliki tipe data category?"
   ]
  },
  {
   "cell_type": "code",
   "execution_count": 351,
   "metadata": {},
   "outputs": [
    {
     "data": {
      "text/plain": [
       "receipt_id          69776\n",
       "receipts_item_id    72000\n",
       "purchase_time       62072\n",
       "category                3\n",
       "sub_category            3\n",
       "format                  3\n",
       "unit_price           3884\n",
       "discount             1329\n",
       "quantity               19\n",
       "yearmonth              12\n",
       "dayofweek               7\n",
       "est_shipdate        62072\n",
       "dtype: int64"
      ]
     },
     "execution_count": 351,
     "metadata": {},
     "output_type": "execute_result"
    }
   ],
   "source": [
    "household_cat.nunique()"
   ]
  },
  {
   "cell_type": "markdown",
   "metadata": {},
   "source": [
    "Ketika kita belum mengetahui kolom mana saja yang dapat diubah ke dalam tipe data category, kita dapat melakukan pengecekan terlebih dahulu menggunakan method **`.nunique()`**. Kolom yang memiliki banyaknya nilai unik yang sedikit dapat digolongkan sebagai tipe data category."
   ]
  },
  {
   "cell_type": "code",
   "execution_count": 352,
   "metadata": {},
   "outputs": [
    {
     "data": {
      "text/plain": [
       "array(['Rice', 'Fabric Care', 'Sugar/Flavored Syrup'], dtype=object)"
      ]
     },
     "execution_count": 352,
     "metadata": {},
     "output_type": "execute_result"
    }
   ],
   "source": [
    "household_cat[\"category\"].unique()"
   ]
  },
  {
   "cell_type": "markdown",
   "metadata": {},
   "source": [
    "**❓Kolom manakah yang seharusnya memiliki format tipe `'category'`?**\n",
    "\n",
    "> Jawaban: `category`, `sub_category`, `format`, `dayofweek`, `yearmonth`"
   ]
  },
  {
   "cell_type": "code",
   "execution_count": 353,
   "metadata": {},
   "outputs": [
    {
     "data": {
      "text/plain": [
       "receipt_id                   int64\n",
       "receipts_item_id             int64\n",
       "purchase_time       datetime64[ns]\n",
       "category                  category\n",
       "sub_category              category\n",
       "format                    category\n",
       "unit_price                 float64\n",
       "discount                     int64\n",
       "quantity                     int64\n",
       "yearmonth                 category\n",
       "dayofweek                 category\n",
       "est_shipdate        datetime64[ns]\n",
       "dtype: object"
      ]
     },
     "execution_count": 353,
     "metadata": {},
     "output_type": "execute_result"
    }
   ],
   "source": [
    "# code here\n",
    "household_cat[[\"category\", \"sub_category\", \"format\", \"dayofweek\", \"yearmonth\"]] = \\\n",
    "household_cat[[\"category\", \"sub_category\", \"format\", \"dayofweek\", \"yearmonth\"]].astype('category')\n",
    "\n",
    "household_cat.dtypes"
   ]
  },
  {
   "cell_type": "markdown",
   "metadata": {},
   "source": [
    "Quick Summary EDA: \n",
    "1. karateristik tipe data 'category': - dapat dikelompokkan menjadi beberapa kelompok - nilainya berulang \n",
    "2. fungsi .unique() melihat nilai yang unik dari sebuah kolom \n",
    "\n",
    "3. fungsi .nunique() (baca: n unik) melihat banyaknya nilai yang unik dari sebuah kolom atau dataframe \n",
    "\n",
    "4. kedua fungsi tersebut dapat digunakan untuk memutuskan apakah suatu variabel layak diubah tipenya menjadi 'category'. "
   ]
  },
  {
   "cell_type": "markdown",
   "metadata": {},
   "source": [
    "**Advantages**\n",
    "\n",
    "Ada 2 keuntungan mengubah tipe data menjadi `category`:\n",
    "\n",
    "- 1️⃣ Pertama: Memory Efficient\n",
    "\n",
    "Kita dapat membandingkan dua Data Frame **sebelum dan sesudah** kolom dikonversi ke tipe data `category`:\n",
    "\n",
    "- `household_new` (before): 6.6 MB\n",
    "- `household_cat` (after): 4.2 MB\n",
    "\n",
    "Berguna ketika nanti kita akan mengolah Big Data."
   ]
  },
  {
   "cell_type": "code",
   "execution_count": 354,
   "metadata": {},
   "outputs": [
    {
     "name": "stdout",
     "output_type": "stream",
     "text": [
      "<class 'pandas.core.frame.DataFrame'>\n",
      "RangeIndex: 72000 entries, 0 to 71999\n",
      "Data columns (total 12 columns):\n",
      " #   Column            Non-Null Count  Dtype         \n",
      "---  ------            --------------  -----         \n",
      " 0   receipt_id        72000 non-null  int64         \n",
      " 1   receipts_item_id  72000 non-null  int64         \n",
      " 2   purchase_time     72000 non-null  datetime64[ns]\n",
      " 3   category          72000 non-null  object        \n",
      " 4   sub_category      72000 non-null  object        \n",
      " 5   format            72000 non-null  object        \n",
      " 6   unit_price        72000 non-null  float64       \n",
      " 7   discount          72000 non-null  int64         \n",
      " 8   quantity          72000 non-null  int64         \n",
      " 9   yearmonth         72000 non-null  period[M]     \n",
      " 10  dayofweek         72000 non-null  object        \n",
      " 11  est_shipdate      72000 non-null  datetime64[ns]\n",
      "dtypes: datetime64[ns](2), float64(1), int64(4), object(4), period[M](1)\n",
      "memory usage: 6.6+ MB\n"
     ]
    }
   ],
   "source": [
    "# check penggunaan memory SEBELUM konversi menjadi category\n",
    "household_new.info()"
   ]
  },
  {
   "cell_type": "code",
   "execution_count": 355,
   "metadata": {},
   "outputs": [
    {
     "name": "stdout",
     "output_type": "stream",
     "text": [
      "<class 'pandas.core.frame.DataFrame'>\n",
      "RangeIndex: 72000 entries, 0 to 71999\n",
      "Data columns (total 12 columns):\n",
      " #   Column            Non-Null Count  Dtype         \n",
      "---  ------            --------------  -----         \n",
      " 0   receipt_id        72000 non-null  int64         \n",
      " 1   receipts_item_id  72000 non-null  int64         \n",
      " 2   purchase_time     72000 non-null  datetime64[ns]\n",
      " 3   category          72000 non-null  category      \n",
      " 4   sub_category      72000 non-null  category      \n",
      " 5   format            72000 non-null  category      \n",
      " 6   unit_price        72000 non-null  float64       \n",
      " 7   discount          72000 non-null  int64         \n",
      " 8   quantity          72000 non-null  int64         \n",
      " 9   yearmonth         72000 non-null  category      \n",
      " 10  dayofweek         72000 non-null  category      \n",
      " 11  est_shipdate      72000 non-null  datetime64[ns]\n",
      "dtypes: category(5), datetime64[ns](2), float64(1), int64(4)\n",
      "memory usage: 4.2 MB\n"
     ]
    }
   ],
   "source": [
    "# check penggunaan memory SESUDAH konversi menjadi category\n",
    "household_cat.info()"
   ]
  },
  {
   "cell_type": "markdown",
   "metadata": {},
   "source": [
    "**2️⃣ Kedua: Accessor Category `.cat`**\n",
    "\n",
    "Sama seperti tipe data `datetime64` yang memiliki pengakses `.dt`, tipe data `category` memiliki pengakses `.cat`. Berikut adalah contoh penggunaan accessor `.cat`:"
   ]
  },
  {
   "cell_type": "markdown",
   "metadata": {},
   "source": [
    "Mengetahui kategori dari sebuah kolom category:"
   ]
  },
  {
   "cell_type": "code",
   "execution_count": 356,
   "metadata": {},
   "outputs": [
    {
     "data": {
      "text/plain": [
       "Index(['Friday', 'Monday', 'Saturday', 'Sunday', 'Thursday', 'Tuesday',\n",
       "       'Wednesday'],\n",
       "      dtype='object')"
      ]
     },
     "execution_count": 356,
     "metadata": {},
     "output_type": "execute_result"
    }
   ],
   "source": [
    "household_cat['dayofweek'].cat.categories"
   ]
  },
  {
   "cell_type": "markdown",
   "metadata": {},
   "source": [
    "Mengurutkan kategori dari sebuah kolom category yang bersifat **ordinal**:"
   ]
  },
  {
   "cell_type": "code",
   "execution_count": 357,
   "metadata": {},
   "outputs": [
    {
     "data": {
      "text/plain": [
       "Index(['Monday', 'Tuesday', 'Wednesday', 'Thursday', 'Friday', 'Saturday',\n",
       "       'Sunday'],\n",
       "      dtype='object')"
      ]
     },
     "execution_count": 357,
     "metadata": {},
     "output_type": "execute_result"
    }
   ],
   "source": [
    "ordered_dayofweek = ['Monday', 'Tuesday', 'Wednesday', 'Thursday', 'Friday', 'Saturday', 'Sunday']\n",
    "household_cat['dayofweek'] = household_cat['dayofweek'].cat.reorder_categories(ordered_dayofweek)\n",
    "household_cat['dayofweek'].cat.categories"
   ]
  },
  {
   "cell_type": "markdown",
   "metadata": {},
   "source": [
    "✏️ **Note** \n",
    "\n",
    "Anda dapat menjelajahi lebih banyak fungsionalitas dengan merujuk ke [dokumentasi accessor .cat](https://pandas.pydata.org/pandas-docs/stable/reference/series.html#categorical-accessor) untuk daftar lengkapnya."
   ]
  },
  {
   "cell_type": "markdown",
   "metadata": {},
   "source": [
    "# 📝 Summary Day 1: Knowledge Check"
   ]
  },
  {
   "cell_type": "markdown",
   "metadata": {},
   "source": [
    "1. Berikut yang **bukan** merupakan tujuan dari Exploratory Data Analisis (EDA) adalah:\n",
    "\n",
    "    - [ ] A. Mengetahui pola pada data\n",
    "    - [ ] B. Mencari anomali pada data\n",
    "    - [ ] C. Mencari jawaban dari pertanyaan bisnis yang kita miliki\n",
    "    - [ ] D. Menganalisis hingga mendapatkan suatu insight\n",
    "    - [X] E. Semua benar\n",
    "    \n",
    "    \n",
    "2. Berikut yang **bukan** merupakan tools untuk melakukan investigasi struktur pada data kita adalah:\n",
    "\n",
    "    - [ ] A. `df.head()`\n",
    "    - [ ] B. `df.info()`\n",
    "    - [X] C. `df.astype()`\n",
    "    - [ ] D. `df.dtypes`\n",
    "    - [ ] E. `df.columns`\n",
    "    \n",
    "\n",
    "3. Kita telah mempelajari `.astype()`, `parse_dates`, dan `pd.to_datetime()`. Manakah pernyataan berikut yang **salah** terkait dari ketiganya:\n",
    "\n",
    "    - [ ] A. `pd.to_datetime` digunakan ketika format date kita berawalan dengan tanggal, menggunakan parameter `dayfirst=True`\n",
    "    - [X] B. `.astype()` digunakan ketika format tanggal kita hanya bulan dan tanggal tanpa tanggal\n",
    "    - [ ] C. Parameter `parse_dates` dapat digunakan ketika kita sudah terbiasa dengan data yang kita olah\n",
    "    - [ ] D. Ketiganya dapat digunakan untuk mengubah tipe data sebuah kolom menjadi `datetime64`\n",
    "    \n",
    "    \n",
    "4. Berikut adalah alasan kita menyesuaikan tipe data pada sebuah kolom, yaitu agar ...\n",
    "\n",
    "    - [ ] A. Antar kolom bisa dilakukan operasi matematis (misal penjumlahan, pengurangan, dsb)\n",
    "    - [ ] B. Komponen tertentu dapat diambil ataupun diekstrak untuk analisis lebih lanjut\n",
    "    - [ ] C. Bisa menghemat penggunaan memory\n",
    "    - [ ] D. Tiap tipe data memiliki fungsionalitas pada accessor nya masing-masing\n",
    "    - [X] E. Semuanya benar"
   ]
  },
  {
   "cell_type": "markdown",
   "metadata": {},
   "source": [
    "___"
   ]
  },
  {
   "cell_type": "markdown",
   "metadata": {},
   "source": [
    "# Analisis Data"
   ]
  },
  {
   "cell_type": "markdown",
   "metadata": {},
   "source": [
    "## Contingency Tables / Frequency Tables"
   ]
  },
  {
   "cell_type": "markdown",
   "metadata": {},
   "source": [
    "Tabel kontingensi digunakan untuk menghitung nilai frekuensi/kemunculan data."
   ]
  },
  {
   "cell_type": "markdown",
   "metadata": {},
   "source": [
    "### Method `.value_counts()`"
   ]
  },
  {
   "cell_type": "markdown",
   "metadata": {},
   "source": [
    "**Kegunaan**: Menghitung jumlah baris pada setiap category dalam 1 kolom, dan defaultnya diurutkan secara descending\n",
    "\n",
    "Parameter:\n",
    "\n",
    "- `sort=False`: mencegah nilai pengurutan apa pun, **urutkan berdasarkan indeks** sebagai gantinya\n",
    "- `ascending=True`: **urutkan nilai** dalam urutan menaik"
   ]
  },
  {
   "cell_type": "code",
   "execution_count": 358,
   "metadata": {},
   "outputs": [
    {
     "data": {
      "text/html": [
       "<div>\n",
       "<style scoped>\n",
       "    .dataframe tbody tr th:only-of-type {\n",
       "        vertical-align: middle;\n",
       "    }\n",
       "\n",
       "    .dataframe tbody tr th {\n",
       "        vertical-align: top;\n",
       "    }\n",
       "\n",
       "    .dataframe thead th {\n",
       "        text-align: right;\n",
       "    }\n",
       "</style>\n",
       "<table border=\"1\" class=\"dataframe\">\n",
       "  <thead>\n",
       "    <tr style=\"text-align: right;\">\n",
       "      <th></th>\n",
       "      <th>receipt_id</th>\n",
       "      <th>receipts_item_id</th>\n",
       "      <th>purchase_time</th>\n",
       "      <th>category</th>\n",
       "      <th>sub_category</th>\n",
       "      <th>format</th>\n",
       "      <th>unit_price</th>\n",
       "      <th>discount</th>\n",
       "      <th>quantity</th>\n",
       "      <th>yearmonth</th>\n",
       "      <th>dayofweek</th>\n",
       "      <th>est_shipdate</th>\n",
       "    </tr>\n",
       "  </thead>\n",
       "  <tbody>\n",
       "    <tr>\n",
       "      <th>0</th>\n",
       "      <td>9622257</td>\n",
       "      <td>32369294</td>\n",
       "      <td>2018-07-22 21:19:00</td>\n",
       "      <td>Rice</td>\n",
       "      <td>Rice</td>\n",
       "      <td>supermarket</td>\n",
       "      <td>128,000.00</td>\n",
       "      <td>0</td>\n",
       "      <td>1</td>\n",
       "      <td>2018-07</td>\n",
       "      <td>Sunday</td>\n",
       "      <td>2018-07-24 21:19:00</td>\n",
       "    </tr>\n",
       "    <tr>\n",
       "      <th>1</th>\n",
       "      <td>9446359</td>\n",
       "      <td>31885876</td>\n",
       "      <td>2018-07-15 16:17:00</td>\n",
       "      <td>Rice</td>\n",
       "      <td>Rice</td>\n",
       "      <td>minimarket</td>\n",
       "      <td>102,750.00</td>\n",
       "      <td>0</td>\n",
       "      <td>1</td>\n",
       "      <td>2018-07</td>\n",
       "      <td>Sunday</td>\n",
       "      <td>2018-07-17 16:17:00</td>\n",
       "    </tr>\n",
       "    <tr>\n",
       "      <th>2</th>\n",
       "      <td>9470290</td>\n",
       "      <td>31930241</td>\n",
       "      <td>2018-07-15 12:12:00</td>\n",
       "      <td>Rice</td>\n",
       "      <td>Rice</td>\n",
       "      <td>supermarket</td>\n",
       "      <td>64,000.00</td>\n",
       "      <td>0</td>\n",
       "      <td>3</td>\n",
       "      <td>2018-07</td>\n",
       "      <td>Sunday</td>\n",
       "      <td>2018-07-17 12:12:00</td>\n",
       "    </tr>\n",
       "    <tr>\n",
       "      <th>3</th>\n",
       "      <td>9643416</td>\n",
       "      <td>32418582</td>\n",
       "      <td>2018-07-24 08:27:00</td>\n",
       "      <td>Rice</td>\n",
       "      <td>Rice</td>\n",
       "      <td>minimarket</td>\n",
       "      <td>65,000.00</td>\n",
       "      <td>0</td>\n",
       "      <td>1</td>\n",
       "      <td>2018-07</td>\n",
       "      <td>Tuesday</td>\n",
       "      <td>2018-07-26 08:27:00</td>\n",
       "    </tr>\n",
       "    <tr>\n",
       "      <th>4</th>\n",
       "      <td>9692093</td>\n",
       "      <td>32561236</td>\n",
       "      <td>2018-07-26 11:28:00</td>\n",
       "      <td>Rice</td>\n",
       "      <td>Rice</td>\n",
       "      <td>supermarket</td>\n",
       "      <td>124,500.00</td>\n",
       "      <td>0</td>\n",
       "      <td>1</td>\n",
       "      <td>2018-07</td>\n",
       "      <td>Thursday</td>\n",
       "      <td>2018-07-28 11:28:00</td>\n",
       "    </tr>\n",
       "  </tbody>\n",
       "</table>\n",
       "</div>"
      ],
      "text/plain": [
       "   receipt_id  receipts_item_id       purchase_time category sub_category  \\\n",
       "0     9622257          32369294 2018-07-22 21:19:00     Rice         Rice   \n",
       "1     9446359          31885876 2018-07-15 16:17:00     Rice         Rice   \n",
       "2     9470290          31930241 2018-07-15 12:12:00     Rice         Rice   \n",
       "3     9643416          32418582 2018-07-24 08:27:00     Rice         Rice   \n",
       "4     9692093          32561236 2018-07-26 11:28:00     Rice         Rice   \n",
       "\n",
       "        format  unit_price  discount  quantity yearmonth dayofweek  \\\n",
       "0  supermarket  128,000.00         0         1   2018-07    Sunday   \n",
       "1   minimarket  102,750.00         0         1   2018-07    Sunday   \n",
       "2  supermarket   64,000.00         0         3   2018-07    Sunday   \n",
       "3   minimarket   65,000.00         0         1   2018-07   Tuesday   \n",
       "4  supermarket  124,500.00         0         1   2018-07  Thursday   \n",
       "\n",
       "         est_shipdate  \n",
       "0 2018-07-24 21:19:00  \n",
       "1 2018-07-17 16:17:00  \n",
       "2 2018-07-17 12:12:00  \n",
       "3 2018-07-26 08:27:00  \n",
       "4 2018-07-28 11:28:00  "
      ]
     },
     "execution_count": 358,
     "metadata": {},
     "output_type": "execute_result"
    }
   ],
   "source": [
    "household = household_cat.copy()\n",
    "household.head()"
   ]
  },
  {
   "cell_type": "markdown",
   "metadata": {},
   "source": [
    "❓ Jenis market mana yang paling banyak melakukan transaksi berdasarkan data `household`?"
   ]
  },
  {
   "cell_type": "code",
   "execution_count": 359,
   "metadata": {},
   "outputs": [
    {
     "data": {
      "text/plain": [
       "minimarket     46803\n",
       "supermarket    19826\n",
       "hypermarket     5371\n",
       "Name: format, dtype: int64"
      ]
     },
     "execution_count": 359,
     "metadata": {},
     "output_type": "execute_result"
    }
   ],
   "source": [
    "household['format'].value_counts()"
   ]
  },
  {
   "cell_type": "markdown",
   "metadata": {},
   "source": [
    "> **📈 Insight:** Transaksi paling banyak terjadi di minimarket, sedangkan paling sedikit di hypermarket."
   ]
  },
  {
   "cell_type": "markdown",
   "metadata": {},
   "source": [
    "❓ Sekarang kita ingin tahu hari apa yang banyak dilakukan transaksi"
   ]
  },
  {
   "cell_type": "code",
   "execution_count": 360,
   "metadata": {},
   "outputs": [
    {
     "data": {
      "text/plain": [
       "Sunday       12573\n",
       "Saturday     11828\n",
       "Friday       10778\n",
       "Tuesday       9427\n",
       "Wednesday     9206\n",
       "Thursday      9138\n",
       "Monday        9050\n",
       "Name: dayofweek, dtype: int64"
      ]
     },
     "execution_count": 360,
     "metadata": {},
     "output_type": "execute_result"
    }
   ],
   "source": [
    "# code here\n",
    "household['dayofweek'].value_counts()"
   ]
  },
  {
   "cell_type": "markdown",
   "metadata": {},
   "source": [
    "> 📈 **Insight yang dapat diambil:** Transaksi semakin mendekati akhir pekan semakin banyak."
   ]
  },
  {
   "cell_type": "code",
   "execution_count": 361,
   "metadata": {},
   "outputs": [
    {
     "data": {
      "text/plain": [
       "Monday        9050\n",
       "Tuesday       9427\n",
       "Wednesday     9206\n",
       "Thursday      9138\n",
       "Friday       10778\n",
       "Saturday     11828\n",
       "Sunday       12573\n",
       "Name: dayofweek, dtype: int64"
      ]
     },
     "execution_count": 361,
     "metadata": {},
     "output_type": "execute_result"
    }
   ],
   "source": [
    "# menggunakan sort=False\n",
    "household['dayofweek'].value_counts(sort=False)"
   ]
  },
  {
   "cell_type": "markdown",
   "metadata": {},
   "source": [
    "Quick Summary - \n",
    "Frequency table .value_counts() -> digunakan untuk melihat frekuensi kemunculan data pada suatu kolom tertentu. Cocok untuk digunakan pada tabel yang memiliki sedikit unique value (bersifat kategorik) -> secara default (tanpa parameter) tampilan akan urut sesuai dengan nilai paling besar ke paling kecil. -> untuk mengatur urutan dapat menggunakan parameter `ascending=True` jika ingin mengurutkan dari yang terkecil -> parameter `sort=False` dapat digunakan jika kita tidak ingin mengurutkan data bedasarkan value "
   ]
  },
  {
   "cell_type": "markdown",
   "metadata": {},
   "source": [
    "### Cross Tabulation"
   ]
  },
  {
   "cell_type": "markdown",
   "metadata": {},
   "source": [
    "Selain menggunakan method `value_counts()`, kita juga dapat menggunakan fungsi `crosstab` yang telah disediakan oleh `pandas` untuk menghitung frekuensi pada data. Syntax:\n",
    "\n",
    "```\n",
    "pd.crosstab(index=...,\n",
    "            columns=...)\n",
    "```\n",
    "\n",
    "**Parameter wajib:**\n",
    "- `index`: kolom yang akan dijadikan pengelompokkan pada baris (axis 0)\n",
    "- `columns`: kolom yang akan dijadikan pengelompokkan pada kolom (axis 1)"
   ]
  },
  {
   "cell_type": "markdown",
   "metadata": {},
   "source": [
    "🔻 Dengan permasalahan yang sama, mari kita lihat banyaknya transaksi di setiap `format` market menggunakan fungsi **`crosstab`**"
   ]
  },
  {
   "cell_type": "code",
   "execution_count": 362,
   "metadata": {},
   "outputs": [
    {
     "data": {
      "text/html": [
       "<div>\n",
       "<style scoped>\n",
       "    .dataframe tbody tr th:only-of-type {\n",
       "        vertical-align: middle;\n",
       "    }\n",
       "\n",
       "    .dataframe tbody tr th {\n",
       "        vertical-align: top;\n",
       "    }\n",
       "\n",
       "    .dataframe thead th {\n",
       "        text-align: right;\n",
       "    }\n",
       "</style>\n",
       "<table border=\"1\" class=\"dataframe\">\n",
       "  <thead>\n",
       "    <tr style=\"text-align: right;\">\n",
       "      <th>col_0</th>\n",
       "      <th>Total Transaksi</th>\n",
       "    </tr>\n",
       "    <tr>\n",
       "      <th>format</th>\n",
       "      <th></th>\n",
       "    </tr>\n",
       "  </thead>\n",
       "  <tbody>\n",
       "    <tr>\n",
       "      <th>hypermarket</th>\n",
       "      <td>5371</td>\n",
       "    </tr>\n",
       "    <tr>\n",
       "      <th>minimarket</th>\n",
       "      <td>46803</td>\n",
       "    </tr>\n",
       "    <tr>\n",
       "      <th>supermarket</th>\n",
       "      <td>19826</td>\n",
       "    </tr>\n",
       "  </tbody>\n",
       "</table>\n",
       "</div>"
      ],
      "text/plain": [
       "col_0        Total Transaksi\n",
       "format                      \n",
       "hypermarket             5371\n",
       "minimarket             46803\n",
       "supermarket            19826"
      ]
     },
     "execution_count": 362,
     "metadata": {},
     "output_type": "execute_result"
    }
   ],
   "source": [
    "pd.crosstab(\n",
    "    index=household['format'],\n",
    "    columns='Total Transaksi'\n",
    ")"
   ]
  },
  {
   "cell_type": "markdown",
   "metadata": {},
   "source": [
    "❓Coba tampilkan di format market mana dan berapa frekuensi transaksi terkecil yang terjadi"
   ]
  },
  {
   "cell_type": "markdown",
   "metadata": {},
   "source": [
    "Method `sort_values()` untuk mengurutkan data frame berdasarkan kolom tertentu.\n",
    "\n",
    "Parameter:\n",
    "\n",
    "- `by`: diisi dengan nama kolom\n",
    "- `ascending`: default = `True` diurutkan berdasarkan nilai terkecil ke terbesar"
   ]
  },
  {
   "cell_type": "code",
   "execution_count": 363,
   "metadata": {},
   "outputs": [
    {
     "data": {
      "text/html": [
       "<div>\n",
       "<style scoped>\n",
       "    .dataframe tbody tr th:only-of-type {\n",
       "        vertical-align: middle;\n",
       "    }\n",
       "\n",
       "    .dataframe tbody tr th {\n",
       "        vertical-align: top;\n",
       "    }\n",
       "\n",
       "    .dataframe thead th {\n",
       "        text-align: right;\n",
       "    }\n",
       "</style>\n",
       "<table border=\"1\" class=\"dataframe\">\n",
       "  <thead>\n",
       "    <tr style=\"text-align: right;\">\n",
       "      <th>col_0</th>\n",
       "      <th>Total Transaksi</th>\n",
       "    </tr>\n",
       "    <tr>\n",
       "      <th>format</th>\n",
       "      <th></th>\n",
       "    </tr>\n",
       "  </thead>\n",
       "  <tbody>\n",
       "    <tr>\n",
       "      <th>hypermarket</th>\n",
       "      <td>5371</td>\n",
       "    </tr>\n",
       "    <tr>\n",
       "      <th>supermarket</th>\n",
       "      <td>19826</td>\n",
       "    </tr>\n",
       "    <tr>\n",
       "      <th>minimarket</th>\n",
       "      <td>46803</td>\n",
       "    </tr>\n",
       "  </tbody>\n",
       "</table>\n",
       "</div>"
      ],
      "text/plain": [
       "col_0        Total Transaksi\n",
       "format                      \n",
       "hypermarket             5371\n",
       "supermarket            19826\n",
       "minimarket             46803"
      ]
     },
     "execution_count": 363,
     "metadata": {},
     "output_type": "execute_result"
    }
   ],
   "source": [
    "# code here\n",
    "pd.crosstab(\n",
    "    index=household['format'],\n",
    "    columns='Total Transaksi'\n",
    ").sort_values(by='Total Transaksi')"
   ]
  },
  {
   "cell_type": "markdown",
   "metadata": {},
   "source": [
    "❓Tinjau frekuensi transaksi berdasarkan barang (`sub_category`) yang dibeli dan coba gali insight apa yang dapat kita ambil"
   ]
  },
  {
   "cell_type": "code",
   "execution_count": 364,
   "metadata": {},
   "outputs": [
    {
     "data": {
      "text/html": [
       "<div>\n",
       "<style scoped>\n",
       "    .dataframe tbody tr th:only-of-type {\n",
       "        vertical-align: middle;\n",
       "    }\n",
       "\n",
       "    .dataframe tbody tr th {\n",
       "        vertical-align: top;\n",
       "    }\n",
       "\n",
       "    .dataframe thead th {\n",
       "        text-align: right;\n",
       "    }\n",
       "</style>\n",
       "<table border=\"1\" class=\"dataframe\">\n",
       "  <thead>\n",
       "    <tr style=\"text-align: right;\">\n",
       "      <th>col_0</th>\n",
       "      <th>Total Transaksi</th>\n",
       "    </tr>\n",
       "    <tr>\n",
       "      <th>sub_category</th>\n",
       "      <th></th>\n",
       "    </tr>\n",
       "  </thead>\n",
       "  <tbody>\n",
       "    <tr>\n",
       "      <th>Rice</th>\n",
       "      <td>12000</td>\n",
       "    </tr>\n",
       "    <tr>\n",
       "      <th>Sugar</th>\n",
       "      <td>24000</td>\n",
       "    </tr>\n",
       "    <tr>\n",
       "      <th>Detergent</th>\n",
       "      <td>36000</td>\n",
       "    </tr>\n",
       "  </tbody>\n",
       "</table>\n",
       "</div>"
      ],
      "text/plain": [
       "col_0         Total Transaksi\n",
       "sub_category                 \n",
       "Rice                    12000\n",
       "Sugar                   24000\n",
       "Detergent               36000"
      ]
     },
     "execution_count": 364,
     "metadata": {},
     "output_type": "execute_result"
    }
   ],
   "source": [
    "# code here\n",
    "pd.crosstab(\n",
    "    index=household['sub_category'],\n",
    "    columns='Total Transaksi'\n",
    ").sort_values(by='Total Transaksi')"
   ]
  },
  {
   "cell_type": "markdown",
   "metadata": {},
   "source": [
    "> 📈 **Insight yang dapat diambil:** Detergent adalah kategori produk yang transaksi nya paling banyak, sedangkan Rice yang paling sedikit."
   ]
  },
  {
   "cell_type": "markdown",
   "metadata": {},
   "source": [
    "🔻 Seperti yang kita tahu bahwa barang dengan transaksi terbanyak adalah ... Selanjutnya kita ingin tahu `format` market manakah yang paling banyak transaksi barang tersebut:"
   ]
  },
  {
   "cell_type": "code",
   "execution_count": 365,
   "metadata": {},
   "outputs": [
    {
     "data": {
      "text/html": [
       "<div>\n",
       "<style scoped>\n",
       "    .dataframe tbody tr th:only-of-type {\n",
       "        vertical-align: middle;\n",
       "    }\n",
       "\n",
       "    .dataframe tbody tr th {\n",
       "        vertical-align: top;\n",
       "    }\n",
       "\n",
       "    .dataframe thead th {\n",
       "        text-align: right;\n",
       "    }\n",
       "</style>\n",
       "<table border=\"1\" class=\"dataframe\">\n",
       "  <thead>\n",
       "    <tr style=\"text-align: right;\">\n",
       "      <th>sub_category</th>\n",
       "      <th>Detergent</th>\n",
       "      <th>Rice</th>\n",
       "      <th>Sugar</th>\n",
       "    </tr>\n",
       "    <tr>\n",
       "      <th>format</th>\n",
       "      <th></th>\n",
       "      <th></th>\n",
       "      <th></th>\n",
       "    </tr>\n",
       "  </thead>\n",
       "  <tbody>\n",
       "    <tr>\n",
       "      <th>hypermarket</th>\n",
       "      <td>2611</td>\n",
       "      <td>999</td>\n",
       "      <td>1761</td>\n",
       "    </tr>\n",
       "    <tr>\n",
       "      <th>minimarket</th>\n",
       "      <td>24345</td>\n",
       "      <td>7088</td>\n",
       "      <td>15370</td>\n",
       "    </tr>\n",
       "    <tr>\n",
       "      <th>supermarket</th>\n",
       "      <td>9044</td>\n",
       "      <td>3913</td>\n",
       "      <td>6869</td>\n",
       "    </tr>\n",
       "  </tbody>\n",
       "</table>\n",
       "</div>"
      ],
      "text/plain": [
       "sub_category  Detergent  Rice  Sugar\n",
       "format                              \n",
       "hypermarket        2611   999   1761\n",
       "minimarket        24345  7088  15370\n",
       "supermarket        9044  3913   6869"
      ]
     },
     "execution_count": 365,
     "metadata": {},
     "output_type": "execute_result"
    }
   ],
   "source": [
    "pd.crosstab(\n",
    "    index=household['format'],\n",
    "    columns=household['sub_category']\n",
    ")"
   ]
  },
  {
   "cell_type": "markdown",
   "metadata": {},
   "source": [
    "> 📈 **Insight yang dapat diambil:**\n",
    "\n",
    "- Minimarket transaksinya paling banyak untuk semua sub_category\n",
    "- Hypermarket paling sedikit untuk setiap sub_category\n",
    "- Barang yang paling banyak terual di semua format market tetap detergent."
   ]
  },
  {
   "cell_type": "markdown",
   "metadata": {},
   "source": [
    "___"
   ]
  },
  {
   "cell_type": "markdown",
   "metadata": {},
   "source": [
    "Dari tabel frekuensi di atas:\n",
    "\n",
    "- 🔻 Bagaimana kalau kita ingin menghitung jumlah **frekuensi per baris/kolom**?\n",
    "- 🔻 Bagaimana kalau kita ingin melihat **proporsi** atau dalam **persentase**?"
   ]
  },
  {
   "cell_type": "markdown",
   "metadata": {},
   "source": [
    "**Parameter tambahan:**\n",
    "\n",
    "- **`margins`**: Menambahkan baris atau kolom margins yang menampung nilai subtotal\n",
    "- **`normalize`**: Membagi keseluruhan nilai hasil crosstab dengan jumlah nilai."
   ]
  },
  {
   "cell_type": "markdown",
   "metadata": {},
   "source": [
    "#### Margins"
   ]
  },
  {
   "cell_type": "markdown",
   "metadata": {},
   "source": [
    "🔻 Hitung frekuensi transaksi untuk penjualan barang (`sub_category`) di setiap segmen pasar (`format`) dan gunakan parameter `margins=True`"
   ]
  },
  {
   "cell_type": "code",
   "execution_count": 366,
   "metadata": {},
   "outputs": [
    {
     "data": {
      "text/html": [
       "<div>\n",
       "<style scoped>\n",
       "    .dataframe tbody tr th:only-of-type {\n",
       "        vertical-align: middle;\n",
       "    }\n",
       "\n",
       "    .dataframe tbody tr th {\n",
       "        vertical-align: top;\n",
       "    }\n",
       "\n",
       "    .dataframe thead th {\n",
       "        text-align: right;\n",
       "    }\n",
       "</style>\n",
       "<table border=\"1\" class=\"dataframe\">\n",
       "  <thead>\n",
       "    <tr style=\"text-align: right;\">\n",
       "      <th>sub_category</th>\n",
       "      <th>Detergent</th>\n",
       "      <th>Rice</th>\n",
       "      <th>Sugar</th>\n",
       "      <th>All</th>\n",
       "    </tr>\n",
       "    <tr>\n",
       "      <th>format</th>\n",
       "      <th></th>\n",
       "      <th></th>\n",
       "      <th></th>\n",
       "      <th></th>\n",
       "    </tr>\n",
       "  </thead>\n",
       "  <tbody>\n",
       "    <tr>\n",
       "      <th>hypermarket</th>\n",
       "      <td>2611</td>\n",
       "      <td>999</td>\n",
       "      <td>1761</td>\n",
       "      <td>5371</td>\n",
       "    </tr>\n",
       "    <tr>\n",
       "      <th>minimarket</th>\n",
       "      <td>24345</td>\n",
       "      <td>7088</td>\n",
       "      <td>15370</td>\n",
       "      <td>46803</td>\n",
       "    </tr>\n",
       "    <tr>\n",
       "      <th>supermarket</th>\n",
       "      <td>9044</td>\n",
       "      <td>3913</td>\n",
       "      <td>6869</td>\n",
       "      <td>19826</td>\n",
       "    </tr>\n",
       "    <tr>\n",
       "      <th>All</th>\n",
       "      <td>36000</td>\n",
       "      <td>12000</td>\n",
       "      <td>24000</td>\n",
       "      <td>72000</td>\n",
       "    </tr>\n",
       "  </tbody>\n",
       "</table>\n",
       "</div>"
      ],
      "text/plain": [
       "sub_category  Detergent   Rice  Sugar    All\n",
       "format                                      \n",
       "hypermarket        2611    999   1761   5371\n",
       "minimarket        24345   7088  15370  46803\n",
       "supermarket        9044   3913   6869  19826\n",
       "All               36000  12000  24000  72000"
      ]
     },
     "execution_count": 366,
     "metadata": {},
     "output_type": "execute_result"
    }
   ],
   "source": [
    "# code here\n",
    "pd.crosstab(\n",
    "    index=household['format'],\n",
    "    columns=household['sub_category'],\n",
    "    margins=True\n",
    ")"
   ]
  },
  {
   "cell_type": "markdown",
   "metadata": {},
   "source": [
    "Ketika parameter `margins=True` maka akan terdapat 1 kolom baru dan 1 baris baru yang menampilkan nilai total transaksi pada setiap baris dan kolomnya.\n",
    "\n",
    "Selain parameter `margins`, terdapat juga parameter `margins_name`. Parameter tersebut dapat di isi dengan nama aliasing untuk kolom baru dan baris baru result dari `margins=True`."
   ]
  },
  {
   "cell_type": "code",
   "execution_count": 367,
   "metadata": {},
   "outputs": [
    {
     "data": {
      "text/html": [
       "<div>\n",
       "<style scoped>\n",
       "    .dataframe tbody tr th:only-of-type {\n",
       "        vertical-align: middle;\n",
       "    }\n",
       "\n",
       "    .dataframe tbody tr th {\n",
       "        vertical-align: top;\n",
       "    }\n",
       "\n",
       "    .dataframe thead th {\n",
       "        text-align: right;\n",
       "    }\n",
       "</style>\n",
       "<table border=\"1\" class=\"dataframe\">\n",
       "  <thead>\n",
       "    <tr style=\"text-align: right;\">\n",
       "      <th>sub_category</th>\n",
       "      <th>Detergent</th>\n",
       "      <th>Rice</th>\n",
       "      <th>Sugar</th>\n",
       "      <th>Total</th>\n",
       "    </tr>\n",
       "    <tr>\n",
       "      <th>format</th>\n",
       "      <th></th>\n",
       "      <th></th>\n",
       "      <th></th>\n",
       "      <th></th>\n",
       "    </tr>\n",
       "  </thead>\n",
       "  <tbody>\n",
       "    <tr>\n",
       "      <th>hypermarket</th>\n",
       "      <td>2611</td>\n",
       "      <td>999</td>\n",
       "      <td>1761</td>\n",
       "      <td>5371</td>\n",
       "    </tr>\n",
       "    <tr>\n",
       "      <th>minimarket</th>\n",
       "      <td>24345</td>\n",
       "      <td>7088</td>\n",
       "      <td>15370</td>\n",
       "      <td>46803</td>\n",
       "    </tr>\n",
       "    <tr>\n",
       "      <th>supermarket</th>\n",
       "      <td>9044</td>\n",
       "      <td>3913</td>\n",
       "      <td>6869</td>\n",
       "      <td>19826</td>\n",
       "    </tr>\n",
       "    <tr>\n",
       "      <th>Total</th>\n",
       "      <td>36000</td>\n",
       "      <td>12000</td>\n",
       "      <td>24000</td>\n",
       "      <td>72000</td>\n",
       "    </tr>\n",
       "  </tbody>\n",
       "</table>\n",
       "</div>"
      ],
      "text/plain": [
       "sub_category  Detergent   Rice  Sugar  Total\n",
       "format                                      \n",
       "hypermarket        2611    999   1761   5371\n",
       "minimarket        24345   7088  15370  46803\n",
       "supermarket        9044   3913   6869  19826\n",
       "Total             36000  12000  24000  72000"
      ]
     },
     "execution_count": 367,
     "metadata": {},
     "output_type": "execute_result"
    }
   ],
   "source": [
    "# code here\n",
    "pd.crosstab(\n",
    "    index=household['format'],\n",
    "    columns=household['sub_category'],\n",
    "    margins=True,\n",
    "    margins_name='Total'\n",
    ")"
   ]
  },
  {
   "cell_type": "code",
   "execution_count": 368,
   "metadata": {},
   "outputs": [
    {
     "data": {
      "text/html": [
       "<div>\n",
       "<style scoped>\n",
       "    .dataframe tbody tr th:only-of-type {\n",
       "        vertical-align: middle;\n",
       "    }\n",
       "\n",
       "    .dataframe tbody tr th {\n",
       "        vertical-align: top;\n",
       "    }\n",
       "\n",
       "    .dataframe thead th {\n",
       "        text-align: right;\n",
       "    }\n",
       "</style>\n",
       "<table border=\"1\" class=\"dataframe\">\n",
       "  <thead>\n",
       "    <tr style=\"text-align: right;\">\n",
       "      <th>sub_category</th>\n",
       "      <th>Detergent</th>\n",
       "      <th>Rice</th>\n",
       "      <th>Sugar</th>\n",
       "      <th>Total Format</th>\n",
       "    </tr>\n",
       "    <tr>\n",
       "      <th>format</th>\n",
       "      <th></th>\n",
       "      <th></th>\n",
       "      <th></th>\n",
       "      <th></th>\n",
       "    </tr>\n",
       "  </thead>\n",
       "  <tbody>\n",
       "    <tr>\n",
       "      <th>hypermarket</th>\n",
       "      <td>2611</td>\n",
       "      <td>999</td>\n",
       "      <td>1761</td>\n",
       "      <td>5371</td>\n",
       "    </tr>\n",
       "    <tr>\n",
       "      <th>minimarket</th>\n",
       "      <td>24345</td>\n",
       "      <td>7088</td>\n",
       "      <td>15370</td>\n",
       "      <td>46803</td>\n",
       "    </tr>\n",
       "    <tr>\n",
       "      <th>supermarket</th>\n",
       "      <td>9044</td>\n",
       "      <td>3913</td>\n",
       "      <td>6869</td>\n",
       "      <td>19826</td>\n",
       "    </tr>\n",
       "    <tr>\n",
       "      <th>Total Sub Category</th>\n",
       "      <td>36000</td>\n",
       "      <td>12000</td>\n",
       "      <td>24000</td>\n",
       "      <td>72000</td>\n",
       "    </tr>\n",
       "  </tbody>\n",
       "</table>\n",
       "</div>"
      ],
      "text/plain": [
       "sub_category        Detergent   Rice  Sugar  Total Format\n",
       "format                                                   \n",
       "hypermarket              2611    999   1761          5371\n",
       "minimarket              24345   7088  15370         46803\n",
       "supermarket              9044   3913   6869         19826\n",
       "Total Sub Category      36000  12000  24000         72000"
      ]
     },
     "execution_count": 368,
     "metadata": {},
     "output_type": "execute_result"
    }
   ],
   "source": [
    "pd.crosstab(\n",
    "    index=household['format'],\n",
    "    columns=household['sub_category'],\n",
    "    margins=True,\n",
    "    margins_name='Total'\n",
    ").rename({\"Total\": \"Total Sub Category\"}, axis=0).rename({\"Total\": \"Total Format\"},axis=1)"
   ]
  },
  {
   "cell_type": "markdown",
   "metadata": {},
   "source": [
    "#### Normalize\n",
    "\n",
    "Jika parameter normalize bernilai:\n",
    "- `'all'` atau `True`: melakukan normalisasi untuk keseluruhan nilai\n",
    "- `'index'`: melakukan normalisasi pada setiap **baris**\n",
    "- `'columns'`: melakukan normalisasi pada setiap **kolom**"
   ]
  },
  {
   "cell_type": "markdown",
   "metadata": {},
   "source": [
    "**Normalize by All**"
   ]
  },
  {
   "cell_type": "code",
   "execution_count": 369,
   "metadata": {},
   "outputs": [
    {
     "data": {
      "text/html": [
       "<div>\n",
       "<style scoped>\n",
       "    .dataframe tbody tr th:only-of-type {\n",
       "        vertical-align: middle;\n",
       "    }\n",
       "\n",
       "    .dataframe tbody tr th {\n",
       "        vertical-align: top;\n",
       "    }\n",
       "\n",
       "    .dataframe thead th {\n",
       "        text-align: right;\n",
       "    }\n",
       "</style>\n",
       "<table border=\"1\" class=\"dataframe\">\n",
       "  <thead>\n",
       "    <tr style=\"text-align: right;\">\n",
       "      <th>sub_category</th>\n",
       "      <th>Detergent</th>\n",
       "      <th>Rice</th>\n",
       "      <th>Sugar</th>\n",
       "      <th>Total Format</th>\n",
       "    </tr>\n",
       "    <tr>\n",
       "      <th>format</th>\n",
       "      <th></th>\n",
       "      <th></th>\n",
       "      <th></th>\n",
       "      <th></th>\n",
       "    </tr>\n",
       "  </thead>\n",
       "  <tbody>\n",
       "    <tr>\n",
       "      <th>hypermarket</th>\n",
       "      <td>0.04</td>\n",
       "      <td>0.01</td>\n",
       "      <td>0.02</td>\n",
       "      <td>0.07</td>\n",
       "    </tr>\n",
       "    <tr>\n",
       "      <th>minimarket</th>\n",
       "      <td>0.34</td>\n",
       "      <td>0.10</td>\n",
       "      <td>0.21</td>\n",
       "      <td>0.65</td>\n",
       "    </tr>\n",
       "    <tr>\n",
       "      <th>supermarket</th>\n",
       "      <td>0.13</td>\n",
       "      <td>0.05</td>\n",
       "      <td>0.10</td>\n",
       "      <td>0.28</td>\n",
       "    </tr>\n",
       "    <tr>\n",
       "      <th>Total Sub Category</th>\n",
       "      <td>0.50</td>\n",
       "      <td>0.17</td>\n",
       "      <td>0.33</td>\n",
       "      <td>1.00</td>\n",
       "    </tr>\n",
       "  </tbody>\n",
       "</table>\n",
       "</div>"
      ],
      "text/plain": [
       "sub_category        Detergent  Rice  Sugar  Total Format\n",
       "format                                                  \n",
       "hypermarket              0.04  0.01   0.02          0.07\n",
       "minimarket               0.34  0.10   0.21          0.65\n",
       "supermarket              0.13  0.05   0.10          0.28\n",
       "Total Sub Category       0.50  0.17   0.33          1.00"
      ]
     },
     "execution_count": 369,
     "metadata": {},
     "output_type": "execute_result"
    }
   ],
   "source": [
    "pd.crosstab(\n",
    "    index=household['format'],\n",
    "    columns=household['sub_category'],\n",
    "    normalize=True,\n",
    "    margins=True,\n",
    "    margins_name='Total'\n",
    ").rename({\"Total\": \"Total Sub Category\"}, axis=0).rename({\"Total\": \"Total Format\"},axis=1)"
   ]
  },
  {
   "cell_type": "markdown",
   "metadata": {},
   "source": [
    "> 📈 **Insight yang dapat diambil:** \n",
    "- 34% dari keseluruhan transaksi adalah untuk barang detergent di format minimarket\n",
    "- dll"
   ]
  },
  {
   "cell_type": "markdown",
   "metadata": {},
   "source": [
    "**Normalize by Index**"
   ]
  },
  {
   "cell_type": "code",
   "execution_count": 370,
   "metadata": {},
   "outputs": [
    {
     "data": {
      "text/html": [
       "<div>\n",
       "<style scoped>\n",
       "    .dataframe tbody tr th:only-of-type {\n",
       "        vertical-align: middle;\n",
       "    }\n",
       "\n",
       "    .dataframe tbody tr th {\n",
       "        vertical-align: top;\n",
       "    }\n",
       "\n",
       "    .dataframe thead th {\n",
       "        text-align: right;\n",
       "    }\n",
       "</style>\n",
       "<table border=\"1\" class=\"dataframe\">\n",
       "  <thead>\n",
       "    <tr style=\"text-align: right;\">\n",
       "      <th>sub_category</th>\n",
       "      <th>Detergent</th>\n",
       "      <th>Rice</th>\n",
       "      <th>Sugar</th>\n",
       "    </tr>\n",
       "    <tr>\n",
       "      <th>format</th>\n",
       "      <th></th>\n",
       "      <th></th>\n",
       "      <th></th>\n",
       "    </tr>\n",
       "  </thead>\n",
       "  <tbody>\n",
       "    <tr>\n",
       "      <th>hypermarket</th>\n",
       "      <td>48.61</td>\n",
       "      <td>18.60</td>\n",
       "      <td>32.79</td>\n",
       "    </tr>\n",
       "    <tr>\n",
       "      <th>minimarket</th>\n",
       "      <td>52.02</td>\n",
       "      <td>15.14</td>\n",
       "      <td>32.84</td>\n",
       "    </tr>\n",
       "    <tr>\n",
       "      <th>supermarket</th>\n",
       "      <td>45.62</td>\n",
       "      <td>19.74</td>\n",
       "      <td>34.65</td>\n",
       "    </tr>\n",
       "    <tr>\n",
       "      <th>Total Sub Category</th>\n",
       "      <td>50.00</td>\n",
       "      <td>16.67</td>\n",
       "      <td>33.33</td>\n",
       "    </tr>\n",
       "  </tbody>\n",
       "</table>\n",
       "</div>"
      ],
      "text/plain": [
       "sub_category        Detergent  Rice  Sugar\n",
       "format                                    \n",
       "hypermarket             48.61 18.60  32.79\n",
       "minimarket              52.02 15.14  32.84\n",
       "supermarket             45.62 19.74  34.65\n",
       "Total Sub Category      50.00 16.67  33.33"
      ]
     },
     "execution_count": 370,
     "metadata": {},
     "output_type": "execute_result"
    }
   ],
   "source": [
    "pd.crosstab(\n",
    "    index=household['format'],\n",
    "    columns=household['sub_category'],\n",
    "    normalize='index',\n",
    "    margins=True,\n",
    "    margins_name='Total'\n",
    ").rename({\"Total\": \"Total Sub Category\"}, axis=0).rename({\"Total\": \"Total Format\"},axis=1) * 100"
   ]
  },
  {
   "cell_type": "markdown",
   "metadata": {},
   "source": [
    "> 📈 **Insight yang dapat diambil:** \n",
    "- 52.02% transaksi penjualan di minimarket adalah deterjen\n",
    "- dll"
   ]
  },
  {
   "cell_type": "markdown",
   "metadata": {},
   "source": [
    "**Normalize by Columns**"
   ]
  },
  {
   "cell_type": "code",
   "execution_count": 371,
   "metadata": {},
   "outputs": [
    {
     "data": {
      "text/html": [
       "<div>\n",
       "<style scoped>\n",
       "    .dataframe tbody tr th:only-of-type {\n",
       "        vertical-align: middle;\n",
       "    }\n",
       "\n",
       "    .dataframe tbody tr th {\n",
       "        vertical-align: top;\n",
       "    }\n",
       "\n",
       "    .dataframe thead th {\n",
       "        text-align: right;\n",
       "    }\n",
       "</style>\n",
       "<table border=\"1\" class=\"dataframe\">\n",
       "  <thead>\n",
       "    <tr style=\"text-align: right;\">\n",
       "      <th>sub_category</th>\n",
       "      <th>Detergent</th>\n",
       "      <th>Rice</th>\n",
       "      <th>Sugar</th>\n",
       "      <th>Total Format</th>\n",
       "    </tr>\n",
       "    <tr>\n",
       "      <th>format</th>\n",
       "      <th></th>\n",
       "      <th></th>\n",
       "      <th></th>\n",
       "      <th></th>\n",
       "    </tr>\n",
       "  </thead>\n",
       "  <tbody>\n",
       "    <tr>\n",
       "      <th>hypermarket</th>\n",
       "      <td>7.25</td>\n",
       "      <td>8.33</td>\n",
       "      <td>7.34</td>\n",
       "      <td>7.46</td>\n",
       "    </tr>\n",
       "    <tr>\n",
       "      <th>minimarket</th>\n",
       "      <td>67.62</td>\n",
       "      <td>59.07</td>\n",
       "      <td>64.04</td>\n",
       "      <td>65.00</td>\n",
       "    </tr>\n",
       "    <tr>\n",
       "      <th>supermarket</th>\n",
       "      <td>25.12</td>\n",
       "      <td>32.61</td>\n",
       "      <td>28.62</td>\n",
       "      <td>27.54</td>\n",
       "    </tr>\n",
       "  </tbody>\n",
       "</table>\n",
       "</div>"
      ],
      "text/plain": [
       "sub_category  Detergent  Rice  Sugar  Total Format\n",
       "format                                            \n",
       "hypermarket        7.25  8.33   7.34          7.46\n",
       "minimarket        67.62 59.07  64.04         65.00\n",
       "supermarket       25.12 32.61  28.62         27.54"
      ]
     },
     "execution_count": 371,
     "metadata": {},
     "output_type": "execute_result"
    }
   ],
   "source": [
    "pd.crosstab(\n",
    "    index=household['format'],\n",
    "    columns=household['sub_category'],\n",
    "    normalize='columns',\n",
    "    margins=True,\n",
    "    margins_name='Total'\n",
    ").rename({\"Total\": \"Total Sub Category\"}, axis=0).rename({\"Total\": \"Total Format\"},axis=1) *100"
   ]
  },
  {
   "cell_type": "markdown",
   "metadata": {},
   "source": [
    "> 📈 **Insight yang dapat diambil:**\n",
    "- 67.62% transaksi penjualan deterjen terjadi di minimarket.\n",
    "- dll"
   ]
  },
  {
   "cell_type": "markdown",
   "metadata": {},
   "source": [
    "___"
   ]
  },
  {
   "cell_type": "markdown",
   "metadata": {},
   "source": [
    "## Dive Deeper: Contingency Table"
   ]
  },
  {
   "cell_type": "markdown",
   "metadata": {},
   "source": [
    "Buatlah tabel frekuensi dengan menggunakan `pd.crosstab()` dengan `yearmonth` sebagai baris dan `format` sebagai kolom. Simpan ke object `trx_ym_format`\n",
    "\n",
    "1. Dari tabel tersebut, tampilkan frekuensi transaksi yang terjadi pada **Januari 2018** (2018-01) untuk setiap format market. Hint: Gunakan metode subsetting.\n",
    "\n",
    "2. Dari tabel tersebut, pada periode (`yearmonth`) manakah **`hypermarket`** memiliki frekuensi transaksi tertinggi?"
   ]
  },
  {
   "cell_type": "code",
   "execution_count": 372,
   "metadata": {},
   "outputs": [
    {
     "data": {
      "text/html": [
       "<div>\n",
       "<style scoped>\n",
       "    .dataframe tbody tr th:only-of-type {\n",
       "        vertical-align: middle;\n",
       "    }\n",
       "\n",
       "    .dataframe tbody tr th {\n",
       "        vertical-align: top;\n",
       "    }\n",
       "\n",
       "    .dataframe thead th {\n",
       "        text-align: right;\n",
       "    }\n",
       "</style>\n",
       "<table border=\"1\" class=\"dataframe\">\n",
       "  <thead>\n",
       "    <tr style=\"text-align: right;\">\n",
       "      <th>format</th>\n",
       "      <th>hypermarket</th>\n",
       "      <th>minimarket</th>\n",
       "      <th>supermarket</th>\n",
       "    </tr>\n",
       "    <tr>\n",
       "      <th>yearmonth</th>\n",
       "      <th></th>\n",
       "      <th></th>\n",
       "      <th></th>\n",
       "    </tr>\n",
       "  </thead>\n",
       "  <tbody>\n",
       "    <tr>\n",
       "      <th>2017-10</th>\n",
       "      <td>446</td>\n",
       "      <td>3898</td>\n",
       "      <td>1656</td>\n",
       "    </tr>\n",
       "    <tr>\n",
       "      <th>2017-11</th>\n",
       "      <td>442</td>\n",
       "      <td>3912</td>\n",
       "      <td>1646</td>\n",
       "    </tr>\n",
       "    <tr>\n",
       "      <th>2017-12</th>\n",
       "      <td>427</td>\n",
       "      <td>3939</td>\n",
       "      <td>1634</td>\n",
       "    </tr>\n",
       "    <tr>\n",
       "      <th>2018-01</th>\n",
       "      <td>449</td>\n",
       "      <td>3960</td>\n",
       "      <td>1591</td>\n",
       "    </tr>\n",
       "    <tr>\n",
       "      <th>2018-02</th>\n",
       "      <td>513</td>\n",
       "      <td>3745</td>\n",
       "      <td>1742</td>\n",
       "    </tr>\n",
       "    <tr>\n",
       "      <th>2018-03</th>\n",
       "      <td>521</td>\n",
       "      <td>3540</td>\n",
       "      <td>1939</td>\n",
       "    </tr>\n",
       "    <tr>\n",
       "      <th>2018-04</th>\n",
       "      <td>376</td>\n",
       "      <td>3909</td>\n",
       "      <td>1715</td>\n",
       "    </tr>\n",
       "    <tr>\n",
       "      <th>2018-05</th>\n",
       "      <td>487</td>\n",
       "      <td>3704</td>\n",
       "      <td>1809</td>\n",
       "    </tr>\n",
       "    <tr>\n",
       "      <th>2018-06</th>\n",
       "      <td>458</td>\n",
       "      <td>3949</td>\n",
       "      <td>1593</td>\n",
       "    </tr>\n",
       "    <tr>\n",
       "      <th>2018-07</th>\n",
       "      <td>356</td>\n",
       "      <td>4293</td>\n",
       "      <td>1351</td>\n",
       "    </tr>\n",
       "    <tr>\n",
       "      <th>2018-08</th>\n",
       "      <td>455</td>\n",
       "      <td>3994</td>\n",
       "      <td>1551</td>\n",
       "    </tr>\n",
       "    <tr>\n",
       "      <th>2018-09</th>\n",
       "      <td>441</td>\n",
       "      <td>3960</td>\n",
       "      <td>1599</td>\n",
       "    </tr>\n",
       "  </tbody>\n",
       "</table>\n",
       "</div>"
      ],
      "text/plain": [
       "format     hypermarket  minimarket  supermarket\n",
       "yearmonth                                      \n",
       "2017-10            446        3898         1656\n",
       "2017-11            442        3912         1646\n",
       "2017-12            427        3939         1634\n",
       "2018-01            449        3960         1591\n",
       "2018-02            513        3745         1742\n",
       "2018-03            521        3540         1939\n",
       "2018-04            376        3909         1715\n",
       "2018-05            487        3704         1809\n",
       "2018-06            458        3949         1593\n",
       "2018-07            356        4293         1351\n",
       "2018-08            455        3994         1551\n",
       "2018-09            441        3960         1599"
      ]
     },
     "execution_count": 372,
     "metadata": {},
     "output_type": "execute_result"
    }
   ],
   "source": [
    "# code here\n",
    "trx_ym_format = pd.crosstab(\n",
    "                index=household['yearmonth'],\n",
    "                columns=household['format'],\n",
    "            )\n",
    "trx_ym_format"
   ]
  },
  {
   "cell_type": "code",
   "execution_count": 373,
   "metadata": {},
   "outputs": [
    {
     "data": {
      "text/html": [
       "<div>\n",
       "<style scoped>\n",
       "    .dataframe tbody tr th:only-of-type {\n",
       "        vertical-align: middle;\n",
       "    }\n",
       "\n",
       "    .dataframe tbody tr th {\n",
       "        vertical-align: top;\n",
       "    }\n",
       "\n",
       "    .dataframe thead th {\n",
       "        text-align: right;\n",
       "    }\n",
       "</style>\n",
       "<table border=\"1\" class=\"dataframe\">\n",
       "  <thead>\n",
       "    <tr style=\"text-align: right;\">\n",
       "      <th>format</th>\n",
       "      <th>hypermarket</th>\n",
       "      <th>minimarket</th>\n",
       "      <th>supermarket</th>\n",
       "    </tr>\n",
       "    <tr>\n",
       "      <th>yearmonth</th>\n",
       "      <th></th>\n",
       "      <th></th>\n",
       "      <th></th>\n",
       "    </tr>\n",
       "  </thead>\n",
       "  <tbody>\n",
       "    <tr>\n",
       "      <th>2018-01</th>\n",
       "      <td>449</td>\n",
       "      <td>3960</td>\n",
       "      <td>1591</td>\n",
       "    </tr>\n",
       "  </tbody>\n",
       "</table>\n",
       "</div>"
      ],
      "text/plain": [
       "format     hypermarket  minimarket  supermarket\n",
       "yearmonth                                      \n",
       "2018-01            449        3960         1591"
      ]
     },
     "execution_count": 373,
     "metadata": {},
     "output_type": "execute_result"
    }
   ],
   "source": [
    "# Soal 1\n",
    "trx_ym_format.loc[['2018-01']]"
   ]
  },
  {
   "cell_type": "code",
   "execution_count": 374,
   "metadata": {},
   "outputs": [
    {
     "data": {
      "text/plain": [
       "yearmonth\n",
       "2018-03    521\n",
       "Name: hypermarket, dtype: int64"
      ]
     },
     "execution_count": 374,
     "metadata": {},
     "output_type": "execute_result"
    }
   ],
   "source": [
    "# Soal 2\n",
    "trx_ym_format.sort_values(by='hypermarket', ascending=False)['hypermarket'].head(1)"
   ]
  },
  {
   "cell_type": "markdown",
   "metadata": {},
   "source": [
    "Di setiap menjelang akhir tahun, tepatnya pada bulan Desember, setiap market memiliki promosi spesial untuk para pengunjung. Anda diminta untuk mencari tahu:\n",
    "\n",
    "3. Format market apakah yang memiliki transaksi terbanyak pada bulan Desember?\n",
    "\n",
    "4. Kategori barang (`category`) apa yang memiliki frekuensi transaksi terbanyak pada periode bulan Desember?\n",
    "\n",
    "_Hint:_ Anda dapat melakukan partisi **nama bulan** terlebih dahulu kemudian menyimpannya ke dalam kolom baru pada dataframe `household` dengan nama `month`"
   ]
  },
  {
   "cell_type": "code",
   "execution_count": 375,
   "metadata": {},
   "outputs": [
    {
     "data": {
      "text/html": [
       "<div>\n",
       "<style scoped>\n",
       "    .dataframe tbody tr th:only-of-type {\n",
       "        vertical-align: middle;\n",
       "    }\n",
       "\n",
       "    .dataframe tbody tr th {\n",
       "        vertical-align: top;\n",
       "    }\n",
       "\n",
       "    .dataframe thead th {\n",
       "        text-align: right;\n",
       "    }\n",
       "</style>\n",
       "<table border=\"1\" class=\"dataframe\">\n",
       "  <thead>\n",
       "    <tr style=\"text-align: right;\">\n",
       "      <th>format</th>\n",
       "      <th>hypermarket</th>\n",
       "      <th>minimarket</th>\n",
       "      <th>supermarket</th>\n",
       "    </tr>\n",
       "    <tr>\n",
       "      <th>purchase_time</th>\n",
       "      <th></th>\n",
       "      <th></th>\n",
       "      <th></th>\n",
       "    </tr>\n",
       "  </thead>\n",
       "  <tbody>\n",
       "    <tr>\n",
       "      <th>December</th>\n",
       "      <td>427</td>\n",
       "      <td>3939</td>\n",
       "      <td>1634</td>\n",
       "    </tr>\n",
       "  </tbody>\n",
       "</table>\n",
       "</div>"
      ],
      "text/plain": [
       "format         hypermarket  minimarket  supermarket\n",
       "purchase_time                                      \n",
       "December               427        3939         1634"
      ]
     },
     "execution_count": 375,
     "metadata": {},
     "output_type": "execute_result"
    }
   ],
   "source": [
    "# Soal 3\n",
    "pd.crosstab(\n",
    "    index=household['purchase_time'].dt.month_name(),\n",
    "    columns=household['format'],\n",
    ").loc[['December']]"
   ]
  },
  {
   "cell_type": "code",
   "execution_count": 376,
   "metadata": {},
   "outputs": [
    {
     "data": {
      "text/html": [
       "<div>\n",
       "<style scoped>\n",
       "    .dataframe tbody tr th:only-of-type {\n",
       "        vertical-align: middle;\n",
       "    }\n",
       "\n",
       "    .dataframe tbody tr th {\n",
       "        vertical-align: top;\n",
       "    }\n",
       "\n",
       "    .dataframe thead th {\n",
       "        text-align: right;\n",
       "    }\n",
       "</style>\n",
       "<table border=\"1\" class=\"dataframe\">\n",
       "  <thead>\n",
       "    <tr style=\"text-align: right;\">\n",
       "      <th>sub_category</th>\n",
       "      <th>Detergent</th>\n",
       "      <th>Rice</th>\n",
       "      <th>Sugar</th>\n",
       "    </tr>\n",
       "    <tr>\n",
       "      <th>purchase_time</th>\n",
       "      <th></th>\n",
       "      <th></th>\n",
       "      <th></th>\n",
       "    </tr>\n",
       "  </thead>\n",
       "  <tbody>\n",
       "    <tr>\n",
       "      <th>December</th>\n",
       "      <td>3000</td>\n",
       "      <td>1000</td>\n",
       "      <td>2000</td>\n",
       "    </tr>\n",
       "  </tbody>\n",
       "</table>\n",
       "</div>"
      ],
      "text/plain": [
       "sub_category   Detergent  Rice  Sugar\n",
       "purchase_time                        \n",
       "December            3000  1000   2000"
      ]
     },
     "execution_count": 376,
     "metadata": {},
     "output_type": "execute_result"
    }
   ],
   "source": [
    "# Soal 4\n",
    "pd.crosstab(\n",
    "    index=household['purchase_time'].dt.month_name(),\n",
    "    columns=household['sub_category'],\n",
    ").loc[['December']]"
   ]
  },
  {
   "cell_type": "markdown",
   "metadata": {},
   "source": [
    "**Optional: Bonus Challenge**\n",
    "\n",
    "Dalam rangka menaikkan jumlah transaksi di **hypermarket**, perusahaan berencana untuk mengadakan _sale_ di jam dengan **transaksi terendah**. Apabila perusahaan hanya mempertimbangkan transaksi yang terjadi pada **tahun 2018**, maka pada jam berapakah _sale_ tersebut sebaiknya diadakan?\n",
    "\n",
    "_Hint_: partisi komponen datetime, conditional subsetting, membuat tabel frekuensi"
   ]
  },
  {
   "cell_type": "code",
   "execution_count": 377,
   "metadata": {},
   "outputs": [
    {
     "data": {
      "text/html": [
       "<div>\n",
       "<style scoped>\n",
       "    .dataframe tbody tr th:only-of-type {\n",
       "        vertical-align: middle;\n",
       "    }\n",
       "\n",
       "    .dataframe tbody tr th {\n",
       "        vertical-align: top;\n",
       "    }\n",
       "\n",
       "    .dataframe thead th {\n",
       "        text-align: right;\n",
       "    }\n",
       "</style>\n",
       "<table border=\"1\" class=\"dataframe\">\n",
       "  <thead>\n",
       "    <tr style=\"text-align: right;\">\n",
       "      <th>format</th>\n",
       "      <th>hypermarket</th>\n",
       "    </tr>\n",
       "    <tr>\n",
       "      <th>purchase_time</th>\n",
       "      <th></th>\n",
       "    </tr>\n",
       "  </thead>\n",
       "  <tbody>\n",
       "    <tr>\n",
       "      <th>3</th>\n",
       "      <td>1</td>\n",
       "    </tr>\n",
       "    <tr>\n",
       "      <th>1</th>\n",
       "      <td>2</td>\n",
       "    </tr>\n",
       "    <tr>\n",
       "      <th>23</th>\n",
       "      <td>3</td>\n",
       "    </tr>\n",
       "    <tr>\n",
       "      <th>2</th>\n",
       "      <td>3</td>\n",
       "    </tr>\n",
       "    <tr>\n",
       "      <th>4</th>\n",
       "      <td>5</td>\n",
       "    </tr>\n",
       "    <tr>\n",
       "      <th>6</th>\n",
       "      <td>8</td>\n",
       "    </tr>\n",
       "    <tr>\n",
       "      <th>5</th>\n",
       "      <td>9</td>\n",
       "    </tr>\n",
       "    <tr>\n",
       "      <th>7</th>\n",
       "      <td>13</td>\n",
       "    </tr>\n",
       "    <tr>\n",
       "      <th>8</th>\n",
       "      <td>18</td>\n",
       "    </tr>\n",
       "    <tr>\n",
       "      <th>0</th>\n",
       "      <td>30</td>\n",
       "    </tr>\n",
       "    <tr>\n",
       "      <th>22</th>\n",
       "      <td>31</td>\n",
       "    </tr>\n",
       "    <tr>\n",
       "      <th>9</th>\n",
       "      <td>44</td>\n",
       "    </tr>\n",
       "    <tr>\n",
       "      <th>10</th>\n",
       "      <td>138</td>\n",
       "    </tr>\n",
       "    <tr>\n",
       "      <th>11</th>\n",
       "      <td>211</td>\n",
       "    </tr>\n",
       "    <tr>\n",
       "      <th>12</th>\n",
       "      <td>300</td>\n",
       "    </tr>\n",
       "    <tr>\n",
       "      <th>14</th>\n",
       "      <td>318</td>\n",
       "    </tr>\n",
       "    <tr>\n",
       "      <th>15</th>\n",
       "      <td>321</td>\n",
       "    </tr>\n",
       "    <tr>\n",
       "      <th>16</th>\n",
       "      <td>323</td>\n",
       "    </tr>\n",
       "    <tr>\n",
       "      <th>21</th>\n",
       "      <td>338</td>\n",
       "    </tr>\n",
       "    <tr>\n",
       "      <th>18</th>\n",
       "      <td>341</td>\n",
       "    </tr>\n",
       "    <tr>\n",
       "      <th>13</th>\n",
       "      <td>349</td>\n",
       "    </tr>\n",
       "    <tr>\n",
       "      <th>17</th>\n",
       "      <td>367</td>\n",
       "    </tr>\n",
       "    <tr>\n",
       "      <th>19</th>\n",
       "      <td>435</td>\n",
       "    </tr>\n",
       "    <tr>\n",
       "      <th>20</th>\n",
       "      <td>448</td>\n",
       "    </tr>\n",
       "  </tbody>\n",
       "</table>\n",
       "</div>"
      ],
      "text/plain": [
       "format         hypermarket\n",
       "purchase_time             \n",
       "3                        1\n",
       "1                        2\n",
       "23                       3\n",
       "2                        3\n",
       "4                        5\n",
       "6                        8\n",
       "5                        9\n",
       "7                       13\n",
       "8                       18\n",
       "0                       30\n",
       "22                      31\n",
       "9                       44\n",
       "10                     138\n",
       "11                     211\n",
       "12                     300\n",
       "14                     318\n",
       "15                     321\n",
       "16                     323\n",
       "21                     338\n",
       "18                     341\n",
       "13                     349\n",
       "17                     367\n",
       "19                     435\n",
       "20                     448"
      ]
     },
     "execution_count": 377,
     "metadata": {},
     "output_type": "execute_result"
    }
   ],
   "source": [
    "# code here\n",
    "household_2018 = household[household['purchase_time'].dt.year == 2018]\n",
    "pd.crosstab(\n",
    "    index=household_2018['purchase_time'].dt.hour,\n",
    "    columns=household_2018['format'],\n",
    ").sort_values(by='hypermarket')[['hypermarket']]"
   ]
  },
  {
   "cell_type": "markdown",
   "metadata": {},
   "source": [
    "## 📝 Summary Day 2\n",
    "\n",
    "Tabel Frekuensi/Contingency digunakan untuk ...\n",
    "\n",
    "Method yang telah dipelajari:\n",
    "\n",
    "1. ...\n",
    "\n",
    "    - \n",
    "    - \n",
    "    - \n",
    "    - \n",
    "\n",
    "2. ...\n",
    "\n",
    "    - \n",
    "    - \n",
    "    - \n",
    "    - \n",
    "\n",
    "3. ...\n",
    "\n",
    "    - \n",
    "    - \n",
    "    - "
   ]
  },
  {
   "cell_type": "markdown",
   "metadata": {},
   "source": [
    "___"
   ]
  },
  {
   "cell_type": "markdown",
   "metadata": {},
   "source": [
    "## Aggregation Tables"
   ]
  },
  {
   "cell_type": "markdown",
   "metadata": {},
   "source": [
    "Selain menghitung frekuensi kemunculan data, kita juga dapat menggunakan crosstab untuk melakukan agregasi. Pada parameter crosstab, Anda dapat menambahkan parameter `values` sebagai nilai yang diagregasikan dan `aggfunc` sebagai nilai statistika yang dipakai untuk melakukan agregasi."
   ]
  },
  {
   "cell_type": "markdown",
   "metadata": {},
   "source": [
    "### `pd.crosstab`"
   ]
  },
  {
   "cell_type": "markdown",
   "metadata": {},
   "source": [
    "```\n",
    "pd.crosstab(index=...,\n",
    "            columns=...,\n",
    "            values=numerical_columns\n",
    "            aggfunc=agg_function)\n",
    "```\n",
    "\n",
    "Beberapa contoh `aggfunc`:\n",
    "- mean\n",
    "- median\n",
    "- min\n",
    "- max\n",
    "- std\n",
    "- count --> jumlah index/baris --> tabel frekuensi\n",
    "- sum"
   ]
  },
  {
   "cell_type": "markdown",
   "metadata": {},
   "source": [
    "🔻 Coba sekarang tinjau rata-rata harga satuan (`unit_price`) untuk setiap jenis barangnya (`sub_category`)"
   ]
  },
  {
   "cell_type": "code",
   "execution_count": 378,
   "metadata": {},
   "outputs": [
    {
     "data": {
      "text/html": [
       "<div>\n",
       "<style scoped>\n",
       "    .dataframe tbody tr th:only-of-type {\n",
       "        vertical-align: middle;\n",
       "    }\n",
       "\n",
       "    .dataframe tbody tr th {\n",
       "        vertical-align: top;\n",
       "    }\n",
       "\n",
       "    .dataframe thead th {\n",
       "        text-align: right;\n",
       "    }\n",
       "</style>\n",
       "<table border=\"1\" class=\"dataframe\">\n",
       "  <thead>\n",
       "    <tr style=\"text-align: right;\">\n",
       "      <th>col_0</th>\n",
       "      <th>Mean Price</th>\n",
       "    </tr>\n",
       "    <tr>\n",
       "      <th>sub_category</th>\n",
       "      <th></th>\n",
       "    </tr>\n",
       "  </thead>\n",
       "  <tbody>\n",
       "    <tr>\n",
       "      <th>Detergent</th>\n",
       "      <td>17,893.79</td>\n",
       "    </tr>\n",
       "    <tr>\n",
       "      <th>Rice</th>\n",
       "      <td>70,013.15</td>\n",
       "    </tr>\n",
       "    <tr>\n",
       "      <th>Sugar</th>\n",
       "      <td>12,645.07</td>\n",
       "    </tr>\n",
       "  </tbody>\n",
       "</table>\n",
       "</div>"
      ],
      "text/plain": [
       "col_0         Mean Price\n",
       "sub_category            \n",
       "Detergent      17,893.79\n",
       "Rice           70,013.15\n",
       "Sugar          12,645.07"
      ]
     },
     "execution_count": 378,
     "metadata": {},
     "output_type": "execute_result"
    }
   ],
   "source": [
    "pd.crosstab(\n",
    "    index=household['sub_category'],\n",
    "    columns='Mean Price',\n",
    "    values=household['unit_price'],\n",
    "    aggfunc='mean'\n",
    ")"
   ]
  },
  {
   "cell_type": "markdown",
   "metadata": {},
   "source": [
    "> 📈 **Insight yang dapat diambil:** Kategori barang Rice memiliki rata-rata harga barang tertinggi."
   ]
  },
  {
   "cell_type": "markdown",
   "metadata": {},
   "source": [
    "❓ Total jumlah item (`quantity`) yang terjual untuk per-`sub_category` "
   ]
  },
  {
   "cell_type": "code",
   "execution_count": 379,
   "metadata": {},
   "outputs": [
    {
     "data": {
      "text/html": [
       "<div>\n",
       "<style scoped>\n",
       "    .dataframe tbody tr th:only-of-type {\n",
       "        vertical-align: middle;\n",
       "    }\n",
       "\n",
       "    .dataframe tbody tr th {\n",
       "        vertical-align: top;\n",
       "    }\n",
       "\n",
       "    .dataframe thead th {\n",
       "        text-align: right;\n",
       "    }\n",
       "</style>\n",
       "<table border=\"1\" class=\"dataframe\">\n",
       "  <thead>\n",
       "    <tr style=\"text-align: right;\">\n",
       "      <th>col_0</th>\n",
       "      <th>Sum Quantity</th>\n",
       "    </tr>\n",
       "    <tr>\n",
       "      <th>sub_category</th>\n",
       "      <th></th>\n",
       "    </tr>\n",
       "  </thead>\n",
       "  <tbody>\n",
       "    <tr>\n",
       "      <th>Rice</th>\n",
       "      <td>15995</td>\n",
       "    </tr>\n",
       "    <tr>\n",
       "      <th>Sugar</th>\n",
       "      <td>41111</td>\n",
       "    </tr>\n",
       "    <tr>\n",
       "      <th>Detergent</th>\n",
       "      <td>49660</td>\n",
       "    </tr>\n",
       "  </tbody>\n",
       "</table>\n",
       "</div>"
      ],
      "text/plain": [
       "col_0         Sum Quantity\n",
       "sub_category              \n",
       "Rice                 15995\n",
       "Sugar                41111\n",
       "Detergent            49660"
      ]
     },
     "execution_count": 379,
     "metadata": {},
     "output_type": "execute_result"
    }
   ],
   "source": [
    "# code here\n",
    "pd.crosstab(\n",
    "    index=household['sub_category'],\n",
    "    columns='Sum Quantity',\n",
    "    values=household['quantity'],\n",
    "    aggfunc='sum'\n",
    ").sort_values(by='Sum Quantity')"
   ]
  },
  {
   "cell_type": "markdown",
   "metadata": {},
   "source": [
    "> 📈 **Insight yang dapat diambil:**\n",
    "- Detergent adalah kategori barang yang paling banyak terjual\n",
    "- Sugar adalah kategori barang yang sedikit terjual"
   ]
  },
  {
   "cell_type": "markdown",
   "metadata": {},
   "source": [
    "❓ **Knowledge Check: crosstab**\n",
    "\n",
    "Saat ingin belanja barang-barang kebutuhan pokok, tentunya dari sisi pembeli ingin mencari harga yang paling murah. Coba analisis apakah terdapat perbedaan harga satuan (`unit_price`) untuk masing-masing kategori barangnya (`sub_category`) pada `format` yang berbeda-beda? Apabila ya, pada format market apakah yang memiliki harga satuan Rice yang paling murah? Silahkan tinjau berdasarkan nilai rata-ratanya.\n",
    "\n",
    "_Hint:_ Gunakan `.idxmin()` pada hasil tabel agregasi untuk mendapatkan index dengan nilai terkecil"
   ]
  },
  {
   "cell_type": "code",
   "execution_count": 380,
   "metadata": {},
   "outputs": [
    {
     "data": {
      "text/html": [
       "<div>\n",
       "<style scoped>\n",
       "    .dataframe tbody tr th:only-of-type {\n",
       "        vertical-align: middle;\n",
       "    }\n",
       "\n",
       "    .dataframe tbody tr th {\n",
       "        vertical-align: top;\n",
       "    }\n",
       "\n",
       "    .dataframe thead th {\n",
       "        text-align: right;\n",
       "    }\n",
       "</style>\n",
       "<table border=\"1\" class=\"dataframe\">\n",
       "  <thead>\n",
       "    <tr style=\"text-align: right;\">\n",
       "      <th>format</th>\n",
       "      <th>hypermarket</th>\n",
       "      <th>minimarket</th>\n",
       "      <th>supermarket</th>\n",
       "    </tr>\n",
       "    <tr>\n",
       "      <th>sub_category</th>\n",
       "      <th></th>\n",
       "      <th></th>\n",
       "      <th></th>\n",
       "    </tr>\n",
       "  </thead>\n",
       "  <tbody>\n",
       "    <tr>\n",
       "      <th>Detergent</th>\n",
       "      <td>19,328.14</td>\n",
       "      <td>17,757.14</td>\n",
       "      <td>17,847.56</td>\n",
       "    </tr>\n",
       "    <tr>\n",
       "      <th>Rice</th>\n",
       "      <td>71,205.46</td>\n",
       "      <td>67,135.57</td>\n",
       "      <td>74,921.18</td>\n",
       "    </tr>\n",
       "    <tr>\n",
       "      <th>Sugar</th>\n",
       "      <td>13,539.92</td>\n",
       "      <td>12,352.14</td>\n",
       "      <td>13,071.11</td>\n",
       "    </tr>\n",
       "  </tbody>\n",
       "</table>\n",
       "</div>"
      ],
      "text/plain": [
       "format        hypermarket  minimarket  supermarket\n",
       "sub_category                                      \n",
       "Detergent       19,328.14   17,757.14    17,847.56\n",
       "Rice            71,205.46   67,135.57    74,921.18\n",
       "Sugar           13,539.92   12,352.14    13,071.11"
      ]
     },
     "execution_count": 380,
     "metadata": {},
     "output_type": "execute_result"
    }
   ],
   "source": [
    "# code here\n",
    "pd.crosstab(\n",
    "    index=household['sub_category'],\n",
    "    columns=household['format'],\n",
    "    values=household['unit_price'],\n",
    "    aggfunc='mean'\n",
    ")"
   ]
  },
  {
   "cell_type": "code",
   "execution_count": 381,
   "metadata": {},
   "outputs": [
    {
     "data": {
      "text/plain": [
       "sub_category\n",
       "Detergent    minimarket\n",
       "Rice         minimarket\n",
       "Sugar        minimarket\n",
       "dtype: object"
      ]
     },
     "execution_count": 381,
     "metadata": {},
     "output_type": "execute_result"
    }
   ],
   "source": [
    "pd.crosstab(\n",
    "    index=household['sub_category'],\n",
    "    columns=household['format'],\n",
    "    values=household['unit_price'],\n",
    "    aggfunc='mean'\n",
    ").idxmin(axis=1)"
   ]
  },
  {
   "cell_type": "markdown",
   "metadata": {},
   "source": [
    "> 📈 **Insight yang dapat diambil:** ..."
   ]
  },
  {
   "cell_type": "markdown",
   "metadata": {},
   "source": [
    "Quick Summary EDA: 1. tabel agregasi: info mengenai hasil agregasi (jumlah, rata-rata, median) suatu data. dapat dibentuk menggunakan pd.crosstab() dengan menambahkan parameter value dan aggfunc. 2. gunakan .sort_values() untuk mengurutkan hasil agregasi. 3. peletakan index dan colomn untuk dua atau lebih pengelompokan kolom dataset bebas di antara keduanya. "
   ]
  },
  {
   "cell_type": "markdown",
   "metadata": {},
   "source": [
    "**❓ Exercise**:\n",
    "\n",
    "Divisi sales ingin mengetahui pada periode kuarter (year-quarter) berapakah hypermarket mencapai total sales tertingginya?\n",
    "\n",
    "<!--\n",
    "Hint:\n",
    "\n",
    "1. Buatlah kolom `subtotal` yang merupakan perkalian `quantity` dan `unit_price` dari setiap barangnya.\n",
    "2. Partisi kolom `purchase_time` untuk mendapatkan periode kuarter\n",
    "2. Dengan menggunakan nilai `subtotal`, hitunglah total penjualan per kuarter untuk masing-masing `format`.\n",
    "3. Cari tahu kapan hypermarket menyentuh total sales tertingginya\n",
    "-->"
   ]
  },
  {
   "cell_type": "code",
   "execution_count": 382,
   "metadata": {},
   "outputs": [
    {
     "data": {
      "text/html": [
       "<div>\n",
       "<style scoped>\n",
       "    .dataframe tbody tr th:only-of-type {\n",
       "        vertical-align: middle;\n",
       "    }\n",
       "\n",
       "    .dataframe tbody tr th {\n",
       "        vertical-align: top;\n",
       "    }\n",
       "\n",
       "    .dataframe thead th {\n",
       "        text-align: right;\n",
       "    }\n",
       "</style>\n",
       "<table border=\"1\" class=\"dataframe\">\n",
       "  <thead>\n",
       "    <tr style=\"text-align: right;\">\n",
       "      <th>format</th>\n",
       "      <th>hypermarket</th>\n",
       "      <th>minimarket</th>\n",
       "      <th>supermarket</th>\n",
       "    </tr>\n",
       "    <tr>\n",
       "      <th>quarter</th>\n",
       "      <th></th>\n",
       "      <th></th>\n",
       "      <th></th>\n",
       "    </tr>\n",
       "  </thead>\n",
       "  <tbody>\n",
       "    <tr>\n",
       "      <th>2018Q1</th>\n",
       "      <td>61,795,966.99</td>\n",
       "      <td>379,011,225.00</td>\n",
       "      <td>193,424,469.01</td>\n",
       "    </tr>\n",
       "    <tr>\n",
       "      <th>2018Q2</th>\n",
       "      <td>57,461,721.02</td>\n",
       "      <td>385,133,402.02</td>\n",
       "      <td>197,532,335.99</td>\n",
       "    </tr>\n",
       "    <tr>\n",
       "      <th>2017Q4</th>\n",
       "      <td>51,524,121.00</td>\n",
       "      <td>358,094,171.00</td>\n",
       "      <td>194,870,162.00</td>\n",
       "    </tr>\n",
       "    <tr>\n",
       "      <th>2018Q3</th>\n",
       "      <td>47,665,485.00</td>\n",
       "      <td>374,213,834.99</td>\n",
       "      <td>161,654,589.03</td>\n",
       "    </tr>\n",
       "  </tbody>\n",
       "</table>\n",
       "</div>"
      ],
      "text/plain": [
       "format    hypermarket     minimarket    supermarket\n",
       "quarter                                            \n",
       "2018Q1  61,795,966.99 379,011,225.00 193,424,469.01\n",
       "2018Q2  57,461,721.02 385,133,402.02 197,532,335.99\n",
       "2017Q4  51,524,121.00 358,094,171.00 194,870,162.00\n",
       "2018Q3  47,665,485.00 374,213,834.99 161,654,589.03"
      ]
     },
     "execution_count": 382,
     "metadata": {},
     "output_type": "execute_result"
    }
   ],
   "source": [
    "# code here\n",
    "# Approach 1\n",
    "household['subtotal'] = household['unit_price'] * household['quantity']\n",
    "household['quarter'] = household['purchase_time'].dt.to_period('Q')\n",
    "pd.crosstab(\n",
    "    index=household['quarter'],\n",
    "    columns=household['format'],\n",
    "    values=household['subtotal'],\n",
    "    aggfunc='sum'\n",
    ").sort_values(by='hypermarket', ascending=False)"
   ]
  },
  {
   "cell_type": "code",
   "execution_count": 383,
   "metadata": {},
   "outputs": [
    {
     "data": {
      "text/html": [
       "<div>\n",
       "<style scoped>\n",
       "    .dataframe tbody tr th:only-of-type {\n",
       "        vertical-align: middle;\n",
       "    }\n",
       "\n",
       "    .dataframe tbody tr th {\n",
       "        vertical-align: top;\n",
       "    }\n",
       "\n",
       "    .dataframe thead tr th {\n",
       "        text-align: left;\n",
       "    }\n",
       "\n",
       "    .dataframe thead tr:last-of-type th {\n",
       "        text-align: right;\n",
       "    }\n",
       "</style>\n",
       "<table border=\"1\" class=\"dataframe\">\n",
       "  <thead>\n",
       "    <tr>\n",
       "      <th></th>\n",
       "      <th colspan=\"3\" halign=\"left\">sum</th>\n",
       "      <th colspan=\"3\" halign=\"left\">mean</th>\n",
       "    </tr>\n",
       "    <tr>\n",
       "      <th>format</th>\n",
       "      <th>hypermarket</th>\n",
       "      <th>minimarket</th>\n",
       "      <th>supermarket</th>\n",
       "      <th>hypermarket</th>\n",
       "      <th>minimarket</th>\n",
       "      <th>supermarket</th>\n",
       "    </tr>\n",
       "    <tr>\n",
       "      <th>quarter</th>\n",
       "      <th></th>\n",
       "      <th></th>\n",
       "      <th></th>\n",
       "      <th></th>\n",
       "      <th></th>\n",
       "      <th></th>\n",
       "    </tr>\n",
       "  </thead>\n",
       "  <tbody>\n",
       "    <tr>\n",
       "      <th>2017Q4</th>\n",
       "      <td>51,524,121.00</td>\n",
       "      <td>358,094,171.00</td>\n",
       "      <td>194,870,162.00</td>\n",
       "      <td>39,181.84</td>\n",
       "      <td>30,478.69</td>\n",
       "      <td>39,479.37</td>\n",
       "    </tr>\n",
       "    <tr>\n",
       "      <th>2018Q1</th>\n",
       "      <td>61,795,966.99</td>\n",
       "      <td>379,011,225.00</td>\n",
       "      <td>193,424,469.01</td>\n",
       "      <td>41,669.57</td>\n",
       "      <td>33,704.87</td>\n",
       "      <td>36,689.01</td>\n",
       "    </tr>\n",
       "    <tr>\n",
       "      <th>2018Q2</th>\n",
       "      <td>57,461,721.02</td>\n",
       "      <td>385,133,402.02</td>\n",
       "      <td>197,532,335.99</td>\n",
       "      <td>43,498.65</td>\n",
       "      <td>33,310.28</td>\n",
       "      <td>38,603.15</td>\n",
       "    </tr>\n",
       "    <tr>\n",
       "      <th>2018Q3</th>\n",
       "      <td>47,665,485.00</td>\n",
       "      <td>374,213,834.99</td>\n",
       "      <td>161,654,589.03</td>\n",
       "      <td>38,071.47</td>\n",
       "      <td>30,555.55</td>\n",
       "      <td>35,915.26</td>\n",
       "    </tr>\n",
       "  </tbody>\n",
       "</table>\n",
       "</div>"
      ],
      "text/plain": [
       "                  sum                                      mean             \\\n",
       "format    hypermarket     minimarket    supermarket hypermarket minimarket   \n",
       "quarter                                                                      \n",
       "2017Q4  51,524,121.00 358,094,171.00 194,870,162.00   39,181.84  30,478.69   \n",
       "2018Q1  61,795,966.99 379,011,225.00 193,424,469.01   41,669.57  33,704.87   \n",
       "2018Q2  57,461,721.02 385,133,402.02 197,532,335.99   43,498.65  33,310.28   \n",
       "2018Q3  47,665,485.00 374,213,834.99 161,654,589.03   38,071.47  30,555.55   \n",
       "\n",
       "                     \n",
       "format  supermarket  \n",
       "quarter              \n",
       "2017Q4    39,479.37  \n",
       "2018Q1    36,689.01  \n",
       "2018Q2    38,603.15  \n",
       "2018Q3    35,915.26  "
      ]
     },
     "execution_count": 383,
     "metadata": {},
     "output_type": "execute_result"
    }
   ],
   "source": [
    "household['subtotal'] = household['unit_price'] * household['quantity']\n",
    "household['quarter'] = household['purchase_time'].dt.to_period('Q')\n",
    "pd.crosstab(\n",
    "    index=household['quarter'],\n",
    "    columns=household['format'],\n",
    "    values=household['subtotal'],\n",
    "    aggfunc=['sum', 'mean']\n",
    ")"
   ]
  },
  {
   "cell_type": "markdown",
   "metadata": {},
   "source": [
    "> 📈 **Insight yang dapat diambil:** Di hypermarket, total sales paling tinggi ada di Q1 tahun 2018"
   ]
  },
  {
   "cell_type": "markdown",
   "metadata": {},
   "source": [
    "___"
   ]
  },
  {
   "cell_type": "markdown",
   "metadata": {},
   "source": [
    "### (Optional) Higher Dimensional Table"
   ]
  },
  {
   "cell_type": "markdown",
   "metadata": {},
   "source": [
    "Higher dimensional table bisa juga disebut sebagai multi-index dataframe (data yang memiliki lebih dari 1 index). Digunakan untuk melakukan proses tabulasi silang dengan menggunakan beberapa kolom kategori."
   ]
  },
  {
   "cell_type": "markdown",
   "metadata": {},
   "source": [
    "Berikut adalah contoh crosstab dengan empat kategori pengelompokkan untuk mengetahui jumlah barang (`quantity`) yang terjual untuk masing-masing `sub_category` dan `format`, dibedakan per `yearmonth` dan `dayofweek`:"
   ]
  },
  {
   "cell_type": "code",
   "execution_count": 384,
   "metadata": {
    "scrolled": true
   },
   "outputs": [
    {
     "data": {
      "text/html": [
       "<div>\n",
       "<style scoped>\n",
       "    .dataframe tbody tr th:only-of-type {\n",
       "        vertical-align: middle;\n",
       "    }\n",
       "\n",
       "    .dataframe tbody tr th {\n",
       "        vertical-align: top;\n",
       "    }\n",
       "\n",
       "    .dataframe thead tr th {\n",
       "        text-align: left;\n",
       "    }\n",
       "\n",
       "    .dataframe thead tr:last-of-type th {\n",
       "        text-align: right;\n",
       "    }\n",
       "</style>\n",
       "<table border=\"1\" class=\"dataframe\">\n",
       "  <thead>\n",
       "    <tr>\n",
       "      <th></th>\n",
       "      <th>sub_category</th>\n",
       "      <th colspan=\"3\" halign=\"left\">Detergent</th>\n",
       "      <th colspan=\"3\" halign=\"left\">Rice</th>\n",
       "      <th colspan=\"3\" halign=\"left\">Sugar</th>\n",
       "    </tr>\n",
       "    <tr>\n",
       "      <th></th>\n",
       "      <th>format</th>\n",
       "      <th>hypermarket</th>\n",
       "      <th>minimarket</th>\n",
       "      <th>supermarket</th>\n",
       "      <th>hypermarket</th>\n",
       "      <th>minimarket</th>\n",
       "      <th>supermarket</th>\n",
       "      <th>hypermarket</th>\n",
       "      <th>minimarket</th>\n",
       "      <th>supermarket</th>\n",
       "    </tr>\n",
       "    <tr>\n",
       "      <th>yearmonth</th>\n",
       "      <th>dayofweek</th>\n",
       "      <th></th>\n",
       "      <th></th>\n",
       "      <th></th>\n",
       "      <th></th>\n",
       "      <th></th>\n",
       "      <th></th>\n",
       "      <th></th>\n",
       "      <th></th>\n",
       "      <th></th>\n",
       "    </tr>\n",
       "  </thead>\n",
       "  <tbody>\n",
       "    <tr>\n",
       "      <th rowspan=\"5\" valign=\"top\">2017-10</th>\n",
       "      <th>Monday</th>\n",
       "      <td>30</td>\n",
       "      <td>345</td>\n",
       "      <td>129</td>\n",
       "      <td>20</td>\n",
       "      <td>157</td>\n",
       "      <td>42</td>\n",
       "      <td>30</td>\n",
       "      <td>282</td>\n",
       "      <td>143</td>\n",
       "    </tr>\n",
       "    <tr>\n",
       "      <th>Tuesday</th>\n",
       "      <td>34</td>\n",
       "      <td>342</td>\n",
       "      <td>149</td>\n",
       "      <td>10</td>\n",
       "      <td>116</td>\n",
       "      <td>54</td>\n",
       "      <td>38</td>\n",
       "      <td>319</td>\n",
       "      <td>159</td>\n",
       "    </tr>\n",
       "    <tr>\n",
       "      <th>Wednesday</th>\n",
       "      <td>22</td>\n",
       "      <td>346</td>\n",
       "      <td>101</td>\n",
       "      <td>6</td>\n",
       "      <td>86</td>\n",
       "      <td>45</td>\n",
       "      <td>34</td>\n",
       "      <td>229</td>\n",
       "      <td>114</td>\n",
       "    </tr>\n",
       "    <tr>\n",
       "      <th>Thursday</th>\n",
       "      <td>34</td>\n",
       "      <td>264</td>\n",
       "      <td>100</td>\n",
       "      <td>4</td>\n",
       "      <td>97</td>\n",
       "      <td>44</td>\n",
       "      <td>21</td>\n",
       "      <td>262</td>\n",
       "      <td>85</td>\n",
       "    </tr>\n",
       "    <tr>\n",
       "      <th>Friday</th>\n",
       "      <td>61</td>\n",
       "      <td>408</td>\n",
       "      <td>149</td>\n",
       "      <td>22</td>\n",
       "      <td>109</td>\n",
       "      <td>46</td>\n",
       "      <td>43</td>\n",
       "      <td>287</td>\n",
       "      <td>96</td>\n",
       "    </tr>\n",
       "    <tr>\n",
       "      <th>...</th>\n",
       "      <th>...</th>\n",
       "      <td>...</td>\n",
       "      <td>...</td>\n",
       "      <td>...</td>\n",
       "      <td>...</td>\n",
       "      <td>...</td>\n",
       "      <td>...</td>\n",
       "      <td>...</td>\n",
       "      <td>...</td>\n",
       "      <td>...</td>\n",
       "    </tr>\n",
       "    <tr>\n",
       "      <th rowspan=\"5\" valign=\"top\">2018-09</th>\n",
       "      <th>Wednesday</th>\n",
       "      <td>14</td>\n",
       "      <td>318</td>\n",
       "      <td>114</td>\n",
       "      <td>19</td>\n",
       "      <td>90</td>\n",
       "      <td>45</td>\n",
       "      <td>20</td>\n",
       "      <td>218</td>\n",
       "      <td>97</td>\n",
       "    </tr>\n",
       "    <tr>\n",
       "      <th>Thursday</th>\n",
       "      <td>40</td>\n",
       "      <td>282</td>\n",
       "      <td>102</td>\n",
       "      <td>31</td>\n",
       "      <td>75</td>\n",
       "      <td>44</td>\n",
       "      <td>60</td>\n",
       "      <td>388</td>\n",
       "      <td>99</td>\n",
       "    </tr>\n",
       "    <tr>\n",
       "      <th>Friday</th>\n",
       "      <td>43</td>\n",
       "      <td>377</td>\n",
       "      <td>168</td>\n",
       "      <td>16</td>\n",
       "      <td>119</td>\n",
       "      <td>38</td>\n",
       "      <td>21</td>\n",
       "      <td>320</td>\n",
       "      <td>156</td>\n",
       "    </tr>\n",
       "    <tr>\n",
       "      <th>Saturday</th>\n",
       "      <td>69</td>\n",
       "      <td>507</td>\n",
       "      <td>278</td>\n",
       "      <td>18</td>\n",
       "      <td>166</td>\n",
       "      <td>72</td>\n",
       "      <td>39</td>\n",
       "      <td>395</td>\n",
       "      <td>160</td>\n",
       "    </tr>\n",
       "    <tr>\n",
       "      <th>Sunday</th>\n",
       "      <td>91</td>\n",
       "      <td>493</td>\n",
       "      <td>205</td>\n",
       "      <td>26</td>\n",
       "      <td>147</td>\n",
       "      <td>66</td>\n",
       "      <td>35</td>\n",
       "      <td>410</td>\n",
       "      <td>142</td>\n",
       "    </tr>\n",
       "  </tbody>\n",
       "</table>\n",
       "<p>84 rows × 9 columns</p>\n",
       "</div>"
      ],
      "text/plain": [
       "sub_category          Detergent                               Rice             \\\n",
       "format              hypermarket minimarket supermarket hypermarket minimarket   \n",
       "yearmonth dayofweek                                                             \n",
       "2017-10   Monday             30        345         129          20        157   \n",
       "          Tuesday            34        342         149          10        116   \n",
       "          Wednesday          22        346         101           6         86   \n",
       "          Thursday           34        264         100           4         97   \n",
       "          Friday             61        408         149          22        109   \n",
       "...                         ...        ...         ...         ...        ...   \n",
       "2018-09   Wednesday          14        318         114          19         90   \n",
       "          Thursday           40        282         102          31         75   \n",
       "          Friday             43        377         168          16        119   \n",
       "          Saturday           69        507         278          18        166   \n",
       "          Sunday             91        493         205          26        147   \n",
       "\n",
       "sub_category                          Sugar                         \n",
       "format              supermarket hypermarket minimarket supermarket  \n",
       "yearmonth dayofweek                                                 \n",
       "2017-10   Monday             42          30        282         143  \n",
       "          Tuesday            54          38        319         159  \n",
       "          Wednesday          45          34        229         114  \n",
       "          Thursday           44          21        262          85  \n",
       "          Friday             46          43        287          96  \n",
       "...                         ...         ...        ...         ...  \n",
       "2018-09   Wednesday          45          20        218          97  \n",
       "          Thursday           44          60        388          99  \n",
       "          Friday             38          21        320         156  \n",
       "          Saturday           72          39        395         160  \n",
       "          Sunday             66          35        410         142  \n",
       "\n",
       "[84 rows x 9 columns]"
      ]
     },
     "execution_count": 384,
     "metadata": {},
     "output_type": "execute_result"
    }
   ],
   "source": [
    "pd.crosstab(\n",
    "    index=[household['yearmonth'], household['dayofweek']],\n",
    "    columns=[household['sub_category'], household['format']],\n",
    "    values=household['quantity'],\n",
    "    aggfunc='sum')"
   ]
  },
  {
   "cell_type": "markdown",
   "metadata": {},
   "source": [
    "___"
   ]
  },
  {
   "cell_type": "markdown",
   "metadata": {},
   "source": [
    "### `pd.pivot_table`"
   ]
  },
  {
   "cell_type": "markdown",
   "metadata": {},
   "source": [
    "Cara kerja `pivot_table` tidak jauh berbeda dengan `crosstab()`. Parameter di kedua method inipun hampir sama. Yang membedakan di antara keduanya adalah adanya parameter `data` yang menspesifikasikan dataframe yang akan di pakai pada `pivot_table`\n",
    "\n",
    "Syntax:\n",
    "\n",
    "```{python}\n",
    "pd.pivot_table(\n",
    "    data=...,\n",
    "    index=...,\n",
    "    columns=...,\n",
    "    values=...,\n",
    "    aggfunc=...\n",
    ")\n",
    "```\n",
    "\n",
    "OR\n",
    "\n",
    "```{python}\n",
    "data.pivot_table(\n",
    "    index=...,\n",
    "    columns=...,\n",
    "    values=...,\n",
    "    aggfunc=...\n",
    ")\n",
    "```\n",
    "\n",
    "Kita dapat menggunakan `pivot_table` dengan beberapa parameter sebagai berikut.\n",
    "- `data`: dataframe yang kita gunakan\n",
    "- `index`: kolom yang akan menjadi index row\n",
    "- `columns`: kolom yang akan menjadi index kolom\n",
    "- `values`: nilai yang digunakan untuk mengisi tabel\n",
    "- `aggfunc`: fungsi agregasi"
   ]
  },
  {
   "cell_type": "markdown",
   "metadata": {},
   "source": [
    "Untuk memahami penggunaan `pivot_table`, mari kita bandingkan tabel agregasi yang dibuat menggunakan `crosstab` dan `pivot_table`.\n",
    "\n",
    "Berikut crosstab yang menampilkan rata-rata harga satuan `sub_category` untuk masing-masing `format`:"
   ]
  },
  {
   "cell_type": "code",
   "execution_count": 385,
   "metadata": {},
   "outputs": [
    {
     "data": {
      "text/html": [
       "<div>\n",
       "<style scoped>\n",
       "    .dataframe tbody tr th:only-of-type {\n",
       "        vertical-align: middle;\n",
       "    }\n",
       "\n",
       "    .dataframe tbody tr th {\n",
       "        vertical-align: top;\n",
       "    }\n",
       "\n",
       "    .dataframe thead th {\n",
       "        text-align: right;\n",
       "    }\n",
       "</style>\n",
       "<table border=\"1\" class=\"dataframe\">\n",
       "  <thead>\n",
       "    <tr style=\"text-align: right;\">\n",
       "      <th>format</th>\n",
       "      <th>hypermarket</th>\n",
       "      <th>minimarket</th>\n",
       "      <th>supermarket</th>\n",
       "    </tr>\n",
       "    <tr>\n",
       "      <th>sub_category</th>\n",
       "      <th></th>\n",
       "      <th></th>\n",
       "      <th></th>\n",
       "    </tr>\n",
       "  </thead>\n",
       "  <tbody>\n",
       "    <tr>\n",
       "      <th>Detergent</th>\n",
       "      <td>19,328.14</td>\n",
       "      <td>17,757.14</td>\n",
       "      <td>17,847.56</td>\n",
       "    </tr>\n",
       "    <tr>\n",
       "      <th>Rice</th>\n",
       "      <td>71,205.46</td>\n",
       "      <td>67,135.57</td>\n",
       "      <td>74,921.18</td>\n",
       "    </tr>\n",
       "    <tr>\n",
       "      <th>Sugar</th>\n",
       "      <td>13,539.92</td>\n",
       "      <td>12,352.14</td>\n",
       "      <td>13,071.11</td>\n",
       "    </tr>\n",
       "  </tbody>\n",
       "</table>\n",
       "</div>"
      ],
      "text/plain": [
       "format        hypermarket  minimarket  supermarket\n",
       "sub_category                                      \n",
       "Detergent       19,328.14   17,757.14    17,847.56\n",
       "Rice            71,205.46   67,135.57    74,921.18\n",
       "Sugar           13,539.92   12,352.14    13,071.11"
      ]
     },
     "execution_count": 385,
     "metadata": {},
     "output_type": "execute_result"
    }
   ],
   "source": [
    "pd.crosstab(\n",
    "    index=household['sub_category'], \n",
    "    columns=household['format'], \n",
    "    values=household['unit_price'],\n",
    "    aggfunc='mean'\n",
    ")"
   ]
  },
  {
   "cell_type": "markdown",
   "metadata": {},
   "source": [
    "🔻 Buat ulang tabel agregasi di atas menggunakan `pd.pivot_table()`. Secara default, `aggfunc='mean'`"
   ]
  },
  {
   "cell_type": "code",
   "execution_count": 386,
   "metadata": {},
   "outputs": [
    {
     "data": {
      "text/html": [
       "<div>\n",
       "<style scoped>\n",
       "    .dataframe tbody tr th:only-of-type {\n",
       "        vertical-align: middle;\n",
       "    }\n",
       "\n",
       "    .dataframe tbody tr th {\n",
       "        vertical-align: top;\n",
       "    }\n",
       "\n",
       "    .dataframe thead th {\n",
       "        text-align: right;\n",
       "    }\n",
       "</style>\n",
       "<table border=\"1\" class=\"dataframe\">\n",
       "  <thead>\n",
       "    <tr style=\"text-align: right;\">\n",
       "      <th>format</th>\n",
       "      <th>hypermarket</th>\n",
       "      <th>minimarket</th>\n",
       "      <th>supermarket</th>\n",
       "    </tr>\n",
       "    <tr>\n",
       "      <th>sub_category</th>\n",
       "      <th></th>\n",
       "      <th></th>\n",
       "      <th></th>\n",
       "    </tr>\n",
       "  </thead>\n",
       "  <tbody>\n",
       "    <tr>\n",
       "      <th>Detergent</th>\n",
       "      <td>19,328.14</td>\n",
       "      <td>17,757.14</td>\n",
       "      <td>17,847.56</td>\n",
       "    </tr>\n",
       "    <tr>\n",
       "      <th>Rice</th>\n",
       "      <td>71,205.46</td>\n",
       "      <td>67,135.57</td>\n",
       "      <td>74,921.18</td>\n",
       "    </tr>\n",
       "    <tr>\n",
       "      <th>Sugar</th>\n",
       "      <td>13,539.92</td>\n",
       "      <td>12,352.14</td>\n",
       "      <td>13,071.11</td>\n",
       "    </tr>\n",
       "  </tbody>\n",
       "</table>\n",
       "</div>"
      ],
      "text/plain": [
       "format        hypermarket  minimarket  supermarket\n",
       "sub_category                                      \n",
       "Detergent       19,328.14   17,757.14    17,847.56\n",
       "Rice            71,205.46   67,135.57    74,921.18\n",
       "Sugar           13,539.92   12,352.14    13,071.11"
      ]
     },
     "execution_count": 386,
     "metadata": {},
     "output_type": "execute_result"
    }
   ],
   "source": [
    "pd.pivot_table(\n",
    "    data=household,\n",
    "    index='sub_category',\n",
    "    columns='format',\n",
    "    values='unit_price',\n",
    "    aggfunc='mean'\n",
    ")"
   ]
  },
  {
   "cell_type": "markdown",
   "metadata": {},
   "source": [
    "🔻 Kita juga dapat menggunakan `.pivot_table()` sebagai method pada sebuah objek dataframe:"
   ]
  },
  {
   "cell_type": "code",
   "execution_count": 387,
   "metadata": {},
   "outputs": [
    {
     "data": {
      "text/html": [
       "<div>\n",
       "<style scoped>\n",
       "    .dataframe tbody tr th:only-of-type {\n",
       "        vertical-align: middle;\n",
       "    }\n",
       "\n",
       "    .dataframe tbody tr th {\n",
       "        vertical-align: top;\n",
       "    }\n",
       "\n",
       "    .dataframe thead th {\n",
       "        text-align: right;\n",
       "    }\n",
       "</style>\n",
       "<table border=\"1\" class=\"dataframe\">\n",
       "  <thead>\n",
       "    <tr style=\"text-align: right;\">\n",
       "      <th>format</th>\n",
       "      <th>hypermarket</th>\n",
       "      <th>minimarket</th>\n",
       "      <th>supermarket</th>\n",
       "    </tr>\n",
       "    <tr>\n",
       "      <th>sub_category</th>\n",
       "      <th></th>\n",
       "      <th></th>\n",
       "      <th></th>\n",
       "    </tr>\n",
       "  </thead>\n",
       "  <tbody>\n",
       "    <tr>\n",
       "      <th>Detergent</th>\n",
       "      <td>19,328.14</td>\n",
       "      <td>17,757.14</td>\n",
       "      <td>17,847.56</td>\n",
       "    </tr>\n",
       "    <tr>\n",
       "      <th>Rice</th>\n",
       "      <td>71,205.46</td>\n",
       "      <td>67,135.57</td>\n",
       "      <td>74,921.18</td>\n",
       "    </tr>\n",
       "    <tr>\n",
       "      <th>Sugar</th>\n",
       "      <td>13,539.92</td>\n",
       "      <td>12,352.14</td>\n",
       "      <td>13,071.11</td>\n",
       "    </tr>\n",
       "  </tbody>\n",
       "</table>\n",
       "</div>"
      ],
      "text/plain": [
       "format        hypermarket  minimarket  supermarket\n",
       "sub_category                                      \n",
       "Detergent       19,328.14   17,757.14    17,847.56\n",
       "Rice            71,205.46   67,135.57    74,921.18\n",
       "Sugar           13,539.92   12,352.14    13,071.11"
      ]
     },
     "execution_count": 387,
     "metadata": {},
     "output_type": "execute_result"
    }
   ],
   "source": [
    "household.pivot_table(\n",
    "    index='sub_category',\n",
    "    columns='format',\n",
    "    values='unit_price',\n",
    "    aggfunc='mean'\n",
    ")"
   ]
  },
  {
   "cell_type": "markdown",
   "metadata": {},
   "source": [
    "❓ Coba tampilkan tabel aggregasi total penjualan (berdasarkan kolom `subtotal`) untuk masing-masing `sub_category` pada supermarket.\n",
    "\n",
    "Berikut kita menjawab business question di atas menggunakan kombinasi conditional subsetting dan pivot table:"
   ]
  },
  {
   "cell_type": "code",
   "execution_count": 391,
   "metadata": {},
   "outputs": [
    {
     "data": {
      "text/html": [
       "<div>\n",
       "<style scoped>\n",
       "    .dataframe tbody tr th:only-of-type {\n",
       "        vertical-align: middle;\n",
       "    }\n",
       "\n",
       "    .dataframe tbody tr th {\n",
       "        vertical-align: top;\n",
       "    }\n",
       "\n",
       "    .dataframe thead th {\n",
       "        text-align: right;\n",
       "    }\n",
       "</style>\n",
       "<table border=\"1\" class=\"dataframe\">\n",
       "  <thead>\n",
       "    <tr style=\"text-align: right;\">\n",
       "      <th></th>\n",
       "      <th>subtotal</th>\n",
       "    </tr>\n",
       "    <tr>\n",
       "      <th>sub_category</th>\n",
       "      <th></th>\n",
       "    </tr>\n",
       "  </thead>\n",
       "  <tbody>\n",
       "    <tr>\n",
       "      <th>Detergent</th>\n",
       "      <td>223,738,199.99</td>\n",
       "    </tr>\n",
       "    <tr>\n",
       "      <th>Rice</th>\n",
       "      <td>368,846,617.01</td>\n",
       "    </tr>\n",
       "    <tr>\n",
       "      <th>Sugar</th>\n",
       "      <td>154,896,739.03</td>\n",
       "    </tr>\n",
       "  </tbody>\n",
       "</table>\n",
       "</div>"
      ],
      "text/plain": [
       "                   subtotal\n",
       "sub_category               \n",
       "Detergent    223,738,199.99\n",
       "Rice         368,846,617.01\n",
       "Sugar        154,896,739.03"
      ]
     },
     "execution_count": 391,
     "metadata": {},
     "output_type": "execute_result"
    }
   ],
   "source": [
    "household[household['format'] == 'supermarket'].pivot_table(\n",
    "    index='sub_category',\n",
    "    values='subtotal',\n",
    "    aggfunc='sum'\n",
    ")"
   ]
  },
  {
   "cell_type": "markdown",
   "metadata": {},
   "source": [
    "#### Dive Deeper: Re-create Frequency Table"
   ]
  },
  {
   "cell_type": "markdown",
   "metadata": {},
   "source": [
    "Buat kembali tabel frekuensi berikut menggunakan pivot table.\n",
    "\n",
    "| category                 |   hypermarket |   minimarket |   supermarket |   Total |\n",
    "|:-------------------------|--------------:|-------------:|--------------:|--------:|\n",
    "| **Fabric Care**          |          2611 |        24345 |          9044 |   36000 |\n",
    "| **Rice**                 |           999 |         7088 |          3913 |   12000 |\n",
    "| **Sugar/Flavored Syrup** |          1761 |        15370 |          6869 |   24000 |\n",
    "| **Total**                |          5371 |        46803 |         19826 |   72000 |"
   ]
  },
  {
   "cell_type": "markdown",
   "metadata": {},
   "source": [
    "Parameter:\n",
    "\n",
    "- `index`: sub_category\n",
    "- `columns`: format\n",
    "- `aggfunc`: count\n",
    "- `values`: \n",
    "- Untuk baris dan kolom Total menggunakan parameter `...`"
   ]
  },
  {
   "cell_type": "code",
   "execution_count": 311,
   "metadata": {},
   "outputs": [
    {
     "data": {
      "text/html": [
       "<div>\n",
       "<style scoped>\n",
       "    .dataframe tbody tr th:only-of-type {\n",
       "        vertical-align: middle;\n",
       "    }\n",
       "\n",
       "    .dataframe tbody tr th {\n",
       "        vertical-align: top;\n",
       "    }\n",
       "\n",
       "    .dataframe thead th {\n",
       "        text-align: right;\n",
       "    }\n",
       "</style>\n",
       "<table border=\"1\" class=\"dataframe\">\n",
       "  <thead>\n",
       "    <tr style=\"text-align: right;\">\n",
       "      <th></th>\n",
       "      <th>receipt_id</th>\n",
       "      <th>receipts_item_id</th>\n",
       "      <th>purchase_time</th>\n",
       "      <th>category</th>\n",
       "      <th>sub_category</th>\n",
       "      <th>format</th>\n",
       "      <th>unit_price</th>\n",
       "      <th>discount</th>\n",
       "      <th>quantity</th>\n",
       "      <th>yearmonth</th>\n",
       "      <th>dayofweek</th>\n",
       "      <th>est_shipdate</th>\n",
       "      <th>subtotal</th>\n",
       "      <th>quarter</th>\n",
       "    </tr>\n",
       "  </thead>\n",
       "  <tbody>\n",
       "    <tr>\n",
       "      <th>0</th>\n",
       "      <td>9622257</td>\n",
       "      <td>32369294</td>\n",
       "      <td>2018-07-22 21:19:00</td>\n",
       "      <td>Rice</td>\n",
       "      <td>Rice</td>\n",
       "      <td>supermarket</td>\n",
       "      <td>128,000.00</td>\n",
       "      <td>0</td>\n",
       "      <td>1</td>\n",
       "      <td>2018-07</td>\n",
       "      <td>Sunday</td>\n",
       "      <td>2018-07-24 21:19:00</td>\n",
       "      <td>128,000.00</td>\n",
       "      <td>2018Q3</td>\n",
       "    </tr>\n",
       "    <tr>\n",
       "      <th>1</th>\n",
       "      <td>9446359</td>\n",
       "      <td>31885876</td>\n",
       "      <td>2018-07-15 16:17:00</td>\n",
       "      <td>Rice</td>\n",
       "      <td>Rice</td>\n",
       "      <td>minimarket</td>\n",
       "      <td>102,750.00</td>\n",
       "      <td>0</td>\n",
       "      <td>1</td>\n",
       "      <td>2018-07</td>\n",
       "      <td>Sunday</td>\n",
       "      <td>2018-07-17 16:17:00</td>\n",
       "      <td>102,750.00</td>\n",
       "      <td>2018Q3</td>\n",
       "    </tr>\n",
       "    <tr>\n",
       "      <th>2</th>\n",
       "      <td>9470290</td>\n",
       "      <td>31930241</td>\n",
       "      <td>2018-07-15 12:12:00</td>\n",
       "      <td>Rice</td>\n",
       "      <td>Rice</td>\n",
       "      <td>supermarket</td>\n",
       "      <td>64,000.00</td>\n",
       "      <td>0</td>\n",
       "      <td>3</td>\n",
       "      <td>2018-07</td>\n",
       "      <td>Sunday</td>\n",
       "      <td>2018-07-17 12:12:00</td>\n",
       "      <td>192,000.00</td>\n",
       "      <td>2018Q3</td>\n",
       "    </tr>\n",
       "    <tr>\n",
       "      <th>3</th>\n",
       "      <td>9643416</td>\n",
       "      <td>32418582</td>\n",
       "      <td>2018-07-24 08:27:00</td>\n",
       "      <td>Rice</td>\n",
       "      <td>Rice</td>\n",
       "      <td>minimarket</td>\n",
       "      <td>65,000.00</td>\n",
       "      <td>0</td>\n",
       "      <td>1</td>\n",
       "      <td>2018-07</td>\n",
       "      <td>Tuesday</td>\n",
       "      <td>2018-07-26 08:27:00</td>\n",
       "      <td>65,000.00</td>\n",
       "      <td>2018Q3</td>\n",
       "    </tr>\n",
       "    <tr>\n",
       "      <th>4</th>\n",
       "      <td>9692093</td>\n",
       "      <td>32561236</td>\n",
       "      <td>2018-07-26 11:28:00</td>\n",
       "      <td>Rice</td>\n",
       "      <td>Rice</td>\n",
       "      <td>supermarket</td>\n",
       "      <td>124,500.00</td>\n",
       "      <td>0</td>\n",
       "      <td>1</td>\n",
       "      <td>2018-07</td>\n",
       "      <td>Thursday</td>\n",
       "      <td>2018-07-28 11:28:00</td>\n",
       "      <td>124,500.00</td>\n",
       "      <td>2018Q3</td>\n",
       "    </tr>\n",
       "  </tbody>\n",
       "</table>\n",
       "</div>"
      ],
      "text/plain": [
       "   receipt_id  receipts_item_id       purchase_time category sub_category  \\\n",
       "0     9622257          32369294 2018-07-22 21:19:00     Rice         Rice   \n",
       "1     9446359          31885876 2018-07-15 16:17:00     Rice         Rice   \n",
       "2     9470290          31930241 2018-07-15 12:12:00     Rice         Rice   \n",
       "3     9643416          32418582 2018-07-24 08:27:00     Rice         Rice   \n",
       "4     9692093          32561236 2018-07-26 11:28:00     Rice         Rice   \n",
       "\n",
       "        format  unit_price  discount  quantity yearmonth dayofweek  \\\n",
       "0  supermarket  128,000.00         0         1   2018-07    Sunday   \n",
       "1   minimarket  102,750.00         0         1   2018-07    Sunday   \n",
       "2  supermarket   64,000.00         0         3   2018-07    Sunday   \n",
       "3   minimarket   65,000.00         0         1   2018-07   Tuesday   \n",
       "4  supermarket  124,500.00         0         1   2018-07  Thursday   \n",
       "\n",
       "         est_shipdate   subtotal quarter  \n",
       "0 2018-07-24 21:19:00 128,000.00  2018Q3  \n",
       "1 2018-07-17 16:17:00 102,750.00  2018Q3  \n",
       "2 2018-07-17 12:12:00 192,000.00  2018Q3  \n",
       "3 2018-07-26 08:27:00  65,000.00  2018Q3  \n",
       "4 2018-07-28 11:28:00 124,500.00  2018Q3  "
      ]
     },
     "execution_count": 311,
     "metadata": {},
     "output_type": "execute_result"
    }
   ],
   "source": [
    "household.head()"
   ]
  },
  {
   "cell_type": "code",
   "execution_count": 405,
   "metadata": {},
   "outputs": [
    {
     "data": {
      "text/html": [
       "<div>\n",
       "<style scoped>\n",
       "    .dataframe tbody tr th:only-of-type {\n",
       "        vertical-align: middle;\n",
       "    }\n",
       "\n",
       "    .dataframe tbody tr th {\n",
       "        vertical-align: top;\n",
       "    }\n",
       "\n",
       "    .dataframe thead th {\n",
       "        text-align: right;\n",
       "    }\n",
       "</style>\n",
       "<table border=\"1\" class=\"dataframe\">\n",
       "  <thead>\n",
       "    <tr style=\"text-align: right;\">\n",
       "      <th>format</th>\n",
       "      <th>hypermarket</th>\n",
       "      <th>minimarket</th>\n",
       "      <th>supermarket</th>\n",
       "      <th>Total</th>\n",
       "    </tr>\n",
       "    <tr>\n",
       "      <th>category</th>\n",
       "      <th></th>\n",
       "      <th></th>\n",
       "      <th></th>\n",
       "      <th></th>\n",
       "    </tr>\n",
       "  </thead>\n",
       "  <tbody>\n",
       "    <tr>\n",
       "      <th>Fabric Care</th>\n",
       "      <td>2611</td>\n",
       "      <td>24345</td>\n",
       "      <td>9044</td>\n",
       "      <td>36000</td>\n",
       "    </tr>\n",
       "    <tr>\n",
       "      <th>Rice</th>\n",
       "      <td>999</td>\n",
       "      <td>7088</td>\n",
       "      <td>3913</td>\n",
       "      <td>12000</td>\n",
       "    </tr>\n",
       "    <tr>\n",
       "      <th>Sugar/Flavored Syrup</th>\n",
       "      <td>1761</td>\n",
       "      <td>15370</td>\n",
       "      <td>6869</td>\n",
       "      <td>24000</td>\n",
       "    </tr>\n",
       "    <tr>\n",
       "      <th>Total</th>\n",
       "      <td>5371</td>\n",
       "      <td>46803</td>\n",
       "      <td>19826</td>\n",
       "      <td>72000</td>\n",
       "    </tr>\n",
       "  </tbody>\n",
       "</table>\n",
       "</div>"
      ],
      "text/plain": [
       "format                hypermarket  minimarket  supermarket  Total\n",
       "category                                                         \n",
       "Fabric Care                  2611       24345         9044  36000\n",
       "Rice                          999        7088         3913  12000\n",
       "Sugar/Flavored Syrup         1761       15370         6869  24000\n",
       "Total                        5371       46803        19826  72000"
      ]
     },
     "execution_count": 405,
     "metadata": {},
     "output_type": "execute_result"
    }
   ],
   "source": [
    "# code here\n",
    "household.pivot_table(\n",
    "    index='category',\n",
    "    columns='format',\n",
    "    values='receipt_id',\n",
    "    aggfunc='count',\n",
    "    margins=True,\n",
    "    margins_name='Total'\n",
    ")"
   ]
  },
  {
   "cell_type": "markdown",
   "metadata": {},
   "source": [
    "Kesimpulan pivot table:\n",
    "\n",
    "- Pada `pivot_table` parameter wajib hanya `data` dan salah satu antara `index` / `columns`\n",
    "- Parameter default `aggfunc='mean'`\n",
    "- Secara default, parameter `values` adalah semua kolom pada data yang dapat diterapkan fungsi agregasi\n",
    "- Terdapat parameter `margins` dan `margins_name`, namun tidak terdapat `normalize` (hanya di `crosstab` saja)"
   ]
  },
  {
   "cell_type": "markdown",
   "metadata": {},
   "source": [
    "___"
   ]
  },
  {
   "cell_type": "markdown",
   "metadata": {},
   "source": [
    "## 📝 Summary: Tables in `pandas` "
   ]
  },
  {
   "cell_type": "markdown",
   "metadata": {},
   "source": [
    "## Frequency Tables\n",
    "\n",
    "Kegunaan: menghitung jumlah baris atau frekuensi pada kolom yang bersifat category\n",
    "\n",
    "Method:\n",
    "\n",
    "1. Apabila hanya 1 kolom kategori, disarankan menggunakan `.value_counts()`. Hasil berupa Series\n",
    "\n",
    "2. Untuk satu atau lebih dari satu kolom kategori:\n",
    "    - `pd.crosstab(index, columns)`. Terdapat parameter tambahan:\n",
    "        - `margins`: menghitung subtotal untuk masing-masing baris dan kolom\n",
    "        - `normalize`: mengubah frekuensi menjadi proporsi (persentase)\n",
    "        \n",
    "    - `pd.pivot_table(data, index, aggfunc='count')`.\n",
    "        - Tidak ada parameter `normalize`"
   ]
  },
  {
   "cell_type": "markdown",
   "metadata": {},
   "source": [
    "## Aggregation Tables\n",
    "\n",
    "Kegunaan: melakukan agregasi pada kolom numerik\n",
    "\n",
    "Method:\n",
    "\n",
    "1. `pd.crosstab(index, columns, values, aggfunc)`\n",
    "\n",
    "2. `pd.pivot_table(data, index, columns, values, aggfunc)`"
   ]
  },
  {
   "cell_type": "markdown",
   "metadata": {},
   "source": [
    "## `crosstab` vs `pivot_table`"
   ]
  },
  {
   "cell_type": "markdown",
   "metadata": {},
   "source": [
    "Berikut perbedaan mendasar antara `crosstab` and `pivot_table`:\n",
    "\n",
    "|                                                                                    | `pd.crosstab()` | `pd.pivot_table()` |\n",
    "|------------------------------------------------------------------------------------|-----------------|--------------------|\n",
    "|                                                                          **Input** |Series |          DataFrame |\n",
    "|                                                              **Default `aggfunc`** |       `'count'` |           `'mean'` |\n",
    "|                                                          **Parameter `normalize`** |       Available |      Not Available |\n",
    "| [**Computation Time**](https://ramiro.org/notebook/pandas-crosstab-groupby-pivot/) | Relatively Slower |  Relatively Faster |"
   ]
  },
  {
   "cell_type": "markdown",
   "metadata": {},
   "source": [
    "___"
   ]
  },
  {
   "cell_type": "markdown",
   "metadata": {},
   "source": [
    "# Missing Values and Duplicates"
   ]
  },
  {
   "cell_type": "markdown",
   "metadata": {},
   "source": [
    "Dalam melakukan pengolahan data, tidak semua data yang kita miliki adalah data yang \"tidy\". Ada kemungkinan bahwa data kita memiliki nilai kosong (NULL), memiliki nilai yang berulang, dan memiliki nilai yang tidak sesuai dengan nilai kolom yang seharusnya (misal usia memiliki nilai minus). Untuk mengatasi hal tersebut, kita dapat melakukan beberapa metode penanganan pada data yang hilang (missing value) atau data yang duplikat (duplicates value)"
   ]
  },
  {
   "cell_type": "markdown",
   "metadata": {},
   "source": [
    "## Missing Values"
   ]
  },
  {
   "cell_type": "markdown",
   "metadata": {},
   "source": [
    "Bacalah data `household-missing.csv` yang merupakan data `household` yang telah dimanipulasi sedemikian rupa agar terdapat nilai missing.\n",
    "\n",
    "Apabila Anda penasaran hal apa saja yang diubah, cek materi utama `2_Exploratory_Data_Analysis.ipynb` pada Section 3."
   ]
  },
  {
   "cell_type": "code",
   "execution_count": 62,
   "metadata": {},
   "outputs": [
    {
     "ename": "FileNotFoundError",
     "evalue": "[Errno 2] No such file or directory: 'data_input/household-missing.csv'",
     "output_type": "error",
     "traceback": [
      "\u001b[0;31m---------------------------------------------------------------------------\u001b[0m",
      "\u001b[0;31mFileNotFoundError\u001b[0m                         Traceback (most recent call last)",
      "\u001b[0;32m/tmp/ipykernel_60180/2124199899.py\u001b[0m in \u001b[0;36m<module>\u001b[0;34m\u001b[0m\n\u001b[1;32m      1\u001b[0m \u001b[0;31m# read data\u001b[0m\u001b[0;34m\u001b[0m\u001b[0;34m\u001b[0m\u001b[0;34m\u001b[0m\u001b[0m\n\u001b[0;32m----> 2\u001b[0;31m household_missing = pd.read_csv(\n\u001b[0m\u001b[1;32m      3\u001b[0m     \u001b[0;34m'data_input/household-missing.csv'\u001b[0m\u001b[0;34m,\u001b[0m\u001b[0;34m\u001b[0m\u001b[0;34m\u001b[0m\u001b[0m\n\u001b[1;32m      4\u001b[0m     \u001b[0mindex_col\u001b[0m\u001b[0;34m=\u001b[0m\u001b[0;36m0\u001b[0m\u001b[0;34m,\u001b[0m\u001b[0;34m\u001b[0m\u001b[0;34m\u001b[0m\u001b[0m\n\u001b[1;32m      5\u001b[0m     parse_dates=['purchase_time'])\n",
      "\u001b[0;32m~/kuliah/algoritma/env/lib/python3.8/site-packages/pandas/util/_decorators.py\u001b[0m in \u001b[0;36mwrapper\u001b[0;34m(*args, **kwargs)\u001b[0m\n\u001b[1;32m    309\u001b[0m                     \u001b[0mstacklevel\u001b[0m\u001b[0;34m=\u001b[0m\u001b[0mstacklevel\u001b[0m\u001b[0;34m,\u001b[0m\u001b[0;34m\u001b[0m\u001b[0;34m\u001b[0m\u001b[0m\n\u001b[1;32m    310\u001b[0m                 )\n\u001b[0;32m--> 311\u001b[0;31m             \u001b[0;32mreturn\u001b[0m \u001b[0mfunc\u001b[0m\u001b[0;34m(\u001b[0m\u001b[0;34m*\u001b[0m\u001b[0margs\u001b[0m\u001b[0;34m,\u001b[0m \u001b[0;34m**\u001b[0m\u001b[0mkwargs\u001b[0m\u001b[0;34m)\u001b[0m\u001b[0;34m\u001b[0m\u001b[0;34m\u001b[0m\u001b[0m\n\u001b[0m\u001b[1;32m    312\u001b[0m \u001b[0;34m\u001b[0m\u001b[0m\n\u001b[1;32m    313\u001b[0m         \u001b[0;32mreturn\u001b[0m \u001b[0mwrapper\u001b[0m\u001b[0;34m\u001b[0m\u001b[0;34m\u001b[0m\u001b[0m\n",
      "\u001b[0;32m~/kuliah/algoritma/env/lib/python3.8/site-packages/pandas/io/parsers/readers.py\u001b[0m in \u001b[0;36mread_csv\u001b[0;34m(filepath_or_buffer, sep, delimiter, header, names, index_col, usecols, squeeze, prefix, mangle_dupe_cols, dtype, engine, converters, true_values, false_values, skipinitialspace, skiprows, skipfooter, nrows, na_values, keep_default_na, na_filter, verbose, skip_blank_lines, parse_dates, infer_datetime_format, keep_date_col, date_parser, dayfirst, cache_dates, iterator, chunksize, compression, thousands, decimal, lineterminator, quotechar, quoting, doublequote, escapechar, comment, encoding, encoding_errors, dialect, error_bad_lines, warn_bad_lines, on_bad_lines, delim_whitespace, low_memory, memory_map, float_precision, storage_options)\u001b[0m\n\u001b[1;32m    584\u001b[0m     \u001b[0mkwds\u001b[0m\u001b[0;34m.\u001b[0m\u001b[0mupdate\u001b[0m\u001b[0;34m(\u001b[0m\u001b[0mkwds_defaults\u001b[0m\u001b[0;34m)\u001b[0m\u001b[0;34m\u001b[0m\u001b[0;34m\u001b[0m\u001b[0m\n\u001b[1;32m    585\u001b[0m \u001b[0;34m\u001b[0m\u001b[0m\n\u001b[0;32m--> 586\u001b[0;31m     \u001b[0;32mreturn\u001b[0m \u001b[0m_read\u001b[0m\u001b[0;34m(\u001b[0m\u001b[0mfilepath_or_buffer\u001b[0m\u001b[0;34m,\u001b[0m \u001b[0mkwds\u001b[0m\u001b[0;34m)\u001b[0m\u001b[0;34m\u001b[0m\u001b[0;34m\u001b[0m\u001b[0m\n\u001b[0m\u001b[1;32m    587\u001b[0m \u001b[0;34m\u001b[0m\u001b[0m\n\u001b[1;32m    588\u001b[0m \u001b[0;34m\u001b[0m\u001b[0m\n",
      "\u001b[0;32m~/kuliah/algoritma/env/lib/python3.8/site-packages/pandas/io/parsers/readers.py\u001b[0m in \u001b[0;36m_read\u001b[0;34m(filepath_or_buffer, kwds)\u001b[0m\n\u001b[1;32m    480\u001b[0m \u001b[0;34m\u001b[0m\u001b[0m\n\u001b[1;32m    481\u001b[0m     \u001b[0;31m# Create the parser.\u001b[0m\u001b[0;34m\u001b[0m\u001b[0;34m\u001b[0m\u001b[0;34m\u001b[0m\u001b[0m\n\u001b[0;32m--> 482\u001b[0;31m     \u001b[0mparser\u001b[0m \u001b[0;34m=\u001b[0m \u001b[0mTextFileReader\u001b[0m\u001b[0;34m(\u001b[0m\u001b[0mfilepath_or_buffer\u001b[0m\u001b[0;34m,\u001b[0m \u001b[0;34m**\u001b[0m\u001b[0mkwds\u001b[0m\u001b[0;34m)\u001b[0m\u001b[0;34m\u001b[0m\u001b[0;34m\u001b[0m\u001b[0m\n\u001b[0m\u001b[1;32m    483\u001b[0m \u001b[0;34m\u001b[0m\u001b[0m\n\u001b[1;32m    484\u001b[0m     \u001b[0;32mif\u001b[0m \u001b[0mchunksize\u001b[0m \u001b[0;32mor\u001b[0m \u001b[0miterator\u001b[0m\u001b[0;34m:\u001b[0m\u001b[0;34m\u001b[0m\u001b[0;34m\u001b[0m\u001b[0m\n",
      "\u001b[0;32m~/kuliah/algoritma/env/lib/python3.8/site-packages/pandas/io/parsers/readers.py\u001b[0m in \u001b[0;36m__init__\u001b[0;34m(self, f, engine, **kwds)\u001b[0m\n\u001b[1;32m    809\u001b[0m             \u001b[0mself\u001b[0m\u001b[0;34m.\u001b[0m\u001b[0moptions\u001b[0m\u001b[0;34m[\u001b[0m\u001b[0;34m\"has_index_names\"\u001b[0m\u001b[0;34m]\u001b[0m \u001b[0;34m=\u001b[0m \u001b[0mkwds\u001b[0m\u001b[0;34m[\u001b[0m\u001b[0;34m\"has_index_names\"\u001b[0m\u001b[0;34m]\u001b[0m\u001b[0;34m\u001b[0m\u001b[0;34m\u001b[0m\u001b[0m\n\u001b[1;32m    810\u001b[0m \u001b[0;34m\u001b[0m\u001b[0m\n\u001b[0;32m--> 811\u001b[0;31m         \u001b[0mself\u001b[0m\u001b[0;34m.\u001b[0m\u001b[0m_engine\u001b[0m \u001b[0;34m=\u001b[0m \u001b[0mself\u001b[0m\u001b[0;34m.\u001b[0m\u001b[0m_make_engine\u001b[0m\u001b[0;34m(\u001b[0m\u001b[0mself\u001b[0m\u001b[0;34m.\u001b[0m\u001b[0mengine\u001b[0m\u001b[0;34m)\u001b[0m\u001b[0;34m\u001b[0m\u001b[0;34m\u001b[0m\u001b[0m\n\u001b[0m\u001b[1;32m    812\u001b[0m \u001b[0;34m\u001b[0m\u001b[0m\n\u001b[1;32m    813\u001b[0m     \u001b[0;32mdef\u001b[0m \u001b[0mclose\u001b[0m\u001b[0;34m(\u001b[0m\u001b[0mself\u001b[0m\u001b[0;34m)\u001b[0m\u001b[0;34m:\u001b[0m\u001b[0;34m\u001b[0m\u001b[0;34m\u001b[0m\u001b[0m\n",
      "\u001b[0;32m~/kuliah/algoritma/env/lib/python3.8/site-packages/pandas/io/parsers/readers.py\u001b[0m in \u001b[0;36m_make_engine\u001b[0;34m(self, engine)\u001b[0m\n\u001b[1;32m   1038\u001b[0m             )\n\u001b[1;32m   1039\u001b[0m         \u001b[0;31m# error: Too many arguments for \"ParserBase\"\u001b[0m\u001b[0;34m\u001b[0m\u001b[0;34m\u001b[0m\u001b[0;34m\u001b[0m\u001b[0m\n\u001b[0;32m-> 1040\u001b[0;31m         \u001b[0;32mreturn\u001b[0m \u001b[0mmapping\u001b[0m\u001b[0;34m[\u001b[0m\u001b[0mengine\u001b[0m\u001b[0;34m]\u001b[0m\u001b[0;34m(\u001b[0m\u001b[0mself\u001b[0m\u001b[0;34m.\u001b[0m\u001b[0mf\u001b[0m\u001b[0;34m,\u001b[0m \u001b[0;34m**\u001b[0m\u001b[0mself\u001b[0m\u001b[0;34m.\u001b[0m\u001b[0moptions\u001b[0m\u001b[0;34m)\u001b[0m  \u001b[0;31m# type: ignore[call-arg]\u001b[0m\u001b[0;34m\u001b[0m\u001b[0;34m\u001b[0m\u001b[0m\n\u001b[0m\u001b[1;32m   1041\u001b[0m \u001b[0;34m\u001b[0m\u001b[0m\n\u001b[1;32m   1042\u001b[0m     \u001b[0;32mdef\u001b[0m \u001b[0m_failover_to_python\u001b[0m\u001b[0;34m(\u001b[0m\u001b[0mself\u001b[0m\u001b[0;34m)\u001b[0m\u001b[0;34m:\u001b[0m\u001b[0;34m\u001b[0m\u001b[0;34m\u001b[0m\u001b[0m\n",
      "\u001b[0;32m~/kuliah/algoritma/env/lib/python3.8/site-packages/pandas/io/parsers/c_parser_wrapper.py\u001b[0m in \u001b[0;36m__init__\u001b[0;34m(self, src, **kwds)\u001b[0m\n\u001b[1;32m     49\u001b[0m \u001b[0;34m\u001b[0m\u001b[0m\n\u001b[1;32m     50\u001b[0m         \u001b[0;31m# open handles\u001b[0m\u001b[0;34m\u001b[0m\u001b[0;34m\u001b[0m\u001b[0;34m\u001b[0m\u001b[0m\n\u001b[0;32m---> 51\u001b[0;31m         \u001b[0mself\u001b[0m\u001b[0;34m.\u001b[0m\u001b[0m_open_handles\u001b[0m\u001b[0;34m(\u001b[0m\u001b[0msrc\u001b[0m\u001b[0;34m,\u001b[0m \u001b[0mkwds\u001b[0m\u001b[0;34m)\u001b[0m\u001b[0;34m\u001b[0m\u001b[0;34m\u001b[0m\u001b[0m\n\u001b[0m\u001b[1;32m     52\u001b[0m         \u001b[0;32massert\u001b[0m \u001b[0mself\u001b[0m\u001b[0;34m.\u001b[0m\u001b[0mhandles\u001b[0m \u001b[0;32mis\u001b[0m \u001b[0;32mnot\u001b[0m \u001b[0;32mNone\u001b[0m\u001b[0;34m\u001b[0m\u001b[0;34m\u001b[0m\u001b[0m\n\u001b[1;32m     53\u001b[0m \u001b[0;34m\u001b[0m\u001b[0m\n",
      "\u001b[0;32m~/kuliah/algoritma/env/lib/python3.8/site-packages/pandas/io/parsers/base_parser.py\u001b[0m in \u001b[0;36m_open_handles\u001b[0;34m(self, src, kwds)\u001b[0m\n\u001b[1;32m    220\u001b[0m         \u001b[0mLet\u001b[0m \u001b[0mthe\u001b[0m \u001b[0mreaders\u001b[0m \u001b[0mopen\u001b[0m \u001b[0mIOHandles\u001b[0m \u001b[0mafter\u001b[0m \u001b[0mthey\u001b[0m \u001b[0mare\u001b[0m \u001b[0mdone\u001b[0m \u001b[0;32mwith\u001b[0m \u001b[0mtheir\u001b[0m \u001b[0mpotential\u001b[0m \u001b[0mraises\u001b[0m\u001b[0;34m.\u001b[0m\u001b[0;34m\u001b[0m\u001b[0;34m\u001b[0m\u001b[0m\n\u001b[1;32m    221\u001b[0m         \"\"\"\n\u001b[0;32m--> 222\u001b[0;31m         self.handles = get_handle(\n\u001b[0m\u001b[1;32m    223\u001b[0m             \u001b[0msrc\u001b[0m\u001b[0;34m,\u001b[0m\u001b[0;34m\u001b[0m\u001b[0;34m\u001b[0m\u001b[0m\n\u001b[1;32m    224\u001b[0m             \u001b[0;34m\"r\"\u001b[0m\u001b[0;34m,\u001b[0m\u001b[0;34m\u001b[0m\u001b[0;34m\u001b[0m\u001b[0m\n",
      "\u001b[0;32m~/kuliah/algoritma/env/lib/python3.8/site-packages/pandas/io/common.py\u001b[0m in \u001b[0;36mget_handle\u001b[0;34m(path_or_buf, mode, encoding, compression, memory_map, is_text, errors, storage_options)\u001b[0m\n\u001b[1;32m    700\u001b[0m         \u001b[0;32mif\u001b[0m \u001b[0mioargs\u001b[0m\u001b[0;34m.\u001b[0m\u001b[0mencoding\u001b[0m \u001b[0;32mand\u001b[0m \u001b[0;34m\"b\"\u001b[0m \u001b[0;32mnot\u001b[0m \u001b[0;32min\u001b[0m \u001b[0mioargs\u001b[0m\u001b[0;34m.\u001b[0m\u001b[0mmode\u001b[0m\u001b[0;34m:\u001b[0m\u001b[0;34m\u001b[0m\u001b[0;34m\u001b[0m\u001b[0m\n\u001b[1;32m    701\u001b[0m             \u001b[0;31m# Encoding\u001b[0m\u001b[0;34m\u001b[0m\u001b[0;34m\u001b[0m\u001b[0;34m\u001b[0m\u001b[0m\n\u001b[0;32m--> 702\u001b[0;31m             handle = open(\n\u001b[0m\u001b[1;32m    703\u001b[0m                 \u001b[0mhandle\u001b[0m\u001b[0;34m,\u001b[0m\u001b[0;34m\u001b[0m\u001b[0;34m\u001b[0m\u001b[0m\n\u001b[1;32m    704\u001b[0m                 \u001b[0mioargs\u001b[0m\u001b[0;34m.\u001b[0m\u001b[0mmode\u001b[0m\u001b[0;34m,\u001b[0m\u001b[0;34m\u001b[0m\u001b[0;34m\u001b[0m\u001b[0m\n",
      "\u001b[0;31mFileNotFoundError\u001b[0m: [Errno 2] No such file or directory: 'data_input/household-missing.csv'"
     ]
    }
   ],
   "source": [
    "# read data\n",
    "household_missing = pd.read_csv(\n",
    "    'data_input/household-missing.csv',\n",
    "    index_col=0,\n",
    "    parse_dates=['purchase_time'])\n",
    "\n",
    "household_missing.head()"
   ]
  },
  {
   "cell_type": "markdown",
   "metadata": {},
   "source": [
    "**✏️ Values**:\n",
    "\n",
    "- `NaN`: Not a Number, for object and category\n",
    "- `nan`: not a number, for numeric\n",
    "- `NaT`: Not a Time, for datetime64"
   ]
  },
  {
   "cell_type": "markdown",
   "metadata": {},
   "source": [
    "Tambahan: Apabila terdapat nilai tertentu yang mengindikasikan missing value seperti \"Missing\", \" \", \",\", \"-\". Gunakan parameter `na_values` untuk mendefinisikannya, contoh:\n",
    "\n",
    "```\n",
    "data = pd.read_csv('data.csv', na_values=[\"Missing\", \" \", \",\", \"-\"])\n",
    "```"
   ]
  },
  {
   "cell_type": "markdown",
   "metadata": {},
   "source": [
    "### Check Missing Value"
   ]
  },
  {
   "cell_type": "markdown",
   "metadata": {},
   "source": [
    "Metode yang paling umum digunakan untuk melihat missing value adalah:\n",
    "\n",
    "- `.notna()` : mengembalikan `True` apabila **tidak** missing\n",
    "- `.isna()` : mengembalikan `True` apabila **missing**"
   ]
  },
  {
   "cell_type": "code",
   "execution_count": null,
   "metadata": {},
   "outputs": [],
   "source": [
    "# isna\n"
   ]
  },
  {
   "cell_type": "markdown",
   "metadata": {},
   "source": [
    "Menghitung jumlah missing value pada setiap kolom:\n",
    "\n",
    "- `True` akan dihitung sebagai 1\n",
    "- `False` akan dihitung sebagai 0"
   ]
  },
  {
   "cell_type": "code",
   "execution_count": null,
   "metadata": {},
   "outputs": [],
   "source": []
  },
  {
   "cell_type": "markdown",
   "metadata": {},
   "source": [
    "Selain menggunakan `isna()`, kita juga dapat menggunakan fungsi `notna()`"
   ]
  },
  {
   "cell_type": "code",
   "execution_count": null,
   "metadata": {},
   "outputs": [],
   "source": [
    "# notna\n"
   ]
  },
  {
   "cell_type": "markdown",
   "metadata": {},
   "source": [
    "🔻 Kita dapat menggunakan `.notna()` dengan metode subsetting.\n",
    "\n",
    "Misalnya ada kebutuhan bahwa kolom tertentu sama sekali tidak boleh memiliki *missing value*, artinya kita akan subset baris berdasarkan kolom tertentu yang tidak ada *missing value*"
   ]
  },
  {
   "cell_type": "code",
   "execution_count": null,
   "metadata": {},
   "outputs": [],
   "source": []
  },
  {
   "cell_type": "markdown",
   "metadata": {},
   "source": [
    "Kapan kita menggunakan `isna()` atau `notna()`\n",
    "\n",
    "- `isna()` biasanya digunakan bersamaan dengan method `.sum()` yang tujuannya untuk menghitung jumlah missing value pada tiap kolom\n",
    "- `notna()` biasanya digunakan bersama metode subseting yang tujuannya untuk mensubset data yang salah satu/beberapa kolom tidak boleh ada missing value"
   ]
  },
  {
   "cell_type": "markdown",
   "metadata": {},
   "source": [
    "### Treatment Missing Values"
   ]
  },
  {
   "cell_type": "markdown",
   "metadata": {},
   "source": [
    "Beberapa cara umum untuk menangani missing values:\n",
    "\n",
    "1. Hapus baris atau kolom: Menggunakan metode `dropna()` dengan ambang batas yang wajar untuk menghapus setiap baris yang berisi nilai missing, NA < 5%\n",
    "2. Imputasi nilai NA dengan sebuah nilai\n",
    "3. Tetap mempertahankan data kita"
   ]
  },
  {
   "cell_type": "markdown",
   "metadata": {},
   "source": [
    "#### Hapus Baris yang NA"
   ]
  },
  {
   "cell_type": "markdown",
   "metadata": {},
   "source": [
    "- `.dropna(how='any')`: hapus baris apabila memiliki **minimal 1 kolom** nilai missing value\n",
    "\n",
    "- `.dropna(how='all')`: harus baris apabila memiliki **semua kolom** nilai missing\n",
    "\n",
    "- `.dropna(thresh=...)`: hapus baris apabila nilai **non-missing** < `thresh` "
   ]
  },
  {
   "cell_type": "code",
   "execution_count": null,
   "metadata": {},
   "outputs": [],
   "source": [
    "# how='any'\n"
   ]
  },
  {
   "cell_type": "code",
   "execution_count": null,
   "metadata": {},
   "outputs": [],
   "source": [
    "# how='all'\n"
   ]
  },
  {
   "cell_type": "code",
   "execution_count": null,
   "metadata": {},
   "outputs": [],
   "source": [
    "# tresh = 5, minimal harus ada 5 kolom yang tidak missing\n"
   ]
  },
  {
   "cell_type": "markdown",
   "metadata": {},
   "source": [
    "✏️ **Notes** \n",
    "\n",
    "Ketika akan melakukan drop missing values menggunakan threshold (thresh=n), maka yang sebaiknya diperhatikan adalah **jumlah kolom yang terisi (tidak NA)**. Jika nilai tidak NA **sama dengan atau lebih besar dari nilai threshold**, maka baris tidak di drop."
   ]
  },
  {
   "cell_type": "markdown",
   "metadata": {},
   "source": [
    "#### Imputasi"
   ]
  },
  {
   "cell_type": "markdown",
   "metadata": {},
   "source": [
    "Kita akan melakukan imputasi terhadap data yang mengandung missing value, menggunakan metode `.fillna()`\n",
    "\n",
    "💡 **Tips** untuk imputasi:\n",
    "\n",
    "Untuk kolom numerik:\n",
    "\n",
    "- Isi menggunakan pusat data seperti `mean` atau `median`\n",
    "- Isi menggunakan model prediktif (regresi)\n",
    "\n",
    "Untuk kolom kategorikal:\n",
    "\n",
    "- Menggunakan `NA` sebagai salah satu dari kategori\n",
    "- Isi menggunakan pusat data (mode)\n",
    "- Isi menggunakan model prediktif (klasifikasi)\n",
    "\n",
    "Untuk kolom datetime:\n",
    "\n",
    "- Menggunakan metode `bfill`: melakukan imputasi dari baris bawah ke atas\n",
    "- Menggunakan metode `ffill`: melakukan imputasi dari baris atas ke bawah"
   ]
  },
  {
   "cell_type": "markdown",
   "metadata": {},
   "source": [
    "❓ Tinjau beberapa kolom yang missing value dan diskusikan imputasi yang cocok\n",
    "\n",
    "- `purchase_time`: \n",
    "- `category`: \n",
    "- `format`: \n",
    "- `unit_price`: \n",
    "- `discount`: \n",
    "- `quantity`: \n",
    "- `weekday`: "
   ]
  },
  {
   "cell_type": "markdown",
   "metadata": {},
   "source": [
    "Untuk melakukan imputasi pada data yang missing dapat menggunakan method `.fillna()`. Agar perubahan tersimpan pada data, harus dilakukan assignment:\n",
    "\n",
    "1. Cara assignment menggunakan tanda sama dengan `=`\n",
    "2. Menggunakan parameter `inplace=True`, namun hanya bisa dilakukan untuk 1 kolom saja"
   ]
  },
  {
   "cell_type": "code",
   "execution_count": null,
   "metadata": {},
   "outputs": [],
   "source": [
    "# contoh imputasi\n"
   ]
  },
  {
   "cell_type": "code",
   "execution_count": null,
   "metadata": {},
   "outputs": [],
   "source": [
    "# code here\n"
   ]
  },
  {
   "cell_type": "code",
   "execution_count": null,
   "metadata": {},
   "outputs": [],
   "source": [
    "# check kembali missing value\n"
   ]
  },
  {
   "cell_type": "markdown",
   "metadata": {},
   "source": [
    "___"
   ]
  },
  {
   "cell_type": "markdown",
   "metadata": {},
   "source": [
    "## Duplicated Values"
   ]
  },
  {
   "cell_type": "markdown",
   "metadata": {},
   "source": [
    "### Check duplicated values"
   ]
  },
  {
   "cell_type": "markdown",
   "metadata": {},
   "source": [
    "Untuk melakukan pengecekan terhadap ada atau tidaknya data yang duplikat, kita dapat menggunakan method `duplicated()`."
   ]
  },
  {
   "cell_type": "code",
   "execution_count": null,
   "metadata": {},
   "outputs": [],
   "source": [
    "# cek data duplikat\n"
   ]
  },
  {
   "cell_type": "markdown",
   "metadata": {},
   "source": [
    "## Handling Duplicate Data"
   ]
  },
  {
   "cell_type": "markdown",
   "metadata": {},
   "source": [
    "Untuk menangani data yang duplicate, kita bisa menggunakan method `drop_duplicates()`. Cara ini membuat observasi yang duplicated terhapus dan kita bisa mengatur observasi mana yang akan tetap disimpan. \n",
    "\n",
    "**Case:**\n",
    "\n",
    "Cek dimensi dari data `household_missing`. Hapus baris yang duplicated. Cek kembali dimensi data `household_missing`untuk memastikan data yang duplicate sudah terhapus."
   ]
  },
  {
   "cell_type": "markdown",
   "metadata": {},
   "source": [
    "**NOTE:** Terdapat tiga macam cara untuk melakukan penghapusan pada nilai duplicate.\n",
    "\n",
    "1. Dengan menambahkan parameter `keep='first'`, maka akan mempertahankan baris **pertama (teratas)** dari nilai yang duplicate.\n",
    "2. Dengan menambahkan parameter `keep='last'`, maka akan mempertahankan baris **terakhir (terbawah)** dari nilai yang duplicate.\n",
    "3. Dengan menambahkan parameter `keep=False`, maka tidak mempertahankan baris yang duplikat. Dengan kata lain, menghapus semua baris yang duplikat."
   ]
  },
  {
   "cell_type": "code",
   "execution_count": null,
   "metadata": {},
   "outputs": [],
   "source": [
    "# keep='first'\n"
   ]
  },
  {
   "cell_type": "code",
   "execution_count": null,
   "metadata": {},
   "outputs": [],
   "source": [
    "# keep='last'\n"
   ]
  },
  {
   "cell_type": "code",
   "execution_count": null,
   "metadata": {},
   "outputs": [],
   "source": [
    "# keep=False\n"
   ]
  },
  {
   "cell_type": "markdown",
   "metadata": {},
   "source": [
    "⚠️ **Warning**: Duplikat dapat berarti hal yang berbeda dari sudut pandang data dan sudut pandang analis bisnis. Anda harus ekstra berhati-hati apakah data duplikat memang merupakan karakteristik dari data Anda, atau apakah itu merupakan sebuah kesalahan input data berdasarkan logika bisnisnya."
   ]
  },
  {
   "cell_type": "markdown",
   "metadata": {},
   "source": [
    "### Knowledge Check: Duplicate Data\n",
    "\n",
    "❓**Q: Apakah kita harus drop data duplikat atau tidak?**"
   ]
  },
  {
   "cell_type": "markdown",
   "metadata": {},
   "source": [
    "1. Sebuah pusat medis mengumpulkan data pemantauan detak jantung dari beberapa pasien anonim. Pengamatan ini diambil dalam kurun waktu 3 bulan:"
   ]
  },
  {
   "cell_type": "code",
   "execution_count": null,
   "metadata": {},
   "outputs": [],
   "source": [
    "monitoring = pd.DataFrame({\n",
    "    'patient_id': ['001', '002', '003', '004', '005', '006'],\n",
    "    'heart_rate': [100, 120, 90, 100, 98, 90]\n",
    "}).set_index('patient_id')\n",
    "\n",
    "monitoring.duplicated()"
   ]
  },
  {
   "cell_type": "markdown",
   "metadata": {},
   "source": [
    "> Jawaban: Data duplikat (dihapus / tidak dihapus), karena ..."
   ]
  },
  {
   "cell_type": "markdown",
   "metadata": {},
   "source": [
    "2. Sebuah perusahaan asuransi menggunakan machine learning untuk menetapkan harga secara dinamis kepada pelanggannya. Setiap baris berisi nama pelanggan, pekerjaan/profesi, dan data riwayat kesehatan mereka. Data ini diambil dalam kurun waktu 3 bulan"
   ]
  },
  {
   "cell_type": "code",
   "execution_count": null,
   "metadata": {},
   "outputs": [],
   "source": [
    "insurance = pd.DataFrame({\n",
    "    'cust_id': ['C1', 'C2', 'C3', 'C4', 'C1', 'C5'],\n",
    "    'occupation': ['Employee', 'Employee', 'Student', 'Student', 'Employee', 'Employee'],\n",
    "    'health': ['Good', 'Ok', 'Good', 'Ok', 'Ok', 'Bad'],\n",
    "    'date_updated': pd.Series(['2021-06-05', '2021-07-21', '2021-08-14', '2021-09-11', '2021-11-28', '2021-12-10'], dtype='datetime64[ns]')\n",
    "})\n",
    "\n",
    "insurance['cust_id'].duplicated()"
   ]
  },
  {
   "cell_type": "markdown",
   "metadata": {},
   "source": [
    "> Jawaban: Data duplikat (dihapus / tidak dihapus), karena ..."
   ]
  },
  {
   "cell_type": "markdown",
   "metadata": {},
   "source": [
    "3. Pada data `household` yang kita punya, coba check duplikatnya. Apakah Anda akan menghapus baris yang duplikat?\n",
    "\n",
    "Note: `receipts_item_id` sebagai index"
   ]
  },
  {
   "cell_type": "code",
   "execution_count": null,
   "metadata": {},
   "outputs": [],
   "source": [
    "household_duplicate = pd.read_csv('data_input/household.csv', index_col='receipts_item_id')\n",
    "household_duplicate.duplicated().sum()"
   ]
  },
  {
   "cell_type": "markdown",
   "metadata": {},
   "source": [
    "> Jawaban: Data duplikat (dihapus / tidak dihapus), karena ..."
   ]
  },
  {
   "cell_type": "markdown",
   "metadata": {},
   "source": [
    "___"
   ]
  }
 ],
 "metadata": {
  "interpreter": {
   "hash": "a8343b732dd7e92a09169d6c428688afa52d864319dbacc840304350021ce15e"
  },
  "kernelspec": {
   "display_name": "Python [conda env:qoppa_da]",
   "language": "python",
   "name": "python3"
  },
  "language_info": {
   "codemirror_mode": {
    "name": "ipython",
    "version": 3
   },
   "file_extension": ".py",
   "mimetype": "text/x-python",
   "name": "python",
   "nbconvert_exporter": "python",
   "pygments_lexer": "ipython3",
   "version": "3.8.10"
  },
  "toc": {
   "base_numbering": 1,
   "nav_menu": {},
   "number_sections": false,
   "sideBar": true,
   "skip_h1_title": false,
   "title_cell": "Table of Contents",
   "title_sidebar": "Contents",
   "toc_cell": false,
   "toc_position": {
    "height": "calc(100% - 180px)",
    "left": "10px",
    "top": "150px",
    "width": "320px"
   },
   "toc_section_display": false,
   "toc_window_display": false
  },
  "varInspector": {
   "cols": {
    "lenName": 16,
    "lenType": 16,
    "lenVar": 40
   },
   "kernels_config": {
    "python": {
     "delete_cmd_postfix": "",
     "delete_cmd_prefix": "del ",
     "library": "var_list.py",
     "varRefreshCmd": "print(var_dic_list())"
    },
    "r": {
     "delete_cmd_postfix": ") ",
     "delete_cmd_prefix": "rm(",
     "library": "var_list.r",
     "varRefreshCmd": "cat(var_dic_list()) "
    }
   },
   "types_to_exclude": [
    "module",
    "function",
    "builtin_function_or_method",
    "instance",
    "_Feature"
   ],
   "window_display": false
  }
 },
 "nbformat": 4,
 "nbformat_minor": 4
}
